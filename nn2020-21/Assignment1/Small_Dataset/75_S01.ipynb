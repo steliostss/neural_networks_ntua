{
  "nbformat": 4,
  "nbformat_minor": 0,
  "metadata": {
    "colab": {
      "name": "75-S01.ipynb",
      "provenance": [],
      "collapsed_sections": [],
      "toc_visible": true
    },
    "kernelspec": {
      "name": "python3",
      "display_name": "Python 3"
    }
  },
  "cells": [
    {
      "cell_type": "markdown",
      "metadata": {
        "id": "6WlXTrWYdVKu"
      },
      "source": [
        "# Neural Networks"
      ]
    },
    {
      "cell_type": "markdown",
      "metadata": {
        "id": "Nlv96Evp21TV"
      },
      "source": [
        "## Team\n",
        "<table align=\"left\">\n",
        "    <tr align=\"left\"><th>Surname</th><th>Name</th><th>Student ID</th></tr>\n",
        "    <tr><td>Gezekelian</td><td>Viken</td><td>03116112</td></tr>\n",
        "    <tr><td>Tarasi</td><td>Stelina</td><td>03116442</td></tr>\n",
        "    <tr><td>Tsagkarakis</td><td>Stylianos</td><td>03115180</td></tr>\n",
        "</table>\n"
      ]
    },
    {
      "cell_type": "markdown",
      "metadata": {
        "id": "7bXKijEhKFaJ"
      },
      "source": [
        "# Small Dataset - S01"
      ]
    },
    {
      "cell_type": "markdown",
      "metadata": {
        "id": "yLCQLSdb1Mz5"
      },
      "source": [
        "## Section A: Basic Information\n",
        "(S01) Echocardiogram DataSet\n",
        "\n",
        "\n"
      ]
    },
    {
      "cell_type": "markdown",
      "metadata": {
        "id": "HXPJLYCyG9vY"
      },
      "source": [
        "\n",
        "### 1. Introduction\n",
        "\n"
      ]
    },
    {
      "cell_type": "markdown",
      "metadata": {
        "id": "IxQ3zdJ-KAlt"
      },
      "source": [
        "\n",
        "Το dataset που θα χρησιμοποιήσουμε αφορά το ηχοκαρδιογράφημα ασθενών που έχουν στο παρελθόν υποστεί καρδιακή προσβολή. Ένα μέρος τον ασθενών βρίσκεται εν ζωή ενώ οι υπόλοιποι όχι. Παρατηρώντας τις παραμέτρους επιβίωσης και εάν βρίσκονται ακόμη εν ζωή, ερευνήθηκε κατά πόσο ο ασθενής έζησε για ένα τουλάχιστον χρόνο μετά την καρδιακη προσβολη. \n",
        "\n",
        "Οι ερευνητές θέλησαν να προβλέψουν την πορεία των ασθενών στο μέλλον και πιο συγκεκριμένα το ενδεχόμενο επιβίωσης για τουλάχιστον ένα χρόνο μετά την καρδιακή προσβολή συνυπολοζίζοντας τις υπόλοιπες παραμέτρους των δεδομένων . \n",
        "\n",
        "Από το documentation βλέπουμε πως έχουμε ένα σύνολο 132 δειγμάτων με 12 χαρακτηριστικά, ενώ υπάρχουν τιμές που λείπουν. \n"
      ]
    },
    {
      "cell_type": "markdown",
      "metadata": {
        "id": "1jcIfVp5iWFd"
      },
      "source": [
        "###2. Samples and features"
      ]
    },
    {
      "cell_type": "code",
      "metadata": {
        "scrolled": true,
        "id": "wVeTFMhlNC55",
        "trusted": true,
        "colab": {
          "base_uri": "https://localhost:8080/"
        },
        "outputId": "0fe6ea31-cc21-4fef-ee7b-8ffcd8056968"
      },
      "source": [
        "!pip install --upgrade pip #upgrade pip package installer\n",
        "!pip install scikit-learn --upgrade #upgrade scikit-learn package\n",
        "!pip install numpy --upgrade #upgrade numpy package\n",
        "!pip install pandas --upgrade #--upgrade #upgrade pandas package\n",
        "!pip install -U imbalanced-learn"
      ],
      "execution_count": null,
      "outputs": [
        {
          "output_type": "stream",
          "text": [
            "Requirement already satisfied: pip in /usr/local/lib/python3.6/dist-packages (20.3.1)\n",
            "Requirement already satisfied: scikit-learn in /usr/local/lib/python3.6/dist-packages (0.23.2)\n",
            "Requirement already satisfied: scipy>=0.19.1 in /usr/local/lib/python3.6/dist-packages (from scikit-learn) (1.4.1)\n",
            "Requirement already satisfied: threadpoolctl>=2.0.0 in /usr/local/lib/python3.6/dist-packages (from scikit-learn) (2.1.0)\n",
            "Requirement already satisfied: numpy>=1.13.3 in /usr/local/lib/python3.6/dist-packages (from scikit-learn) (1.19.4)\n",
            "Requirement already satisfied: joblib>=0.11 in /usr/local/lib/python3.6/dist-packages (from scikit-learn) (0.17.0)\n",
            "Requirement already satisfied: numpy>=1.13.3 in /usr/local/lib/python3.6/dist-packages (from scikit-learn) (1.19.4)\n",
            "Requirement already satisfied: numpy in /usr/local/lib/python3.6/dist-packages (1.19.4)\n",
            "Requirement already satisfied: pandas in /usr/local/lib/python3.6/dist-packages (1.1.5)\n",
            "Requirement already satisfied: python-dateutil>=2.7.3 in /usr/local/lib/python3.6/dist-packages (from pandas) (2.8.1)\n",
            "Requirement already satisfied: pytz>=2017.2 in /usr/local/lib/python3.6/dist-packages (from pandas) (2018.9)\n",
            "Requirement already satisfied: numpy>=1.15.4 in /usr/local/lib/python3.6/dist-packages (from pandas) (1.19.4)\n",
            "Requirement already satisfied: six>=1.5 in /usr/local/lib/python3.6/dist-packages (from python-dateutil>=2.7.3->pandas) (1.15.0)\n",
            "Requirement already satisfied: imbalanced-learn in /usr/local/lib/python3.6/dist-packages (0.7.0)\n",
            "Requirement already satisfied: scikit-learn>=0.23 in /usr/local/lib/python3.6/dist-packages (from imbalanced-learn) (0.23.2)\n",
            "Requirement already satisfied: joblib>=0.11 in /usr/local/lib/python3.6/dist-packages (from imbalanced-learn) (0.17.0)\n",
            "Requirement already satisfied: scipy>=0.19.1 in /usr/local/lib/python3.6/dist-packages (from imbalanced-learn) (1.4.1)\n",
            "Requirement already satisfied: numpy>=1.13.3 in /usr/local/lib/python3.6/dist-packages (from imbalanced-learn) (1.19.4)\n",
            "Requirement already satisfied: threadpoolctl>=2.0.0 in /usr/local/lib/python3.6/dist-packages (from scikit-learn>=0.23->imbalanced-learn) (2.1.0)\n",
            "Requirement already satisfied: joblib>=0.11 in /usr/local/lib/python3.6/dist-packages (from imbalanced-learn) (0.17.0)\n",
            "Requirement already satisfied: scipy>=0.19.1 in /usr/local/lib/python3.6/dist-packages (from imbalanced-learn) (1.4.1)\n",
            "Requirement already satisfied: numpy>=1.13.3 in /usr/local/lib/python3.6/dist-packages (from imbalanced-learn) (1.19.4)\n",
            "Requirement already satisfied: numpy>=1.13.3 in /usr/local/lib/python3.6/dist-packages (from imbalanced-learn) (1.19.4)\n"
          ],
          "name": "stdout"
        }
      ]
    },
    {
      "cell_type": "code",
      "metadata": {
        "id": "EFxCg9zSR5v0",
        "colab": {
          "base_uri": "https://localhost:8080/",
          "height": 459
        },
        "outputId": "ee293bb9-3fbc-4ba6-a317-36d253cc507b"
      },
      "source": [
        "import pandas as pd\n",
        "import numpy as np\n",
        "import ast\n",
        "import io\n",
        "import requests\n",
        "import matplotlib.pyplot as plt\n",
        "\n",
        "#Import data from our github\n",
        "data_csv_url = \"https://raw.githubusercontent.com/steliostss/neural_networks_ntua/master/nn2020-21/Assignment1/Small_Dataset/echocardiogram.data\"\n",
        "data = pd.read_csv(data_csv_url, error_bad_lines=False,header=None)\n",
        "\n",
        "print(\"Succesful file processing!\")\n",
        "data"
      ],
      "execution_count": null,
      "outputs": [
        {
          "output_type": "stream",
          "text": [
            "Succesful file processing!\n"
          ],
          "name": "stdout"
        },
        {
          "output_type": "stream",
          "text": [
            "b'Skipping line 50: expected 13 fields, saw 14\\n'\n"
          ],
          "name": "stderr"
        },
        {
          "output_type": "execute_result",
          "data": {
            "text/html": [
              "<div>\n",
              "<style scoped>\n",
              "    .dataframe tbody tr th:only-of-type {\n",
              "        vertical-align: middle;\n",
              "    }\n",
              "\n",
              "    .dataframe tbody tr th {\n",
              "        vertical-align: top;\n",
              "    }\n",
              "\n",
              "    .dataframe thead th {\n",
              "        text-align: right;\n",
              "    }\n",
              "</style>\n",
              "<table border=\"1\" class=\"dataframe\">\n",
              "  <thead>\n",
              "    <tr style=\"text-align: right;\">\n",
              "      <th></th>\n",
              "      <th>0</th>\n",
              "      <th>1</th>\n",
              "      <th>2</th>\n",
              "      <th>3</th>\n",
              "      <th>4</th>\n",
              "      <th>5</th>\n",
              "      <th>6</th>\n",
              "      <th>7</th>\n",
              "      <th>8</th>\n",
              "      <th>9</th>\n",
              "      <th>10</th>\n",
              "      <th>11</th>\n",
              "      <th>12</th>\n",
              "    </tr>\n",
              "  </thead>\n",
              "  <tbody>\n",
              "    <tr>\n",
              "      <th>0</th>\n",
              "      <td>11</td>\n",
              "      <td>0</td>\n",
              "      <td>71</td>\n",
              "      <td>0</td>\n",
              "      <td>0.260</td>\n",
              "      <td>9</td>\n",
              "      <td>4.600</td>\n",
              "      <td>14</td>\n",
              "      <td>1</td>\n",
              "      <td>1</td>\n",
              "      <td>name</td>\n",
              "      <td>1</td>\n",
              "      <td>0</td>\n",
              "    </tr>\n",
              "    <tr>\n",
              "      <th>1</th>\n",
              "      <td>19</td>\n",
              "      <td>0</td>\n",
              "      <td>72</td>\n",
              "      <td>0</td>\n",
              "      <td>0.380</td>\n",
              "      <td>6</td>\n",
              "      <td>4.100</td>\n",
              "      <td>14</td>\n",
              "      <td>1.700</td>\n",
              "      <td>0.588</td>\n",
              "      <td>name</td>\n",
              "      <td>1</td>\n",
              "      <td>0</td>\n",
              "    </tr>\n",
              "    <tr>\n",
              "      <th>2</th>\n",
              "      <td>16</td>\n",
              "      <td>0</td>\n",
              "      <td>55</td>\n",
              "      <td>0</td>\n",
              "      <td>0.260</td>\n",
              "      <td>4</td>\n",
              "      <td>3.420</td>\n",
              "      <td>14</td>\n",
              "      <td>1</td>\n",
              "      <td>1</td>\n",
              "      <td>name</td>\n",
              "      <td>1</td>\n",
              "      <td>0</td>\n",
              "    </tr>\n",
              "    <tr>\n",
              "      <th>3</th>\n",
              "      <td>57</td>\n",
              "      <td>0</td>\n",
              "      <td>60</td>\n",
              "      <td>0</td>\n",
              "      <td>0.253</td>\n",
              "      <td>12.062</td>\n",
              "      <td>4.603</td>\n",
              "      <td>16</td>\n",
              "      <td>1.450</td>\n",
              "      <td>0.788</td>\n",
              "      <td>name</td>\n",
              "      <td>1</td>\n",
              "      <td>0</td>\n",
              "    </tr>\n",
              "    <tr>\n",
              "      <th>4</th>\n",
              "      <td>19</td>\n",
              "      <td>1</td>\n",
              "      <td>57</td>\n",
              "      <td>0</td>\n",
              "      <td>0.160</td>\n",
              "      <td>22</td>\n",
              "      <td>5.750</td>\n",
              "      <td>18</td>\n",
              "      <td>2.250</td>\n",
              "      <td>0.571</td>\n",
              "      <td>name</td>\n",
              "      <td>1</td>\n",
              "      <td>0</td>\n",
              "    </tr>\n",
              "    <tr>\n",
              "      <th>...</th>\n",
              "      <td>...</td>\n",
              "      <td>...</td>\n",
              "      <td>...</td>\n",
              "      <td>...</td>\n",
              "      <td>...</td>\n",
              "      <td>...</td>\n",
              "      <td>...</td>\n",
              "      <td>...</td>\n",
              "      <td>...</td>\n",
              "      <td>...</td>\n",
              "      <td>...</td>\n",
              "      <td>...</td>\n",
              "      <td>...</td>\n",
              "    </tr>\n",
              "    <tr>\n",
              "      <th>126</th>\n",
              "      <td>7.5</td>\n",
              "      <td>1</td>\n",
              "      <td>64</td>\n",
              "      <td>0</td>\n",
              "      <td>0.24</td>\n",
              "      <td>12.9</td>\n",
              "      <td>4.72</td>\n",
              "      <td>12</td>\n",
              "      <td>1</td>\n",
              "      <td>0.857</td>\n",
              "      <td>name</td>\n",
              "      <td>?</td>\n",
              "      <td>?</td>\n",
              "    </tr>\n",
              "    <tr>\n",
              "      <th>127</th>\n",
              "      <td>41</td>\n",
              "      <td>0</td>\n",
              "      <td>64</td>\n",
              "      <td>0</td>\n",
              "      <td>0.28</td>\n",
              "      <td>5.40</td>\n",
              "      <td>5.47</td>\n",
              "      <td>11</td>\n",
              "      <td>1.10</td>\n",
              "      <td>0.714</td>\n",
              "      <td>name</td>\n",
              "      <td>?</td>\n",
              "      <td>?</td>\n",
              "    </tr>\n",
              "    <tr>\n",
              "      <th>128</th>\n",
              "      <td>36</td>\n",
              "      <td>0</td>\n",
              "      <td>69</td>\n",
              "      <td>0</td>\n",
              "      <td>0.20</td>\n",
              "      <td>7.00</td>\n",
              "      <td>5.05</td>\n",
              "      <td>14.5</td>\n",
              "      <td>1.21</td>\n",
              "      <td>0.857</td>\n",
              "      <td>name</td>\n",
              "      <td>?</td>\n",
              "      <td>?</td>\n",
              "    </tr>\n",
              "    <tr>\n",
              "      <th>129</th>\n",
              "      <td>22</td>\n",
              "      <td>0</td>\n",
              "      <td>57</td>\n",
              "      <td>0</td>\n",
              "      <td>0.14</td>\n",
              "      <td>16.1</td>\n",
              "      <td>4.36</td>\n",
              "      <td>15</td>\n",
              "      <td>1.36</td>\n",
              "      <td>0.786</td>\n",
              "      <td>name</td>\n",
              "      <td>?</td>\n",
              "      <td>?</td>\n",
              "    </tr>\n",
              "    <tr>\n",
              "      <th>130</th>\n",
              "      <td>20</td>\n",
              "      <td>0</td>\n",
              "      <td>62</td>\n",
              "      <td>0</td>\n",
              "      <td>0.15</td>\n",
              "      <td>0</td>\n",
              "      <td>4.51</td>\n",
              "      <td>15.5</td>\n",
              "      <td>1.409</td>\n",
              "      <td>0.786</td>\n",
              "      <td>name</td>\n",
              "      <td>?</td>\n",
              "      <td>?</td>\n",
              "    </tr>\n",
              "  </tbody>\n",
              "</table>\n",
              "<p>131 rows × 13 columns</p>\n",
              "</div>"
            ],
            "text/plain": [
              "      0   1   2   3      4       5      6     7      8      9     10 11 12\n",
              "0     11   0  71   0  0.260       9  4.600    14      1      1  name  1  0\n",
              "1     19   0  72   0  0.380       6  4.100    14  1.700  0.588  name  1  0\n",
              "2     16   0  55   0  0.260       4  3.420    14      1      1  name  1  0\n",
              "3     57   0  60   0  0.253  12.062  4.603    16  1.450  0.788  name  1  0\n",
              "4     19   1  57   0  0.160      22  5.750    18  2.250  0.571  name  1  0\n",
              "..   ...  ..  ..  ..    ...     ...    ...   ...    ...    ...   ... .. ..\n",
              "126  7.5   1  64   0   0.24    12.9   4.72    12      1  0.857  name  ?  ?\n",
              "127   41   0  64   0   0.28    5.40   5.47    11   1.10  0.714  name  ?  ?\n",
              "128   36   0  69   0   0.20    7.00   5.05  14.5   1.21  0.857  name  ?  ?\n",
              "129   22   0  57   0   0.14    16.1   4.36    15   1.36  0.786  name  ?  ?\n",
              "130   20   0  62   0   0.15       0   4.51  15.5  1.409  0.786  name  ?  ?\n",
              "\n",
              "[131 rows x 13 columns]"
            ]
          },
          "metadata": {
            "tags": []
          },
          "execution_count": 12
        }
      ]
    },
    {
      "cell_type": "code",
      "metadata": {
        "id": "BOCjcpX8GfN7",
        "colab": {
          "base_uri": "https://localhost:8080/"
        },
        "outputId": "9380f8a7-373a-4a6e-bab8-4702b607b540"
      },
      "source": [
        "print(\"Number of samples is\",data.shape[0]  ,\",number of features is\",data.shape[1]-1,\"and there is a label.\")"
      ],
      "execution_count": null,
      "outputs": [
        {
          "output_type": "stream",
          "text": [
            "Number of samples is 131 ,number of features is 12 and there is a label.\n"
          ],
          "name": "stdout"
        }
      ]
    },
    {
      "cell_type": "markdown",
      "metadata": {
        "id": "gPrhvwG3gWf5"
      },
      "source": [
        "Οι τιμές της τελευταίας στήλης δείχνουν αν ο ασθενής επέζησε (τιμή 1) ή όχι (τιμή 0) για ένα χρόνο μετά το καρδιακό επεισόδιο.\n",
        "\n",
        "Η εισαγωγή των δεδομένων αντιμετωπίζει πρόβλημα στην 50η σειρά όπου τα δεδομένα δεν είναι σωστά καταχωρημένα. Παρόλα αυτά, αυτό δε θα αποτελέσει πρόβλημα καθώς δε θα χρησιμοποιήσουμε δεδομένα που στη τελευταία στήλη έχουν \"?\".\n",
        "\n",
        "Τα χαρακτηριστικά έχουν αριθμητική float μορφή, εκτός από το όνομα που δε θα χρησιμοποιήσουμε.\n",
        "\n"
      ]
    },
    {
      "cell_type": "markdown",
      "metadata": {
        "id": "3Gs6rH_FLveE"
      },
      "source": [
        "###3. Headers \n",
        "\n",
        "Το dataset δεν περιέχει επικεφαλίδες και για αυτό χρησιμοποιήσαμε την παράμετρο header = none ενώ δεν υπάρχει ούτε αρίθμηση."
      ]
    },
    {
      "cell_type": "markdown",
      "metadata": {
        "id": "66-hxzgDMlt_"
      },
      "source": [
        "###4. Labels\n",
        "\n",
        "Οι ετικέτες βρίσκονται στην τελευταία στήλη και λαμβάνουν τις τιμές 0 (αν ο ασθενής απεβίωσε) και 1 (αν ο ασθενής επέζησε)."
      ]
    },
    {
      "cell_type": "code",
      "metadata": {
        "scrolled": true,
        "id": "1D6TgwjpNC65",
        "trusted": true,
        "colab": {
          "base_uri": "https://localhost:8080/"
        },
        "outputId": "c5385a88-23f6-42b8-b458-2e23d391e572"
      },
      "source": [
        "labels = data.iloc[:,-1] #Labels are in last column(12)\n",
        "feats  = data.iloc[:,:-1]\n",
        "print (labels)\n"
      ],
      "execution_count": null,
      "outputs": [
        {
          "output_type": "stream",
          "text": [
            "0      0\n",
            "1      0\n",
            "2      0\n",
            "3      0\n",
            "4      0\n",
            "      ..\n",
            "126    ?\n",
            "127    ?\n",
            "128    ?\n",
            "129    ?\n",
            "130    ?\n",
            "Name: 12, Length: 131, dtype: object\n"
          ],
          "name": "stdout"
        }
      ]
    },
    {
      "cell_type": "markdown",
      "metadata": {
        "id": "js5M02yYbvh7"
      },
      "source": [
        "###5.Text\n",
        "\n",
        "Δεν πραγματοποιήσαμε κάποια αλλαγή στα αρχεία text, ωστόσο θα πραγματοποιήσουμε κάποιες αλλαγές στα δεδομένα κατά την ανάλυση τους καθώς τα δείγματα που έχουν ? στη τελευταία στήλη θα αφαιρεθούν. Ακόμα σύμφωνα με τις οδηγίες της άσκησης θα αφαιρεθούν οι στήλες 0,1,2,10,11 οι οποίες δίνουν πολύ υψηλές τιμές χωρίς να βελτιστοποιούν το αποτέλεσμα. \n"
      ]
    },
    {
      "cell_type": "markdown",
      "metadata": {
        "id": "Wj9-XT2WcFKF"
      },
      "source": [
        "###6. Missing Values\n",
        "\n",
        "Υπάρχουν απουσιάζουσες τιμές οι οποίες παριστάνονται με \"?\". "
      ]
    },
    {
      "cell_type": "code",
      "metadata": {
        "id": "pXMj3Cd-fwGH",
        "colab": {
          "base_uri": "https://localhost:8080/"
        },
        "outputId": "ba0545e0-2bda-4a69-973c-15367a30ec1f"
      },
      "source": [
        "misv = sum(feats == '?') + sum(labels == '?') #sum of ? values without line 50 \n",
        "\n",
        "\n",
        "print(\"Total missing values (without line 50):\", misv,'\\n')\n"
      ],
      "execution_count": null,
      "outputs": [
        {
          "output_type": "stream",
          "text": [
            "Total missing values (without line 50): 123 \n",
            "\n"
          ],
          "name": "stdout"
        }
      ]
    },
    {
      "cell_type": "markdown",
      "metadata": {
        "id": "kpPZ_i3xumIl"
      },
      "source": [
        "Τώρα θα κάνουμε μετατροπές στο dataset όπως αναφέρονται στο FAQ της άσκησης αφαιρώντας τα δείγματα που στη τελευταία στήλη του label έχουν τις τιμές ?, καθώς και τις στήλες που δε χρειάζονται, παίρνοντας τα νέα ποσοστά."
      ]
    },
    {
      "cell_type": "code",
      "metadata": {
        "id": "jbpnSPLfybdD",
        "colab": {
          "base_uri": "https://localhost:8080/"
        },
        "outputId": "59948a8a-e59b-47c1-95bb-f88aa0b20ae2"
      },
      "source": [
        "data = data[data[12] != '?']# remove samples with no label\n",
        "data = data.drop(columns=[0,1,9,10,11]) #remove columns from faq\n",
        "\n",
        "labels = data.iloc[:,-1] #new labels\n",
        "feats  = data.iloc[:,:-1] #new feats\n",
        "features_v= feats.values\n",
        "features = features_v.T[:,:]\n",
        "\n",
        "one_missing = sum(sum(features == '?')!=0)\n",
        "print(\"Now we have\",one_missing,\"samples that they dont have at least one value out of\",data.shape[0],\"so :\",one_missing/data.shape[0]*100,\"%\")"
      ],
      "execution_count": null,
      "outputs": [
        {
          "output_type": "stream",
          "text": [
            "Now we have 12 samples that they dont have at least one value out of 74 so : 16.216216216216218 %\n"
          ],
          "name": "stdout"
        }
      ]
    },
    {
      "cell_type": "markdown",
      "metadata": {
        "id": "Tx2Fz4aXyoVJ"
      },
      "source": [
        "###7. Balance"
      ]
    },
    {
      "cell_type": "markdown",
      "metadata": {
        "id": "xE8dk8D9zC_A"
      },
      "source": [
        "'Εχουμε δύο κατηγορίες, 0 και 1 ,συνεπώς προκύπτει εύκολα η συχνότητα τους."
      ]
    },
    {
      "cell_type": "code",
      "metadata": {
        "id": "8b64D_4_zX-J",
        "colab": {
          "base_uri": "https://localhost:8080/"
        },
        "outputId": "59cadc11-5f52-406a-9a77-fadc4f18067b"
      },
      "source": [
        "labels = labels.astype(int)\n",
        "alive = sum(labels)\n",
        "dead = data.shape[0]-alive\n",
        "per_alive = alive/data.shape[0]*100\n",
        "per_dead = dead/data.shape[0]*100\n",
        "print(\"Number of alive persons (1) :\",alive,\"(\",per_alive,\"%)\",\"\\n\")\n",
        "print(\"Number of persons that have died (0) :\", dead,\"(\",per_dead,\"%)\",\"\\n\")\n"
      ],
      "execution_count": null,
      "outputs": [
        {
          "output_type": "stream",
          "text": [
            "Number of alive persons (1) : 24 ( 32.432432432432435 %) \n",
            "\n",
            "Number of persons that have died (0) : 50 ( 67.56756756756756 %) \n",
            "\n"
          ],
          "name": "stdout"
        }
      ]
    },
    {
      "cell_type": "markdown",
      "metadata": {
        "id": "sCInf-7W1unO"
      },
      "source": [
        "Βλέπουμε πως το dataset δεν είναι ισορροπημένο καθώς οι τιμές για το 0 είναι περισσότερες ξεπερνώντας την αναλογία 1.5. Για αυτό το λόγο στη συνέχεια θα κάνουμε oversampling ώστε να διορθώσουμε αυτή τη διαφορά και να πάρουμε πιο έγκυρα αποτελέσματα."
      ]
    },
    {
      "cell_type": "markdown",
      "metadata": {
        "id": "Xgio7kJH2pCV"
      },
      "source": [
        "###8.Train and Test"
      ]
    },
    {
      "cell_type": "markdown",
      "metadata": {
        "id": "ff-FaLdB79Ep"
      },
      "source": [
        "Σε αυτό το σημείο θα χωρίσουμε τα δεδομένα μας σε train και test και αντίστοιχα τα labels . \n"
      ]
    },
    {
      "cell_type": "code",
      "metadata": {
        "id": "6B9qpOy72sx2"
      },
      "source": [
        "from sklearn.model_selection import train_test_split\n",
        "\n",
        "feats= np.where(feats=='?',-1,feats)\n",
        "x_train,x_test,y_train,y_test = train_test_split(feats,labels,test_size=0.2)  #y_train, y_test:labels"
      ],
      "execution_count": null,
      "outputs": []
    },
    {
      "cell_type": "code",
      "metadata": {
        "id": "2H4DdupMBerm"
      },
      "source": [
        "from sklearn.impute import SimpleImputer\n",
        "\n",
        "np.set_printoptions(suppress=True)\n",
        "\n",
        "si = SimpleImputer(missing_values=-1,strategy='mean')\n",
        "x_train = si.fit_transform(x_train)\n",
        "x_test  = si.fit_transform(x_test)"
      ],
      "execution_count": null,
      "outputs": []
    },
    {
      "cell_type": "markdown",
      "metadata": {
        "id": "n2xObHXVPbN0"
      },
      "source": [
        "## Section B: Baseline classification"
      ]
    },
    {
      "cell_type": "markdown",
      "metadata": {
        "id": "12Iy6QEvfiWn"
      },
      "source": [
        "Σε αυτό το σημείο θα χρησιμοποιήσουμε τους Dummy, Gaussian Naive Bayes και kΝΝ ταξινομητές παρατηρώντας την απόδοση τους."
      ]
    },
    {
      "cell_type": "markdown",
      "metadata": {
        "id": "W7TyQ1Eisjnu"
      },
      "source": [
        "### Dummy Classifier"
      ]
    },
    {
      "cell_type": "code",
      "metadata": {
        "id": "l1EW9zgsgBsr"
      },
      "source": [
        "from sklearn.dummy import DummyClassifier\n",
        "import time\n",
        "\n",
        "def DummyClassification(x_train,y_train,x_test,y_test):\n",
        "    \n",
        "    scores, predictions, fit_times, pred_times = {}, {}, {}, {}\n",
        "\n",
        "    dc_uniform  = DummyClassifier(strategy=\"uniform\")\n",
        "    dc_const_0  = DummyClassifier(strategy=\"constant\",constant=0)\n",
        "    dc_const_1  = DummyClassifier(strategy=\"constant\",constant=1)\n",
        "    dc_stratif  = DummyClassifier(strategy=\"stratified\")\n",
        "    dc_frequent = DummyClassifier(strategy=\"most_frequent\")\n",
        "\n",
        "    #Fit\n",
        "  \n",
        "    start_time = time.time()\n",
        "    dc_uniform.fit(x_train, y_train)\n",
        "    fit_times['uniform'] = time.time()-start_time\n",
        "    \n",
        "    start_time = time.time()\n",
        "    dc_const_0.fit(x_train, y_train)\n",
        "    fit_times['const_0'] = time.time()-start_time\n",
        "    \n",
        "    start_time = time.time()\n",
        "    dc_const_1.fit(x_train, y_train)\n",
        "    fit_times['const_1'] = time.time()-start_time\n",
        "    \n",
        "    start_time = time.time()\n",
        "    dc_stratif.fit(x_train, y_train)\n",
        "    fit_times['stratif'] = time.time()-start_time\n",
        "    \n",
        "    start_time = time.time()\n",
        "    dc_frequent.fit(x_train,y_train)\n",
        "    fit_times['frequent'] = time.time()-start_time\n",
        "    \n",
        "    #Predict\n",
        "    \n",
        "    start_time = time.time()\n",
        "    predictions['uniform']  = dc_uniform.predict(x_test)\n",
        "    pred_times['uniform'] = time.time()-start_time\n",
        "    \n",
        "    start_time = time.time()\n",
        "    predictions['const_0']  = dc_const_0.predict(x_test)\n",
        "    pred_times['const_0'] = time.time()-start_time\n",
        "    \n",
        "    start_time = time.time()\n",
        "    predictions['const_1']  = dc_const_1.predict(x_test)\n",
        "    pred_times['const_1'] = time.time()-start_time\n",
        "    \n",
        "    start_time = time.time()\n",
        "    predictions['stratif']  = dc_stratif.predict(x_test)\n",
        "    pred_times['stratif'] = time.time()-start_time\n",
        "    \n",
        "    start_time = time.time()\n",
        "    predictions['frequent'] = dc_frequent.predict(x_test)\n",
        "    pred_times['frequent'] = time.time()-start_time\n",
        "\n",
        "    #Score\n",
        "    \n",
        "    scores['uniform']  = dc_uniform.score(x_test, y_test)\n",
        "    scores['const_0']  = dc_const_0.score(x_test, y_test)\n",
        "    scores['const_1']  = dc_const_1.score(x_test, y_test)\n",
        "    scores['stratif']  = dc_stratif.score(x_test, y_test)\n",
        "    scores['frequent'] = dc_frequent.score(x_test,y_test)\n",
        "    \n",
        "    return predictions, scores,fit_times, pred_times"
      ],
      "execution_count": null,
      "outputs": []
    },
    {
      "cell_type": "code",
      "metadata": {
        "id": "utflyJtPil3j",
        "colab": {
          "base_uri": "https://localhost:8080/"
        },
        "outputId": "5b51fa17-61df-44a6-aca8-cf59265d18ba"
      },
      "source": [
        "predictions, accuracies,_,_ = DummyClassification(x_train,y_train,x_test,y_test)\n",
        "\n",
        "for i in predictions:\n",
        "    print(\"Prediction for\", i, ':', predictions[i])\n",
        "\n",
        "print()\n",
        "\n",
        "print(\"Classification Accuracy on our Dataset : \\n\")\n",
        "\n",
        "sorted_accuracy = [(k, accuracies[k]) for k in sorted(accuracies, key=accuracies.get, reverse=True)]\n",
        "for k,v in sorted_accuracy:\n",
        "    print(k,v)"
      ],
      "execution_count": null,
      "outputs": [
        {
          "output_type": "stream",
          "text": [
            "Prediction for uniform : [0 0 1 1 0 1 1 1 1 1 1 1 0 0 1]\n",
            "Prediction for const_0 : [0 0 0 0 0 0 0 0 0 0 0 0 0 0 0]\n",
            "Prediction for const_1 : [1 1 1 1 1 1 1 1 1 1 1 1 1 1 1]\n",
            "Prediction for stratif : [0 0 0 1 0 0 0 1 1 0 0 0 1 0 1]\n",
            "Prediction for frequent : [0 0 0 0 0 0 0 0 0 0 0 0 0 0 0]\n",
            "\n",
            "Classification Accuracy on our Dataset : \n",
            "\n",
            "const_0 0.6\n",
            "frequent 0.6\n",
            "uniform 0.5333333333333333\n",
            "stratif 0.4666666666666667\n",
            "const_1 0.4\n"
          ],
          "name": "stdout"
        }
      ]
    },
    {
      "cell_type": "code",
      "metadata": {
        "id": "LqwUvLj0qrRV",
        "colab": {
          "base_uri": "https://localhost:8080/"
        },
        "outputId": "be27d2bd-5b0e-4246-9542-2ad1070477f1"
      },
      "source": [
        "from sklearn.metrics import confusion_matrix\n",
        "\n",
        "# Compute confusion matrix\n",
        "print(\"Confusion matrices :\\n\")\n",
        "for i in predictions:\n",
        "    cnf_matrix = confusion_matrix(y_test, predictions[i])\n",
        "    print(i)\n",
        "    print(cnf_matrix, end='\\n\\n')"
      ],
      "execution_count": null,
      "outputs": [
        {
          "output_type": "stream",
          "text": [
            "Confusion matrices :\n",
            "\n",
            "uniform\n",
            "[[1 8]\n",
            " [4 2]]\n",
            "\n",
            "const_0\n",
            "[[9 0]\n",
            " [6 0]]\n",
            "\n",
            "const_1\n",
            "[[0 9]\n",
            " [0 6]]\n",
            "\n",
            "stratif\n",
            "[[5 4]\n",
            " [5 1]]\n",
            "\n",
            "frequent\n",
            "[[9 0]\n",
            " [6 0]]\n",
            "\n"
          ],
          "name": "stdout"
        }
      ]
    },
    {
      "cell_type": "code",
      "metadata": {
        "id": "CYhB9vpMO0CS",
        "colab": {
          "base_uri": "https://localhost:8080/"
        },
        "outputId": "47735a19-3964-43f7-abae-2dc2068ee62b"
      },
      "source": [
        "from sklearn.metrics import classification_report\n",
        "for strategy in predictions:\n",
        "    print(\"\\nClassification Report of\",strategy,\"strategy:\\n\",classification_report(y_test,predictions[strategy]))"
      ],
      "execution_count": null,
      "outputs": [
        {
          "output_type": "stream",
          "text": [
            "\n",
            "Classification Report of uniform strategy:\n",
            "               precision    recall  f1-score   support\n",
            "\n",
            "           0       0.20      0.11      0.14         9\n",
            "           1       0.20      0.33      0.25         6\n",
            "\n",
            "    accuracy                           0.20        15\n",
            "   macro avg       0.20      0.22      0.20        15\n",
            "weighted avg       0.20      0.20      0.19        15\n",
            "\n",
            "\n",
            "Classification Report of const_0 strategy:\n",
            "               precision    recall  f1-score   support\n",
            "\n",
            "           0       0.60      1.00      0.75         9\n",
            "           1       0.00      0.00      0.00         6\n",
            "\n",
            "    accuracy                           0.60        15\n",
            "   macro avg       0.30      0.50      0.37        15\n",
            "weighted avg       0.36      0.60      0.45        15\n",
            "\n",
            "\n",
            "Classification Report of const_1 strategy:\n",
            "               precision    recall  f1-score   support\n",
            "\n",
            "           0       0.00      0.00      0.00         9\n",
            "           1       0.40      1.00      0.57         6\n",
            "\n",
            "    accuracy                           0.40        15\n",
            "   macro avg       0.20      0.50      0.29        15\n",
            "weighted avg       0.16      0.40      0.23        15\n",
            "\n",
            "\n",
            "Classification Report of stratif strategy:\n",
            "               precision    recall  f1-score   support\n",
            "\n",
            "           0       0.50      0.56      0.53         9\n",
            "           1       0.20      0.17      0.18         6\n",
            "\n",
            "    accuracy                           0.40        15\n",
            "   macro avg       0.35      0.36      0.35        15\n",
            "weighted avg       0.38      0.40      0.39        15\n",
            "\n",
            "\n",
            "Classification Report of frequent strategy:\n",
            "               precision    recall  f1-score   support\n",
            "\n",
            "           0       0.60      1.00      0.75         9\n",
            "           1       0.00      0.00      0.00         6\n",
            "\n",
            "    accuracy                           0.60        15\n",
            "   macro avg       0.30      0.50      0.37        15\n",
            "weighted avg       0.36      0.60      0.45        15\n",
            "\n"
          ],
          "name": "stdout"
        },
        {
          "output_type": "stream",
          "text": [
            "/usr/local/lib/python3.6/dist-packages/sklearn/metrics/_classification.py:1221: UndefinedMetricWarning: Precision and F-score are ill-defined and being set to 0.0 in labels with no predicted samples. Use `zero_division` parameter to control this behavior.\n",
            "  _warn_prf(average, modifier, msg_start, len(result))\n"
          ],
          "name": "stderr"
        }
      ]
    },
    {
      "cell_type": "markdown",
      "metadata": {
        "id": "3n7fhjS8gsFX"
      },
      "source": [
        "### Gaussian Naive Bayes"
      ]
    },
    {
      "cell_type": "code",
      "metadata": {
        "id": "ol5ciGWnO9yX",
        "colab": {
          "base_uri": "https://localhost:8080/"
        },
        "outputId": "60da01db-5350-4b26-81d6-77ed9184c00e"
      },
      "source": [
        "from sklearn.naive_bayes import GaussianNB\n",
        "gnb = GaussianNB()\n",
        "\n",
        "model = gnb.fit(x_train, y_train)\n",
        "\n",
        "predictions['GNB']=model.predict(x_test)\n",
        "\n",
        "accuracies['GNB'] = gnb.score(x_test, y_test)\n",
        "\n",
        "print(\"Classification Accuracy\\n\")\n",
        "\n",
        "print(accuracies['GNB'])"
      ],
      "execution_count": null,
      "outputs": [
        {
          "output_type": "stream",
          "text": [
            "Classification Accuracy\n",
            "\n",
            "0.8\n"
          ],
          "name": "stdout"
        }
      ]
    },
    {
      "cell_type": "code",
      "metadata": {
        "id": "5UVazaZjiju9",
        "colab": {
          "base_uri": "https://localhost:8080/"
        },
        "outputId": "e75db370-27b2-4ef1-aaf7-2485caa120fb"
      },
      "source": [
        "cnf_matrix = confusion_matrix(y_test, predictions['GNB'])\n",
        "print(\"Gaussian\")\n",
        "print(cnf_matrix, end='\\n\\n')"
      ],
      "execution_count": null,
      "outputs": [
        {
          "output_type": "stream",
          "text": [
            "Gaussian\n",
            "[[8 1]\n",
            " [2 4]]\n",
            "\n"
          ],
          "name": "stdout"
        }
      ]
    },
    {
      "cell_type": "code",
      "metadata": {
        "id": "wCuBdEbIgpn1",
        "colab": {
          "base_uri": "https://localhost:8080/"
        },
        "outputId": "6d31af1b-b7e4-416b-99b8-fd3a3cbdde9e"
      },
      "source": [
        "print(\"\\nClassification Report of Gaussian :\\n\",classification_report(y_test,predictions['GNB']))"
      ],
      "execution_count": null,
      "outputs": [
        {
          "output_type": "stream",
          "text": [
            "\n",
            "Classification Report of Gaussian :\n",
            "               precision    recall  f1-score   support\n",
            "\n",
            "           0       0.80      0.89      0.84         9\n",
            "           1       0.80      0.67      0.73         6\n",
            "\n",
            "    accuracy                           0.80        15\n",
            "   macro avg       0.80      0.78      0.78        15\n",
            "weighted avg       0.80      0.80      0.80        15\n",
            "\n"
          ],
          "name": "stdout"
        }
      ]
    },
    {
      "cell_type": "markdown",
      "metadata": {
        "id": "DGmcmtqhkefo"
      },
      "source": [
        "### kNN"
      ]
    },
    {
      "cell_type": "code",
      "metadata": {
        "id": "h62Hn1pFkj8w",
        "colab": {
          "base_uri": "https://localhost:8080/"
        },
        "outputId": "1a602f9c-0214-4f02-da07-14aa44b34e86"
      },
      "source": [
        "from sklearn.neighbors import KNeighborsClassifier\n",
        "\n",
        "knn = KNeighborsClassifier(n_neighbors=1) \n",
        "knn.fit(x_train,y_train)\n",
        "predictions['knn'] = knn.predict(x_test)\n",
        "accuracies['knn'] = knn.score(x_test,y_test)\n",
        "\n",
        "print(\"Classification Accuracy of 1-NN:\",accuracies['knn'])"
      ],
      "execution_count": null,
      "outputs": [
        {
          "output_type": "stream",
          "text": [
            "Classification Accuracy of 1-NN: 0.7333333333333333\n"
          ],
          "name": "stdout"
        }
      ]
    },
    {
      "cell_type": "code",
      "metadata": {
        "id": "Z3bJwmBklRDa",
        "colab": {
          "base_uri": "https://localhost:8080/"
        },
        "outputId": "a6a0f891-cc52-4b9c-e1d7-440bd09ab6ea"
      },
      "source": [
        "print(\"Confusion Matrix of 1-NN:\\n\",confusion_matrix(y_test,predictions['knn']))"
      ],
      "execution_count": null,
      "outputs": [
        {
          "output_type": "stream",
          "text": [
            "Confusion Matrix of 1-NN:\n",
            " [[8 1]\n",
            " [3 3]]\n"
          ],
          "name": "stdout"
        }
      ]
    },
    {
      "cell_type": "code",
      "metadata": {
        "id": "NW4CDYMul3An",
        "colab": {
          "base_uri": "https://localhost:8080/"
        },
        "outputId": "0545ede0-bd1b-46c7-8b79-2d1946ab45b8"
      },
      "source": [
        "print(\"Classification Report of 1-NN:\\n\",classification_report(y_test,predictions['knn']))"
      ],
      "execution_count": null,
      "outputs": [
        {
          "output_type": "stream",
          "text": [
            "Classification Report of 1-NN:\n",
            "               precision    recall  f1-score   support\n",
            "\n",
            "           0       0.73      0.89      0.80         9\n",
            "           1       0.75      0.50      0.60         6\n",
            "\n",
            "    accuracy                           0.73        15\n",
            "   macro avg       0.74      0.69      0.70        15\n",
            "weighted avg       0.74      0.73      0.72        15\n",
            "\n"
          ],
          "name": "stdout"
        }
      ]
    },
    {
      "cell_type": "markdown",
      "metadata": {
        "id": "y3Bf8fvlm4F7"
      },
      "source": [
        "### Plots"
      ]
    },
    {
      "cell_type": "code",
      "metadata": {
        "id": "X7eiWLLVn9hW"
      },
      "source": [
        "from sklearn.metrics import precision_recall_fscore_support,f1_score\n",
        "f1_macros, f1_micros = [],[]\n",
        "\n",
        "for pl in predictions:  \n",
        "    f1_micros.append(f1_score(y_test,predictions[pl],average='micro'))\n",
        "    f1_macros.append(f1_score(y_test,predictions[pl],average='macro'))"
      ],
      "execution_count": null,
      "outputs": []
    },
    {
      "cell_type": "code",
      "metadata": {
        "id": "Rh3Sw1mvl50o",
        "colab": {
          "base_uri": "https://localhost:8080/",
          "height": 873
        },
        "outputId": "58e03269-f1a9-4644-91b8-b3cd2c5a8202"
      },
      "source": [
        "import matplotlib.pyplot as plt\n",
        "\n",
        "fig, ax = plt.subplots(figsize=(13,7))\n",
        "classifiers = ['uniform', 'constant_0', 'constant_1', 'most_frequent', 'stratified', 'Gaussian','knn']\n",
        "ax.bar(classifiers, f1_micros, width=0.8)\n",
        "ax.set_title('f1 micro scores')\n",
        "\n",
        "fig, ax = plt.subplots(figsize=(13,7))\n",
        "ax.bar(classifiers, f1_macros, width=0.8)\n",
        "ax.set_title('f1 macro score')\n",
        "\n",
        "plt.show()"
      ],
      "execution_count": null,
      "outputs": [
        {
          "output_type": "display_data",
          "data": {
            "image/png": "[encoded data removed]",
            "text/plain": [
              "<Figure size 936x504 with 1 Axes>"
            ]
          },
          "metadata": {
            "tags": [],
            "needs_background": "light"
          }
        },
        {
          "output_type": "display_data",
          "data": {
            "image/png": "[encoded data removed]",
            "text/plain": [
              "<Figure size 936x504 with 1 Axes>"
            ]
          },
          "metadata": {
            "tags": [],
            "needs_background": "light"
          }
        }
      ]
    },
    {
      "cell_type": "markdown",
      "metadata": {
        "id": "We4c7lhnj7N2"
      },
      "source": [
        "Μετά από πολλαπλές επαναλλήψεις του κώδικα είδαμε μεγάλες διαφορές στα αποτελέσματα το οποίο μας οδηγεί στο συμπέρασμα πως ο τρόπος που χωρίστηκε το training και το test set παίζει μεγάλο ρόλο. Αυτό συμβαίνει καθώς έχουμε πολύ λίγα δείγματα λόγω της έλλειψης τιμών (\"?\") στην στήλη των labels.\n",
        "\n",
        "\n",
        "\n",
        "*   Για τους Dummy Classifiers παρατηρούμε πως μεγαλύτερες διακυμάνσεις στα τελικά αποτελέσματα έχει ο uniform το οποίο είναι αναμενόμενο καθώς προβλέπει τυχαία. Για τους βλέπουμε πως θέτοντας την τιμή 0 έχουμε καλύτερα αποτελέσματα, γεγονός που περιμέναμε αφού αποτελεί και το μεγαλύτερο μέέρος των δειγμάτων. \n",
        "*  Ο Gaussian Naive Bayes βλέπουμε να σημειώνει τα καλύτερα αποτελέσματα και στη συνέχεια ο Knn καθώς βασίζονται σε αλγόριθμους λογικής ανάλυσης δεδομένων.\n",
        "\n",
        "Συγκρίνοντας τα δύο διαγράμματα παρατηρούε πως η τιμή F1 micro είναι σταθερά μεγαλύτερη σε όλες τις περιπτώσεις. \n",
        "\n",
        "\n",
        "\n",
        "\n"
      ]
    },
    {
      "cell_type": "markdown",
      "metadata": {
        "id": "eAeh7Zj0vDVh"
      },
      "source": [
        "## Section C: Optimization"
      ]
    },
    {
      "cell_type": "markdown",
      "metadata": {
        "id": "tBF9OWI-sxIx"
      },
      "source": [
        "### Pre-processing of Data set\n",
        "\n",
        "Στην αρχή, θα χρησιμοποιήσουμε την τεχνική του κατωφλίου διακύμανσης (Variance threshold) η οποία βασίζεται στο ότι αν ένα χαρακτηριστικό έχει χαμηλή διακύμανση δεν βοηθάει σημαντικά στην ορθή ταξινόμηση. Συνεπώς, θα χρησιμοποιήσουμε την συνάρτηση VarianceThreshold() για την αφαίρεση των χαρακτηριστικών με διακύμανση χαμηλότερη του κατωφλίου.\n"
      ]
    },
    {
      "cell_type": "markdown",
      "metadata": {
        "id": "Bel807jB3huN"
      },
      "source": [
        "Στη συνέχεια θα κάνουμε κανονικοποίηση των χαρακτηριστικών ώστε να αποφύγουμε χαρακτηριστικά με πολύ μεγάλες διαφορές στις τιμές τους καθώς μπορούν να προκαλέσουν προβλήματα στην εκπαίδευση.\n",
        "\n",
        "Η κανονικοποίηση μετασχηματίζει τις τιμές των χαρακτηριστικών ώστε να αμβλυνθούν αυτές οι διαφορές και γίνεται με 2 τρόπους: Διαιρώντας με τη διαφορά μεγίστου-ελαχίστου (feature scaling) οπότε οι τιμές όλων των χαρακτηριστικών κλιμακώνονται γραμμικά στο διάστημα [0,1] ή με το standard score του κάθε χαρακτηριστικού, που κάνει το χαρακτηριστικό να έχει μέση τιμή μηδέν και διακύμανση μονάδα.\n"
      ]
    },
    {
      "cell_type": "code",
      "metadata": {
        "id": "Z8cRL60PMUCJ",
        "colab": {
          "base_uri": "https://localhost:8080/"
        },
        "outputId": "f7d564e5-a976-424c-cd5a-d7f92431ca7f"
      },
      "source": [
        "from imblearn.over_sampling import RandomOverSampler\n",
        "\n",
        "randomOS = RandomOverSampler(random_state = 0)\n",
        "x_train_r, y_train_r = randomOS.fit_sample(x_train,y_train)\n",
        "new_balance = sum(y_train_r == 0)/sum(y_train_r==1)\n",
        "print(\"The new balance is :\",new_balance,'\\n') "
      ],
      "execution_count": null,
      "outputs": [
        {
          "output_type": "stream",
          "text": [
            "The new balance is : 1.0 \n",
            "\n"
          ],
          "name": "stdout"
        }
      ]
    },
    {
      "cell_type": "markdown",
      "metadata": {
        "id": "1G6urLZgOQX1"
      },
      "source": [
        "Βλέπουμε πως πλέον η αναλογία τιμών 0 και 1 είναι  1 και συνεπώς το training set είναι ισορροπημένο. Το Oversamping έγινε μόνο στο training set, αφού το test set θέλουμε να μείνει αναλοίωτο."
      ]
    },
    {
      "cell_type": "markdown",
      "metadata": {
        "id": "pBqT7lpcXsys"
      },
      "source": [
        "### Dummy Classifiers"
      ]
    },
    {
      "cell_type": "markdown",
      "metadata": {
        "id": "6MygfPOL-a7_"
      },
      "source": [
        "Οι Dummy Classifiers δεν μπορούν να βελτιωθούν παρόλα αυτά παραθέτουμε παρακάτω τα πλήρη στοιχεία μετά το Oversampling, βλέποντας και στο τέλος πως δεν υπήρξε ουσιαστική βελτιστοποίηση. "
      ]
    },
    {
      "cell_type": "code",
      "metadata": {
        "colab": {
          "base_uri": "https://localhost:8080/"
        },
        "id": "vqqYkZgds_0P",
        "outputId": "55f656c0-1d1b-4be0-9f3f-ca7a052b7152"
      },
      "source": [
        "new_predictions, new_accuracies, fit_times, pred_times = DummyClassification(x_train_r,y_train_r,x_test,y_test)\n",
        "\n",
        "print(\"Classification Accuracy of Dummy Classifiers:\\n\")\n",
        "sorted_new_accuracy = [(k, new_accuracies[k]) for k in sorted(new_accuracies, key=new_accuracies.get, reverse=True)]\n",
        "for k,v in sorted_new_accuracy:\n",
        "    print(k,v)\n",
        "\n",
        "print(\"\\nConfusion Matrices of Dummy Classifiers:\\n\")\n",
        "for strategy in new_predictions: print(\"Stratehy\",strategy,\":\\n\",confusion_matrix(y_test,new_predictions[strategy]))\n",
        "\n",
        "for strategy in new_predictions:\n",
        "    print(\"\\nf1-micro average for\",strategy,\":\",f1_score(y_test,new_predictions[strategy], average='micro'))\n",
        "    print(\"f1-macro average for\",strategy,\":\",f1_score(y_test,new_predictions[strategy], average='macro'))\n",
        "    \n",
        "print(\"\\nTime for Fit and Predict of Dummy Classifiers :\\n\")\n",
        "for strategy in fit_times:\n",
        "    print(\"Fitting time for\",strategy,\":\",fit_times[strategy])\n",
        "    print(\"Predict time for\",strategy,\":\",pred_times[strategy],\"\\n\")"
      ],
      "execution_count": null,
      "outputs": [
        {
          "output_type": "stream",
          "text": [
            "Classification Accuracy of Dummy Classifiers:\n",
            "\n",
            "uniform 0.8\n",
            "const_0 0.6\n",
            "frequent 0.6\n",
            "const_1 0.4\n",
            "stratif 0.3333333333333333\n",
            "\n",
            "Confusion Matrices of Dummy Classifiers:\n",
            "\n",
            "Stratehy uniform :\n",
            " [[6 3]\n",
            " [1 5]]\n",
            "Stratehy const_0 :\n",
            " [[9 0]\n",
            " [6 0]]\n",
            "Stratehy const_1 :\n",
            " [[0 9]\n",
            " [0 6]]\n",
            "Stratehy stratif :\n",
            " [[4 5]\n",
            " [3 3]]\n",
            "Stratehy frequent :\n",
            " [[9 0]\n",
            " [6 0]]\n",
            "\n",
            "f1-micro average for uniform : 0.7333333333333333\n",
            "f1-macro average for uniform : 0.7321428571428572\n",
            "\n",
            "f1-micro average for const_0 : 0.6\n",
            "f1-macro average for const_0 : 0.37499999999999994\n",
            "\n",
            "f1-micro average for const_1 : 0.4000000000000001\n",
            "f1-macro average for const_1 : 0.28571428571428575\n",
            "\n",
            "f1-micro average for stratif : 0.4666666666666667\n",
            "f1-macro average for stratif : 0.4642857142857143\n",
            "\n",
            "f1-micro average for frequent : 0.6\n",
            "f1-macro average for frequent : 0.37499999999999994\n",
            "\n",
            "Time for Fit and Predict of Dummy Classifiers :\n",
            "\n",
            "Fitting time for uniform : 0.0005538463592529297\n",
            "Predict time for uniform : 0.00021457672119140625 \n",
            "\n",
            "Fitting time for const_0 : 0.00027942657470703125\n",
            "Predict time for const_0 : 7.43865966796875e-05 \n",
            "\n",
            "Fitting time for const_1 : 0.0002930164337158203\n",
            "Predict time for const_1 : 3.695487976074219e-05 \n",
            "\n",
            "Fitting time for stratif : 0.00027489662170410156\n",
            "Predict time for stratif : 0.00032639503479003906 \n",
            "\n",
            "Fitting time for frequent : 0.00023937225341796875\n",
            "Predict time for frequent : 9.72747802734375e-05 \n",
            "\n"
          ],
          "name": "stdout"
        }
      ]
    },
    {
      "cell_type": "markdown",
      "metadata": {
        "id": "U5jdsnHGXn1a"
      },
      "source": [
        "### Optimize Knn "
      ]
    },
    {
      "cell_type": "code",
      "metadata": {
        "id": "_HMS9sxExVhu"
      },
      "source": [
        "from imblearn.pipeline import Pipeline\n",
        "from sklearn.feature_selection import VarianceThreshold\n",
        "from sklearn.preprocessing import StandardScaler \n",
        "from sklearn.preprocessing import MinMaxScaler\n",
        "from imblearn.over_sampling import RandomOverSampler\n",
        "from sklearn.decomposition import PCA\n",
        "\n",
        "selector = VarianceThreshold()\n",
        "mscaler = MinMaxScaler()\n",
        "ros = RandomOverSampler()\n",
        "sscaler = StandardScaler()\n",
        "pca = PCA()\n",
        "clf = KNeighborsClassifier(n_jobs=-1)\n",
        "\n",
        "pipe = Pipeline(steps=[('selector', selector), ('scaler',sscaler),('sampler', ros), ('pca', pca), ('kNN', clf)])"
      ],
      "execution_count": null,
      "outputs": []
    },
    {
      "cell_type": "markdown",
      "metadata": {
        "id": "fZRyl1MT9fQp"
      },
      "source": [
        "Στη συνέχεια για την  θα χρησιμποιήσουμε την GridSearchCV για να βελτιστοποιήσουμε τις υπερπαραμέτρους μας η οποία κάνει μαζί cross-validation και grid search."
      ]
    },
    {
      "cell_type": "code",
      "metadata": {
        "id": "LRH6xt0u9Hll"
      },
      "source": [
        "from sklearn.model_selection import GridSearchCV\n",
        "#Υπερπαράμετροι προς βελτιστοποίηση kNN: n_neighbors\n",
        "\n",
        "vthreshold = [0, 0.5, 49, 53] #προσαρμόζουμε τις τιμές μας στο variance που παρατηρήσαμε\n",
        "n_components = np.arange(1,10,1)\n",
        "k = np.arange(1,50,5) # η υπερπαράμετρος του ταξινομητή\n"
      ],
      "execution_count": null,
      "outputs": []
    },
    {
      "cell_type": "code",
      "metadata": {
        "colab": {
          "base_uri": "https://localhost:8080/"
        },
        "id": "VOal-Sz8-vBB",
        "outputId": "2c3b2449-fc35-4b79-8dee-d03a0d0abe85"
      },
      "source": [
        "#Dokimazontas me ola ta pre-processing\n",
        "\n",
        "estimator_knn = GridSearchCV(pipe, dict(selector__threshold=vthreshold, pca__n_components=n_components, kNN__n_neighbors=k), cv=10, scoring='f1_micro', n_jobs=-1)\n",
        "\n",
        "estimator_knn.fit(x_train,y_train)\n",
        "new_predictions['knn'] = estimator_knn.predict(x_test)\n",
        "\n",
        "new_accuracies['knn'] = estimator_knn.score(x_test,y_test)\n",
        "\n",
        "print(\"\\nf1-micro average of Knn Classifier:\",f1_score(y_test,new_predictions['knn'], average='micro'))\n",
        "print(\"\\nf1-macro average of Knn Classifier:\",f1_score(y_test,new_predictions['knn'], average='macro'))\n",
        "print()\n",
        "print(\"\\nConfusion Matrix of Knn:\\n\",confusion_matrix(y_test,new_predictions['knn']))\n",
        "\n",
        "\n",
        "print(classification_report(y_test, new_predictions['knn']))\n",
        "print(estimator_knn.best_estimator_)\n",
        "print(estimator_knn.best_params_)"
      ],
      "execution_count": null,
      "outputs": [
        {
          "output_type": "stream",
          "text": [
            "\n",
            "f1-micro average of Knn Classifier: 0.8000000000000002\n",
            "\n",
            "f1-macro average of Knn Classifier: 0.784688995215311\n",
            "\n",
            "\n",
            "Confusion Matrix of Knn:\n",
            " [[8 1]\n",
            " [2 4]]\n",
            "              precision    recall  f1-score   support\n",
            "\n",
            "           0       0.80      0.89      0.84         9\n",
            "           1       0.80      0.67      0.73         6\n",
            "\n",
            "    accuracy                           0.80        15\n",
            "   macro avg       0.80      0.78      0.78        15\n",
            "weighted avg       0.80      0.80      0.80        15\n",
            "\n",
            "Pipeline(steps=[('selector', VarianceThreshold(threshold=0)),\n",
            "                ('scaler', StandardScaler()), ('sampler', RandomOverSampler()),\n",
            "                ('pca', PCA(n_components=1)),\n",
            "                ('kNN', KNeighborsClassifier(n_jobs=-1, n_neighbors=46))])\n",
            "{'kNN__n_neighbors': 46, 'pca__n_components': 1, 'selector__threshold': 0}\n"
          ],
          "name": "stdout"
        }
      ]
    },
    {
      "cell_type": "code",
      "metadata": {
        "colab": {
          "base_uri": "https://localhost:8080/"
        },
        "id": "VJLNLAxUPcWg",
        "outputId": "bb71662a-a044-4465-91c3-34c6c01ab26d"
      },
      "source": [
        "#dokimazontas xwris pca \n",
        "\n",
        "pipe = Pipeline(steps=[('selector', selector), ('scaler',sscaler),('sampler', ros), ('kNN', clf)])\n",
        "\n",
        "estimator_knn = GridSearchCV(pipe, dict(selector__threshold=vthreshold, kNN__n_neighbors=k), cv=10, scoring='f1_micro', n_jobs=-1)\n",
        "estimator_knn.fit(x_train,y_train)\n",
        "new_predictions['knn'] = estimator_knn.predict(x_test)\n",
        "\n",
        "new_accuracies['knn'] = estimator_knn.score(x_test,y_test)\n",
        "\n",
        "print(\"\\nf1-micro average of Knn Classifier:\",f1_score(y_test,new_predictions['knn'], average='micro'))\n",
        "print(\"\\nf1-macro average of Knn Classifier:\",f1_score(y_test,new_predictions['knn'], average='macro'))\n",
        "print()\n",
        "print(\"\\nConfusion Matrix of Knn:\\n\",confusion_matrix(y_test,new_predictions['knn']))\n",
        "\n",
        "\n",
        "print(classification_report(y_test, new_predictions['knn']))\n",
        "print(estimator_knn.best_estimator_)\n",
        "print(estimator_knn.best_params_)\n"
      ],
      "execution_count": null,
      "outputs": [
        {
          "output_type": "stream",
          "text": [
            "\n",
            "f1-micro average of Knn Classifier: 0.8666666666666667\n",
            "\n",
            "f1-macro average of Knn Classifier: 0.8611111111111112\n",
            "\n",
            "\n",
            "Confusion Matrix of Knn:\n",
            " [[8 1]\n",
            " [1 5]]\n",
            "              precision    recall  f1-score   support\n",
            "\n",
            "           0       0.89      0.89      0.89         9\n",
            "           1       0.83      0.83      0.83         6\n",
            "\n",
            "    accuracy                           0.87        15\n",
            "   macro avg       0.86      0.86      0.86        15\n",
            "weighted avg       0.87      0.87      0.87        15\n",
            "\n",
            "Pipeline(steps=[('selector', VarianceThreshold(threshold=0)),\n",
            "                ('scaler', StandardScaler()), ('sampler', RandomOverSampler()),\n",
            "                ('kNN', KNeighborsClassifier(n_jobs=-1, n_neighbors=41))])\n",
            "{'kNN__n_neighbors': 41, 'selector__threshold': 0}\n"
          ],
          "name": "stdout"
        }
      ]
    },
    {
      "cell_type": "code",
      "metadata": {
        "colab": {
          "base_uri": "https://localhost:8080/"
        },
        "id": "AbSYAo5IQIEa",
        "outputId": "4d305da8-9de4-47d6-83ea-4a3dd5cd8841"
      },
      "source": [
        "#Without scaler and pca\n",
        "\n",
        "pipe = Pipeline(steps=[('selector', selector), ('sampler', ros), ('kNN', clf)])\n",
        "\n",
        "estimator_knn = GridSearchCV(pipe, dict(selector__threshold=vthreshold, kNN__n_neighbors=k), cv=10, scoring='f1_micro', n_jobs=-1)\n",
        "estimator_knn.fit(x_train,y_train)\n",
        "new_predictions['knn'] = estimator_knn.predict(x_test)\n",
        "\n",
        "new_accuracies['knn'] = estimator_knn.score(x_test,y_test)\n",
        "\n",
        "print(\"\\nf1-micro average of Knn Classifier:\",f1_score(y_test,new_predictions['knn'], average='micro'))\n",
        "print(\"\\nf1-macro average of Knn Classifier:\",f1_score(y_test,new_predictions['knn'], average='macro'))\n",
        "print()\n",
        "print(\"\\nConfusion Matrix of Knn:\\n\",confusion_matrix(y_test,new_predictions['knn']))\n",
        "\n",
        "\n",
        "print(classification_report(y_test, new_predictions['knn']))\n",
        "print(estimator_knn.best_estimator_)\n",
        "print(estimator_knn.best_params_)\n",
        "\n"
      ],
      "execution_count": null,
      "outputs": [
        {
          "output_type": "stream",
          "text": [
            "\n",
            "f1-micro average of Knn Classifier: 0.8000000000000002\n",
            "\n",
            "f1-macro average of Knn Classifier: 0.784688995215311\n",
            "\n",
            "\n",
            "Confusion Matrix of Knn:\n",
            " [[8 1]\n",
            " [2 4]]\n",
            "              precision    recall  f1-score   support\n",
            "\n",
            "           0       0.80      0.89      0.84         9\n",
            "           1       0.80      0.67      0.73         6\n",
            "\n",
            "    accuracy                           0.80        15\n",
            "   macro avg       0.80      0.78      0.78        15\n",
            "weighted avg       0.80      0.80      0.80        15\n",
            "\n",
            "Pipeline(steps=[('selector', VarianceThreshold(threshold=0)),\n",
            "                ('sampler', RandomOverSampler()),\n",
            "                ('kNN', KNeighborsClassifier(n_jobs=-1, n_neighbors=41))])\n",
            "{'kNN__n_neighbors': 41, 'selector__threshold': 0}\n"
          ],
          "name": "stdout"
        }
      ]
    },
    {
      "cell_type": "code",
      "metadata": {
        "colab": {
          "base_uri": "https://localhost:8080/"
        },
        "id": "su6_pA3qQ8L9",
        "outputId": "49161f5a-eaf8-4c7e-892f-d26df83b9cbf"
      },
      "source": [
        "#vlepoyme pws exoyme kalytera apotelesmata xwris pca kai me scaler \n",
        "#twra tha dokimasoyme xwris sampler\n",
        "\n",
        "\n",
        "pipe = Pipeline(steps=[('selector', selector), ('scaler',sscaler), ('kNN', clf)])\n",
        "\n",
        "estimator_knn = GridSearchCV(pipe, dict(selector__threshold=vthreshold, kNN__n_neighbors=k), cv=10, scoring='f1_micro', n_jobs=-1)\n",
        "\n",
        "estimator_knn.fit(x_train,y_train)\n",
        "new_predictions['knn'] = estimator_knn.predict(x_test)\n",
        "\n",
        "new_accuracies['knn'] = estimator_knn.score(x_test,y_test)\n",
        "\n",
        "print(\"\\nf1-micro average of Knn Classifier:\",f1_score(y_test,new_predictions['knn'], average='micro'))\n",
        "print(\"\\nf1-macro average of Knn Classifier:\",f1_score(y_test,new_predictions['knn'], average='macro'))\n",
        "print()\n",
        "print(\"\\nConfusion Matrix of Knn:\\n\",confusion_matrix(y_test,new_predictions['knn']))\n",
        "\n",
        "\n",
        "print(classification_report(y_test, new_predictions['knn']))\n",
        "print(estimator_knn.best_estimator_)\n",
        "print(estimator_knn.best_params_)"
      ],
      "execution_count": null,
      "outputs": [
        {
          "output_type": "stream",
          "text": [
            "\n",
            "f1-micro average of Knn Classifier: 0.7333333333333333\n",
            "\n",
            "f1-macro average of Knn Classifier: 0.6590909090909091\n",
            "\n",
            "\n",
            "Confusion Matrix of Knn:\n",
            " [[9 0]\n",
            " [4 2]]\n",
            "              precision    recall  f1-score   support\n",
            "\n",
            "           0       0.69      1.00      0.82         9\n",
            "           1       1.00      0.33      0.50         6\n",
            "\n",
            "    accuracy                           0.73        15\n",
            "   macro avg       0.85      0.67      0.66        15\n",
            "weighted avg       0.82      0.73      0.69        15\n",
            "\n",
            "Pipeline(steps=[('selector', VarianceThreshold(threshold=0.5)),\n",
            "                ('scaler', StandardScaler()),\n",
            "                ('kNN', KNeighborsClassifier(n_jobs=-1, n_neighbors=6))])\n",
            "{'kNN__n_neighbors': 6, 'selector__threshold': 0.5}\n"
          ],
          "name": "stdout"
        }
      ]
    },
    {
      "cell_type": "markdown",
      "metadata": {
        "id": "7ePw9ekZRRlm"
      },
      "source": [
        "Παρατηρούμε πως καλύτερη απόδοση είχαμε στην περίπτωση pipe = Pipeline(steps=[('selector', selector), ('scaler',sscaler),('sampler', ros), ('kNN', clf)]) στην οποια θα αναζητησουμε και τις καλύτερες μεταβλητές."
      ]
    },
    {
      "cell_type": "code",
      "metadata": {
        "colab": {
          "base_uri": "https://localhost:8080/"
        },
        "id": "2cWM10ZMRsG9",
        "outputId": "38c89964-0373-474b-b713-918763c5b759"
      },
      "source": [
        "vthreshold = [0] \n",
        "k = np.arange(17,26,1)\n",
        "\n",
        "pipe = Pipeline(steps=[ ('selector',selector),('scaler',sscaler),('sampler', ros), ('kNN', clf)])\n",
        "\n",
        "estimator_knn = GridSearchCV(pipe, dict( selector__threshold=vthreshold, kNN__n_neighbors=k), cv=10, scoring='f1_micro', n_jobs=-1)\n",
        "\n",
        "estimator_knn.fit(x_train,y_train)\n",
        "new_predictions['knn'] = estimator_knn.predict(x_test)\n",
        "\n",
        "new_accuracies['knn'] = estimator_knn.score(x_test,y_test)\n",
        "\n",
        "print(\"\\nf1-micro average of Knn Classifier:\",f1_score(y_test,new_predictions['knn'], average='micro'))\n",
        "print(\"\\nf1-macro average of Knn Classifier:\",f1_score(y_test,new_predictions['knn'], average='macro'))\n",
        "print()\n",
        "print(\"\\nConfusion Matrix of Knn:\\n\",confusion_matrix(y_test,new_predictions['knn']))\n",
        "\n",
        "\n",
        "print(classification_report(y_test, new_predictions['knn']))\n",
        "print(estimator_knn.best_estimator_)\n",
        "print(estimator_knn.best_params_)"
      ],
      "execution_count": null,
      "outputs": [
        {
          "output_type": "stream",
          "text": [
            "\n",
            "f1-micro average of Knn Classifier: 0.8666666666666667\n",
            "\n",
            "f1-macro average of Knn Classifier: 0.8500000000000001\n",
            "\n",
            "\n",
            "Confusion Matrix of Knn:\n",
            " [[9 0]\n",
            " [2 4]]\n",
            "              precision    recall  f1-score   support\n",
            "\n",
            "           0       0.82      1.00      0.90         9\n",
            "           1       1.00      0.67      0.80         6\n",
            "\n",
            "    accuracy                           0.87        15\n",
            "   macro avg       0.91      0.83      0.85        15\n",
            "weighted avg       0.89      0.87      0.86        15\n",
            "\n",
            "Pipeline(steps=[('selector', VarianceThreshold(threshold=0)),\n",
            "                ('scaler', StandardScaler()), ('sampler', RandomOverSampler()),\n",
            "                ('kNN', KNeighborsClassifier(n_jobs=-1, n_neighbors=22))])\n",
            "{'kNN__n_neighbors': 22, 'selector__threshold': 0}\n"
          ],
          "name": "stdout"
        }
      ]
    },
    {
      "cell_type": "markdown",
      "metadata": {
        "id": "Gn0gtNyLkCLF"
      },
      "source": [
        "Οι παραπάνω τιμές για τις μεταβλητές μας επιλέχθηκαν ύστερα από αναζήτηση σε αρχικά μεγάλο διάστημα τιμών και στη συνέχεια περιορισμό του.\n",
        "Έχοντας βρει τις βέλτιστες τιμές θα προχωρήσουμε στην εκπαίδευση του ταξινομητή."
      ]
    },
    {
      "cell_type": "code",
      "metadata": {
        "id": "xx4ZgK7zXwjR",
        "colab": {
          "base_uri": "https://localhost:8080/"
        },
        "outputId": "2848326c-b623-4f7b-fb60-c7ce7459072e"
      },
      "source": [
        "#Fit\n",
        "\n",
        "pipe = Pipeline(steps=[('selector', VarianceThreshold(threshold=0)),\n",
        "                ('scaler', StandardScaler()), ('sampler', RandomOverSampler()),\n",
        "                ('kNN', KNeighborsClassifier(n_jobs=-1, n_neighbors=22))])\n",
        "{'kNN__n_neighbors': 22, 'selector__threshold': 0}\n",
        "\n",
        "start_time = time.time()\n",
        "pipe.fit(x_train,y_train)\n",
        "fit_times['knn'] = time.time()-start_time\n",
        "\n",
        "start_time = time.time()\n",
        "new_predictions['knn'] = pipe.predict(x_test)\n",
        "pred_times['knn'] = time.time()-start_time\n",
        "\n",
        "new_accuracies['knn'] = pipe.score(x_test,y_test)\n",
        "\n",
        "print(\"\\nf1-micro average of Knn Classifier:\",f1_score(y_test,new_predictions['knn'], average='micro'))\n",
        "print(\"\\nf1-macro average of Knn Classifier:\",f1_score(y_test,new_predictions['knn'], average='macro'))\n",
        "print()\n",
        "print(\"\\nConfusion Matrix of Knn:\\n\",confusion_matrix(y_test,new_predictions['knn']))\n",
        "print(\"\\nClassification Report of Knn:\\n\",classification_report(y_test,new_predictions['knn']))\n",
        "print(\"\\nFit time:\\n\",fit_times['knn'])\n",
        "print(\"\\nPrediction time:\\n\",pred_times['knn'],\"\\n\")\n",
        "\n"
      ],
      "execution_count": null,
      "outputs": [
        {
          "output_type": "stream",
          "text": [
            "\n",
            "f1-micro average of Knn Classifier: 0.8666666666666667\n",
            "\n",
            "f1-macro average of Knn Classifier: 0.8500000000000001\n",
            "\n",
            "\n",
            "Confusion Matrix of Knn:\n",
            " [[9 0]\n",
            " [2 4]]\n",
            "\n",
            "Classification Report of Knn:\n",
            "               precision    recall  f1-score   support\n",
            "\n",
            "           0       0.82      1.00      0.90         9\n",
            "           1       1.00      0.67      0.80         6\n",
            "\n",
            "    accuracy                           0.87        15\n",
            "   macro avg       0.91      0.83      0.85        15\n",
            "weighted avg       0.89      0.87      0.86        15\n",
            "\n",
            "\n",
            "Fit time:\n",
            " 0.0031828880310058594\n",
            "\n",
            "Prediction time:\n",
            " 0.10330748558044434 \n",
            "\n"
          ],
          "name": "stdout"
        }
      ]
    },
    {
      "cell_type": "markdown",
      "metadata": {
        "id": "TITKT-rgoH5k"
      },
      "source": [
        "### Optimize GNB"
      ]
    },
    {
      "cell_type": "markdown",
      "metadata": {
        "id": "2OucVQTLF8Ni"
      },
      "source": [
        "Για τον Gaussian Naive Bayes δεν έχουμε υπερπαραμέτρους να βελτιστοποιήσουμε, παρόλα αυτά θα χρησιμοποιήσουμε cross validation για να βρούμε τις κατάλληλες παραμετρους του που τον βελτιστοποιούν."
      ]
    },
    {
      "cell_type": "code",
      "metadata": {
        "colab": {
          "base_uri": "https://localhost:8080/"
        },
        "id": "oiwTzE3_oFtl",
        "outputId": "769c5433-4133-492c-874d-cdde13fd00f6"
      },
      "source": [
        "#Arxika tha doyme kai me ta 4 processing\n",
        "selector = VarianceThreshold() \n",
        "scaler = StandardScaler()\n",
        "ros = RandomOverSampler()\n",
        "pca = PCA()\n",
        "clf = GaussianNB() \n",
        "\n",
        "vthreshold = [0, 0.5, 0.9, 1] \n",
        "n_components = np.arange(1,10,1) #gia pca\n",
        "\n",
        "pipe = Pipeline(steps=[('selector', selector), ('scaler',sscaler),('sampler', ros), ('pca', pca), ('gnb', clf)])\n",
        "estimator_gnb = GridSearchCV(pipe, dict(selector__threshold=vthreshold, pca__n_components=n_components), cv=10, scoring='f1_micro', n_jobs=-1)\n",
        "\n",
        "\n",
        "estimator_gnb.fit(x_train,y_train)\n",
        "\n",
        "new_predictions['GNB'] = estimator_gnb.predict(x_test)\n",
        "\n",
        "new_accuracies['GNB'] = estimator_gnb.score(x_test,y_test)\n",
        "\n",
        "print(\"\\nf1-micro average of GNB Classifier:\",f1_score(y_test,new_predictions['GNB'], average='micro'))\n",
        "print(\"\\nf1-macro average of GNB Classifier:\",f1_score(y_test,new_predictions['GNB'], average='macro'))\n",
        "print()\n",
        "print(\"\\nConfusion Matrix of Gaussian NB:\\n\",confusion_matrix(y_test,new_predictions['GNB']))\n",
        "print(\"\\nClassification Report of Gaussian NB:\\n\",classification_report(y_test,new_predictions['GNB']))\n",
        "\n",
        "\n",
        "print(estimator_gnb.best_estimator_)\n",
        "print(estimator_gnb.best_params_)\n"
      ],
      "execution_count": null,
      "outputs": [
        {
          "output_type": "stream",
          "text": [
            "\n",
            "f1-micro average of GNB Classifier: 0.8666666666666667\n",
            "\n",
            "f1-macro average of GNB Classifier: 0.8611111111111112\n",
            "\n",
            "\n",
            "Confusion Matrix of Gaussian NB:\n",
            " [[8 1]\n",
            " [1 5]]\n",
            "\n",
            "Classification Report of Gaussian NB:\n",
            "               precision    recall  f1-score   support\n",
            "\n",
            "           0       0.89      0.89      0.89         9\n",
            "           1       0.83      0.83      0.83         6\n",
            "\n",
            "    accuracy                           0.87        15\n",
            "   macro avg       0.86      0.86      0.86        15\n",
            "weighted avg       0.87      0.87      0.87        15\n",
            "\n",
            "Pipeline(steps=[('selector', VarianceThreshold(threshold=1)),\n",
            "                ('scaler', StandardScaler()), ('sampler', RandomOverSampler()),\n",
            "                ('pca', PCA(n_components=2)), ('gnb', GaussianNB())])\n",
            "{'pca__n_components': 2, 'selector__threshold': 1}\n"
          ],
          "name": "stdout"
        }
      ]
    },
    {
      "cell_type": "code",
      "metadata": {
        "colab": {
          "base_uri": "https://localhost:8080/"
        },
        "id": "eyPeDphYiP8d",
        "outputId": "2fec4cf6-0afa-496c-9b24-2adb3e9019a0"
      },
      "source": [
        "#Without pca \n",
        "\n",
        "pipe = Pipeline(steps=[('selector', selector), ('scaler',sscaler),('sampler', ros),  ('gnb', clf)])\n",
        "estimator_gnb = GridSearchCV(pipe, dict(selector__threshold=vthreshold), cv=10, scoring='f1_micro', n_jobs=-1)\n",
        "\n",
        "\n",
        "estimator_gnb.fit(x_train,y_train)\n",
        "\n",
        "new_predictions['GNB'] = estimator_gnb.predict(x_test)\n",
        "\n",
        "new_accuracies['GNB'] = estimator_gnb.score(x_test,y_test)\n",
        "\n",
        "print(\"\\nf1-micro average of GNB Classifier:\",f1_score(y_test,new_predictions['GNB'], average='micro'))\n",
        "print(\"\\nf1-macro average of GNB Classifier:\",f1_score(y_test,new_predictions['GNB'], average='macro'))\n",
        "print()\n",
        "print(\"\\nConfusion Matrix of Gaussian NB:\\n\",confusion_matrix(y_test,new_predictions['GNB']))\n",
        "print(\"\\nClassification Report of Gaussian NB:\\n\",classification_report(y_test,new_predictions['GNB']))\n",
        "\n",
        "\n",
        "print(estimator_gnb.best_estimator_)\n",
        "print(estimator_gnb.best_params_)\n"
      ],
      "execution_count": null,
      "outputs": [
        {
          "output_type": "stream",
          "text": [
            "\n",
            "f1-micro average of GNB Classifier: 0.8000000000000002\n",
            "\n",
            "f1-macro average of GNB Classifier: 0.784688995215311\n",
            "\n",
            "\n",
            "Confusion Matrix of Gaussian NB:\n",
            " [[8 1]\n",
            " [2 4]]\n",
            "\n",
            "Classification Report of Gaussian NB:\n",
            "               precision    recall  f1-score   support\n",
            "\n",
            "           0       0.80      0.89      0.84         9\n",
            "           1       0.80      0.67      0.73         6\n",
            "\n",
            "    accuracy                           0.80        15\n",
            "   macro avg       0.80      0.78      0.78        15\n",
            "weighted avg       0.80      0.80      0.80        15\n",
            "\n",
            "Pipeline(steps=[('selector', VarianceThreshold(threshold=0.9)),\n",
            "                ('scaler', StandardScaler()), ('sampler', RandomOverSampler()),\n",
            "                ('gnb', GaussianNB())])\n",
            "{'selector__threshold': 0.9}\n"
          ],
          "name": "stdout"
        }
      ]
    },
    {
      "cell_type": "code",
      "metadata": {
        "colab": {
          "base_uri": "https://localhost:8080/"
        },
        "id": "Ykys-2K9itTm",
        "outputId": "a68f04f9-177a-48af-b50e-a54d29ea866b"
      },
      "source": [
        "#With pca, without scaler\n",
        "\n",
        "pipe = Pipeline(steps=[('selector', selector), ('sampler', ros), ('pca', pca), ('gnb', clf)])\n",
        "estimator_gnb = GridSearchCV(pipe, dict(selector__threshold=vthreshold, pca__n_components=n_components), cv=10, scoring='f1_micro', n_jobs=-1)\n",
        "\n",
        "\n",
        "estimator_gnb.fit(x_train,y_train)\n",
        "\n",
        "new_predictions['GNB'] = estimator_gnb.predict(x_test)\n",
        "\n",
        "new_accuracies['GNB'] = estimator_gnb.score(x_test,y_test)\n",
        "\n",
        "print(\"\\nf1-micro average of GNB Classifier:\",f1_score(y_test,new_predictions['GNB'], average='micro'))\n",
        "print(\"\\nf1-macro average of GNB Classifier:\",f1_score(y_test,new_predictions['GNB'], average='macro'))\n",
        "print()\n",
        "print(\"\\nConfusion Matrix of Gaussian NB:\\n\",confusion_matrix(y_test,new_predictions['GNB']))\n",
        "print(\"\\nClassification Report of Gaussian NB:\\n\",classification_report(y_test,new_predictions['GNB']))\n",
        "\n",
        "\n",
        "print(estimator_gnb.best_estimator_)\n",
        "print(estimator_gnb.best_params_)\n"
      ],
      "execution_count": null,
      "outputs": [
        {
          "output_type": "stream",
          "text": [
            "\n",
            "f1-micro average of GNB Classifier: 0.8000000000000002\n",
            "\n",
            "f1-macro average of GNB Classifier: 0.7963800904977376\n",
            "\n",
            "\n",
            "Confusion Matrix of Gaussian NB:\n",
            " [[7 2]\n",
            " [1 5]]\n",
            "\n",
            "Classification Report of Gaussian NB:\n",
            "               precision    recall  f1-score   support\n",
            "\n",
            "           0       0.88      0.78      0.82         9\n",
            "           1       0.71      0.83      0.77         6\n",
            "\n",
            "    accuracy                           0.80        15\n",
            "   macro avg       0.79      0.81      0.80        15\n",
            "weighted avg       0.81      0.80      0.80        15\n",
            "\n",
            "Pipeline(steps=[('selector', VarianceThreshold(threshold=0)),\n",
            "                ('sampler', RandomOverSampler()), ('pca', PCA(n_components=3)),\n",
            "                ('gnb', GaussianNB())])\n",
            "{'pca__n_components': 3, 'selector__threshold': 0}\n"
          ],
          "name": "stdout"
        }
      ]
    },
    {
      "cell_type": "code",
      "metadata": {
        "colab": {
          "base_uri": "https://localhost:8080/"
        },
        "id": "JXJxe45Vi9Oo",
        "outputId": "27a22779-4cc3-4e03-9409-a4fa7a829239"
      },
      "source": [
        "#without sampler\n",
        "\n",
        "pipe = Pipeline(steps=[('selector', selector), ('scaler',sscaler), ('pca', pca), ('gnb', clf)])\n",
        "estimator_gnb = GridSearchCV(pipe, dict(selector__threshold=vthreshold, pca__n_components=n_components), cv=10, scoring='f1_micro', n_jobs=-1)\n",
        "\n",
        "\n",
        "estimator_gnb.fit(x_train,y_train)\n",
        "\n",
        "new_predictions['GNB'] = estimator_gnb.predict(x_test)\n",
        "\n",
        "new_accuracies['GNB'] = estimator_gnb.score(x_test,y_test)\n",
        "\n",
        "print(\"\\nf1-micro average of GNB Classifier:\",f1_score(y_test,new_predictions['GNB'], average='micro'))\n",
        "print(\"\\nf1-macro average of GNB Classifier:\",f1_score(y_test,new_predictions['GNB'], average='macro'))\n",
        "print()\n",
        "print(\"\\nConfusion Matrix of Gaussian NB:\\n\",confusion_matrix(y_test,new_predictions['GNB']))\n",
        "print(\"\\nClassification Report of Gaussian NB:\\n\",classification_report(y_test,new_predictions['GNB']))\n",
        "\n",
        "\n",
        "print(estimator_gnb.best_estimator_)\n",
        "print(estimator_gnb.best_params_)\n"
      ],
      "execution_count": null,
      "outputs": [
        {
          "output_type": "stream",
          "text": [
            "\n",
            "f1-micro average of GNB Classifier: 0.7333333333333333\n",
            "\n",
            "f1-macro average of GNB Classifier: 0.7\n",
            "\n",
            "\n",
            "Confusion Matrix of Gaussian NB:\n",
            " [[8 1]\n",
            " [3 3]]\n",
            "\n",
            "Classification Report of Gaussian NB:\n",
            "               precision    recall  f1-score   support\n",
            "\n",
            "           0       0.73      0.89      0.80         9\n",
            "           1       0.75      0.50      0.60         6\n",
            "\n",
            "    accuracy                           0.73        15\n",
            "   macro avg       0.74      0.69      0.70        15\n",
            "weighted avg       0.74      0.73      0.72        15\n",
            "\n",
            "Pipeline(steps=[('selector', VarianceThreshold(threshold=0)),\n",
            "                ('scaler', StandardScaler()), ('pca', PCA(n_components=1)),\n",
            "                ('gnb', GaussianNB())])\n",
            "{'pca__n_components': 1, 'selector__threshold': 0}\n"
          ],
          "name": "stdout"
        }
      ]
    },
    {
      "cell_type": "markdown",
      "metadata": {
        "id": "xEENqRUOjK-q"
      },
      "source": [
        "Βλέπουμε πως η καλύτερη αρχιτεκτονική είναι pipe = Pipeline(steps=[('selector', selector), ('scaler',sscaler),('sampler', ros), ('pca', pca), ('gnb', clf)]). Στη συνέχεια θα μελετήσουμε την τιμή των μεταβλητών."
      ]
    },
    {
      "cell_type": "code",
      "metadata": {
        "colab": {
          "base_uri": "https://localhost:8080/"
        },
        "id": "Pij2FAU5jjpV",
        "outputId": "bbb3d54c-edd3-4bc7-bb89-59a8f69334e2"
      },
      "source": [
        "selector = VarianceThreshold() \n",
        "scaler = StandardScaler()\n",
        "ros = RandomOverSampler()\n",
        "pca = PCA()\n",
        "clf = GaussianNB() \n",
        "\n",
        "vthreshold = [0.5,1] \n",
        "n_components = np.arange(1,3,1) #gia pca\n",
        "\n",
        "pipe = Pipeline(steps=[('selector', selector), ('scaler',sscaler),('sampler', ros), ('pca', pca), ('gnb', clf)])\n",
        "estimator_gnb = GridSearchCV(pipe, dict(selector__threshold=vthreshold, pca__n_components=n_components), cv=10, scoring='f1_micro', n_jobs=-1)\n",
        "\n",
        "\n",
        "estimator_gnb.fit(x_train,y_train)\n",
        "\n",
        "new_predictions['GNB'] = estimator_gnb.predict(x_test)\n",
        "\n",
        "new_accuracies['GNB'] = estimator_gnb.score(x_test,y_test)\n",
        "\n",
        "print(\"\\nf1-micro average of GNB Classifier:\",f1_score(y_test,new_predictions['GNB'], average='micro'))\n",
        "print(\"\\nf1-macro average of GNB Classifier:\",f1_score(y_test,new_predictions['GNB'], average='macro'))\n",
        "print()\n",
        "print(\"\\nConfusion Matrix of Gaussian NB:\\n\",confusion_matrix(y_test,new_predictions['GNB']))\n",
        "print(\"\\nClassification Report of Gaussian NB:\\n\",classification_report(y_test,new_predictions['GNB']))\n",
        "\n",
        "\n",
        "print(estimator_gnb.best_estimator_)\n",
        "print(estimator_gnb.best_params_)\n"
      ],
      "execution_count": null,
      "outputs": [
        {
          "output_type": "stream",
          "text": [
            "\n",
            "f1-micro average of GNB Classifier: 0.8000000000000002\n",
            "\n",
            "f1-macro average of GNB Classifier: 0.784688995215311\n",
            "\n",
            "\n",
            "Confusion Matrix of Gaussian NB:\n",
            " [[8 1]\n",
            " [2 4]]\n",
            "\n",
            "Classification Report of Gaussian NB:\n",
            "               precision    recall  f1-score   support\n",
            "\n",
            "           0       0.80      0.89      0.84         9\n",
            "           1       0.80      0.67      0.73         6\n",
            "\n",
            "    accuracy                           0.80        15\n",
            "   macro avg       0.80      0.78      0.78        15\n",
            "weighted avg       0.80      0.80      0.80        15\n",
            "\n",
            "Pipeline(steps=[('selector', VarianceThreshold(threshold=1)),\n",
            "                ('scaler', StandardScaler()), ('sampler', RandomOverSampler()),\n",
            "                ('pca', PCA(n_components=2)), ('gnb', GaussianNB())])\n",
            "{'pca__n_components': 2, 'selector__threshold': 1}\n"
          ],
          "name": "stdout"
        }
      ]
    },
    {
      "cell_type": "code",
      "metadata": {
        "colab": {
          "base_uri": "https://localhost:8080/"
        },
        "id": "GpSrhj-jj_u1",
        "outputId": "b0841dc7-1d1f-41d0-c8d0-f4f012937c13"
      },
      "source": [
        "#Final fit\n",
        "\n",
        "pipe = Pipeline(steps=[('selector', VarianceThreshold(threshold=1)),\n",
        "                ('scaler', StandardScaler()), ('sampler', RandomOverSampler()),\n",
        "                ('pca', PCA(n_components=1)), ('gnb', GaussianNB())])\n",
        "{'pca__n_components': 1, 'selector__threshold': 1}\n",
        "\n",
        "start_time = time.time()\n",
        "pipe.fit(x_train,y_train)\n",
        "fit_times['GNB'] = time.time()-start_time\n",
        "\n",
        "start_time = time.time()\n",
        "new_predictions['GNB'] = pipe.predict(x_test)\n",
        "pred_times['GNB'] = time.time()-start_time\n",
        "\n",
        "new_accuracies['GNB'] = pipe.score(x_test,y_test)\n",
        "\n",
        "print(\"\\nf1-micro average of GNB Classifier:\",f1_score(y_test,new_predictions['GNB'], average='micro'))\n",
        "print(\"\\nf1-macro average of GNB Classifier:\",f1_score(y_test,new_predictions['GNB'], average='macro'))\n",
        "print()\n",
        "print(\"\\nConfusion Matrix of GNB:\\n\",confusion_matrix(y_test,new_predictions['GNB']))\n",
        "print(\"\\nClassification Report of GNB:\\n\",classification_report(y_test,new_predictions['GNB']))\n",
        "print(\"\\nFit time:\\n\",fit_times['GNB'])\n",
        "print(\"\\nPrediction time:\\n\",pred_times['GNB'],\"\\n\")\n",
        "\n",
        "\n",
        "\n",
        "\n",
        "\n"
      ],
      "execution_count": null,
      "outputs": [
        {
          "output_type": "stream",
          "text": [
            "\n",
            "f1-micro average of GNB Classifier: 0.8000000000000002\n",
            "\n",
            "f1-macro average of GNB Classifier: 0.7619047619047619\n",
            "\n",
            "\n",
            "Confusion Matrix of GNB:\n",
            " [[9 0]\n",
            " [3 3]]\n",
            "\n",
            "Classification Report of GNB:\n",
            "               precision    recall  f1-score   support\n",
            "\n",
            "           0       0.75      1.00      0.86         9\n",
            "           1       1.00      0.50      0.67         6\n",
            "\n",
            "    accuracy                           0.80        15\n",
            "   macro avg       0.88      0.75      0.76        15\n",
            "weighted avg       0.85      0.80      0.78        15\n",
            "\n",
            "\n",
            "Fit time:\n",
            " 0.0041234493255615234\n",
            "\n",
            "Prediction time:\n",
            " 0.0006663799285888672 \n",
            "\n"
          ],
          "name": "stdout"
        }
      ]
    },
    {
      "cell_type": "markdown",
      "metadata": {
        "id": "DtN2L0213agi"
      },
      "source": [
        "### Plot for F1"
      ]
    },
    {
      "cell_type": "code",
      "metadata": {
        "colab": {
          "base_uri": "https://localhost:8080/",
          "height": 297
        },
        "id": "mjQ1zqhxp5s7",
        "outputId": "dc5a7022-86ee-4215-e5ac-4ab5cc576386"
      },
      "source": [
        "f1_macros, f1_micros, labels = [],[],[]\n",
        "for clf in new_predictions:  \n",
        "    f1_micros.append(f1_score(y_test,new_predictions[clf],average='micro'))\n",
        "    f1_macros.append(f1_score(y_test,new_predictions[clf],average='macro'))\n",
        "    labels.append(clf)\n",
        "\n",
        "x = np.arange(len(labels))\n",
        "width = 0.25\n",
        "\n",
        "fig, ax = plt.subplots()\n",
        "rects1 = ax.bar(x - width/2, f1_micros, width, label='f1_micros')\n",
        "rects2 = ax.bar(x + width/2, f1_macros, width, label='f1_macros')\n",
        "\n",
        "ax.set_ylabel('Scores')\n",
        "ax.set_title('Performance Comparison on F1-Score')\n",
        "ax.set_xticks(x)\n",
        "ax.set_xticklabels(labels)\n",
        "ax.legend()\n",
        "\n",
        "fig.tight_layout()\n",
        "plt.show()\n",
        "\n"
      ],
      "execution_count": null,
      "outputs": [
        {
          "output_type": "display_data",
          "data": {
            "image/png": "[encoded data removed]",
            "text/plain": [
              "<Figure size 432x288 with 1 Axes>"
            ]
          },
          "metadata": {
            "tags": [],
            "needs_background": "light"
          }
        }
      ]
    },
    {
      "cell_type": "markdown",
      "metadata": {
        "id": "eKk5XSW53J7F"
      },
      "source": [
        "### Compare Accuracies before/after optimization"
      ]
    },
    {
      "cell_type": "code",
      "metadata": {
        "colab": {
          "base_uri": "https://localhost:8080/"
        },
        "id": "Vu3HoVtxm9PO",
        "outputId": "7523fb28-f440-466b-953a-dd1551f7a0df"
      },
      "source": [
        "perf = pd.DataFrame(columns=['f1-micro before', 'f1-micro after', 'f1-macro before', 'f1-macro-after'])\n",
        "\n",
        "for clf in new_predictions: \n",
        "  perf.loc[clf, 'f1-micro before'] = f1_score(y_test,predictions[clf],average='micro')\n",
        "  perf.loc[clf, 'f1-micro after'] = f1_score(y_test,new_predictions[clf],average='micro')\n",
        "  perf.loc[clf, 'f1-macro before'] =f1_score(y_test,predictions[clf],average='macro')\n",
        "  perf.loc[clf, 'f1-macro-after'] = f1_score(y_test,new_predictions[clf],average='macro')\n",
        "\n",
        "pd.set_option('display.max_columns', None)\n",
        "\n",
        "print(perf)"
      ],
      "execution_count": null,
      "outputs": [
        {
          "output_type": "stream",
          "text": [
            "         f1-micro before f1-micro after f1-macro before f1-macro-after\n",
            "uniform              0.2       0.733333        0.196429       0.732143\n",
            "const_0              0.6            0.6           0.375          0.375\n",
            "const_1              0.4            0.4        0.285714       0.285714\n",
            "stratif              0.4       0.466667        0.354067       0.464286\n",
            "frequent             0.6            0.6           0.375          0.375\n",
            "knn             0.733333       0.866667             0.7           0.85\n",
            "GNB                  0.8            0.8        0.784689       0.761905\n"
          ],
          "name": "stdout"
        }
      ]
    },
    {
      "cell_type": "markdown",
      "metadata": {
        "id": "uSmGK0un7XiY"
      },
      "source": [
        "Σχολιασμός \n",
        "\n",
        "Παρατηρούμε πως για τους Dummy Classifiers δεν έχουμε ουσιαστικά καποια βελτιστοποίηση οπώς ήταν αναμενόμενο. Οι διαφορές που προκύπτουν λόγω του oversampling δεν αποδεικνύουν και βελτίωση της απόδοσης. Για τον K-NN βλέέπουμε σημαντική βελτίωση στην απόδοση του ενώ ο Gaussian Naive Bayes παραμένει στα αρχικά επίπεδα παρόλη τη διαδικασία του. Τέλος, οι χρόνοι είναι αρκετά μικροί καθώς τα δεδομένα μας είναι πολύ λίγα και η αρχιτεκτονική που χρησιμοποιήθηκε απλή. "
      ]
    },
    {
      "cell_type": "code",
      "metadata": {
        "id": "jTALUc--qO1f"
      },
      "source": [
        ""
      ],
      "execution_count": null,
      "outputs": []
    }
  ]
}