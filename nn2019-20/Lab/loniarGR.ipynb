    {
     "name": "stdout",
     "output_type": "stream",
     "text": [
      "(5000, 8512)\n"
     ]
    }
   ],
   "source": [
    "vectorizer = TfidfVectorizer(analyzer=stemming_analyzer, max_df=0.5, min_df=5)\n",
    "\n",
    "vectorizer.fit(corpus)\n",
    "corpus_tf_idf = vectorizer.transform(corpus)\n",
    "\n",
    "print(corpus_tf_idf.shape)"
   ]
  },
  {
   "cell_type": "code",
   "execution_count": 38,
   "metadata": {},
   "outputs": [
    {
     "name": "stdout",
     "output_type": "stream",
     "text": [
      "Target Movie\n",
      "Movie ID:  104\n",
      "Movie Title:  ['Dr. Strangelove or: How I Learned to Stop Worrying and Love the Bomb']\n",
      "Movie Description:   United States Air Force Brigadier General Jack D. Ripper  is commander of Burpelson Air Force Base, which houses the SAC B-52 airborne alert bomber force just hours from the Soviet border. Ripper orders his executive officer, Group Captain Lionel Mandrake of the RAF , to put the base on alert, asserting that it is not a drill. The alert is sent to the patrolling aircraft, including one piloted by Aircraft commander Major T. J. \"King\" Kong  and his crew. All the aircraft commence an attack flight on Russia, and lock out unauthorized external communications through the CRM 114 Discriminator. Mandrake discovers that no order for war has been received, and tries to stop Ripper, who locks them both in his office. Ripper reveals to Mandrake that he believes the Soviets have been using fluoridation of United States' water supplies to pollute the \"precious bodily fluids\" of Americans. At The Pentagon, General Buck Turgidson  briefs President Merkin Muffley  in the \"War Room\" along with several other top officers and aides about the attack. Muffley is shocked to learn that such orders could be given without his authorization, although he had OK'ed this in the case of Soviet first-strike attack on Washington D.C. Turgidson reports that his men are trying to cycle through every CRM code to issue the stand-down order but this could take over two days. Muffley orders Turgidson to storm the base and seize Ripper, though Turgidson warns that Ripper may have already alerted his men to this possibility. Gen. Turgidson attempts to convince Muffley to let the attack continue, as their first strike on the Soviets would wipe out the majority of the Soviet missiles, and the little they could retaliate with would only cost a few million American lives. Muffley refuses, and instead brings in the Soviet ambassador Alexei de Sadeski  to get Soviet premier Dimitri Kisov on the \"Hot Line\". The President alerts the Premier to the situation, and authorizes the USSR to fire upon the US planes to stop the attack. After a heated discussion, the ambassador explains that the Soviet Union has created a doomsday device consisting of 50 buried bombs with \"Cobalt Thorium G\" set to detonate should any nuclear attack strike their country; the Soviets had conceived of this after reading a New York Times article claiming the United States was also working on such a device. The President's wheelchair-bound scientific advisor, a sinister German named Dr. Strangelove , considers that this is a ploy, as a secret doomsday device would be an ineffectual deterrent. Sadeski admits they had plans to reveal its existence the following week, as a surprise for the Premier's birthday.  U.S. Army airborne forces arrive at Burpelson, but as predicted, the base's troops consider the troops to be Soviets in disguise and open fire. Despite many casualties, the Army forces eventually overtake the base. Before he can be restrained, Ripper shoots himself. Colonel \"Bat\" Guano  forces his way into Ripper's office. He initially suspects Mandrake of being an enemy, but Mandrake convinces him otherwise. Mandrake has identified the proper recall code for the bombers from Ripper's desk blotter doodles, and SAC is able to contact the bomber planes and send them away from Soviet air space. The War Room celebrates. However, Sadeski reports that of the four planes that the Soviets had believed shot down, they cannot account for one of them - that of Major Kong. Anti-aircraft fire had ruptured the fuel tank and caused the CRM aboard Kong's plane to self-destruct, leaving the crew no way to receive the counter-order. President Muffley gives the plane's original destination to the Soviets, to allow them to concentrate on finding it. However, due to the fuel loss, Major Kong has changed the destination to a closer high-priority target, a ICBM complex at Kodlosk. On approaching the new target, the crew discovers that the bomb release mechanism has been damaged. Major Kong tries to repair the damage, but ends up falling out of the plane along with the bomb; he straddles the bomb and rides it like a rodeo cowboy as it falls and detonates. While discussing the aftereffects of the activation of the doomsday device, Sadeski notes that, within ten months, the surface of the earth will be uninhabitable. Dr. Strangelove recommends that the President gather several hundreds of thousands of people, with a high female-to-male ratio, to live in deep mineshafts in order to escape the radiation, and to then institute a breeding program to allow the United States to repopulate the surface after a hundred years have passed. Gen. Turgidson warns that the Soviets will likely do the same. At this point, Dr. Strangelove suddenly shouts that he has a plan, and miraculously gets up from his wheelchair, takes a few halting steps and shouts, \"Mein Führer! I can walk!\" The film then cuts to a montage of nuclear detonations, accompanied by Vera Lynn's recording of \"We'll Meet Again.\"\n",
      "Movie Categories: ['\"Drama\",  \"Comedy\"']\n",
      "\n",
      "Movie Recommendation # 1\n",
      "Movie ID:  4161\n",
      "Movie Title:  ['Fail-Safe']\n",
      "Movie Description:  The time is the early-to-mid-1960s, the height of the Cold War between the United States and the Soviet Union. An unknown aircraft approaches North America from Europe. American bombers of the Strategic Air Command  are scrambled to their fail safe points near Russia. The bombers have orders not to proceed past their fail safe points without receiving a special attack code. The original \"threat\" is proven to be innocuous and recall orders are issued. However, due to a technical failure, the attack code is transmitted to Group Six, which consists of six Vindicator supersonic bombers and four escort fighters. Colonel Grady, the head of the group, tries to contact Omaha to verify the fail-safe order , but due to Soviet radar jamming, Grady cannot hear Omaha. Concluding that the attack order and the radar jamming could only mean nuclear war, Grady commands Group Six towards Moscow, their intended destination. At meetings in Omaha, the Pentagon, and in the fallout shelter of the White House, American politicians and scholars debate the implications of the attack. Professor Groteschele, who is loosely based on John von Neumann and Herman Kahn, suggests the United States follow this accidental attack with a full-scale attack to force the Soviets to surrender. The President orders the Air Force to send the four escort fighters after the bombers to shoot down the Vindicators. The attempt is to show that the Vindicator attack is an accident, not a full-scale nuclear assault. After using their afterburners in an attempt to catch the bombers the fighters run out of fuel and crash, dooming the pilots to die of exposure in the Arctic Sea. The fighters fail to destroy any bombers. The President of the United States contacts the Soviet premier and offers assistance in attacking the group. The Soviets decline at first; then they decide to accept help. Meanwhile, the Soviet PVO Strany air defense corps has managed to shoot down two of the six planes. After accepting American help they shoot down two more planes. Two bombers remain on course to Moscow. One is a decoy and carries no bombs. The other carries two 20 megaton devices. General Bogan tells Marshal Nevsky, the Soviet commander, to ignore the decoy plane because it is harmless. Nevsky, who mistrusts Bogan, instead orders his Soviet aircraft to pursue the decoy aircraft. The Russian fighters are then out of position to intercept the final American bomber. The decoy's feint guarantees that the remaining bomber can successfully attack. Following the failure, Nevsky collapses. As the bomber approaches Moscow, Colonel Grady opens up the radio to contact SAC to inform them that they are about to make the strike. As a last-minute measure, the Soviets fire a barrage of nuclear-tipped missiles to form a fireball in an attempt to knock the low-flying Vindicator out of the sky. The bomber shoots up two decoy missiles, which successfully leads the Soviet missiles high in the air and Colonel Grady's plane survives. With the radio open, the President attempts to persuade Grady that there is no war. Grady's son also attempts to convince him.  Understanding orders that such a late recall attempt must be a Soviet trick, Grady ignores them. Grady tells his crew that \"We're not just walking wounded, we're walking dead men,\" due to radiation from the Soviet missiles. He intends to fly the aircraft over Moscow and detonate the bombs in the plane. His co-pilot notes, \"There's nothing to go home to.\" Meanwhile, the American president has ordered another American bomber to circle over New York City with 40-megaton payload, which should be dropped in case of the bombing of Moscow. The American ambassador in Moscow reports about the final moments of the Russian capital before being evaporated from the blast. The American bomber receives an order to drop its bombs over New York City in order for the destruction of Moscow to be vindicated and a Third World War avoided. It was earlier revealed that the American President's wife was in New York while the events of the film transpired, meaning she would be killed in the blast. The pilot of the American bomber, General Black , commits suicide with a lethal injection before hitting the target, knowing that his oblivious wife and little daughter are also down there.\n",
      "Movie Categories: ['\"Thriller\",  \"Science Fiction\",  \"Television movie\",  \"Psychological thriller\",  \"Black-and-white\",  \"Drama\",  \"Suspense\",  \"Film adaptation\",  \"Political drama\"']\n",
      "\n",
      "Movie Recommendation # 2\n",
      "Movie ID:  1789\n",
      "Movie Title:  ['Skyjacked']\n",
      "Movie Description:   Global Airways Flight 502—using a Boeing 707—takes off as a routine flight from Oakland, California, to Minneapolis/St.Paul, Minnesota, with Captain Henry O'Hara  and his flight crew at the controls. In the middle of the flight, Captain O'Hara becomes aware of a bomb threat when he goes into the women's bathroom  and sees \"Bomb on plane divert to Anchorage Alaska. No Joke, No Tricks. Death.\" He interprets this to mean that he has to divert his course immediately to Anchorage, Alaska, or otherwise the bomb will explode on board. O'Hara changes course immediately to Anchorage and manages to carry out a perfect landing there, despite terrible weather and other circumstances. A disillusioned soldier, Sgt. Jerome K. Weber , a Vietnam veteran driven into insanity by his war trauma, is responsible for hijacking the plane, and threatens to blow it up with a bomb. In Anchorage, the majority of economy class passengers escape via an emergency slide. The remaining passengers are allowed to leave including the three coach class stewardesses, Jane, Lovejoy and Hazel. Weber then keeps all first class passengers as hostages, amongst them United States Senator Arne Lindner , and Senior Stewardess Angela Thatcher  and insists to be flown to Moscow, as he intends to defect to the Soviet Union. Although the airline doesn't receive clearance to fly into Soviet airspace, Weber insists to be flown straight ahead to Moscow, threatening the pilots with death if they do not comply. Upon entering Soviet airspace, Soviet military aircraft appear to intercept the 707. Finally, O'Hara lowers the landing gear and flaps to a full landing configuration to make the Soviet interceptors aware that this is a US civilian aircraft and not a military intruder, as the Soviet authorities had thought and had ordered the plane to be shot down. O'Hara's actions result in the Soviet aircraft realizing that they have been confronted with a hijacked US civilian airplane. The Soviet military aircraft escort the 707 to their nearest airport, Moscow Airport. There, all passengers are finally released. It becomes clear that O'Hara and Senior Stewardess Thatcher have been in love for some time but O'Hara separated from Thatcher in order to save his marriage. Thatcher is now in love with first officer Sam. After landing, O'Hara and Weber are the only persons to remain on board of the 707. Weber eventually realizes that he is unable to achieve the confidence of the Soviet authorities and his attempt to seize the 707 was futile. When O'Hara finally tries to kick him out of his 707, Weber shoots him. Both men stagger down the gangway, where finally Weber is shot and killed by Soviet forces. O'Hara survives, just wounded in his shoulders, and he is looking up into the sky, with a great smile of relief, when he sees a plane just after takeoff.\n",
      "Movie Categories: ['\"Disaster\",  \"Thriller\",  \"Action Thrillers\",  \"Action\",  \"Action/Adventure\"']\n",
      "\n",
      "Movie Recommendation # 3\n",
      "Movie ID:  2756\n",
      "Movie Title:  ['Spies Like Us']\n",
      "Movie Description:  Austin Millbarge is a geekish, basement-dwelling codebreaker for The Pentagon who aspires to escape his under-respected job to become a secret agent. Emmett Fitz-Hume, a wisecracking, pencil-pushing son of an envoy, takes the foreign service exam under peer pressure. Millbarge and Fitz-Hume meet during the test, on which Fitz-Hume openly attempts to cheat after an attempt to seduce his immediate supervisor in exchange for the answers backfires. Millbarge, however, was forced to take the test, having had only one day to prepare after his supervisor gives him a notice that was three weeks old. Needing expendable agents to act as decoys to draw attention away from a more capable team, the Defense Intelligence Agency  decides to enlist the two, promote them to be Foreign Service Operatives, put them through minimal training, and then send them on an undefined mission into Soviet Central Asia. Meanwhile, professional agents are well on their way to reaching the real objective: the seizure of a mobile SS-50 ICBM launcher. The main team takes a loss, while Millbarge and Fitz-Hume miraculously escape enemy traps, attacks, and other certain perils. Eventually the bumbling pair encounter Karen Boyer, the only surviving operative from the main team. In the Pamir Mountains of the Tajik Soviet Socialist Republic, the trio overpowers a mobile missile guard unit using hastily constructed extraterrestrial outfits and tranquilizer guns. Following orders in real-time from the intelligence agency , they begin to operate the launcher. At the end of their instructions, the vehicle launches the ICBM into space, targeting an unspecified area in the United States. Thinking they have begun a nuclear war, the American agents and their Soviet counterparts pair up to have sex before the world ends. Meanwhile, the military commander at the operations bunker ([[Steve Forrest . The purpose of sending the agents to launch a Soviet ICBM is thereby exposed as a means to test this anti-ballistic missile system. Unfortunately, the laser fails to intercept the nuclear missile, which is heading for the U.S. and will almost certainly trigger a global thermonuclear war. Back in the Soviet Union, guilt-ridden and horrified at the thought of having launched a nuclear missile at their own country, the American spies  use Millbarge's technical knowledge to force a malfunction in the launcher vehicle and transmit junk instructions to the traveling missile, sending it off into space where it detonates harmlessly. Immediately after, the underground bunker back at the drive-in theater is stormed by U.S. Army Rangers, and the intelligence and military officials involved in the covert operation are arrested. For their part, Millbarge, Fitz-Hume, and Boyer go on to become nuclear disarmament negotiators, playing a nuclear version of Risk-meets-Trivial Pursuit against their Soviet friends.\n",
      "Movie Categories: ['\"Parody\",  \"Action/Adventure\",  \"Adventure Comedy\",  \"Comedy\",  \"Action\",  \"Slapstick\",  \"Spy\"']\n",
      "\n"
     ]
    }
   ],
   "source": [
    "content_recommender(104, 3)"
   ]
  },
  {
   "cell_type": "markdown",
   "metadata": {},
   "source": [
    "[df_max, df_min discussion](https://www.reddit.com/r/learnmachinelearning/comments/6evguc/while_building_a_tfidf_determining_a_good_balance/)"
   ]
  },
  {
   "cell_type": "markdown",
   "metadata": {
    "colab_type": "text",
    "id": "8IvHkTUHyu78"
   },
   "source": [
    "## Βελτιστοποίηση\n",
    "\n",
    "Αφού υλοποιήσετε τη συνάρτηση `content_recommender` χρησιμοποιήστε τη για να βελτιστοποιήσετε την `TfidfVectorizer`. Συγκεκριμένα, αρχικά μπορείτε να δείτε τι επιστρέφει το σύστημα για τυχαίες ταινίες-στόχους και για ένα μικρό `max_recommendations` (2 ή 3). Αν σε κάποιες ταινίες το σύστημα μοιάζει να επιστρέφει σημασιολογικά κοντινές ταινίες σημειώστε το `ID` τους. Δοκιμάστε στη συνέχεια να βελτιστοποιήσετε την `TfidfVectorizer` για τα συγκεκριμένα `ID` ώστε να επιστρέφονται σημασιολογικά κοντινές ταινίες για μεγαλύτερο αριθμό `max_recommendations`. Παράλληλα, όσο βελτιστοποιείτε την `TfidfVectorizer`, θα πρέπει να λαμβάνετε καλές συστάσεις για μεγαλύτερο αριθμό τυχαίων ταινιών. Μπορείτε επίσης να βελτιστοποιήσετε τη συνάρτηση παρατηρώντας πολλά φαινόμενα που το σύστημα εκλαμβάνει ως ομοιότητα περιεχομένου ενώ επί της ουσίας δεν είναι επιθυμητό να συνυπολογίζονται (δείτε σχετικά το [FAQ](https://docs.google.com/document/d/1jL4gRag_LHbVCYIt5XVJ53iJPb6RZWi02rT5mPXiqEU/edit?usp=sharing)). Ταυτόχρονα, μια άλλη κατεύθυνση της βελτιστοποίησης είναι να χρησιμοποιείτε τις παραμέτρους του `TfidfVectorizer` έτσι ώστε να μειώνονται οι διαστάσεις του Vector Space Model μέχρι το σημείο που θα αρχίσει να εμφανίζονται επιπτώσεις στην ποιότητα των συστάσεων. \n",
    "\n",
    "\n"
   ]
  },
  {
   "cell_type": "markdown",
   "metadata": {
    "colab_type": "text",
    "id": "NPVK7Z5c1p5F"
   },
   "source": [
    "## Επεξήγηση επιλογών και ποιοτική ερμηνεία\n",
    "\n",
    "Σε markdown περιγράψτε πώς προχωρήσατε στις επιλογές σας για τη βελτιστοποίηση της `TfidfVectorizer`. Επίσης σε markdown δώστε 10 παραδείγματα (IDs) από τη συλλογή σας που επιστρέφουν καλά αποτελέσματα μέχρι `max_recommendations` (5 και παραπάνω) και σημειώστε συνοπτικά ποια είναι η θεματική που ενώνει τις ταινίες.\n",
    "\n",
    "Δείτε [εδώ](https://pastebin.com/raw/ZEvg5t3z) ένα παράδειγμα εξόδου του βελτιστοποιημένου συστήματος συστάσεων για την ταίνία [\"Q Planes\"](https://en.wikipedia.org/wiki/Q_Planes) με την κλήση της συνάρτησης για κάποιο seed `content_recommender(529,3)`. Είναι φανερό ότι η κοινή θεματική των ταινιών είναι τα αεροπλάνα, οι πτήσεις, οι πιλότοι, ο πόλεμος."
   ]
  },
  {
   "cell_type": "markdown",
   "metadata": {
    "colab_type": "text",
    "id": "4irg4K-IPSym"
   },
   "source": [
    "## Tip: persistence αντικειμένων με joblib.dump\n",
    "\n",
    "H βιβλιοθήκη [joblib](https://pypi.python.org/pypi/joblib) της Python δίνει κάποιες εξαιρετικά χρήσιμες ιδιότητες στην ανάπτυξη κώδικα: pipelining, παραλληλισμό, caching και variable persistence. Τις τρεις πρώτες ιδιότητες τις είδαμε στην πρώτη άσκηση. Στην παρούσα άσκηση θα μας φανεί χρήσιμη η τέταρτη, το persistence των αντικειμένων. Συγκεκριμένα μπορούμε με:\n",
    "\n",
    "```python\n",
    "from sklearn.externals import joblib  \n",
    "joblib.dump(my_object, 'my_object.pkl') \n",
    "```\n",
    "\n",
    "να αποθηκεύσουμε οποιοδήποτε αντικείμενο-μεταβλητή (εδώ το `my_object`) απευθείας πάνω στο filesystem ως αρχείο, το οποίο στη συνέχεια μπορούμε να ανακαλέσουμε ως εξής:\n",
    "\n",
    "```python\n",
    "my_object = joblib.load('my_object.pkl')\n",
    "```\n",
    "\n",
    "Μπορούμε έτσι να ανακαλέσουμε μεταβλητές ακόμα και αφού κλείσουμε και ξανανοίξουμε το notebook, χωρίς να χρειαστεί να ακολουθήσουμε ξανά όλα τα βήματα ένα - ένα για την παραγωγή τους, κάτι ιδιαίτερα χρήσιμο αν αυτή η διαδικασία είναι χρονοβόρα. Προσοχή: αυτό ισχύει μόνο στα Azure και Kaggle, στο Colab και στο IBM τα αρχεία εξαφανίζονται όταν ανακυκλώνεται ο πυρήνας και θα πρέπει να τα αποθηκεύετε τοπικά. Περισσότερα στο [FAQ](https://docs.google.com/document/d/1jL4gRag_LHbVCYIt5XVJ53iJPb6RZWi02rT5mPXiqEU/edit?usp=sharing).\n",
    "\n",
    "Ας αποθηκεύσουμε το `corpus_tf_idf` και στη συνέχεια ας το ανακαλέσουμε."
   ]
  },
  {
   "cell_type": "code",
   "execution_count": 34,
   "metadata": {
    "colab": {},
    "colab_type": "code",
    "id": "aESOPYQaPSyo",
    "scrolled": true
   },
   "outputs": [
    {
     "data": {
      "text/plain": [
       "['corpus_tf_idf.pkl']"
      ]
     },
     "execution_count": 34,
     "metadata": {},
     "output_type": "execute_result"
    }
   ],
   "source": [
    "from sklearn.externals import joblib\n",
    "joblib.dump(corpus_tf_idf, 'corpus_tf_idf.pkl') "
   ]
  },
  {
   "cell_type": "markdown",
   "metadata": {
    "colab_type": "text",
    "id": "7_rAEj5ZPSy1"
   },
   "source": [
    "\n",
    "\n",
    "Μπορείτε με ένα απλό `!ls` να δείτε ότι το αρχείο `corpus_tf_idf.pkl` υπάρχει στο filesystem σας (== persistence):"
   ]
  },
  {
   "cell_type": "code",
   "execution_count": 35,
   "metadata": {
    "colab": {},
    "colab_type": "code",
    "id": "ZhwXmTEIPSy3",
    "scrolled": true
   },
   "outputs": [
    {
     "name": "stdout",
     "output_type": "stream",
     "text": [
      "total 20M\r\n",
      "-rw-r--r-- 1 debian debian 3.0K Jan 14 17:47 contractions.py\r\n",
      "-rw-r--r-- 1 debian debian 5.7M Jan 15 16:00 corpus_tf_idf.pkl\r\n",
      "drwxr-xr-x 2 debian debian 4.0K Jan 14 17:52 __pycache__\r\n",
      "-rw-r--r-- 1 debian debian 6.4K Jan 14 17:48 Untitled.ipynb\r\n",
      "-rw-r--r-- 1 debian debian  15M Jan 15 15:47 Άσκηση 2 Εκφώνηση.ipynb\r\n"
     ]
    }
   ],
   "source": [
    "!ls -lh"
   ]
  },
  {
   "cell_type": "markdown",
   "metadata": {
    "colab_type": "text",
    "id": "cey5AbkO475S"
   },
   "source": [
    "και μπορούμε να τα διαβάσουμε με `joblib.load`"
   ]
  },
  {
   "cell_type": "code",
   "execution_count": 36,
   "metadata": {
    "colab": {},
    "colab_type": "code",
    "id": "DSJPTKY8PSyu"
   },
   "outputs": [],
   "source": [
    "corpus_tf_idf = joblib.load('corpus_tf_idf.pkl')"
   ]
  },
  {
   "cell_type": "markdown",
   "metadata": {
    "colab_type": "text",
    "id": "zHOQtO83PSy9"
   },
   "source": [
    "# Εφαρμογή 2.  Σημασιολογική απεικόνιση της συλλογής ταινιών με χρήση SOM\n",
    "<img src=\"http://visual-memory.co.uk/daniel/Documents/intgenre/Images/film-genres.jpg\" width=\"35%\">"
   ]
  },
  {
   "cell_type": "markdown",
   "metadata": {
    "colab_type": "text",
    "id": "UB_clmizPSy-"
   },
   "source": [
    "## Δημιουργία dataset\n",
    "Στη δεύτερη εφαρμογή θα βασιστούμε στις τοπολογικές ιδιότητες των Self Organizing Maps (SOM) για να φτιάξουμε ενά χάρτη (grid) δύο διαστάσεων όπου θα απεικονίζονται όλες οι ταινίες της συλλογής της ομάδας με τρόπο χωρικά συνεκτικό ως προς το περιεχόμενο και κυρίως το είδος τους. \n",
    "\n",
    "Η `build_final_set` αρχικά μετατρέπει την αραιή αναπαράσταση tf-idf της εξόδου της `TfidfVectorizer()` σε πυκνή (η [αραιή αναπαράσταση](https://en.wikipedia.org/wiki/Sparse_matrix) έχει τιμές μόνο για τα μη μηδενικά στοιχεία). \n",
    "\n",
    "Στη συνέχεια ενώνει την πυκνή `dense_tf_idf` αναπαράσταση και τις binarized κατηγορίες `catbins` των ταινιών ως επιπλέον στήλες (χαρακτηριστικά). Συνεπώς, κάθε ταινία αναπαρίσταται στο Vector Space Model από τα χαρακτηριστικά του TFIDF και τις κατηγορίες της.\n",
    "\n",
    "Τέλος, δέχεται ένα ορισμα για το πόσες ταινίες να επιστρέψει, με default τιμή όλες τις ταινίες (5000). Αυτό είναι χρήσιμο για να μπορείτε αν θέλετε να φτιάχνετε μικρότερα σύνολα δεδομένων ώστε να εκπαιδεύεται ταχύτερα το SOM.\n",
    "\n",
    "Σημειώστε ότι το IBM Watson δείνει \"Kernel dead\" εάν δεν έχετε βελτιστοποιήσει το tfidf και μικρύνει τις διαστάσεις του dataset (πιθανότατα κάποια υπέρβαση μνήμης)."
   ]
  },
  {
   "cell_type": "code",
   "execution_count": 39,
   "metadata": {
    "colab": {},
    "colab_type": "code",
    "id": "U-FDDOkQPSzA"
   },
   "outputs": [],
   "source": [
    "def build_final_set(doc_limit = 5000, tf_idf_only=False):\n",
    "    # convert sparse tf_idf to dense tf_idf representation\n",
    "    dense_tf_idf = corpus_tf_idf.toarray()[0:doc_limit,:]\n",
    "    if tf_idf_only:\n",
    "        # use only tf_idf\n",
    "        final_set = dense_tf_idf\n",
    "    else:\n",
    "        # append the binary categories features horizontaly to the (dense) tf_idf features\n",
    "        final_set = np.hstack((dense_tf_idf, catbins[0:doc_limit,:]))\n",
    "        # η somoclu θέλει δεδομ΄ένα σε float32\n",
    "    return np.array(final_set, dtype=np.float32)"
   ]
  },
  {
   "cell_type": "code",
   "execution_count": 40,
   "metadata": {
    "colab": {},
    "colab_type": "code",
    "id": "aF1B62UbPSzF"
   },
   "outputs": [],
   "source": [
    "final_set = build_final_set()"
   ]
  },
  {
   "cell_type": "markdown",
   "metadata": {
    "colab_type": "text",
    "id": "KjvPPENS_dYL"
   },
   "source": [
    "Τυπώνουμε τις διαστάσεις του τελικού dataset μας. Χωρίς βελτιστοποίηση του TFIDF θα έχουμε περίπου 50.000 χαρακτηριστικά."
   ]
  },
  {
   "cell_type": "code",
   "execution_count": 41,
   "metadata": {
    "colab": {},
    "colab_type": "code",
    "id": "fvEgNn-L-jEw"
   },
   "outputs": [
    {
     "data": {
      "text/plain": [
       "(5000, 8834)"
      ]
     },
     "execution_count": 41,
     "metadata": {},
     "output_type": "execute_result"
    }
   ],
   "source": [
    "final_set.shape"
   ]
  },
  {
   "cell_type": "markdown",
   "metadata": {
    "colab_type": "text",
    "id": "Om7PoyDVCqis"
   },
   "source": [
    "Με βάση την εμπειρία σας στην προετοιμασί των δεδομένων στην επιβλεπόμενη μάθηση, υπάρχει κάποιο βήμα προεπεξεργασίας που θα μπορούσε να εφαρμοστεί σε αυτό το dataset; "
   ]
  },
  {
   "cell_type": "markdown",
   "metadata": {
    "colab_type": "text",
    "id": "8tikdip0PSzQ"
   },
   "source": [
    "## Εκπαίδευση χάρτη SOM\n",
    "\n",
    "Θα δουλέψουμε με τη βιβλιοθήκη SOM [\"Somoclu\"](http://somoclu.readthedocs.io/en/stable/index.html). Εισάγουμε τις somoclu και matplotlib και λέμε στη matplotlib να τυπώνει εντός του notebook (κι όχι σε pop up window)."
   ]
  },
  {
   "cell_type": "code",
   "execution_count": 42,
   "metadata": {
    "colab": {},
    "colab_type": "code",
    "id": "oX9rzxGSPSzR",
    "scrolled": true
   },
   "outputs": [
    {
     "name": "stdout",
     "output_type": "stream",
     "text": [
      "Collecting somoclu\n",
      "\u001b[?25l  Downloading https://files.pythonhosted.org/packages/15/83/4b76845d8a2b0d70c27e7bdad363f36187b2adfc2851724ae76b47e0e348/somoclu-1.7.5.tar.gz (6.1MB)\n",
      "\u001b[K    100% |████████████████████████████████| 6.2MB 2.1MB/s eta 0:00:01  4% |█▌                              | 296kB 4.5MB/s eta 0:00:02    9% |███▏                            | 614kB 4.1MB/s eta 0:00:02    16% |█████▎                          | 1.0MB 1.8MB/s eta 0:00:03    17% |█████▋                          | 1.1MB 1.7MB/s eta 0:00:03    37% |████████████                    | 2.3MB 9.9MB/s eta 0:00:01    51% |████████████████▍               | 3.1MB 9.8MB/s eta 0:00:01    65% |█████████████████████           | 4.0MB 9.5MB/s eta 0:00:01    97% |███████████████████████████████▏| 6.0MB 11.6MB/s eta 0:00:01\n",
      "\u001b[?25hRequirement already satisfied, skipping upgrade: numpy in /home/debian/miniconda3/lib/python3.7/site-packages (from somoclu) (1.15.4)\n",
      "Requirement already satisfied, skipping upgrade: matplotlib in /home/debian/miniconda3/lib/python3.7/site-packages (from somoclu) (3.0.2)\n",
      "Requirement already satisfied, skipping upgrade: scipy in /home/debian/miniconda3/lib/python3.7/site-packages (from somoclu) (1.2.0)\n",
      "Requirement already satisfied, skipping upgrade: cycler>=0.10 in /home/debian/miniconda3/lib/python3.7/site-packages (from matplotlib->somoclu) (0.10.0)\n",
      "Requirement already satisfied, skipping upgrade: python-dateutil>=2.1 in /home/debian/miniconda3/lib/python3.7/site-packages (from matplotlib->somoclu) (2.7.5)\n",
      "Requirement already satisfied, skipping upgrade: pyparsing!=2.0.4,!=2.1.2,!=2.1.6,>=2.0.1 in /home/debian/miniconda3/lib/python3.7/site-packages (from matplotlib->somoclu) (2.3.0)\n",
      "Requirement already satisfied, skipping upgrade: kiwisolver>=1.0.1 in /home/debian/miniconda3/lib/python3.7/site-packages (from matplotlib->somoclu) (1.0.1)\n",
      "Requirement already satisfied, skipping upgrade: six in /home/debian/miniconda3/lib/python3.7/site-packages (from cycler>=0.10->matplotlib->somoclu) (1.11.0)\n",
      "Requirement already satisfied, skipping upgrade: setuptools in /home/debian/miniconda3/lib/python3.7/site-packages (from kiwisolver>=1.0.1->matplotlib->somoclu) (40.6.2)\n",
      "Building wheels for collected packages: somoclu\n",
      "  Running setup.py bdist_wheel for somoclu ... \u001b[?25ldone\n",
      "\u001b[?25h  Stored in directory: /home/debian/.cache/pip/wheels/85/3c/e5/5b1c535e93453367a8e3d35a377d3c668da00369b1a4302ad8\n",
      "Successfully built somoclu\n",
      "Installing collected packages: somoclu\n",
      "Successfully installed somoclu-1.7.5\n"
     ]
    }
   ],
   "source": [
    "# install somoclu\n",
    "!pip install --upgrade somoclu\n",
    "# import sompoclu, matplotlib\n",
    "import somoclu\n",
    "import matplotlib\n",
    "# we will plot inside the notebook and not in separate window\n",
    "%matplotlib inline"
   ]
  },
  {
   "cell_type": "markdown",
   "metadata": {
    "colab_type": "text",
    "id": "EqBfn0ijPSzX"
   },
   "source": [
    "Καταρχάς διαβάστε το [function reference](http://somoclu.readthedocs.io/en/stable/reference.html) του somoclu. Θα δoυλέψουμε με χάρτη τύπου planar, παραλληλόγραμμου σχήματος νευρώνων με τυχαία αρχικοποίηση (όλα αυτά είναι default). Μπορείτε να δοκιμάσετε διάφορα μεγέθη χάρτη ωστόσο όσο ο αριθμός των νευρώνων μεγαλώνει, μεγαλώνει και ο χρόνος εκπαίδευσης. Για το training δεν χρειάζεται να ξεπεράσετε τα 100 epochs. Σε γενικές γραμμές μπορούμε να βασιστούμε στις default παραμέτρους μέχρι να έχουμε τη δυνατότητα να οπτικοποιήσουμε και να αναλύσουμε ποιοτικά τα αποτελέσματα. Ξεκινήστε με ένα χάρτη 10 x 10, 100 epochs training και ένα υποσύνολο των ταινιών (π.χ. 2000). Χρησιμοποιήστε την `time` για να έχετε μια εικόνα των χρόνων εκπαίδευσης. Ενδεικτικά, με σωστή κωδικοποίηση tf-idf, μικροί χάρτες για λίγα δεδομένα (1000-2000) παίρνουν γύρω στο ένα λεπτό ενώ μεγαλύτεροι χάρτες με όλα τα δεδομένα μπορούν να πάρουν 10-15 λεπτά ή και περισσότερο.\n"
   ]
  },
  {
   "cell_type": "code",
   "execution_count": 43,
   "metadata": {},
   "outputs": [
    {
     "ename": "NameError",
     "evalue": "name 'Somoclu' is not defined",
     "output_type": "error",
     "traceback": [
      "\u001b[0;31m---------------------------------------------------------------------------\u001b[0m",
      "\u001b[0;31mNameError\u001b[0m                                 Traceback (most recent call last)",
      "\u001b[0;32m<ipython-input-43-f9ce44a93752>\u001b[0m in \u001b[0;36m<module>\u001b[0;34m\u001b[0m\n\u001b[0;32m----> 1\u001b[0;31m som = Somoclu(n_columns, n_rows, initialcodebook=None, \n\u001b[0m\u001b[1;32m      2\u001b[0m               \u001b[0mkerneltype\u001b[0m\u001b[0;34m=\u001b[0m\u001b[0;36m0\u001b[0m\u001b[0;34m,\u001b[0m \u001b[0mmaptype\u001b[0m\u001b[0;34m=\u001b[0m\u001b[0;34m'planar'\u001b[0m\u001b[0;34m,\u001b[0m \u001b[0mgridtype\u001b[0m\u001b[0;34m=\u001b[0m\u001b[0;34m'rectangular'\u001b[0m\u001b[0;34m,\u001b[0m\u001b[0;34m\u001b[0m\u001b[0;34m\u001b[0m\u001b[0m\n\u001b[1;32m      3\u001b[0m               compactsupport=False, neighborhood='gaussian', std_coeff=0.5, initialization=None)\n",
      "\u001b[0;31mNameError\u001b[0m: name 'Somoclu' is not defined"
     ]
    }
   ],
   "source": [
    "n_rows, n_columns = 10, 10\n",
    "\n",
    "#default values planar, rectangular, CPU kernel\n",
    "som = Somoclu(n_columns, n_rows, initialcodebook=None)\n"
   ]
  },
  {
   "cell_type": "markdown",
   "metadata": {
    "colab_type": "text",
    "id": "ntd2GE9SaHiS"
   },
   "source": [
    "\n",
    "## Best matching units\n",
    "\n",
    "Μετά από κάθε εκπαίδευση αποθηκεύστε σε μια μεταβλητή τα best matching units (bmus) για κάθε ταινία. Τα bmus μας δείχνουν σε ποιο νευρώνα ανήκει η κάθε ταινία. Προσοχή: η σύμβαση των συντεταγμένων των νευρώνων είναι (στήλη, γραμμή) δηλαδή το ανάποδο από την Python. Με χρήση της [np.unique](https://docs.scipy.org/doc/numpy-1.13.0/reference/generated/numpy.unique.html) (μια πολύ χρήσιμη συνάρτηση στην άσκηση) αποθηκεύστε τα μοναδικά best matching units και τους δείκτες τους (indices) προς τις ταινίες. Σημειώστε ότι μπορεί να έχετε λιγότερα μοναδικά bmus από αριθμό νευρώνων γιατί μπορεί σε κάποιους νευρώνες να μην έχουν ανατεθεί ταινίες. Ως αριθμό νευρώνα θα θεωρήσουμε τον αριθμό γραμμής στον πίνακα μοναδικών bmus.\n"
   ]
  },
  {
   "cell_type": "markdown",
   "metadata": {
    "colab_type": "text",
    "id": "grzqcyHyaKdg"
   },
   "source": [
    "\n",
    "## Ομαδοποίηση (clustering)\n",
    "\n",
    "Τυπικά, η ομαδοποίηση σε ένα χάρτη SOM προκύπτει από το unified distance matrix (U-matrix): για κάθε κόμβο υπολογίζεται η μέση απόστασή του από τους γειτονικούς κόμβους. Εάν χρησιμοποιηθεί μπλε χρώμα στις περιοχές του χάρτη όπου η τιμή αυτή είναι χαμηλή (μικρή απόσταση) και κόκκινο εκεί που η τιμή είναι υψηλή (μεγάλη απόσταση), τότε μπορούμε να πούμε ότι οι μπλε περιοχές αποτελούν clusters και οι κόκκινες αποτελούν σύνορα μεταξύ clusters.\n",
    "\n",
    "To somoclu δίνει την επιπρόσθετη δυνατότητα να κάνουμε ομαδοποίηση των νευρώνων χρησιμοποιώντας οποιονδήποτε αλγόριθμο ομαδοποίησης του scikit-learn. Στην άσκηση θα χρησιμοποιήσουμε τον k-Means. Για τον αρχικό σας χάρτη δοκιμάστε ένα k=20 ή 25. Οι δύο προσεγγίσεις ομαδοποίησης είναι διαφορετικές, οπότε περιμένουμε τα αποτελέσματα να είναι κοντά αλλά όχι τα ίδια.\n"
   ]
  },
  {
   "cell_type": "markdown",
   "metadata": {
    "colab_type": "text",
    "id": "2nupuqcuaMe3"
   },
   "source": [
    "\n",
    "## Αποθήκευση του SOM\n",
    "\n",
    "Επειδή η αρχικοποίηση του SOM γίνεται τυχαία και το clustering είναι και αυτό στοχαστική διαδικασία, οι θέσεις και οι ετικέτες των νευρώνων και των clusters θα είναι διαφορετικές κάθε φορά που τρέχετε τον χάρτη, ακόμα και με τις ίδιες παραμέτρους. Για να αποθηκεύσετε ένα συγκεκριμένο som και clustering χρησιμοποιήστε και πάλι την `joblib`. Μετά την ανάκληση ενός SOM θυμηθείτε να ακολουθήσετε τη διαδικασία για τα bmus.\n"
   ]
  },
  {
   "cell_type": "markdown",
   "metadata": {
    "colab_type": "text",
    "id": "ejX0Qs18aRHU"
   },
   "source": [
    "\n",
    "## Οπτικοποίηση U-matrix, clustering και μέγεθος clusters\n",
    "\n",
    "Για την εκτύπωση του U-matrix χρησιμοποιήστε τη `view_umatrix` με ορίσματα `bestmatches=True` και `figsize=(15, 15)` ή `figsize=(20, 20)`. Τα διαφορετικά χρώματα που εμφανίζονται στους κόμβους αντιπροσωπεύουν τα διαφορετικά clusters που προκύπτουν από τον k-Means. Μπορείτε να εμφανίσετε τη λεζάντα του U-matrix με το όρισμα `colorbar`. Μην τυπώνετε τις ετικέτες (labels) των δειγμάτων, είναι πολύ μεγάλος ο αριθμός τους.\n",
    "\n",
    "Για μια δεύτερη πιο ξεκάθαρη οπτικοποίηση του clustering τυπώστε απευθείας τη μεταβλητή `clusters`.\n",
    "\n",
    "Τέλος, χρησιμοποιώντας πάλι την `np.unique` (με διαφορετικό όρισμα) και την `np.argsort` (υπάρχουν και άλλοι τρόποι υλοποίησης) εκτυπώστε τις ετικέτες των clusters (αριθμοί από 0 έως k-1) και τον αριθμό των νευρώνων σε κάθε cluster, με φθίνουσα ή αύξουσα σειρά ως προς τον αριθμό των νευρώνων. Ουσιαστικά είναι ένα εργαλείο για να βρίσκετε εύκολα τα μεγάλα και μικρά clusters. \n",
    "\n",
    "Ακολουθεί ένα μη βελτιστοποιημένο παράδειγμα για τις τρεις προηγούμενες εξόδους:\n",
    "\n",
    "<img src=\"https://image.ibb.co/i0tsfR/umatrix_s.jpg\" width=\"35%\">\n",
    "<img src=\"https://image.ibb.co/nLgHEm/clusters.png\" width=\"35%\">\n",
    "\n"
   ]
  },
  {
   "cell_type": "markdown",
   "metadata": {
    "colab_type": "text",
    "id": "fMO_KcQYaTv-"
   },
   "source": [
    "\n",
    "## Σημασιολογική ερμηνεία των clusters\n",
    "\n",
    "Προκειμένου να μελετήσουμε τις τοπολογικές ιδιότητες του SOM και το αν έχουν ενσωματώσει σημασιολογική πληροφορία για τις ταινίες διαμέσου της διανυσματικής αναπαράστασης με το tf-idf και των κατηγοριών, χρειαζόμαστε ένα κριτήριο ποιοτικής επισκόπησης των clusters. Θα υλοποιήσουμε το εξής κριτήριο: Λαμβάνουμε όρισμα έναν αριθμό (ετικέτα) cluster. Για το cluster αυτό βρίσκουμε όλους τους νευρώνες που του έχουν ανατεθεί από τον k-Means. Για όλους τους νευρώνες αυτούς βρίσκουμε όλες τις ταινίες που τους έχουν ανατεθεί (για τις οποίες αποτελούν bmus). Για όλες αυτές τις ταινίες τυπώνουμε ταξινομημένη τη συνολική στατιστική όλων των ειδών (κατηγοριών) και τις συχνότητές τους. Αν το cluster διαθέτει καλή συνοχή και εξειδίκευση, θα πρέπει κάποιες κατηγορίες να έχουν σαφώς μεγαλύτερη συχνότητα από τις υπόλοιπες. Θα μπορούμε τότε να αναθέσουμε αυτήν/ές την/τις κατηγορία/ες ως ετικέτες κινηματογραφικού είδους στο cluster.\n",
    "\n",
    "Μπορείτε να υλοποιήσετε τη συνάρτηση αυτή όπως θέλετε. Μια πιθανή διαδικασία θα μπορούσε να είναι η ακόλουθη:\n",
    "\n",
    "1. Ορίζουμε συνάρτηση `print_categories_stats` που δέχεται ως είσοδο λίστα με ids ταινιών. Δημιουργούμε μια κενή λίστα συνολικών κατηγοριών. Στη συνέχεια, για κάθε ταινία επεξεργαζόμαστε το string `categories` ως εξής: δημιουργούμε μια λίστα διαχωρίζοντας το string κατάλληλα με την `split` και αφαιρούμε τα whitespaces μεταξύ ετικετών με την `strip`. Προσθέτουμε τη λίστα αυτή στη συνολική λίστα κατηγοριών με την `extend`. Τέλος χρησιμοποιούμε πάλι την `np.unique` για να μετρήσουμε συχνότητα μοναδικών ετικετών κατηγοριών και ταξινομούμε με την `np.argsort`. Τυπώνουμε τις κατηγορίες και τις συχνότητες εμφάνισης ταξινομημένα. Χρήσιμες μπορεί να σας φανούν και οι `np.ravel`, `np.nditer`, `np.array2string` και `zip`.\n",
    "\n",
    "2. Ορίζουμε τη βασική μας συνάρτηση `print_cluster_neurons_movies_report` που δέχεται ως όρισμα τον αριθμό ενός cluster. Με τη χρήση της `np.where` μπορούμε να βρούμε τις συντεταγμένες των bmus που αντιστοιχούν στο cluster και με την `column_stack` να φτιάξουμε έναν πίνακα bmus για το cluster. Προσοχή στη σειρά (στήλη - σειρά) στον πίνακα bmus. Για κάθε bmu αυτού του πίνακα ελέγχουμε αν υπάρχει στον πίνακα μοναδικών bmus που έχουμε υπολογίσει στην αρχή συνολικά και αν ναι προσθέτουμε το αντίστοιχο index του νευρώνα σε μια λίστα. Χρήσιμες μπορεί να είναι και οι `np.rollaxis`, `np.append`, `np.asscalar`. Επίσης πιθανώς να πρέπει να υλοποιήσετε ένα κριτήριο ομοιότητας μεταξύ ενός bmu και ενός μοναδικού bmu από τον αρχικό πίνακα bmus.\n",
    "\n",
    "3. Υλοποιούμε μια βοηθητική συνάρτηση `neuron_movies_report`. Λαμβάνει ένα σύνολο νευρώνων από την `print_cluster_neurons_movies_report` και μέσω της `indices` φτιάχνει μια λίστα με το σύνολο ταινιών που ανήκουν σε αυτούς τους νευρώνες. Στο τέλος καλεί με αυτή τη λίστα την `print_categories_stats` που τυπώνει τις στατιστικές των κατηγοριών.\n",
    "\n",
    "Μπορείτε βέβαια να προσθέσετε οποιαδήποτε επιπλέον έξοδο σας βοηθάει. Μια χρήσιμη έξοδος είναι πόσοι νευρώνες ανήκουν στο cluster και σε πόσους και ποιους από αυτούς έχουν ανατεθεί ταινίες.\n",
    "\n",
    "Θα επιτελούμε τη σημασιολογική ερμηνεία του χάρτη καλώντας την `print_cluster_neurons_movies_report` με τον αριθμός ενός cluster που μας ενδιαφέρει. \n",
    "\n",
    "Παράδειγμα εξόδου για ένα cluster (μη βελτιστοποιημένος χάρτης, ωστόσο βλέπετε ότι οι μεγάλες κατηγορίες έχουν σημασιολογική  συνάφεια):\n",
    "\n",
    "```\n",
    "Overall Cluster Genres stats:  \n",
    "[('\"Horror\"', 86), ('\"Science Fiction\"', 24), ('\"B-movie\"', 16), ('\"Monster movie\"', 10), ('\"Creature Film\"', 10), ('\"Indie\"', 9), ('\"Zombie Film\"', 9), ('\"Slasher\"', 8), ('\"World cinema\"', 8), ('\"Sci-Fi Horror\"', 7), ('\"Natural horror films\"', 6), ('\"Supernatural\"', 6), ('\"Thriller\"', 6), ('\"Cult\"', 5), ('\"Black-and-white\"', 5), ('\"Japanese Movies\"', 4), ('\"Short Film\"', 3), ('\"Drama\"', 3), ('\"Psychological thriller\"', 3), ('\"Crime Fiction\"', 3), ('\"Monster\"', 3), ('\"Comedy\"', 2), ('\"Western\"', 2), ('\"Horror Comedy\"', 2), ('\"Archaeology\"', 2), ('\"Alien Film\"', 2), ('\"Teen\"', 2), ('\"Mystery\"', 2), ('\"Adventure\"', 2), ('\"Comedy film\"', 2), ('\"Combat Films\"', 1), ('\"Chinese Movies\"', 1), ('\"Action/Adventure\"', 1), ('\"Gothic Film\"', 1), ('\"Costume drama\"', 1), ('\"Disaster\"', 1), ('\"Docudrama\"', 1), ('\"Film adaptation\"', 1), ('\"Film noir\"', 1), ('\"Parody\"', 1), ('\"Period piece\"', 1), ('\"Action\"', 1)]```\n",
    "   "
   ]
  },
  {
   "cell_type": "markdown",
   "metadata": {
    "colab_type": "text",
    "id": "lq4QrImhaa7E"
   },
   "source": [
    "\n",
    "## Tips για το SOM και το clustering\n",
    "\n",
    "- Για την ομαδοποίηση ένα U-matrix καλό είναι να εμφανίζει και μπλε-πράσινες περιοχές (clusters) και κόκκινες περιοχές (ορίων). Παρατηρήστε ποια σχέση υπάρχει μεταξύ αριθμού ταινιών στο final set, μεγέθους grid και ποιότητας U-matrix.\n",
    "- Για το k του k-Means προσπαθήστε να προσεγγίζει σχετικά τα clusters του U-matrix (όπως είπαμε είναι διαφορετικοί μέθοδοι clustering). Μικρός αριθμός k δεν θα σέβεται τα όρια. Μεγάλος αριθμός θα δημιουργεί υπο-clusters εντός των clusters που φαίνονται στο U-matrix. Το τελευταίο δεν είναι απαραίτητα κακό, αλλά μεγαλώνει τον αριθμό clusters που πρέπει να αναλυθούν σημασιολογικά.\n",
    "- Σε μικρούς χάρτες και με μικρά final sets δοκιμάστε διαφορετικές παραμέτρους για την εκπαίδευση του SOM. Σημειώστε τυχόν παραμέτρους που επηρεάζουν την ποιότητα του clustering για το dataset σας ώστε να τις εφαρμόσετε στους μεγάλους χάρτες.\n",
    "- Κάποια τοπολογικά χαρακτηριστικά εμφανίζονται ήδη σε μικρούς χάρτες. Κάποια άλλα χρειάζονται μεγαλύτερους χάρτες. Δοκιμάστε μεγέθη 20x20, 25x25 ή και 30x30 και αντίστοιχη προσαρμογή των k. Όσο μεγαλώνουν οι χάρτες, μεγαλώνει η ανάλυση του χάρτη αλλά μεγαλώνει και ο αριθμός clusters που πρέπει να αναλυθούν.\n"
   ]
  },
  {
   "cell_type": "markdown",
   "metadata": {
    "colab_type": "text",
    "id": "x4IUl8O8ayVf"
   },
   "source": [
    "\n",
    "\n",
    "## Ανάλυση τοπολογικών ιδιοτήτων χάρτη SOM\n",
    "\n",
    "Μετά το πέρας της εκπαίδευσης και του clustering θα έχετε ένα χάρτη με τοπολογικές ιδιότητες ως προς τα είδη των ταίνιών της συλλογής σας, κάτι αντίστοιχο με την εικόνα στην αρχή της Εφαρμογής 2 αυτού του notebook (η συγκεκριμένη εικόνα είναι μόνο για εικονογράφιση, δεν έχει καμία σχέση με τη συλλογή δεδομένων και τις κατηγορίες μας).\n",
    "\n",
    "Για τον τελικό χάρτη SOM που θα παράξετε για τη συλλογή σας, αναλύστε σε markdown με συγκεκριμένη αναφορά σε αριθμούς clusters και τη σημασιολογική ερμηνεία τους τις εξής τρεις τοπολογικές ιδιότητες του SOM: \n",
    "\n",
    "1. Δεδομένα που έχουν μεγαλύτερη πυκνότητα πιθανότητας στο χώρο εισόδου τείνουν να απεικονίζονται με περισσότερους νευρώνες στο χώρο μειωμένης διαστατικότητας. Δώστε παραδείγματα από συχνές και λιγότερο συχνές κατηγορίες ταινιών. Χρησιμοποιήστε τις στατιστικές των κατηγοριών στη συλλογή σας και τον αριθμό κόμβων που χαρακτηρίζουν.\n",
    "2. Μακρινά πρότυπα εισόδου τείνουν να απεικονίζονται απομακρυσμένα στο χάρτη. Υπάρχουν χαρακτηριστικές κατηγορίες ταινιών που ήδη από μικρούς χάρτες τείνουν να τοποθετούνται σε διαφορετικά ή απομονωμένα σημεία του χάρτη.\n",
    "3. Κοντινά πρότυπα εισόδου τείνουν να απεικονίζονται κοντά στο χάρτη. Σε μεγάλους χάρτες εντοπίστε είδη ταινιών και κοντινά τους υποείδη.\n",
    "\n",
    "Προφανώς τοποθέτηση σε 2 διαστάσεις που να σέβεται μια απόλυτη τοπολογία δεν είναι εφικτή, αφενός γιατί δεν υπάρχει κάποια απόλυτη εξ ορισμού για τα κινηματογραφικά είδη ακόμα και σε πολλές διαστάσεις, αφετέρου γιατί πραγματοποιούμε μείωση διαστατικότητας.\n",
    "\n",
    "Εντοπίστε μεγάλα clusters και μικρά clusters που δεν έχουν σαφή χαρακτηριστικά. Εντοπίστε clusters συγκεκριμένων ειδών που μοιάζουν να μην έχουν τοπολογική συνάφεια με γύρω περιοχές. Προτείνετε πιθανές ερμηνείες.\n",
    "\n",
    "\n",
    "\n",
    "Τέλος, εντοπίστε clusters που έχουν κατά την άποψή σας ιδιαίτερο ενδιαφέρον στη συλλογή της ομάδας σας (data exploration / discovery value) και σχολιάστε.\n"
   ]
  },
  {
   "cell_type": "markdown",
   "metadata": {
    "colab_type": "text",
    "id": "tYjxGR5DawIy"
   },
   "source": [
    "\n",
    "# Τελική παράδοση άσκησης\n",
    "\n",
    "- Θα παραδώσετε στο mycourses το παρόν notebook επεξεργασμένο με τις απαντήσεις σας για τα ζητούμενα και των δύο εφαρμογών. \n",
    "- Προσέξτε ώστε να **απαντήσετε σε όλα τα σημεία όπου απαιτείται**.\n",
    "- Μαζί Θα παραδώσετε τα joblib dumps των τελικών `corpus_tf_idf.pkl` και `som.pkl` (μεγάλος χάρτης - 5000 ταινίες) που θα χρησιμοποιήσετε. Θυμηθείτε ότι η ανάλυση του χάρτη στο markdown με αναφορά σε αριθμούς clusters πρέπει να αναφέρεται στο dump του χάρτη που θα μας παραδώσετε αλλιώς ο χάρτης που θα προκύψει θα είναι διαφορετικός και τα labels των clusters δεν θα αντιστοιχούν στην ανάλυσή σας. Οδηγίες για την αποθήκευση των dumps θα βρείτε στο [FAQ](https://docs.google.com/document/d/1jL4gRag_LHbVCYIt5XVJ53iJPb6RZWi02rT5mPXiqEU/edit?usp=sharing). \n",
    "- Μην ξεχάσετε στην αρχή ένα κελί markdown με **τα στοιχεία της ομάδας σας**.\n",
    "- Στο **zip** που θα παραδώσετε πρέπει να βρίσκονται **4 αρχεία (το .ipynb και το .py του notebook καθώς και τα δύο .pkl)**\n",
    "- **Το maximum upload filesize στο mycourses είναι 29MB**, εάν το zip σας είναι μεγαλύτερο, δεν έχετε βελτιστοποιήσει το tfidf."
   ]
  },
  {
   "cell_type": "markdown",
   "metadata": {
    "colab_type": "text",
    "id": "UHhCkvxjnitd"
   },
   "source": [
    "<table>\n",
    "  <tr>\n",
    "    <td bgcolor=\"#FCF8E3\"><font size=\"4\">ΞΑΝΑ: Παρακαλούμε διατρέξτε βήμα-βήμα το notebook για να μην ξεχάσετε παραδοτέα!!</font>\n",
    "</td>\n",
    "  </tr>\n",
    "</table>\n"
   ]
  },
  {
   "cell_type": "markdown",
   "metadata": {
    "colab_type": "text",
    "id": "a-FvmQai5S9m"
   },
   "source": [
    "## Ημερομηνία παράδοσης ##\n",
    "\n",
    "Πέμπτη 17 Ιανουαρίου 2019 αυστηρά (παρακαλούμε όχι αιτήματα για παράταση).\n",
    "\n",
    "Καλή επιτυχία!\n"
   ]
  }
 ],
 "metadata": {
  "colab": {
   "name": "Άσκηση 2 Εκφώνηση.ipynb",
   "provenance": [],
   "version": "0.3.2"
  },
  "kernelspec": {
   "display_name": "Python 3",
   "language": "python",
   "name": "python3"
  },
  "language_info": {
   "codemirror_mode": {
    "name": "ipython",
    "version": 3
   },
   "file_extension": ".py",
   "mimetype": "text/x-python",
   "name": "python",
   "nbconvert_exporter": "python",
   "pygments_lexer": "ipython3",
   "version": "3.7.1"
  }
 },
 "nbformat": 4,
 "nbformat_minor": 1
}
