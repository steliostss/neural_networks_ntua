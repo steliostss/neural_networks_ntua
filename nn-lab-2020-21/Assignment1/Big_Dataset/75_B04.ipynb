{
  "nbformat": 4,
  "nbformat_minor": 0,
  "metadata": {
    "colab": {
      "name": "75-B04.ipynb",
      "provenance": [],
      "collapsed_sections": [
        "8qTcC3MXZYHF",
        "-VwG1AsnXIVh",
        "RjK-vcmcXgyq",
        "2vxtfq5wXjnZ",
        "x7ENPxZiXR-a",
        "IgjlviVgXDpy",
        "KSxn8inWXy_S",
        "-G_IGpeFXmTU",
        "oBwBpNPuYGk1",
        "A_mxktmDYZEF",
        "R6nmO_vWYbOt",
        "U8j0uqAVifzP",
        "setGFDRtihuh",
        "Hg4AIAYcfhx2",
        "ru2NxnNnpr5y",
        "hTCKsELvpo8L",
        "sN0ib7SUta8W",
        "5O7BUAXkh0gm",
        "NmlWi6hFh3tV",
        "H_1m26QRh59T",
        "ezQ_YYIaf0eu",
        "F7QVpWn_FhJi",
        "Sx_Pn1aWC2Aq",
        "iGuAe6_MC_dq",
        "KpZWS1vHDpSv",
        "SYrTN-o0B_sn",
        "D3rCuj0BCB4v"
      ],
      "toc_visible": true
    },
    "kernelspec": {
      "name": "python3",
      "display_name": "Python 3"
    }
  },
  "cells": [
    {
      "cell_type": "markdown",
      "metadata": {
        "id": "vmFTUBXtU7g3"
      },
      "source": [
        "# Big Dataset - B04"
      ]
    },
    {
      "cell_type": "markdown",
      "metadata": {
        "id": "8qTcC3MXZYHF"
      },
      "source": [
        "## Section A: Basic Information"
      ]
    },
    {
      "cell_type": "markdown",
      "metadata": {
        "id": "-VwG1AsnXIVh"
      },
      "source": [
        "##### Upgrade hosted runtime"
      ]
    },
    {
      "cell_type": "code",
      "metadata": {
        "id": "-0LDG4taU26H",
        "colab": {
          "base_uri": "https://localhost:8080/"
        },
        "outputId": "66f47fdb-6af2-4fa6-c295-3fbcea9c9452"
      },
      "source": [
        "!pip install --upgrade pip           #upgrade pip package installer\n",
        "!pip install --upgrade scikit-learn  #upgrade scikit-learn package\n",
        "!pip install --upgrade numpy         #upgrade numpy package\n",
        "!pip install --upgrade pandas        #upgrade #upgrade pandas package\n",
        "!pip install --upgrade joblib\n",
        "!pip install --upgrade imbalanced-learn"
      ],
      "execution_count": null,
      "outputs": [
        {
          "output_type": "stream",
          "text": [
            "Requirement already satisfied: pip in /usr/local/lib/python3.6/dist-packages (20.3.1)\n",
            "Requirement already satisfied: scikit-learn in /usr/local/lib/python3.6/dist-packages (0.23.2)\n",
            "Requirement already satisfied: numpy>=1.13.3 in /usr/local/lib/python3.6/dist-packages (from scikit-learn) (1.19.4)\n",
            "Requirement already satisfied: scipy>=0.19.1 in /usr/local/lib/python3.6/dist-packages (from scikit-learn) (1.4.1)\n",
            "Requirement already satisfied: threadpoolctl>=2.0.0 in /usr/local/lib/python3.6/dist-packages (from scikit-learn) (2.1.0)\n",
            "Requirement already satisfied: joblib>=0.11 in /usr/local/lib/python3.6/dist-packages (from scikit-learn) (0.17.0)\n",
            "Requirement already satisfied: numpy>=1.13.3 in /usr/local/lib/python3.6/dist-packages (from scikit-learn) (1.19.4)\n",
            "Requirement already satisfied: numpy in /usr/local/lib/python3.6/dist-packages (1.19.4)\n",
            "Requirement already satisfied: pandas in /usr/local/lib/python3.6/dist-packages (1.1.5)\n",
            "Requirement already satisfied: pytz>=2017.2 in /usr/local/lib/python3.6/dist-packages (from pandas) (2018.9)\n",
            "Requirement already satisfied: python-dateutil>=2.7.3 in /usr/local/lib/python3.6/dist-packages (from pandas) (2.8.1)\n",
            "Requirement already satisfied: numpy>=1.15.4 in /usr/local/lib/python3.6/dist-packages (from pandas) (1.19.4)\n",
            "Requirement already satisfied: six>=1.5 in /usr/local/lib/python3.6/dist-packages (from python-dateutil>=2.7.3->pandas) (1.15.0)\n",
            "Requirement already satisfied: joblib in /usr/local/lib/python3.6/dist-packages (0.17.0)\n",
            "Requirement already satisfied: imbalanced-learn in /usr/local/lib/python3.6/dist-packages (0.7.0)\n",
            "Requirement already satisfied: joblib>=0.11 in /usr/local/lib/python3.6/dist-packages (from imbalanced-learn) (0.17.0)\n",
            "Requirement already satisfied: numpy>=1.13.3 in /usr/local/lib/python3.6/dist-packages (from imbalanced-learn) (1.19.4)\n",
            "Requirement already satisfied: scikit-learn>=0.23 in /usr/local/lib/python3.6/dist-packages (from imbalanced-learn) (0.23.2)\n",
            "Requirement already satisfied: scipy>=0.19.1 in /usr/local/lib/python3.6/dist-packages (from imbalanced-learn) (1.4.1)\n",
            "Requirement already satisfied: joblib>=0.11 in /usr/local/lib/python3.6/dist-packages (from imbalanced-learn) (0.17.0)\n",
            "Requirement already satisfied: numpy>=1.13.3 in /usr/local/lib/python3.6/dist-packages (from imbalanced-learn) (1.19.4)\n",
            "Requirement already satisfied: threadpoolctl>=2.0.0 in /usr/local/lib/python3.6/dist-packages (from scikit-learn>=0.23->imbalanced-learn) (2.1.0)\n",
            "Requirement already satisfied: scipy>=0.19.1 in /usr/local/lib/python3.6/dist-packages (from imbalanced-learn) (1.4.1)\n",
            "Requirement already satisfied: numpy>=1.13.3 in /usr/local/lib/python3.6/dist-packages (from imbalanced-learn) (1.19.4)\n"
          ],
          "name": "stdout"
        }
      ]
    },
    {
      "cell_type": "markdown",
      "metadata": {
        "id": "RjK-vcmcXgyq"
      },
      "source": [
        "#### Q1."
      ]
    },
    {
      "cell_type": "markdown",
      "metadata": {
        "id": "P6xP-H4bVdIe"
      },
      "source": [
        "**Spambase Dataset**\n",
        "\n",
        "Το dataset αποτελεί την ανάλυση των spam και των non-spam e-mail που έχουν συλλεχθεί. Η συλλογή των spam e-mail συγκεντρώθηκε από έναν διαχειριστή ενός mailserver και διαφόρων ατόμων που αρχειοθέτησαν τα spam mails τους.  \n",
        "Τα non-spam e-mail συγκεντρώθηκαν από αρχειοθέτηση τόσο προσωπικών e-mail όσο και e-mail από εργασιακούς χώρους. Τα δεδομένα αυτά είναι χρήσιμα για την δημιουργία ενός spam filter για e-mail."
      ]
    },
    {
      "cell_type": "markdown",
      "metadata": {
        "id": "2vxtfq5wXjnZ"
      },
      "source": [
        "#### Q2"
      ]
    },
    {
      "cell_type": "markdown",
      "metadata": {
        "id": "MiLJo7N_ZbPW"
      },
      "source": [
        "Όπως βλέπουμε πιο κάτω, αλλά και από την ιστοσελίδα του [UCI-Machine Learning Repository](http://archive.ics.uci.edu/ml/datasets/Spambase):\n",
        "\n",
        "Το dataset περιέχει 4601 δείγματα και 57 χαρακτηριστικά.\n",
        "\n",
        "Τα χαρακτηριστικά αυτά χωρίζονται ώς εξής:\n",
        "1. 48 συνεχή πραγματικά τύπου real [0,100] χαρακτηριστικά τύπου: char_freq_CHAR, που αναπαριστούν το ποσοστό των χαρακτήρων που κάνουν match με **CHAR**\n",
        "2. 1 χαρακτηριστικό συνεχούς τυπου real [1,...] αποδίδει το μεσό μήκος των ακολουθιών συνεχόμενων κεφαλαίων γραμμάτων.\n",
        "3. 1 χαρακτηριστικό συνεχούς τυπου int [1,...] αποδίδει το μεγαλύτερο μήκος των ακολουθιών συνεχόμενων κεφαλαίων γραμμάτων.\n",
        "4. 1 χαρακτηριστικό συνεχούς τύπου int [1,...] αποδίδει το άθροισμα του μήκους όλων των ακολουθιών συνεχόμενων κεφαλαίων γραμμάτων.\n",
        "5. 1 χαρακτηριστικό διακριτού τύπου [0,1] αποδίδει τον τύπο του e-mail: spam / non-spam. Αυτό το χαρακτηριστικό αποτελεί το label κάθε entry του dataset."
      ]
    },
    {
      "cell_type": "markdown",
      "metadata": {
        "id": "x7ENPxZiXR-a"
      },
      "source": [
        "##### Retrieve dataset"
      ]
    },
    {
      "cell_type": "code",
      "metadata": {
        "colab": {
          "base_uri": "https://localhost:8080/"
        },
        "id": "iiOt3gViXTMg",
        "outputId": "b7db1cb1-64a2-4301-86e0-62529620c26e"
      },
      "source": [
        "import pandas as pd\n",
        "import numpy as np\n",
        "import ast\n",
        "import io\n",
        "import requests\n",
        "import matplotlib.pyplot as plt\n",
        "from urllib.error import HTTPError\n",
        "\n",
        "# datafile = \"spambase.data\"\n",
        "\n",
        "try:\n",
        "    #data without headers for better manipulation\n",
        "    spambase_data_url = \"https://raw.githubusercontent.com/steliostss/neural_networks_ntua/master/nn2020-21/Assignment1/Big_Dataset/spambase.csv\"\n",
        "    data = pd.read_csv(spambase_data_url, header=None)\n",
        "\n",
        "    #data with headers for better visualizing\n",
        "    #data_headers = pd.read_csv(data_csv_url)\n",
        "\n",
        "    print(\"Succesful file processing!\")\n",
        "\n",
        "except HTTPError:\n",
        "    print(\"URL not working.\")\n"
      ],
      "execution_count": null,
      "outputs": [
        {
          "output_type": "stream",
          "text": [
            "Succesful file processing!\n"
          ],
          "name": "stdout"
        }
      ]
    },
    {
      "cell_type": "markdown",
      "metadata": {
        "id": "IgjlviVgXDpy"
      },
      "source": [
        "##### Printing for validation / visualization"
      ]
    },
    {
      "cell_type": "code",
      "metadata": {
        "id": "r5tcB2deXECh",
        "colab": {
          "base_uri": "https://localhost:8080/"
        },
        "outputId": "85925939-1c38-4c01-e322-96e2baa26da5"
      },
      "source": [
        "#print for better visualization\n",
        "data.head(6)"
      ],
      "execution_count": null,
      "outputs": [
        {
          "output_type": "execute_result",
          "data": {
            "text/html": [
              "<div>\n",
              "<style scoped>\n",
              "    .dataframe tbody tr th:only-of-type {\n",
              "        vertical-align: middle;\n",
              "    }\n",
              "\n",
              "    .dataframe tbody tr th {\n",
              "        vertical-align: top;\n",
              "    }\n",
              "\n",
              "    .dataframe thead th {\n",
              "        text-align: right;\n",
              "    }\n",
              "</style>\n",
              "<table border=\"1\" class=\"dataframe\">\n",
              "  <thead>\n",
              "    <tr style=\"text-align: right;\">\n",
              "      <th></th>\n",
              "      <th>0</th>\n",
              "      <th>1</th>\n",
              "      <th>2</th>\n",
              "      <th>3</th>\n",
              "      <th>4</th>\n",
              "      <th>5</th>\n",
              "      <th>6</th>\n",
              "      <th>7</th>\n",
              "      <th>8</th>\n",
              "      <th>9</th>\n",
              "      <th>10</th>\n",
              "      <th>11</th>\n",
              "      <th>12</th>\n",
              "      <th>13</th>\n",
              "      <th>14</th>\n",
              "      <th>15</th>\n",
              "      <th>16</th>\n",
              "      <th>17</th>\n",
              "      <th>18</th>\n",
              "      <th>19</th>\n",
              "      <th>20</th>\n",
              "      <th>21</th>\n",
              "      <th>22</th>\n",
              "      <th>23</th>\n",
              "      <th>24</th>\n",
              "      <th>25</th>\n",
              "      <th>26</th>\n",
              "      <th>27</th>\n",
              "      <th>28</th>\n",
              "      <th>29</th>\n",
              "      <th>30</th>\n",
              "      <th>31</th>\n",
              "      <th>32</th>\n",
              "      <th>33</th>\n",
              "      <th>34</th>\n",
              "      <th>35</th>\n",
              "      <th>36</th>\n",
              "      <th>37</th>\n",
              "      <th>38</th>\n",
              "      <th>39</th>\n",
              "      <th>40</th>\n",
              "      <th>41</th>\n",
              "      <th>42</th>\n",
              "      <th>43</th>\n",
              "      <th>44</th>\n",
              "      <th>45</th>\n",
              "      <th>46</th>\n",
              "      <th>47</th>\n",
              "      <th>48</th>\n",
              "      <th>49</th>\n",
              "      <th>50</th>\n",
              "      <th>51</th>\n",
              "      <th>52</th>\n",
              "      <th>53</th>\n",
              "      <th>54</th>\n",
              "      <th>55</th>\n",
              "      <th>56</th>\n",
              "      <th>57</th>\n",
              "    </tr>\n",
              "  </thead>\n",
              "  <tbody>\n",
              "    <tr>\n",
              "      <th>0</th>\n",
              "      <td>0.00</td>\n",
              "      <td>0.64</td>\n",
              "      <td>0.64</td>\n",
              "      <td>0.0</td>\n",
              "      <td>0.32</td>\n",
              "      <td>0.00</td>\n",
              "      <td>0.00</td>\n",
              "      <td>0.00</td>\n",
              "      <td>0.00</td>\n",
              "      <td>0.00</td>\n",
              "      <td>0.00</td>\n",
              "      <td>0.64</td>\n",
              "      <td>0.00</td>\n",
              "      <td>0.00</td>\n",
              "      <td>0.00</td>\n",
              "      <td>0.32</td>\n",
              "      <td>0.00</td>\n",
              "      <td>1.29</td>\n",
              "      <td>1.93</td>\n",
              "      <td>0.00</td>\n",
              "      <td>0.96</td>\n",
              "      <td>0.0</td>\n",
              "      <td>0.00</td>\n",
              "      <td>0.00</td>\n",
              "      <td>0.0</td>\n",
              "      <td>0.0</td>\n",
              "      <td>0.0</td>\n",
              "      <td>0.0</td>\n",
              "      <td>0.0</td>\n",
              "      <td>0.0</td>\n",
              "      <td>0.0</td>\n",
              "      <td>0.0</td>\n",
              "      <td>0.0</td>\n",
              "      <td>0.0</td>\n",
              "      <td>0.0</td>\n",
              "      <td>0.0</td>\n",
              "      <td>0.00</td>\n",
              "      <td>0.0</td>\n",
              "      <td>0.0</td>\n",
              "      <td>0.00</td>\n",
              "      <td>0.0</td>\n",
              "      <td>0.0</td>\n",
              "      <td>0.00</td>\n",
              "      <td>0.0</td>\n",
              "      <td>0.00</td>\n",
              "      <td>0.00</td>\n",
              "      <td>0.0</td>\n",
              "      <td>0.0</td>\n",
              "      <td>0.00</td>\n",
              "      <td>0.000</td>\n",
              "      <td>0.0</td>\n",
              "      <td>0.778</td>\n",
              "      <td>0.000</td>\n",
              "      <td>0.000</td>\n",
              "      <td>3.756</td>\n",
              "      <td>61</td>\n",
              "      <td>278</td>\n",
              "      <td>1</td>\n",
              "    </tr>\n",
              "    <tr>\n",
              "      <th>1</th>\n",
              "      <td>0.21</td>\n",
              "      <td>0.28</td>\n",
              "      <td>0.50</td>\n",
              "      <td>0.0</td>\n",
              "      <td>0.14</td>\n",
              "      <td>0.28</td>\n",
              "      <td>0.21</td>\n",
              "      <td>0.07</td>\n",
              "      <td>0.00</td>\n",
              "      <td>0.94</td>\n",
              "      <td>0.21</td>\n",
              "      <td>0.79</td>\n",
              "      <td>0.65</td>\n",
              "      <td>0.21</td>\n",
              "      <td>0.14</td>\n",
              "      <td>0.14</td>\n",
              "      <td>0.07</td>\n",
              "      <td>0.28</td>\n",
              "      <td>3.47</td>\n",
              "      <td>0.00</td>\n",
              "      <td>1.59</td>\n",
              "      <td>0.0</td>\n",
              "      <td>0.43</td>\n",
              "      <td>0.43</td>\n",
              "      <td>0.0</td>\n",
              "      <td>0.0</td>\n",
              "      <td>0.0</td>\n",
              "      <td>0.0</td>\n",
              "      <td>0.0</td>\n",
              "      <td>0.0</td>\n",
              "      <td>0.0</td>\n",
              "      <td>0.0</td>\n",
              "      <td>0.0</td>\n",
              "      <td>0.0</td>\n",
              "      <td>0.0</td>\n",
              "      <td>0.0</td>\n",
              "      <td>0.07</td>\n",
              "      <td>0.0</td>\n",
              "      <td>0.0</td>\n",
              "      <td>0.00</td>\n",
              "      <td>0.0</td>\n",
              "      <td>0.0</td>\n",
              "      <td>0.00</td>\n",
              "      <td>0.0</td>\n",
              "      <td>0.00</td>\n",
              "      <td>0.00</td>\n",
              "      <td>0.0</td>\n",
              "      <td>0.0</td>\n",
              "      <td>0.00</td>\n",
              "      <td>0.132</td>\n",
              "      <td>0.0</td>\n",
              "      <td>0.372</td>\n",
              "      <td>0.180</td>\n",
              "      <td>0.048</td>\n",
              "      <td>5.114</td>\n",
              "      <td>101</td>\n",
              "      <td>1028</td>\n",
              "      <td>1</td>\n",
              "    </tr>\n",
              "    <tr>\n",
              "      <th>2</th>\n",
              "      <td>0.06</td>\n",
              "      <td>0.00</td>\n",
              "      <td>0.71</td>\n",
              "      <td>0.0</td>\n",
              "      <td>1.23</td>\n",
              "      <td>0.19</td>\n",
              "      <td>0.19</td>\n",
              "      <td>0.12</td>\n",
              "      <td>0.64</td>\n",
              "      <td>0.25</td>\n",
              "      <td>0.38</td>\n",
              "      <td>0.45</td>\n",
              "      <td>0.12</td>\n",
              "      <td>0.00</td>\n",
              "      <td>1.75</td>\n",
              "      <td>0.06</td>\n",
              "      <td>0.06</td>\n",
              "      <td>1.03</td>\n",
              "      <td>1.36</td>\n",
              "      <td>0.32</td>\n",
              "      <td>0.51</td>\n",
              "      <td>0.0</td>\n",
              "      <td>1.16</td>\n",
              "      <td>0.06</td>\n",
              "      <td>0.0</td>\n",
              "      <td>0.0</td>\n",
              "      <td>0.0</td>\n",
              "      <td>0.0</td>\n",
              "      <td>0.0</td>\n",
              "      <td>0.0</td>\n",
              "      <td>0.0</td>\n",
              "      <td>0.0</td>\n",
              "      <td>0.0</td>\n",
              "      <td>0.0</td>\n",
              "      <td>0.0</td>\n",
              "      <td>0.0</td>\n",
              "      <td>0.00</td>\n",
              "      <td>0.0</td>\n",
              "      <td>0.0</td>\n",
              "      <td>0.06</td>\n",
              "      <td>0.0</td>\n",
              "      <td>0.0</td>\n",
              "      <td>0.12</td>\n",
              "      <td>0.0</td>\n",
              "      <td>0.06</td>\n",
              "      <td>0.06</td>\n",
              "      <td>0.0</td>\n",
              "      <td>0.0</td>\n",
              "      <td>0.01</td>\n",
              "      <td>0.143</td>\n",
              "      <td>0.0</td>\n",
              "      <td>0.276</td>\n",
              "      <td>0.184</td>\n",
              "      <td>0.010</td>\n",
              "      <td>9.821</td>\n",
              "      <td>485</td>\n",
              "      <td>2259</td>\n",
              "      <td>1</td>\n",
              "    </tr>\n",
              "    <tr>\n",
              "      <th>3</th>\n",
              "      <td>0.00</td>\n",
              "      <td>0.00</td>\n",
              "      <td>0.00</td>\n",
              "      <td>0.0</td>\n",
              "      <td>0.63</td>\n",
              "      <td>0.00</td>\n",
              "      <td>0.31</td>\n",
              "      <td>0.63</td>\n",
              "      <td>0.31</td>\n",
              "      <td>0.63</td>\n",
              "      <td>0.31</td>\n",
              "      <td>0.31</td>\n",
              "      <td>0.31</td>\n",
              "      <td>0.00</td>\n",
              "      <td>0.00</td>\n",
              "      <td>0.31</td>\n",
              "      <td>0.00</td>\n",
              "      <td>0.00</td>\n",
              "      <td>3.18</td>\n",
              "      <td>0.00</td>\n",
              "      <td>0.31</td>\n",
              "      <td>0.0</td>\n",
              "      <td>0.00</td>\n",
              "      <td>0.00</td>\n",
              "      <td>0.0</td>\n",
              "      <td>0.0</td>\n",
              "      <td>0.0</td>\n",
              "      <td>0.0</td>\n",
              "      <td>0.0</td>\n",
              "      <td>0.0</td>\n",
              "      <td>0.0</td>\n",
              "      <td>0.0</td>\n",
              "      <td>0.0</td>\n",
              "      <td>0.0</td>\n",
              "      <td>0.0</td>\n",
              "      <td>0.0</td>\n",
              "      <td>0.00</td>\n",
              "      <td>0.0</td>\n",
              "      <td>0.0</td>\n",
              "      <td>0.00</td>\n",
              "      <td>0.0</td>\n",
              "      <td>0.0</td>\n",
              "      <td>0.00</td>\n",
              "      <td>0.0</td>\n",
              "      <td>0.00</td>\n",
              "      <td>0.00</td>\n",
              "      <td>0.0</td>\n",
              "      <td>0.0</td>\n",
              "      <td>0.00</td>\n",
              "      <td>0.137</td>\n",
              "      <td>0.0</td>\n",
              "      <td>0.137</td>\n",
              "      <td>0.000</td>\n",
              "      <td>0.000</td>\n",
              "      <td>3.537</td>\n",
              "      <td>40</td>\n",
              "      <td>191</td>\n",
              "      <td>1</td>\n",
              "    </tr>\n",
              "    <tr>\n",
              "      <th>4</th>\n",
              "      <td>0.00</td>\n",
              "      <td>0.00</td>\n",
              "      <td>0.00</td>\n",
              "      <td>0.0</td>\n",
              "      <td>0.63</td>\n",
              "      <td>0.00</td>\n",
              "      <td>0.31</td>\n",
              "      <td>0.63</td>\n",
              "      <td>0.31</td>\n",
              "      <td>0.63</td>\n",
              "      <td>0.31</td>\n",
              "      <td>0.31</td>\n",
              "      <td>0.31</td>\n",
              "      <td>0.00</td>\n",
              "      <td>0.00</td>\n",
              "      <td>0.31</td>\n",
              "      <td>0.00</td>\n",
              "      <td>0.00</td>\n",
              "      <td>3.18</td>\n",
              "      <td>0.00</td>\n",
              "      <td>0.31</td>\n",
              "      <td>0.0</td>\n",
              "      <td>0.00</td>\n",
              "      <td>0.00</td>\n",
              "      <td>0.0</td>\n",
              "      <td>0.0</td>\n",
              "      <td>0.0</td>\n",
              "      <td>0.0</td>\n",
              "      <td>0.0</td>\n",
              "      <td>0.0</td>\n",
              "      <td>0.0</td>\n",
              "      <td>0.0</td>\n",
              "      <td>0.0</td>\n",
              "      <td>0.0</td>\n",
              "      <td>0.0</td>\n",
              "      <td>0.0</td>\n",
              "      <td>0.00</td>\n",
              "      <td>0.0</td>\n",
              "      <td>0.0</td>\n",
              "      <td>0.00</td>\n",
              "      <td>0.0</td>\n",
              "      <td>0.0</td>\n",
              "      <td>0.00</td>\n",
              "      <td>0.0</td>\n",
              "      <td>0.00</td>\n",
              "      <td>0.00</td>\n",
              "      <td>0.0</td>\n",
              "      <td>0.0</td>\n",
              "      <td>0.00</td>\n",
              "      <td>0.135</td>\n",
              "      <td>0.0</td>\n",
              "      <td>0.135</td>\n",
              "      <td>0.000</td>\n",
              "      <td>0.000</td>\n",
              "      <td>3.537</td>\n",
              "      <td>40</td>\n",
              "      <td>191</td>\n",
              "      <td>1</td>\n",
              "    </tr>\n",
              "    <tr>\n",
              "      <th>5</th>\n",
              "      <td>0.00</td>\n",
              "      <td>0.00</td>\n",
              "      <td>0.00</td>\n",
              "      <td>0.0</td>\n",
              "      <td>1.85</td>\n",
              "      <td>0.00</td>\n",
              "      <td>0.00</td>\n",
              "      <td>1.85</td>\n",
              "      <td>0.00</td>\n",
              "      <td>0.00</td>\n",
              "      <td>0.00</td>\n",
              "      <td>0.00</td>\n",
              "      <td>0.00</td>\n",
              "      <td>0.00</td>\n",
              "      <td>0.00</td>\n",
              "      <td>0.00</td>\n",
              "      <td>0.00</td>\n",
              "      <td>0.00</td>\n",
              "      <td>0.00</td>\n",
              "      <td>0.00</td>\n",
              "      <td>0.00</td>\n",
              "      <td>0.0</td>\n",
              "      <td>0.00</td>\n",
              "      <td>0.00</td>\n",
              "      <td>0.0</td>\n",
              "      <td>0.0</td>\n",
              "      <td>0.0</td>\n",
              "      <td>0.0</td>\n",
              "      <td>0.0</td>\n",
              "      <td>0.0</td>\n",
              "      <td>0.0</td>\n",
              "      <td>0.0</td>\n",
              "      <td>0.0</td>\n",
              "      <td>0.0</td>\n",
              "      <td>0.0</td>\n",
              "      <td>0.0</td>\n",
              "      <td>0.00</td>\n",
              "      <td>0.0</td>\n",
              "      <td>0.0</td>\n",
              "      <td>0.00</td>\n",
              "      <td>0.0</td>\n",
              "      <td>0.0</td>\n",
              "      <td>0.00</td>\n",
              "      <td>0.0</td>\n",
              "      <td>0.00</td>\n",
              "      <td>0.00</td>\n",
              "      <td>0.0</td>\n",
              "      <td>0.0</td>\n",
              "      <td>0.00</td>\n",
              "      <td>0.223</td>\n",
              "      <td>0.0</td>\n",
              "      <td>0.000</td>\n",
              "      <td>0.000</td>\n",
              "      <td>0.000</td>\n",
              "      <td>3.000</td>\n",
              "      <td>15</td>\n",
              "      <td>54</td>\n",
              "      <td>1</td>\n",
              "    </tr>\n",
              "  </tbody>\n",
              "</table>\n",
              "</div>"
            ],
            "text/plain": [
              "     0     1     2    3     4     5   ...     52     53     54   55    56  57\n",
              "0  0.00  0.64  0.64  0.0  0.32  0.00  ...  0.000  0.000  3.756   61   278   1\n",
              "1  0.21  0.28  0.50  0.0  0.14  0.28  ...  0.180  0.048  5.114  101  1028   1\n",
              "2  0.06  0.00  0.71  0.0  1.23  0.19  ...  0.184  0.010  9.821  485  2259   1\n",
              "3  0.00  0.00  0.00  0.0  0.63  0.00  ...  0.000  0.000  3.537   40   191   1\n",
              "4  0.00  0.00  0.00  0.0  0.63  0.00  ...  0.000  0.000  3.537   40   191   1\n",
              "5  0.00  0.00  0.00  0.0  1.85  0.00  ...  0.000  0.000  3.000   15    54   1\n",
              "\n",
              "[6 rows x 58 columns]"
            ]
          },
          "metadata": {
            "tags": []
          },
          "execution_count": 176
        }
      ]
    },
    {
      "cell_type": "markdown",
      "metadata": {
        "id": "KSxn8inWXy_S"
      },
      "source": [
        "##### Custom Functions"
      ]
    },
    {
      "cell_type": "code",
      "metadata": {
        "id": "F3bVWTHaX3qL"
      },
      "source": [
        "## GATHER ALL FUNCTIONS FOR SECTION-B HERE\n",
        "\n",
        "# evaluate type of value in the given variable\n",
        "def tryeval(np_samples):\n",
        "    for row in range(len(np_samples)): \n",
        "        for col in range(len(np_samples[row])):\n",
        "            try: \n",
        "                np_samples[row][col] = ast.literal_eval(np_samples[row][col])\n",
        "            except ValueError:\n",
        "                pass\n",
        "    return np_samples\n",
        "\n",
        "# define if all features have the same type\n",
        "def features_datatypes(features):\n",
        "    datatypes = list()\n",
        "    for row in range(len(features)):\n",
        "        for col in range(len(np_samples[row])):\n",
        "            current_type = type(features[row][col])\n",
        "            if current_type not in datatypes:\n",
        "                datatypes.append(current_type)\n",
        "    return datatypes\n",
        "\n",
        "# define all class labels\n",
        "def class_labels(labels):\n",
        "    cLabels = [] # all the labels gathered\n",
        "    for col in range(len(labels)):\n",
        "        current_val = labels[col]\n",
        "        if current_val not in cLabels:\n",
        "            cLabels.append(current_val)\n",
        "    return cLabels"
      ],
      "execution_count": null,
      "outputs": []
    },
    {
      "cell_type": "code",
      "metadata": {
        "colab": {
          "base_uri": "https://localhost:8080/"
        },
        "id": "zehjWEe1hGtO",
        "outputId": "0344cb24-681e-45c1-e499-4b1a007fc7df"
      },
      "source": [
        "# gather data features in a table\n",
        "data_features = data.iloc[[0],:-1]\n",
        "( _ , number_of_features ) = data_features.shape\n",
        "print(\"Q2: Number of features = \", number_of_features)\n",
        "# print(data_features.shape) # uncomment if you want to check the results\n",
        "\n",
        "# gather data samples in a table\n",
        "data_samples = data.iloc[0:,:-1]\n",
        "( number_of_samples , _ ) = data_samples.shape\n",
        "print(\"Q2: Number of samples = \", number_of_samples)\n",
        "# print(data_samples.shape) # uncomment if you want to check the results\n",
        "\n",
        "# transform the gathered data in numpy arrays\n",
        "np_features = data_features.values\n",
        "np_samples = data_samples.values\n",
        "\n",
        "# convert the type of samples to the correct type\n",
        "np_samples = tryeval(np_samples)\n",
        "datatypes = features_datatypes(np_samples)\n",
        "\n",
        "\n",
        "print(\"Q2: Type of features =\", end=' ')\n",
        "print(*datatypes, sep = \" & \")"
      ],
      "execution_count": null,
      "outputs": [
        {
          "output_type": "stream",
          "text": [
            "Q2: Number of features =  57\n",
            "Q2: Number of samples =  4601\n",
            "Q2: Type of features = <class 'numpy.float64'>\n"
          ],
          "name": "stdout"
        }
      ]
    },
    {
      "cell_type": "markdown",
      "metadata": {
        "id": "-G_IGpeFXmTU"
      },
      "source": [
        "#### Q3"
      ]
    },
    {
      "cell_type": "markdown",
      "metadata": {
        "id": "QYAfEGWnXnlH"
      },
      "source": [
        "Δεν υπάρχουν επικεφαλίδες στο αρχείο, καθώς ούτε και αρίθμηση γραμμών. Η μόνη περιγραφή είναι στην ιστοσελίδα από όπου παρέχεται το dataset."
      ]
    },
    {
      "cell_type": "markdown",
      "metadata": {
        "id": "oBwBpNPuYGk1"
      },
      "source": [
        "#### Q4"
      ]
    },
    {
      "cell_type": "markdown",
      "metadata": {
        "id": "lOOijtSYYPxF"
      },
      "source": [
        "Οι ετικέτες των κλάσεων είναι [0, 1] και βρίσκονται στην τελευταία στήλη."
      ]
    },
    {
      "cell_type": "code",
      "metadata": {
        "colab": {
          "base_uri": "https://localhost:8080/"
        },
        "id": "vV5j2toeh5ZV",
        "outputId": "dd76a2cd-9af1-4969-aa2c-6bb9c3997ca7"
      },
      "source": [
        "# gather class labels in a table\n",
        "\n",
        "binary_class_labels = data.iloc[:, 57] \n",
        "np_labels = binary_class_labels.values.flatten()\n",
        "\n",
        "np_labels"
      ],
      "execution_count": null,
      "outputs": [
        {
          "output_type": "execute_result",
          "data": {
            "text/plain": [
              "array([1, 1, 1, ..., 0, 0, 0])"
            ]
          },
          "metadata": {
            "tags": []
          },
          "execution_count": 179
        }
      ]
    },
    {
      "cell_type": "code",
      "metadata": {
        "colab": {
          "base_uri": "https://localhost:8080/"
        },
        "id": "-DIlwaNIh76P",
        "outputId": "e156b9cd-73d6-4654-93fb-9aabb1cf1230"
      },
      "source": [
        "# make a list with all different labels\n",
        "list_of_labels = class_labels(np_labels)\n",
        "print(\"Q4: Classification Labels =\", end=' ')\n",
        "print(*list_of_labels, sep = \" & \")\n",
        "\n",
        "label_names = list()\n",
        "for i in range(len(list_of_labels)):\n",
        "    label_names.append(str(list_of_labels[i]))\n",
        "# label_names = ('0','1')\n",
        "label_names"
      ],
      "execution_count": null,
      "outputs": [
        {
          "output_type": "stream",
          "text": [
            "Q4: Classification Labels = 1 & 0\n"
          ],
          "name": "stdout"
        },
        {
          "output_type": "execute_result",
          "data": {
            "text/plain": [
              "['1', '0']"
            ]
          },
          "metadata": {
            "tags": []
          },
          "execution_count": 180
        }
      ]
    },
    {
      "cell_type": "markdown",
      "metadata": {
        "id": "A_mxktmDYZEF"
      },
      "source": [
        "#### Q5"
      ]
    },
    {
      "cell_type": "markdown",
      "metadata": {
        "id": "LZsWFdX8Yawe"
      },
      "source": [
        "Δεν χρειάστηκε να κάνουμε κάποια μετατροπή στο dataset."
      ]
    },
    {
      "cell_type": "markdown",
      "metadata": {
        "id": "R6nmO_vWYbOt"
      },
      "source": [
        "#### Q6"
      ]
    },
    {
      "cell_type": "markdown",
      "metadata": {
        "id": "ZNPX2BTKiRtP"
      },
      "source": [
        "Μέσω εντολών shell ελέγχουμε αν το dataset μας έχει κενές τιμές. Όπως φαινεται παρακάτω, δεν υπάρχουν."
      ]
    },
    {
      "cell_type": "code",
      "metadata": {
        "colab": {
          "base_uri": "https://localhost:8080/"
        },
        "id": "vv9X-A1piM9P",
        "outputId": "e6688a23-3d81-4a1a-b952-b5aad6ca04bd"
      },
      "source": [
        "# check if dataset has empty values\n",
        "# and if, how many of them\n",
        "\n",
        "!echo \"For spambase.data file, empty values: \"\n",
        "!cat spambase.data | grep \"?\" | wc -l"
      ],
      "execution_count": null,
      "outputs": [
        {
          "output_type": "stream",
          "text": [
            "For spambase.data file, empty values: \n",
            "cat: spambase.data: No such file or directory\n",
            "0\n"
          ],
          "name": "stdout"
        }
      ]
    },
    {
      "cell_type": "markdown",
      "metadata": {
        "id": "U8j0uqAVifzP"
      },
      "source": [
        "#### Q7"
      ]
    },
    {
      "cell_type": "markdown",
      "metadata": {
        "id": "g6F7k66Sinv5"
      },
      "source": [
        "Το dataset μας δεν είναι ισορροπημένο και αυτό φαίνεται στις συχνότητες παρακάτω. Θα χρησιμοποιήσουμε την μέθοδο oversampling για να το ισορροπήσουμε, καθώς έχουμε λίγα δείγματα και δεν θέλουμε να χάσουμε πληροφορία."
      ]
    },
    {
      "cell_type": "code",
      "metadata": {
        "colab": {
          "base_uri": "https://localhost:8080/"
        },
        "id": "J0qATqVMijx8",
        "outputId": "289f1f5c-cc15-4d7c-fa4f-8e9c691dc502"
      },
      "source": [
        "print(\"frequencies:\", np.bincount(np_labels))\n",
        "freq = np.bincount(np_labels)\n",
        "for i in range(len(freq)):\n",
        "    print(\"For label:\", i, \"percentage is\", \"{:.2%}\".format(freq[i]/number_of_samples))"
      ],
      "execution_count": null,
      "outputs": [
        {
          "output_type": "stream",
          "text": [
            "frequencies: [2788 1813]\n",
            "For label: 0 percentage is 60.60%\n",
            "For label: 1 percentage is 39.40%\n"
          ],
          "name": "stdout"
        }
      ]
    },
    {
      "cell_type": "markdown",
      "metadata": {
        "id": "setGFDRtihuh"
      },
      "source": [
        "#### Q8"
      ]
    },
    {
      "cell_type": "code",
      "metadata": {
        "colab": {
          "base_uri": "https://localhost:8080/"
        },
        "id": "uTdFcRzZjKbT",
        "outputId": "bd5ca43e-3d4a-4fa6-fc14-adae5a327265"
      },
      "source": [
        "from sklearn.model_selection import train_test_split\n",
        "\n",
        "# Split our data\n",
        "train, test, train_labels, test_labels = train_test_split(np_samples, \n",
        "                                                          np_labels, \n",
        "                                                          test_size=0.3)\n",
        "\n",
        "print(\"Train size:\", train.shape)\n",
        "print(\"Test size:\", test.shape)"
      ],
      "execution_count": null,
      "outputs": [
        {
          "output_type": "stream",
          "text": [
            "Train size: (3220, 57)\n",
            "Test size: (1381, 57)\n"
          ],
          "name": "stdout"
        }
      ]
    },
    {
      "cell_type": "markdown",
      "metadata": {
        "id": "7ptX4FTrhxGE"
      },
      "source": [
        "## Section B: Baseline Classification"
      ]
    },
    {
      "cell_type": "markdown",
      "metadata": {
        "id": "Hg4AIAYcfhx2"
      },
      "source": [
        "### Custom Functions"
      ]
    },
    {
      "cell_type": "code",
      "metadata": {
        "id": "IHTMROlcjJ0T"
      },
      "source": [
        "from sklearn.linear_model import LogisticRegression \n",
        "from sklearn.preprocessing import StandardScaler \n",
        "from sklearn.metrics import confusion_matrix, classification_report \n",
        "from imblearn.over_sampling import RandomOverSampler\n",
        "from imblearn.over_sampling import SMOTE\n",
        "from sklearn.dummy import DummyClassifier\n",
        "from sklearn.metrics import precision_recall_fscore_support\n",
        "from sklearn.metrics import classification_report\n",
        "from matplotlib import pyplot as plt\n",
        "import time\n",
        "\n",
        "def print_precision_recall_fscore_support(method, test_labels, pred, label_names):\n",
        "    print(method, end = '\\n\\n')\n",
        "    (none, micro, macro, weighted) = get_PRFS(method, test_labels, pred, label_names)\n",
        "    print(\"none     :\", none )\n",
        "    print(\"micro    :\", micro )\n",
        "    print(\"macro    :\", macro )\n",
        "    print(\"weighted :\", weighted, end = '\\n\\n')\n",
        "    print(classification_report(test_labels, pred, target_names=label_names), end = '\\n\\n')\n",
        "\n",
        "    ( _ , _ , microF1    , _ ) = micro\n",
        "    ( _ , _ , macroF1    , _ ) = macro\n",
        "    ( _ , _ , weightedF1 , _ ) = weighted\n",
        "\n",
        "    barplotF1 = (microF1, macroF1, weightedF1)\n",
        "    xaxis = (\"microF1\", \"macroF1\", \"weightedF1\")\n",
        "    plt.figure(figsize=(10,5))\n",
        "    plt.bar(xaxis, barplotF1)\n",
        "    plt.show()\n",
        "    print(\"---------------------------------------------------------------------------------------------------------------------\", end = '\\n')\n",
        "    print(\"---------------------------------------------------------------------------------------------------------------------\", end = '\\n\\n')\n",
        "\n",
        "# get_precision_recall_fscore_support\n",
        "def get_PRFS(method, test_labels, pred, label_names):\n",
        "    none = precision_recall_fscore_support(test_labels, pred, average=None)\n",
        "    micro = precision_recall_fscore_support(test_labels, pred, average='micro')\n",
        "    macro = precision_recall_fscore_support(test_labels, pred, average='macro')\n",
        "    weighted = precision_recall_fscore_support(test_labels, pred, average='weighted')\n",
        "    return (none, micro, macro, weighted)"
      ],
      "execution_count": null,
      "outputs": []
    },
    {
      "cell_type": "markdown",
      "metadata": {
        "id": "ru2NxnNnpr5y"
      },
      "source": [
        "### Dummy Classifier"
      ]
    },
    {
      "cell_type": "code",
      "metadata": {
        "id": "PmH_fHCdn7jR"
      },
      "source": [
        "# We will use the below dictionaries to compare the results of each classifier\n",
        "f1_macro_default={}\n",
        "f1_macro_optimized={}\n",
        "\n",
        "f1_micro_default={}\n",
        "f1_micro_optimized={}\n",
        "\n",
        "train_time_default={}\n",
        "train_time_optimized={}\n",
        "\n",
        "predict_time_default={}\n",
        "predict_time_optimized={}"
      ],
      "execution_count": null,
      "outputs": []
    },
    {
      "cell_type": "code",
      "metadata": {
        "id": "wTPZvbX8pE7p"
      },
      "source": [
        "from sklearn.dummy import DummyClassifier\n",
        "dc_uniform = DummyClassifier(strategy=\"uniform\")\n",
        "dc_constant_0 = DummyClassifier(strategy=\"constant\", constant=0)\n",
        "dc_constant_1 = DummyClassifier(strategy=\"constant\", constant=1)\n",
        "dc_most_frequent = DummyClassifier(strategy=\"most_frequent\")\n",
        "dc_stratified = DummyClassifier(strategy=\"stratified\")"
      ],
      "execution_count": null,
      "outputs": []
    },
    {
      "cell_type": "code",
      "metadata": {
        "colab": {
          "base_uri": "https://localhost:8080/"
        },
        "id": "W-kKeNlTpF73",
        "outputId": "f3c7e6da-6e74-4228-c7bf-317e5f7f895b"
      },
      "source": [
        "# με τη μέθοδο fit \"εκπαιδεύουμε\" τον ταξινομητή στο σύνολο εκπαίδευσης (τα χαρακτηριστικά και τις ετικέτες τους)\n",
        "from sklearn.metrics import accuracy_score\n",
        "\n",
        "# με τη μέθοδο predict παράγουμε προβλέψεις για τα δεδομένα ελέγχου (είσοδος τα χαρακτηριστικά μόνο)\n",
        "predictions = {}\n",
        "spambase_accuracy = {}\n",
        "\n",
        "model_dc_uni = dc_uniform.fit(train, train_labels)\n",
        "preds = model_dc_uni.predict(test)\n",
        "predictions['dc_uniform'] = preds\n",
        "spambase_accuracy['uniform (random)'] = accuracy_score(test_labels, preds)\n",
        "\n",
        "\n",
        "model_dc_con0 = dc_constant_0.fit(train, train_labels)\n",
        "preds = model_dc_con0.predict(test)\n",
        "predictions['dc_constant_0'] = preds\n",
        "spambase_accuracy['constant 0'] = accuracy_score(test_labels, preds)\n",
        "\n",
        "model_dc_con1 = dc_constant_1.fit(train, train_labels)\n",
        "preds = model_dc_con1.predict(test)\n",
        "predictions['dc_constant_1'] = preds\n",
        "spambase_accuracy['constant 1'] = accuracy_score(test_labels, preds)\n",
        "\n",
        "model_dc_freq = dc_most_frequent.fit(train, train_labels)\n",
        "preds = model_dc_freq.predict(test)\n",
        "predictions['dc_most_frequent'] = preds\n",
        "spambase_accuracy['most frequent label'] = accuracy_score(test_labels, preds)\n",
        "\n",
        "start_time = time.time()\n",
        "model_dc_strat = dc_stratified.fit(train, train_labels)\n",
        "train_time = (time.time() - start_time)\n",
        "\n",
        "train_time_default['Dummy'] = train_time\n",
        "train_time_optimized['Dummy'] = train_time\n",
        "\n",
        "start_time = time.time()\n",
        "preds = model_dc_strat.predict(test)\n",
        "predictions['dc_stratified'] = preds\n",
        "spambase_accuracy['stratified'] = accuracy_score(test_labels, preds)\n",
        "pred_time = (time.time() - start_time)\n",
        "\n",
        "predict_time_default['Dummy'] = train_time\n",
        "predict_time_optimized['Dummy'] = train_time\n",
        "\n",
        "for i in predictions:\n",
        "    print(\"Prediction for\", i, '=', predictions[i])\n",
        "\n",
        "print()\n",
        "    \n",
        "print(\"Classification Accuracy on the Spambase Dataset (30% test set)\\n\")\n",
        "sorted_accuracy = [(k, spambase_accuracy[k]) for k in sorted(spambase_accuracy, key=spambase_accuracy.get, reverse=True)]\n",
        "\n",
        "print(\"----------Results are sorted----------\\n\")\n",
        "\n",
        "for k,v in sorted_accuracy:\n",
        "    print(k,v)"
      ],
      "execution_count": null,
      "outputs": [
        {
          "output_type": "stream",
          "text": [
            "Prediction for dc_uniform = [0 0 0 ... 1 0 1]\n",
            "Prediction for dc_constant_0 = [0 0 0 ... 0 0 0]\n",
            "Prediction for dc_constant_1 = [1 1 1 ... 1 1 1]\n",
            "Prediction for dc_most_frequent = [0 0 0 ... 0 0 0]\n",
            "Prediction for dc_stratified = [0 1 0 ... 0 0 0]\n",
            "\n",
            "Classification Accuracy on the Spambase Dataset (30% test set)\n",
            "\n",
            "----------Results are sorted----------\n",
            "\n",
            "constant 0 0.5894279507603186\n",
            "most frequent label 0.5894279507603186\n",
            "stratified 0.5242577842143374\n",
            "uniform (random) 0.498189717595945\n",
            "constant 1 0.4105720492396814\n"
          ],
          "name": "stdout"
        }
      ]
    },
    {
      "cell_type": "code",
      "metadata": {
        "colab": {
          "base_uri": "https://localhost:8080/"
        },
        "id": "fLp6Dn5opK6B",
        "outputId": "c4ce88e4-f529-431d-a80e-0f97ff6155dd"
      },
      "source": [
        "from sklearn.metrics import confusion_matrix\n",
        "# Compute confusion matrix\n",
        "\n",
        "print(\"Confusion matrices\\n\")\n",
        "for i in predictions:\n",
        "    # print confusion matrix\n",
        "    cnf_matrix = confusion_matrix(test_labels, predictions[i])\n",
        "    print(i)\n",
        "    print(cnf_matrix, end='\\n\\n')"
      ],
      "execution_count": null,
      "outputs": [
        {
          "output_type": "stream",
          "text": [
            "Confusion matrices\n",
            "\n",
            "dc_uniform\n",
            "[[416 398]\n",
            " [295 272]]\n",
            "\n",
            "dc_constant_0\n",
            "[[814   0]\n",
            " [567   0]]\n",
            "\n",
            "dc_constant_1\n",
            "[[  0 814]\n",
            " [  0 567]]\n",
            "\n",
            "dc_most_frequent\n",
            "[[814   0]\n",
            " [567   0]]\n",
            "\n",
            "dc_stratified\n",
            "[[498 316]\n",
            " [341 226]]\n",
            "\n"
          ],
          "name": "stdout"
        }
      ]
    },
    {
      "cell_type": "markdown",
      "metadata": {
        "id": "BQM9QscazUTs"
      },
      "source": [
        "Σχετικά με τα confusion matrix παραπάνω:\n",
        "1. Για στρατηγική constant, δεν έχουμε καμία πρόβλεψη για την αντίθετη κλάση, γι αυτό δεν έχουμε και false positives / false negatives.\n",
        "2. Αντίστοιχα στο most frequent, όπου η κλάση 0 είναι η πιο συχνή, έχουμε ίδιο αποτέλεσμα με την constant 0 στρατηγική.\n",
        "3. Η uniform ναι μεν παράγει τυχαία αποτελέσματα αλλά με ομοιόμορφη κατανομή και βλέπουμε πως αποτυγχάνει στην κλάση 1, καθώς η ομοιόμορφη κατανομή ευνοεί την πολυπληθέστερη κλάση.\n",
        "4. Στην stratified έχουμε μια παρόμοια με την uniform κατανομή αποτελεσμάτων."
      ]
    },
    {
      "cell_type": "code",
      "metadata": {
        "colab": {
          "base_uri": "https://localhost:8080/",
          "height": 1000
        },
        "id": "TnmrZME6pcMl",
        "outputId": "7a6fe6b4-baf1-4fa8-9252-f70aded19bd1"
      },
      "source": [
        "for i in predictions:\n",
        "    print_precision_recall_fscore_support(i, test_labels, predictions[i], label_names)"
      ],
      "execution_count": null,
      "outputs": [
        {
          "output_type": "stream",
          "text": [
            "dc_uniform\n",
            "\n",
            "none     : (array([0.58509142, 0.40597015]), array([0.51105651, 0.47971781]), array([0.54557377, 0.43977365]), array([814, 567]))\n",
            "micro    : (0.498189717595945, 0.498189717595945, 0.498189717595945, None)\n",
            "macro    : (0.4955307848940949, 0.4953871620538287, 0.4926737082046729, None)\n",
            "weighted : (0.5115492331223135, 0.498189717595945, 0.5021351965355355, None)\n",
            "\n",
            "              precision    recall  f1-score   support\n",
            "\n",
            "           1       0.59      0.51      0.55       814\n",
            "           0       0.41      0.48      0.44       567\n",
            "\n",
            "    accuracy                           0.50      1381\n",
            "   macro avg       0.50      0.50      0.49      1381\n",
            "weighted avg       0.51      0.50      0.50      1381\n",
            "\n",
            "\n"
          ],
          "name": "stdout"
        },
        {
          "output_type": "display_data",
          "data": {
            "image/png": "[encoded data removed]",
            "text/plain": [
              "<Figure size 720x360 with 1 Axes>"
            ]
          },
          "metadata": {
            "tags": [],
            "needs_background": "light"
          }
        },
        {
          "output_type": "stream",
          "text": [
            "---------------------------------------------------------------------------------------------------------------------\n",
            "---------------------------------------------------------------------------------------------------------------------\n",
            "\n",
            "dc_constant_0\n",
            "\n",
            "none     : (array([0.58942795, 0.        ]), array([1., 0.]), array([0.74168565, 0.        ]), array([814, 567]))\n",
            "micro    : (0.5894279507603186, 0.5894279507603186, 0.5894279507603186, None)\n",
            "macro    : (0.2947139753801593, 0.5, 0.37084282460136675, None)\n",
            "weighted : (0.3474253091375086, 0.5894279507603186, 0.43717025231790374, None)\n",
            "\n",
            "              precision    recall  f1-score   support\n",
            "\n",
            "           1       0.59      1.00      0.74       814\n",
            "           0       0.00      0.00      0.00       567\n",
            "\n",
            "    accuracy                           0.59      1381\n",
            "   macro avg       0.29      0.50      0.37      1381\n",
            "weighted avg       0.35      0.59      0.44      1381\n",
            "\n",
            "\n"
          ],
          "name": "stdout"
        },
        {
          "output_type": "stream",
          "text": [
            "/usr/local/lib/python3.6/dist-packages/sklearn/metrics/_classification.py:1221: UndefinedMetricWarning: Precision and F-score are ill-defined and being set to 0.0 in labels with no predicted samples. Use `zero_division` parameter to control this behavior.\n",
            "  _warn_prf(average, modifier, msg_start, len(result))\n"
          ],
          "name": "stderr"
        },
        {
          "output_type": "display_data",
          "data": {
            "image/png": "[encoded data removed]",
            "text/plain": [
              "<Figure size 720x360 with 1 Axes>"
            ]
          },
          "metadata": {
            "tags": [],
            "needs_background": "light"
          }
        },
        {
          "output_type": "stream",
          "text": [
            "---------------------------------------------------------------------------------------------------------------------\n",
            "---------------------------------------------------------------------------------------------------------------------\n",
            "\n",
            "dc_constant_1\n",
            "\n",
            "none     : (array([0.        , 0.41057205]), array([0., 1.]), array([0.        , 0.58213552]), array([814, 567]))\n",
            "micro    : (0.4105720492396814, 0.4105720492396814, 0.41057204923968144, None)\n",
            "macro    : (0.2052860246198407, 0.5, 0.2910677618069815, None)\n",
            "weighted : (0.16856940761687136, 0.4105720492396814, 0.23900857486539975, None)\n",
            "\n",
            "              precision    recall  f1-score   support\n",
            "\n",
            "           1       0.00      0.00      0.00       814\n",
            "           0       0.41      1.00      0.58       567\n",
            "\n",
            "    accuracy                           0.41      1381\n",
            "   macro avg       0.21      0.50      0.29      1381\n",
            "weighted avg       0.17      0.41      0.24      1381\n",
            "\n",
            "\n"
          ],
          "name": "stdout"
        },
        {
          "output_type": "display_data",
          "data": {
            "image/png": "[encoded data removed]",
            "text/plain": [
              "<Figure size 720x360 with 1 Axes>"
            ]
          },
          "metadata": {
            "tags": [],
            "needs_background": "light"
          }
        },
        {
          "output_type": "stream",
          "text": [
            "---------------------------------------------------------------------------------------------------------------------\n",
            "---------------------------------------------------------------------------------------------------------------------\n",
            "\n",
            "dc_most_frequent\n",
            "\n",
            "none     : (array([0.58942795, 0.        ]), array([1., 0.]), array([0.74168565, 0.        ]), array([814, 567]))\n",
            "micro    : (0.5894279507603186, 0.5894279507603186, 0.5894279507603186, None)\n",
            "macro    : (0.2947139753801593, 0.5, 0.37084282460136675, None)\n",
            "weighted : (0.3474253091375086, 0.5894279507603186, 0.43717025231790374, None)\n",
            "\n",
            "              precision    recall  f1-score   support\n",
            "\n",
            "           1       0.59      1.00      0.74       814\n",
            "           0       0.00      0.00      0.00       567\n",
            "\n",
            "    accuracy                           0.59      1381\n",
            "   macro avg       0.29      0.50      0.37      1381\n",
            "weighted avg       0.35      0.59      0.44      1381\n",
            "\n",
            "\n"
          ],
          "name": "stdout"
        },
        {
          "output_type": "display_data",
          "data": {
            "image/png": "[encoded data removed]",
            "text/plain": [
              "<Figure size 720x360 with 1 Axes>"
            ]
          },
          "metadata": {
            "tags": [],
            "needs_background": "light"
          }
        },
        {
          "output_type": "stream",
          "text": [
            "---------------------------------------------------------------------------------------------------------------------\n",
            "---------------------------------------------------------------------------------------------------------------------\n",
            "\n",
            "dc_stratified\n",
            "\n",
            "none     : (array([0.59356377, 0.41697417]), array([0.61179361, 0.39858907]), array([0.60254083, 0.40757439]), array([814, 567]))\n",
            "micro    : (0.5242577842143374, 0.5242577842143374, 0.5242577842143374, None)\n",
            "macro    : (0.5052689680651277, 0.5051913385246718, 0.5050576130946438, None)\n",
            "weighted : (0.5210610138188475, 0.5242577842143374, 0.5224930626040715, None)\n",
            "\n",
            "              precision    recall  f1-score   support\n",
            "\n",
            "           1       0.59      0.61      0.60       814\n",
            "           0       0.42      0.40      0.41       567\n",
            "\n",
            "    accuracy                           0.52      1381\n",
            "   macro avg       0.51      0.51      0.51      1381\n",
            "weighted avg       0.52      0.52      0.52      1381\n",
            "\n",
            "\n"
          ],
          "name": "stdout"
        },
        {
          "output_type": "display_data",
          "data": {
            "image/png": "[encoded data removed]",
            "text/plain": [
              "<Figure size 720x360 with 1 Axes>"
            ]
          },
          "metadata": {
            "tags": [],
            "needs_background": "light"
          }
        },
        {
          "output_type": "stream",
          "text": [
            "---------------------------------------------------------------------------------------------------------------------\n",
            "---------------------------------------------------------------------------------------------------------------------\n",
            "\n"
          ],
          "name": "stdout"
        }
      ]
    },
    {
      "cell_type": "code",
      "metadata": {
        "colab": {
          "base_uri": "https://localhost:8080/"
        },
        "id": "h3PGxBXophP6",
        "outputId": "3b5b2bf7-725d-422b-fe8e-5768a6967134"
      },
      "source": [
        "print(train_time_default)\n",
        "print(predict_time_default)"
      ],
      "execution_count": null,
      "outputs": [
        {
          "output_type": "stream",
          "text": [
            "{'Dummy': 0.0002720355987548828}\n",
            "{'Dummy': 0.0002720355987548828}\n"
          ],
          "name": "stdout"
        }
      ]
    },
    {
      "cell_type": "code",
      "metadata": {
        "colab": {
          "base_uri": "https://localhost:8080/"
        },
        "id": "jE5RDgxypjnM",
        "outputId": "b4919e4c-5339-4d2e-8159-1dde5c439ffc"
      },
      "source": [
        "#There is no point of optimizing the dummy classifier, so we will take as optimized the default value again\n",
        "report_dict = classification_report(test_labels, preds, output_dict = True)\n",
        "f1_macro_default['Dummy'] = report_dict['macro avg']['f1-score']\n",
        "f1_macro_optimized['Dummy'] = report_dict['macro avg']['f1-score']\n",
        "\n",
        "f1_micro_default['Dummy'] = report_dict['accuracy']\n",
        "f1_micro_optimized['Dummy'] = report_dict['accuracy']\n",
        "\n",
        "print(f1_macro_default)\n",
        "print(f1_micro_default)"
      ],
      "execution_count": null,
      "outputs": [
        {
          "output_type": "stream",
          "text": [
            "{'Dummy': 0.5050576130946438}\n",
            "{'Dummy': 0.5242577842143374}\n"
          ],
          "name": "stdout"
        }
      ]
    },
    {
      "cell_type": "markdown",
      "metadata": {
        "id": "0H4We8TLssav"
      },
      "source": [
        "Όπως βλέπουμε, ο Dummy classifier δεν είναι πολύ αποδοτικός. Το καλύτερό του αποτέλεσμα προέκυψε από τη στρατηγική dc_constant = 1 και αυτό γιατί το dataset μας έχει μια μικρή κλίση προς το label 1."
      ]
    },
    {
      "cell_type": "markdown",
      "metadata": {
        "id": "hTCKsELvpo8L"
      },
      "source": [
        "### Gaussian Naive Bayes Classifier"
      ]
    },
    {
      "cell_type": "code",
      "metadata": {
        "colab": {
          "base_uri": "https://localhost:8080/"
        },
        "id": "mzd4xW5Cpwg0",
        "outputId": "f7b35fb0-d123-4753-a5ed-2836575ff0b9"
      },
      "source": [
        "from sklearn.naive_bayes import GaussianNB\n",
        "gnb = GaussianNB()\n",
        "\n",
        "# κάνουμε εκπαίδευση (fit) δηλαδή ουσιαστικά υπολογίζουμε μέση τιμή και διακύμανση για όλα τα χαρακτηριστικά και κλάσεις στο training set\n",
        "start_time = time.time()\n",
        "model_gnb = gnb.fit(train, train_labels)\n",
        "train_time = (time.time() - start_time)\n",
        "\n",
        "train_time_default['GaussianNB'] = train_time\n",
        "\n",
        "start_time = time.time()\n",
        "preds = model_gnb.predict(test)\n",
        "train_time = (time.time() - start_time)\n",
        "\n",
        "predict_time_default['GaussianNB'] = train_time\n",
        "\n",
        "# η GaussianNB έχει builtin μέθοδο υπολογισμό accuracy. Αποθηκεύουμε την τιμή της στον πίνακά μας με τα αποτελέσματα από τα άλλα classifiers\n",
        "spambase_accuracy['gaussian naive bayes'] = model_gnb.score(test, test_labels)\n",
        "\n",
        "# και ξανατυπώνουμε τα sorted αποτελέσματα\n",
        "print(\"Classification Accuracy on the Spambase Dataset (30% test set)\\n\")\n",
        "\n",
        "print(\"---------- Results are sorted ----------\\n\")\n",
        "\n",
        "sorted_accuracy = [(k, spambase_accuracy[k]) for k in sorted(spambase_accuracy, key=spambase_accuracy.get, reverse=True)]\n",
        "for k, v in sorted_accuracy:\n",
        "    print(k,v)"
      ],
      "execution_count": null,
      "outputs": [
        {
          "output_type": "stream",
          "text": [
            "Classification Accuracy on the Spambase Dataset (30% test set)\n",
            "\n",
            "---------- Results are sorted ----------\n",
            "\n",
            "gaussian naive bayes 0.8291093410572049\n",
            "constant 0 0.5894279507603186\n",
            "most frequent label 0.5894279507603186\n",
            "stratified 0.5242577842143374\n",
            "uniform (random) 0.498189717595945\n",
            "constant 1 0.4105720492396814\n"
          ],
          "name": "stdout"
        }
      ]
    },
    {
      "cell_type": "code",
      "metadata": {
        "colab": {
          "base_uri": "https://localhost:8080/"
        },
        "id": "VweIClDZr4-a",
        "outputId": "55301153-c26c-4fc7-c658-aa1c7e87e97d"
      },
      "source": [
        "# Compute confusion matrix\n",
        "pred = model_gnb.predict(test)\n",
        "print(\"Confusion matrix\\n\")\n",
        "cnf_matrix = confusion_matrix(test_labels, pred)\n",
        "print(\"Gaussian Naive Bayes\")\n",
        "print(cnf_matrix, end='\\n\\n')"
      ],
      "execution_count": null,
      "outputs": [
        {
          "output_type": "stream",
          "text": [
            "Confusion matrix\n",
            "\n",
            "Gaussian Naive Bayes\n",
            "[[600 214]\n",
            " [ 22 545]]\n",
            "\n"
          ],
          "name": "stdout"
        }
      ]
    },
    {
      "cell_type": "markdown",
      "metadata": {
        "id": "yo2e-xWw05Kb"
      },
      "source": [
        "Βλέπουμε πως καταφέρνουμε να μαντέψουμε σωστά την κλάση 0, όμως αποτυγχάνουμε στην κλάση 1. Αυτό πιθανόν να οφείλεται στην ύπαρξη περισσότερων δειγμάτων από την κλάση 0."
      ]
    },
    {
      "cell_type": "code",
      "metadata": {
        "colab": {
          "base_uri": "https://localhost:8080/",
          "height": 660
        },
        "id": "TSEoiiqWr5J3",
        "outputId": "2739ee7e-fa14-4036-f03b-991ebf446cc9"
      },
      "source": [
        "print_precision_recall_fscore_support(\"GaussianNB\", test_labels, pred, label_names)"
      ],
      "execution_count": null,
      "outputs": [
        {
          "output_type": "stream",
          "text": [
            "GaussianNB\n",
            "\n",
            "none     : (array([0.96463023, 0.71805007]), array([0.73710074, 0.96119929]), array([0.8356546 , 0.82202112]), array([814, 567]))\n",
            "micro    : (0.8291093410572049, 0.8291093410572049, 0.8291093410572049, None)\n",
            "macro    : (0.8413401454782694, 0.8491500158166825, 0.8288378561195209, None)\n",
            "weighted : (0.863391303814057, 0.8291093410572049, 0.830057070294211, None)\n",
            "\n",
            "              precision    recall  f1-score   support\n",
            "\n",
            "           1       0.96      0.74      0.84       814\n",
            "           0       0.72      0.96      0.82       567\n",
            "\n",
            "    accuracy                           0.83      1381\n",
            "   macro avg       0.84      0.85      0.83      1381\n",
            "weighted avg       0.86      0.83      0.83      1381\n",
            "\n",
            "\n"
          ],
          "name": "stdout"
        },
        {
          "output_type": "display_data",
          "data": {
            "image/png": "[encoded data removed]",
            "text/plain": [
              "<Figure size 720x360 with 1 Axes>"
            ]
          },
          "metadata": {
            "tags": [],
            "needs_background": "light"
          }
        },
        {
          "output_type": "stream",
          "text": [
            "---------------------------------------------------------------------------------------------------------------------\n",
            "---------------------------------------------------------------------------------------------------------------------\n",
            "\n"
          ],
          "name": "stdout"
        }
      ]
    },
    {
      "cell_type": "code",
      "metadata": {
        "colab": {
          "base_uri": "https://localhost:8080/"
        },
        "id": "1xIMatzJr5R_",
        "outputId": "0acae186-92c7-4ea7-e55f-74eb15f04de4"
      },
      "source": [
        "print(train_time_default)\n",
        "print(predict_time_default)"
      ],
      "execution_count": null,
      "outputs": [
        {
          "output_type": "stream",
          "text": [
            "{'Dummy': 0.0002720355987548828, 'GaussianNB': 0.009163618087768555}\n",
            "{'Dummy': 0.0002720355987548828, 'GaussianNB': 0.0024285316467285156}\n"
          ],
          "name": "stdout"
        }
      ]
    },
    {
      "cell_type": "code",
      "metadata": {
        "colab": {
          "base_uri": "https://localhost:8080/"
        },
        "id": "f_YwR5mNr-Tu",
        "outputId": "03c36c22-4a34-42ce-f62e-eeb435a395cd"
      },
      "source": [
        "report_dict = classification_report(test_labels, preds, output_dict = True)\n",
        "f1_macro_default['GaussianNB'] = report_dict['macro avg']['f1-score']\n",
        "f1_micro_default['GaussianNB'] = report_dict['accuracy']\n",
        "\n",
        "print(f1_macro_default)\n",
        "print(f1_micro_default)"
      ],
      "execution_count": null,
      "outputs": [
        {
          "output_type": "stream",
          "text": [
            "{'Dummy': 0.5050576130946438, 'GaussianNB': 0.8288378561195209}\n",
            "{'Dummy': 0.5242577842143374, 'GaussianNB': 0.8291093410572049}\n"
          ],
          "name": "stdout"
        }
      ]
    },
    {
      "cell_type": "markdown",
      "metadata": {
        "id": "gNVeZYAisDrl"
      },
      "source": [
        "Όπως βλέπουμε, έχουμε πολύ καλύτερα αποτελέσματα από τον Dummy Classifier, φτάνοντας ένα αρκετά καλό f1-score. Επιπλέον, είναι εμφανές ότι το f1-macro και f1-micro score είναι αρκετά κοντά, όπως περιμέναμε, καθώς οι κλάσεις μας είναι πάνω κάτω ισορροπημένες στην κατανομή."
      ]
    },
    {
      "cell_type": "markdown",
      "metadata": {
        "id": "FYQUTdHttKhd"
      },
      "source": [
        "### k Nearest Neighbors Classifier (kNN)\n"
      ]
    },
    {
      "cell_type": "code",
      "metadata": {
        "colab": {
          "base_uri": "https://localhost:8080/"
        },
        "id": "KyhmrmzUtYLf",
        "outputId": "2f2409ed-c64a-4b8b-ac2c-bc35da4761fa"
      },
      "source": [
        "from sklearn.neighbors import KNeighborsClassifier\n",
        "\n",
        "knn = KNeighborsClassifier()\n",
        "\n",
        "start_time = time.time()\n",
        "knn.fit(train, train_labels)\n",
        "total_time = (time.time() - start_time)\n",
        "\n",
        "train_time_default['kNN'] = total_time\n",
        "print(\"Fit done in:\",total_time,\"seconds\")\n",
        "\n",
        "start_time = time.time()\n",
        "pred = knn.predict(test)\n",
        "total_time = (time.time() - start_time)\n",
        "\n",
        "predict_time_default['kNN'] = total_time\n",
        "\n",
        "cnf_matrix = confusion_matrix(test_labels, pred)\n",
        "\n",
        "print(cnf_matrix)\n"
      ],
      "execution_count": null,
      "outputs": [
        {
          "output_type": "stream",
          "text": [
            "Fit done in: 0.027793407440185547 seconds\n",
            "[[683 131]\n",
            " [146 421]]\n"
          ],
          "name": "stdout"
        }
      ]
    },
    {
      "cell_type": "code",
      "metadata": {
        "colab": {
          "base_uri": "https://localhost:8080/",
          "height": 660
        },
        "id": "Ymd_SPF7th4D",
        "outputId": "1193533d-e520-48ee-f5d9-e54902993781"
      },
      "source": [
        "print_precision_recall_fscore_support(\"KNeighborsClassifier\", test_labels, pred, label_names)"
      ],
      "execution_count": null,
      "outputs": [
        {
          "output_type": "stream",
          "text": [
            "KNeighborsClassifier\n",
            "\n",
            "none     : (array([0.8238842 , 0.76268116]), array([0.83906634, 0.74250441]), array([0.83140596, 0.75245755]), array([814, 567]))\n",
            "micro    : (0.7994207096307024, 0.7994207096307024, 0.7994207096307024, None)\n",
            "macro    : (0.7932826786244995, 0.7907853741187074, 0.7919317580419436, None)\n",
            "weighted : (0.7987559409296695, 0.7994207096307024, 0.7989919528603535, None)\n",
            "\n",
            "              precision    recall  f1-score   support\n",
            "\n",
            "           1       0.82      0.84      0.83       814\n",
            "           0       0.76      0.74      0.75       567\n",
            "\n",
            "    accuracy                           0.80      1381\n",
            "   macro avg       0.79      0.79      0.79      1381\n",
            "weighted avg       0.80      0.80      0.80      1381\n",
            "\n",
            "\n"
          ],
          "name": "stdout"
        },
        {
          "output_type": "display_data",
          "data": {
            "image/png": "[encoded data removed]",
            "text/plain": [
              "<Figure size 720x360 with 1 Axes>"
            ]
          },
          "metadata": {
            "tags": [],
            "needs_background": "light"
          }
        },
        {
          "output_type": "stream",
          "text": [
            "---------------------------------------------------------------------------------------------------------------------\n",
            "---------------------------------------------------------------------------------------------------------------------\n",
            "\n"
          ],
          "name": "stdout"
        }
      ]
    },
    {
      "cell_type": "code",
      "metadata": {
        "colab": {
          "base_uri": "https://localhost:8080/"
        },
        "id": "f-8YFTI8tl39",
        "outputId": "5049e82c-2f06-4ce1-ed20-5041ae719260"
      },
      "source": [
        "print(train_time_default)\n",
        "print(predict_time_default)"
      ],
      "execution_count": null,
      "outputs": [
        {
          "output_type": "stream",
          "text": [
            "{'Dummy': 0.0002720355987548828, 'GaussianNB': 0.009163618087768555, 'kNN': 0.027793407440185547}\n",
            "{'Dummy': 0.0002720355987548828, 'GaussianNB': 0.0024285316467285156, 'kNN': 0.08798456192016602}\n"
          ],
          "name": "stdout"
        }
      ]
    },
    {
      "cell_type": "code",
      "metadata": {
        "colab": {
          "base_uri": "https://localhost:8080/"
        },
        "id": "Xe9G8ztDtmjj",
        "outputId": "049c5db5-ca11-4198-fdc8-5e867861451d"
      },
      "source": [
        "report_dict = classification_report(test_labels, preds, output_dict = True)\n",
        "f1_macro_default['kNN'] = report_dict['macro avg']['f1-score']\n",
        "f1_micro_default['kNN'] = report_dict['accuracy']\n",
        "\n",
        "print(f1_macro_default)\n",
        "print(f1_micro_default)"
      ],
      "execution_count": null,
      "outputs": [
        {
          "output_type": "stream",
          "text": [
            "{'Dummy': 0.5050576130946438, 'GaussianNB': 0.8288378561195209, 'kNN': 0.8288378561195209}\n",
            "{'Dummy': 0.5242577842143374, 'GaussianNB': 0.8291093410572049, 'kNN': 0.8291093410572049}\n"
          ],
          "name": "stdout"
        }
      ]
    },
    {
      "cell_type": "markdown",
      "metadata": {
        "id": "_GdObOzhukEf"
      },
      "source": [
        "Όπως βλέπουμε ο kNN δεν μας δίνει καλύτερα αποτελέσματα από ότι ο GaussianNB Classifier στο συγκεκριμένο dataset. \n",
        "\n",
        "Αυτό πιθανόν να οφείλεται στο γεγονός ότι έχουμε πολλά χαρακτηριστικά, οπότε και μεγάλη διαστασιμότητα (dimensionality). Περιμένουμε σημαντική βελτίωση όταν κανονικοποιήσουμε τα δεδομένα μας."
      ]
    },
    {
      "cell_type": "markdown",
      "metadata": {
        "id": "CkRQyZRJtY98"
      },
      "source": [
        "### MLP Classifier"
      ]
    },
    {
      "cell_type": "code",
      "metadata": {
        "colab": {
          "base_uri": "https://localhost:8080/"
        },
        "id": "IDHmG0-Etdxm",
        "outputId": "a4650784-36fc-4925-e697-f29621a71537"
      },
      "source": [
        "from sklearn.neural_network import MLPClassifier\n",
        "\n",
        "clf = MLPClassifier(solver='lbfgs', alpha=1e-5,\n",
        "                    hidden_layer_sizes=(5,), random_state=1,\n",
        "                    max_iter=2000)\n",
        "\n",
        "start_time = time.time()\n",
        "clf.fit(train, train_labels)\n",
        "total_time = (time.time() - start_time)\n",
        "\n",
        "train_time_default['MLPClassifier'] = total_time\n",
        "print(\"Fit done in:\",total_time,\"seconds\")\n",
        "\n",
        "start_time = time.time()\n",
        "preds = clf.predict(test)\n",
        "total_time = (time.time() - start_time)\n",
        "\n",
        "predict_time_default['MLPClassifier'] = total_time"
      ],
      "execution_count": null,
      "outputs": [
        {
          "output_type": "stream",
          "text": [
            "Fit done in: 13.677189111709595 seconds\n"
          ],
          "name": "stdout"
        },
        {
          "output_type": "stream",
          "text": [
            "/usr/local/lib/python3.6/dist-packages/sklearn/neural_network/_multilayer_perceptron.py:471: ConvergenceWarning: lbfgs failed to converge (status=1):\n",
            "STOP: TOTAL NO. of ITERATIONS REACHED LIMIT.\n",
            "\n",
            "Increase the number of iterations (max_iter) or scale the data as shown in:\n",
            "    https://scikit-learn.org/stable/modules/preprocessing.html\n",
            "  self.n_iter_ = _check_optimize_result(\"lbfgs\", opt_res, self.max_iter)\n"
          ],
          "name": "stderr"
        }
      ]
    },
    {
      "cell_type": "code",
      "metadata": {
        "colab": {
          "base_uri": "https://localhost:8080/"
        },
        "id": "TpOE0u-g1ZtL",
        "outputId": "f0a51525-1e61-48dc-c6e8-54ed49577186"
      },
      "source": [
        "# Compute confusion matrix\n",
        "pred = clf.predict(test)\n",
        "print(\"Confusion matrix\\n\")\n",
        "cnf_matrix = confusion_matrix(test_labels, pred)\n",
        "print(\"MLP Classifier\")\n",
        "print(cnf_matrix, end='\\n\\n')"
      ],
      "execution_count": null,
      "outputs": [
        {
          "output_type": "stream",
          "text": [
            "Confusion matrix\n",
            "\n",
            "MLP Classifier\n",
            "[[772  42]\n",
            " [ 42 525]]\n",
            "\n"
          ],
          "name": "stdout"
        }
      ]
    },
    {
      "cell_type": "markdown",
      "metadata": {
        "id": "rsyB-qom5a0S"
      },
      "source": [
        "Και εδώ βλέπουμε καλύτερα αποτελέσματα σε σχέση με τους προηγούμενους classifiers. Συγκεκριμένα βλέπουμε καλύτερη απόδοση στην κλάση 0, πιθανότατα γιατί ο classifier έχει μάθει καλύτερα να διακρίνει entries από αυτή την κλάση, αφού το dataset μας είναι imbalanced με κλίση προς την κλάση 0."
      ]
    },
    {
      "cell_type": "code",
      "metadata": {
        "colab": {
          "base_uri": "https://localhost:8080/",
          "height": 660
        },
        "id": "tqgvKT8J1csQ",
        "outputId": "0bd16219-3113-4f2f-8383-0373c9cac89b"
      },
      "source": [
        "print_precision_recall_fscore_support(\"MLPClassifier\", test_labels, pred, label_names)"
      ],
      "execution_count": null,
      "outputs": [
        {
          "output_type": "stream",
          "text": [
            "MLPClassifier\n",
            "\n",
            "none     : (array([0.94840295, 0.92592593]), array([0.94840295, 0.92592593]), array([0.94840295, 0.92592593]), array([814, 567]))\n",
            "micro    : (0.939174511223751, 0.939174511223751, 0.939174511223751, None)\n",
            "macro    : (0.9371644371644372, 0.9371644371644372, 0.9371644371644371, None)\n",
            "weighted : (0.939174511223751, 0.939174511223751, 0.939174511223751, None)\n",
            "\n",
            "              precision    recall  f1-score   support\n",
            "\n",
            "           1       0.95      0.95      0.95       814\n",
            "           0       0.93      0.93      0.93       567\n",
            "\n",
            "    accuracy                           0.94      1381\n",
            "   macro avg       0.94      0.94      0.94      1381\n",
            "weighted avg       0.94      0.94      0.94      1381\n",
            "\n",
            "\n"
          ],
          "name": "stdout"
        },
        {
          "output_type": "display_data",
          "data": {
            "image/png": "[encoded data removed]",
            "text/plain": [
              "<Figure size 720x360 with 1 Axes>"
            ]
          },
          "metadata": {
            "tags": [],
            "needs_background": "light"
          }
        },
        {
          "output_type": "stream",
          "text": [
            "---------------------------------------------------------------------------------------------------------------------\n",
            "---------------------------------------------------------------------------------------------------------------------\n",
            "\n"
          ],
          "name": "stdout"
        }
      ]
    },
    {
      "cell_type": "code",
      "metadata": {
        "colab": {
          "base_uri": "https://localhost:8080/"
        },
        "id": "we8aiNKp1xeA",
        "outputId": "e4c7d448-8b67-41a0-d865-cfca90c2f3a0"
      },
      "source": [
        "print(train_time_default)\n",
        "print(predict_time_default)"
      ],
      "execution_count": null,
      "outputs": [
        {
          "output_type": "stream",
          "text": [
            "{'Dummy': 0.0002720355987548828, 'GaussianNB': 0.009163618087768555, 'kNN': 0.027793407440185547, 'MLPClassifier': 13.677189111709595}\n",
            "{'Dummy': 0.0002720355987548828, 'GaussianNB': 0.0024285316467285156, 'kNN': 0.08798456192016602, 'MLPClassifier': 0.0009508132934570312}\n"
          ],
          "name": "stdout"
        }
      ]
    },
    {
      "cell_type": "code",
      "metadata": {
        "colab": {
          "base_uri": "https://localhost:8080/"
        },
        "id": "HPATEtoC1y5B",
        "outputId": "6011c9d6-328c-4b12-df94-01b297f18eb1"
      },
      "source": [
        "report_dict = classification_report(test_labels, preds, output_dict = True)\n",
        "f1_macro_default['MLPClassifier'] = report_dict['macro avg']['f1-score']\n",
        "f1_micro_default['MLPClassifier'] = report_dict['accuracy']\n",
        "\n",
        "print(f1_macro_default)\n",
        "print(f1_micro_default)"
      ],
      "execution_count": null,
      "outputs": [
        {
          "output_type": "stream",
          "text": [
            "{'Dummy': 0.5050576130946438, 'GaussianNB': 0.8288378561195209, 'kNN': 0.8288378561195209, 'MLPClassifier': 0.9371644371644371}\n",
            "{'Dummy': 0.5242577842143374, 'GaussianNB': 0.8291093410572049, 'kNN': 0.8291093410572049, 'MLPClassifier': 0.939174511223751}\n"
          ],
          "name": "stdout"
        }
      ]
    },
    {
      "cell_type": "markdown",
      "metadata": {
        "id": "EV6CMErJ250Q"
      },
      "source": [
        "Όπως βλέπουμε, ο MLP έχει πολύ καλύτερα αποτελέσματα από τους 3 προηγούμενους classifiers. Αυτό έχει να κάνει πιθανότατα γιατί βάλαμε πολύ μεγάλο όριο στο max_iter. Είναι καλύτερος από τους άλλους 3 και συγκεκριμένα από τον kNN γιατί τα δεδομένα μας δεν είναι βελτιστοποιημένα στο κομμάτι του preprocessing, πχ scaling που βοηθάει τον kNN, οπότε ο MLP που αντιδράει καλύτερα σε αυτές τις περιπτώσεις μαθαίνει καλύτερα τα βάρη ενώ ο kNN δεν έχει κάποια εκπαίδευση. "
      ]
    },
    {
      "cell_type": "markdown",
      "metadata": {
        "id": "sN0ib7SUta8W"
      },
      "source": [
        "### SVM Classifier"
      ]
    },
    {
      "cell_type": "markdown",
      "metadata": {
        "id": "5O7BUAXkh0gm"
      },
      "source": [
        "#### Linear Kernel"
      ]
    },
    {
      "cell_type": "code",
      "metadata": {
        "colab": {
          "base_uri": "https://localhost:8080/"
        },
        "id": "JS7kfvNQtc0N",
        "outputId": "7ac0578f-9535-4692-934c-159e966aa191"
      },
      "source": [
        "from sklearn.svm import SVC # \"Support vector classifier\"\n",
        "from sklearn.svm import LinearSVC # \"Support vector classifier\"\n",
        "\n",
        "model_svm_linear = LinearSVC()\n",
        "\n",
        "start_time = time.time()\n",
        "model_svm_linear.fit(train, train_labels)\n",
        "total_time = (time.time() - start_time)\n",
        "\n",
        "train_time_default['SVM_linear'] = total_time\n",
        "print(\"Fit done in:\",total_time,\"seconds\")\n",
        "\n",
        "start_time = time.time()\n",
        "preds = model_svm_linear.predict(test)\n",
        "total_time = (time.time() - start_time)\n",
        "\n",
        "predict_time_default['SVM_linear'] = total_time"
      ],
      "execution_count": null,
      "outputs": [
        {
          "output_type": "stream",
          "text": [
            "Fit done in: 0.20926547050476074 seconds\n"
          ],
          "name": "stdout"
        },
        {
          "output_type": "stream",
          "text": [
            "/usr/local/lib/python3.6/dist-packages/sklearn/svm/_base.py:977: ConvergenceWarning: Liblinear failed to converge, increase the number of iterations.\n",
            "  \"the number of iterations.\", ConvergenceWarning)\n"
          ],
          "name": "stderr"
        }
      ]
    },
    {
      "cell_type": "code",
      "metadata": {
        "colab": {
          "base_uri": "https://localhost:8080/"
        },
        "id": "tdh5dLN4g3KK",
        "outputId": "8032355a-9381-49c5-e64d-6444119c9c5c"
      },
      "source": [
        "# Compute confusion matrix\n",
        "pred = model_svm_linear.predict(test)\n",
        "print(\"Confusion matrix\\n\")\n",
        "cnf_matrix = confusion_matrix(test_labels, pred)\n",
        "print(\"SVM Classifier - Linear Kernel\")\n",
        "print(cnf_matrix, end='\\n\\n')"
      ],
      "execution_count": null,
      "outputs": [
        {
          "output_type": "stream",
          "text": [
            "Confusion matrix\n",
            "\n",
            "SVM Classifier - Linear Kernel\n",
            "[[706 108]\n",
            " [ 61 506]]\n",
            "\n"
          ],
          "name": "stdout"
        }
      ]
    },
    {
      "cell_type": "markdown",
      "metadata": {
        "id": "ogNGu1t76EGH"
      },
      "source": [
        "Στον συγκεκριμένο classifier βλέπουμε την καλύτερη απόδοση μέχρι τώρα.. \n",
        "\n",
        "Δοκιμάσαμε και τον SVC classifier και η εκπαίδευση πήρε περίπου 10 λεπτά, όμως έδωσε καλύτερα αποτελέσματα από τον linearSVC. Αυτό είναι γιατί τα penalty, tol και loss είναι πιο αυστηρά στον SVC σε σχέση με τον LinearSVC."
      ]
    },
    {
      "cell_type": "code",
      "metadata": {
        "colab": {
          "base_uri": "https://localhost:8080/",
          "height": 660
        },
        "id": "GbW0Y6Y1N7-L",
        "outputId": "37d511e0-97ac-4b35-ac50-4d560b37adcb"
      },
      "source": [
        "print_precision_recall_fscore_support(\"SVM_linear\", test_labels, pred, label_names)"
      ],
      "execution_count": null,
      "outputs": [
        {
          "output_type": "stream",
          "text": [
            "SVM_linear\n",
            "\n",
            "none     : (array([0.92046936, 0.82410423]), array([0.86732187, 0.89241623]), array([0.89310563, 0.85690093]), array([814, 567]))\n",
            "micro    : (0.8776249094858798, 0.8776249094858798, 0.8776249094858797, None)\n",
            "macro    : (0.8722867978375073, 0.8798690465357132, 0.8750032803812847, None)\n",
            "weighted : (0.8809045336358603, 0.8776249094858798, 0.8782409923254596, None)\n",
            "\n",
            "              precision    recall  f1-score   support\n",
            "\n",
            "           1       0.92      0.87      0.89       814\n",
            "           0       0.82      0.89      0.86       567\n",
            "\n",
            "    accuracy                           0.88      1381\n",
            "   macro avg       0.87      0.88      0.88      1381\n",
            "weighted avg       0.88      0.88      0.88      1381\n",
            "\n",
            "\n"
          ],
          "name": "stdout"
        },
        {
          "output_type": "display_data",
          "data": {
            "image/png": "[encoded data removed]",
            "text/plain": [
              "<Figure size 720x360 with 1 Axes>"
            ]
          },
          "metadata": {
            "tags": [],
            "needs_background": "light"
          }
        },
        {
          "output_type": "stream",
          "text": [
            "---------------------------------------------------------------------------------------------------------------------\n",
            "---------------------------------------------------------------------------------------------------------------------\n",
            "\n"
          ],
          "name": "stdout"
        }
      ]
    },
    {
      "cell_type": "code",
      "metadata": {
        "colab": {
          "base_uri": "https://localhost:8080/"
        },
        "id": "HbjVaAy78CLT",
        "outputId": "ac60212e-1808-417d-89d4-c3cfdcb343a0"
      },
      "source": [
        "print(train_time_default)\n",
        "print(predict_time_default)"
      ],
      "execution_count": null,
      "outputs": [
        {
          "output_type": "stream",
          "text": [
            "{'Dummy': 0.0002720355987548828, 'GaussianNB': 0.009163618087768555, 'kNN': 0.027793407440185547, 'MLPClassifier': 13.677189111709595, 'SVM_linear': 0.20926547050476074}\n",
            "{'Dummy': 0.0002720355987548828, 'GaussianNB': 0.0024285316467285156, 'kNN': 0.08798456192016602, 'MLPClassifier': 0.0009508132934570312, 'SVM_linear': 0.0014939308166503906}\n"
          ],
          "name": "stdout"
        }
      ]
    },
    {
      "cell_type": "code",
      "metadata": {
        "colab": {
          "base_uri": "https://localhost:8080/"
        },
        "id": "NC2fF5l-8FfR",
        "outputId": "e68ae62a-6818-4732-96b5-ce8fed41ad8c"
      },
      "source": [
        "report_dict = classification_report(test_labels, preds, output_dict = True)\n",
        "f1_macro_default['SVM_linear'] = report_dict['macro avg']['f1-score']\n",
        "f1_micro_default['SVM_linear'] = report_dict['accuracy']\n",
        "\n",
        "print(f1_macro_default)\n",
        "print(f1_micro_default)"
      ],
      "execution_count": null,
      "outputs": [
        {
          "output_type": "stream",
          "text": [
            "{'Dummy': 0.5050576130946438, 'GaussianNB': 0.8288378561195209, 'kNN': 0.8288378561195209, 'MLPClassifier': 0.9371644371644371, 'SVM_linear': 0.8750032803812847}\n",
            "{'Dummy': 0.5242577842143374, 'GaussianNB': 0.8291093410572049, 'kNN': 0.8291093410572049, 'MLPClassifier': 0.939174511223751, 'SVM_linear': 0.8776249094858798}\n"
          ],
          "name": "stdout"
        }
      ]
    },
    {
      "cell_type": "markdown",
      "metadata": {
        "id": "NmlWi6hFh3tV"
      },
      "source": [
        "#### RBF Kernel"
      ]
    },
    {
      "cell_type": "code",
      "metadata": {
        "colab": {
          "base_uri": "https://localhost:8080/"
        },
        "id": "6NSQDhRyL-7N",
        "outputId": "3f3f973c-dec5-4f96-c1e4-8ce9eb9f1030"
      },
      "source": [
        "model_svm_rbf = SVC(kernel='rbf')\n",
        "\n",
        "start_time = time.time()\n",
        "model_svm_rbf.fit(train, train_labels)\n",
        "total_time = (time.time() - start_time)\n",
        "\n",
        "train_time_default['SVM_rbf'] = total_time\n",
        "print(\"Fit done in:\",total_time,\"seconds\")\n",
        "\n",
        "start_time = time.time()\n",
        "preds = model_svm_rbf.predict(test)\n",
        "total_time = (time.time() - start_time)\n",
        "\n",
        "predict_time_default['SVM_rbf'] = total_time"
      ],
      "execution_count": null,
      "outputs": [
        {
          "output_type": "stream",
          "text": [
            "Fit done in: 0.9699532985687256 seconds\n"
          ],
          "name": "stdout"
        }
      ]
    },
    {
      "cell_type": "code",
      "metadata": {
        "colab": {
          "base_uri": "https://localhost:8080/"
        },
        "id": "xgtlpnA_hnIM",
        "outputId": "c679edfd-7ef0-41bb-c0ea-0a12c6e8bac0"
      },
      "source": [
        "# Compute confusion matrix\n",
        "pred = model_svm_rbf.predict(test)\n",
        "print(\"Confusion matrix\\n\")\n",
        "cnf_matrix = confusion_matrix(test_labels, pred)\n",
        "print(\"SVM Classifier - RBF Kernel\")\n",
        "print(cnf_matrix, end='\\n\\n')"
      ],
      "execution_count": null,
      "outputs": [
        {
          "output_type": "stream",
          "text": [
            "Confusion matrix\n",
            "\n",
            "SVM Classifier - RBF Kernel\n",
            "[[747  67]\n",
            " [325 242]]\n",
            "\n"
          ],
          "name": "stdout"
        }
      ]
    },
    {
      "cell_type": "markdown",
      "metadata": {
        "id": "jziBh-MtCyQk"
      },
      "source": [
        "Εδώ βλέπουμε πως έχουμε χειρότερα αποτελέσματα από τον linear kernel. Έτσι συμπεραίνουμε με μεγαλύτερη σιγουρία πως το dataset μας πιθανότατα είναι γραμμικά διαχωρίσιμο και η μετατροπή του με rbf kernel function προκαλεί προβλήματα. "
      ]
    },
    {
      "cell_type": "code",
      "metadata": {
        "colab": {
          "base_uri": "https://localhost:8080/",
          "height": 660
        },
        "id": "ptSwPYZuhoxK",
        "outputId": "7265052b-866a-4b9b-fcfa-9f5693eded32"
      },
      "source": [
        "print_precision_recall_fscore_support(\"SVM_rbf\", test_labels, pred, label_names)"
      ],
      "execution_count": null,
      "outputs": [
        {
          "output_type": "stream",
          "text": [
            "SVM_rbf\n",
            "\n",
            "none     : (array([0.69682836, 0.78317152]), array([0.91769042, 0.42680776]), array([0.7921527 , 0.55251142]), array([814, 567]))\n",
            "micro    : (0.7161477190441708, 0.7161477190441708, 0.7161477190441708, None)\n",
            "macro    : (0.739999939622277, 0.6722490889157555, 0.6723320598304255, None)\n",
            "weighted : (0.7322784475085258, 0.7161477190441708, 0.6937626891884356, None)\n",
            "\n",
            "              precision    recall  f1-score   support\n",
            "\n",
            "           1       0.70      0.92      0.79       814\n",
            "           0       0.78      0.43      0.55       567\n",
            "\n",
            "    accuracy                           0.72      1381\n",
            "   macro avg       0.74      0.67      0.67      1381\n",
            "weighted avg       0.73      0.72      0.69      1381\n",
            "\n",
            "\n"
          ],
          "name": "stdout"
        },
        {
          "output_type": "display_data",
          "data": {
            "image/png": "[encoded data removed]",
            "text/plain": [
              "<Figure size 720x360 with 1 Axes>"
            ]
          },
          "metadata": {
            "tags": [],
            "needs_background": "light"
          }
        },
        {
          "output_type": "stream",
          "text": [
            "---------------------------------------------------------------------------------------------------------------------\n",
            "---------------------------------------------------------------------------------------------------------------------\n",
            "\n"
          ],
          "name": "stdout"
        }
      ]
    },
    {
      "cell_type": "code",
      "metadata": {
        "colab": {
          "base_uri": "https://localhost:8080/"
        },
        "id": "5zX5UMh48Ovs",
        "outputId": "2fb2a508-54f8-417a-809e-7304b76aee6a"
      },
      "source": [
        "print(train_time_default)\n",
        "print(predict_time_default)"
      ],
      "execution_count": null,
      "outputs": [
        {
          "output_type": "stream",
          "text": [
            "{'Dummy': 0.0002720355987548828, 'GaussianNB': 0.009163618087768555, 'kNN': 0.027793407440185547, 'MLPClassifier': 13.677189111709595, 'SVM_linear': 0.20926547050476074, 'SVM_rbf': 0.9699532985687256}\n",
            "{'Dummy': 0.0002720355987548828, 'GaussianNB': 0.0024285316467285156, 'kNN': 0.08798456192016602, 'MLPClassifier': 0.0009508132934570312, 'SVM_linear': 0.0014939308166503906, 'SVM_rbf': 0.3070380687713623}\n"
          ],
          "name": "stdout"
        }
      ]
    },
    {
      "cell_type": "code",
      "metadata": {
        "colab": {
          "base_uri": "https://localhost:8080/"
        },
        "id": "2Keok7In8Qoh",
        "outputId": "eaa12daf-b099-4599-9a66-20b4342361f5"
      },
      "source": [
        "report_dict = classification_report(test_labels, preds, output_dict = True)\n",
        "f1_macro_default['SVM_rbf'] = report_dict['macro avg']['f1-score']\n",
        "f1_micro_default['SVM_rbf'] = report_dict['accuracy']\n",
        "\n",
        "print(f1_macro_default)\n",
        "print(f1_micro_default)"
      ],
      "execution_count": null,
      "outputs": [
        {
          "output_type": "stream",
          "text": [
            "{'Dummy': 0.5050576130946438, 'GaussianNB': 0.8288378561195209, 'kNN': 0.8288378561195209, 'MLPClassifier': 0.9371644371644371, 'SVM_linear': 0.8750032803812847, 'SVM_rbf': 0.6723320598304255}\n",
            "{'Dummy': 0.5242577842143374, 'GaussianNB': 0.8291093410572049, 'kNN': 0.8291093410572049, 'MLPClassifier': 0.939174511223751, 'SVM_linear': 0.8776249094858798, 'SVM_rbf': 0.7161477190441708}\n"
          ],
          "name": "stdout"
        }
      ]
    },
    {
      "cell_type": "markdown",
      "metadata": {
        "id": "H_1m26QRh59T"
      },
      "source": [
        "#### Poly Kernel"
      ]
    },
    {
      "cell_type": "code",
      "metadata": {
        "colab": {
          "base_uri": "https://localhost:8080/"
        },
        "id": "mFnj2Zzqh8H8",
        "outputId": "01e38d04-b068-4747-c91b-a71fc620a419"
      },
      "source": [
        "model_svm_poly = SVC(kernel='poly')\n",
        "\n",
        "start_time = time.time()\n",
        "model_svm_poly.fit(train, train_labels)\n",
        "total_time = (time.time() - start_time)\n",
        "\n",
        "train_time_default['SVM_poly'] = total_time\n",
        "print(\"Fit done in:\",total_time,\"seconds\")\n",
        "\n",
        "start_time = time.time()\n",
        "preds = model_svm_poly.predict(test)\n",
        "total_time = (time.time() - start_time)\n",
        "\n",
        "predict_time_default['SVM_poly'] = total_time"
      ],
      "execution_count": null,
      "outputs": [
        {
          "output_type": "stream",
          "text": [
            "Fit done in: 5.564983367919922 seconds\n"
          ],
          "name": "stdout"
        }
      ]
    },
    {
      "cell_type": "code",
      "metadata": {
        "colab": {
          "base_uri": "https://localhost:8080/"
        },
        "id": "wK0rGEPziHA8",
        "outputId": "bfdc9f88-8b5c-4a8f-ba7a-e39df5e27369"
      },
      "source": [
        "# Compute confusion matrix\n",
        "pred = model_svm_poly.predict(test)\n",
        "print(\"Confusion matrix\\n\")\n",
        "cnf_matrix = confusion_matrix(test_labels, pred)\n",
        "print(\"SVM Classifier - Poly Kernel\")\n",
        "print(cnf_matrix, end='\\n\\n')"
      ],
      "execution_count": null,
      "outputs": [
        {
          "output_type": "stream",
          "text": [
            "Confusion matrix\n",
            "\n",
            "SVM Classifier - Poly Kernel\n",
            "[[807   7]\n",
            " [496  71]]\n",
            "\n"
          ],
          "name": "stdout"
        }
      ]
    },
    {
      "cell_type": "markdown",
      "metadata": {
        "id": "Xgq1Lb5knool"
      },
      "source": [
        "Εδώ βλέπουμε πως έχουμε μεγάλη κλίση στην πρόβλεψη της κλάσης 0. Πιθανότατα είναι γιατί τα δεδομένα μας είναι απλωμένα στο πεδίο με τέτοιο τρόπο, που η μετατροπή τους μέσω μιας polynomial kernel function τα μπλέκει και δεν επιτρέπει τον ξεκάθαρο διαχωρισμό τους."
      ]
    },
    {
      "cell_type": "code",
      "metadata": {
        "colab": {
          "base_uri": "https://localhost:8080/",
          "height": 660
        },
        "id": "VPFU63c4iLdt",
        "outputId": "9bf96557-f4d0-4d13-f615-1cfce62ee163"
      },
      "source": [
        "print_precision_recall_fscore_support(\"SVM_poly\", test_labels, pred, label_names)"
      ],
      "execution_count": null,
      "outputs": [
        {
          "output_type": "stream",
          "text": [
            "SVM_poly\n",
            "\n",
            "none     : (array([0.61933998, 0.91025641]), array([0.99140049, 0.12522046]), array([0.76239962, 0.22015504]), array([814, 567]))\n",
            "micro    : (0.6357711803041275, 0.6357711803041275, 0.6357711803041275, None)\n",
            "macro    : (0.764798197453608, 0.5583104749771416, 0.49127733043322236, None)\n",
            "weighted : (0.7387821376691821, 0.6357711803041275, 0.5397691523328332, None)\n",
            "\n",
            "              precision    recall  f1-score   support\n",
            "\n",
            "           1       0.62      0.99      0.76       814\n",
            "           0       0.91      0.13      0.22       567\n",
            "\n",
            "    accuracy                           0.64      1381\n",
            "   macro avg       0.76      0.56      0.49      1381\n",
            "weighted avg       0.74      0.64      0.54      1381\n",
            "\n",
            "\n"
          ],
          "name": "stdout"
        },
        {
          "output_type": "display_data",
          "data": {
            "image/png": "[encoded data removed]",
            "text/plain": [
              "<Figure size 720x360 with 1 Axes>"
            ]
          },
          "metadata": {
            "tags": [],
            "needs_background": "light"
          }
        },
        {
          "output_type": "stream",
          "text": [
            "---------------------------------------------------------------------------------------------------------------------\n",
            "---------------------------------------------------------------------------------------------------------------------\n",
            "\n"
          ],
          "name": "stdout"
        }
      ]
    },
    {
      "cell_type": "code",
      "metadata": {
        "colab": {
          "base_uri": "https://localhost:8080/"
        },
        "id": "c1O9u_NL8e4R",
        "outputId": "1729c72a-b188-4042-b89c-1fc030771c1b"
      },
      "source": [
        "print(train_time_default)\n",
        "print(predict_time_default)"
      ],
      "execution_count": null,
      "outputs": [
        {
          "output_type": "stream",
          "text": [
            "{'Dummy': 0.0002720355987548828, 'GaussianNB': 0.009163618087768555, 'kNN': 0.027793407440185547, 'MLPClassifier': 13.677189111709595, 'SVM_linear': 0.20926547050476074, 'SVM_rbf': 0.9699532985687256, 'SVM_poly': 5.564983367919922}\n",
            "{'Dummy': 0.0002720355987548828, 'GaussianNB': 0.0024285316467285156, 'kNN': 0.08798456192016602, 'MLPClassifier': 0.0009508132934570312, 'SVM_linear': 0.0014939308166503906, 'SVM_rbf': 0.3070380687713623, 'SVM_poly': 0.21497607231140137}\n"
          ],
          "name": "stdout"
        }
      ]
    },
    {
      "cell_type": "code",
      "metadata": {
        "colab": {
          "base_uri": "https://localhost:8080/"
        },
        "id": "7w9Xxkwq8g8J",
        "outputId": "1ee0630a-d808-4459-d53b-9cd568b5f3d7"
      },
      "source": [
        "report_dict = classification_report(test_labels, preds, output_dict = True)\n",
        "f1_macro_default['SVM_poly'] = report_dict['macro avg']['f1-score']\n",
        "f1_micro_default['SVM_poly'] = report_dict['accuracy']\n",
        "\n",
        "print(f1_macro_default)\n",
        "print(f1_micro_default)"
      ],
      "execution_count": null,
      "outputs": [
        {
          "output_type": "stream",
          "text": [
            "{'Dummy': 0.5050576130946438, 'GaussianNB': 0.8288378561195209, 'kNN': 0.8288378561195209, 'MLPClassifier': 0.9371644371644371, 'SVM_linear': 0.8750032803812847, 'SVM_rbf': 0.6723320598304255, 'SVM_poly': 0.49127733043322236}\n",
            "{'Dummy': 0.5242577842143374, 'GaussianNB': 0.8291093410572049, 'kNN': 0.8291093410572049, 'MLPClassifier': 0.939174511223751, 'SVM_linear': 0.8776249094858798, 'SVM_rbf': 0.7161477190441708, 'SVM_poly': 0.6357711803041275}\n"
          ],
          "name": "stdout"
        }
      ]
    },
    {
      "cell_type": "markdown",
      "metadata": {
        "id": "faN-eFvQy6IF"
      },
      "source": [
        "Όπως βλέπουμε, την καλύτερη απόδοση την έχει η linear kernel function και μάλιστα κατά μεγάλη διαφορά. Όμως υπάρχει αντιστρόφως ανάλογη απόδοση στον χρόνο εκπαίδεσης."
      ]
    },
    {
      "cell_type": "markdown",
      "metadata": {
        "id": "825WFtlZgv8K"
      },
      "source": [
        "## Section C: Optimizing Classifiers"
      ]
    },
    {
      "cell_type": "markdown",
      "metadata": {
        "id": "ezQ_YYIaf0eu"
      },
      "source": [
        "### GridSearchCV & Print"
      ]
    },
    {
      "cell_type": "code",
      "metadata": {
        "id": "c5g5SuhHf16R"
      },
      "source": [
        "from sklearn.model_selection import GridSearchCV\n",
        "from sklearn.neural_network import MLPClassifier\n",
        "from sklearn.feature_selection import VarianceThreshold\n",
        "from sklearn.preprocessing import StandardScaler \n",
        "from imblearn.over_sampling import RandomOverSampler\n",
        "from sklearn.decomposition import PCA\n",
        "from imblearn.pipeline import Pipeline\n",
        "\n",
        "selector = VarianceThreshold()\n",
        "scaler = StandardScaler()\n",
        "ros = RandomOverSampler()\n",
        "pca = PCA()\n",
        "\n",
        "def gridsearch_init_print(classifier, param_grid, pipe, train=train, train_labels=train_labels, test=test, test_labels=test_labels):\n",
        "\n",
        "    # We will use 5 fold validation\n",
        "    estimator = GridSearchCV(pipe, param_grid=param_grid, cv=5, scoring='f1_micro', n_jobs=-1, verbose=10)\n",
        "\n",
        "    start_time = time.time()\n",
        "    estimator.fit(train, train_labels)\n",
        "    total_time = (time.time() - start_time)\n",
        "\n",
        "    train_time_optimized[classifier] = total_time\n",
        "    print(\"Fit done in:\",(time.time() - start_time)/60,\"minutes\")\n",
        "\n",
        "    start_time = time.time()\n",
        "\n",
        "    preds = estimator.predict(test)\n",
        "    total_time = (time.time() - start_time)\n",
        "\n",
        "    predict_time_optimized[classifier] = total_time\n",
        "\n",
        "    print(classification_report(test_labels, preds))\n",
        "\n",
        "    print(estimator.best_estimator_)\n",
        "    print(estimator.best_params_)\n",
        "\n",
        "    # Compute confusion matrix\n",
        "    pred = estimator.predict(test)\n",
        "    print(\"Confusion matrix\\n\")\n",
        "    cnf_matrix = confusion_matrix(test_labels, pred)\n",
        "    print(classifier, \"Classifier\", )\n",
        "    print(cnf_matrix, end='\\n\\n')\n",
        "\n",
        "    report_dict = classification_report(test_labels, preds, output_dict = True)\n",
        "    f1_macro_optimized[classifier] = report_dict['macro avg']['f1-score']\n",
        "    f1_micro_optimized[classifier] = report_dict['accuracy']\n",
        "\n",
        "\n",
        "    print(\"------------F1 macro------------\")\n",
        "    print(\"Default:\", f1_macro_default)\n",
        "    print(\"Optimiz:\", f1_macro_optimized)\n",
        "    print(\"------------F1 micro------------\")\n",
        "    print(\"Default:\", f1_micro_default)\n",
        "    print(\"Optimiz:\", f1_micro_optimized)\n",
        "\n"
      ],
      "execution_count": null,
      "outputs": []
    },
    {
      "cell_type": "markdown",
      "metadata": {
        "id": "F7QVpWn_FhJi"
      },
      "source": [
        "### Sample to test dataset"
      ]
    },
    {
      "cell_type": "code",
      "metadata": {
        "colab": {
          "base_uri": "https://localhost:8080/"
        },
        "id": "fWVXkPoPFjoC",
        "outputId": "36184849-4f55-4b57-b17b-5e96a70d1b38"
      },
      "source": [
        "from sklearn.utils import shuffle\n",
        "\n",
        "# define max samples\n",
        "max_samples = 500\n",
        "\n",
        "# extract data\n",
        "all_features = data.iloc[0:, :-1]\n",
        "all_labels = data.iloc[0:, -1]\n",
        "\n",
        "# shuffle respectively\n",
        "shuffled_features, shuffled_labels = shuffle(all_features, all_labels, random_state=341976)\n",
        "sdata = shuffled_features.iloc[0:max_samples-1,:]\n",
        "slabels = shuffled_labels.iloc[0:max_samples-1]\n",
        "\n",
        "# convert to np array\n",
        "snp_samples = sdata.values\n",
        "snp_labels = slabels.values\n",
        "\n",
        "# check frequencies\n",
        "freq = np.bincount(snp_labels)\n",
        "for i in range(len(freq)):\n",
        "    print(\"For label:\", i, \"percentage is\", \"{:.2%}\".format(freq[i]/max_samples))"
      ],
      "execution_count": null,
      "outputs": [
        {
          "output_type": "stream",
          "text": [
            "For label: 0 percentage is 57.20%\n",
            "For label: 1 percentage is 42.60%\n"
          ],
          "name": "stdout"
        }
      ]
    },
    {
      "cell_type": "code",
      "metadata": {
        "colab": {
          "base_uri": "https://localhost:8080/"
        },
        "id": "XnKqJpLIMKG3",
        "outputId": "31b91058-159c-40ac-e6a4-4333b84cf516"
      },
      "source": [
        "# split to train, test\n",
        "# Split our data\n",
        "strain, stest, strain_labels, stest_labels = train_test_split(snp_samples, \n",
        "                                                          snp_labels, \n",
        "                                                          test_size=0.3)\n",
        "\n",
        "print(strain.shape)\n",
        "print(stest.shape)"
      ],
      "execution_count": null,
      "outputs": [
        {
          "output_type": "stream",
          "text": [
            "(349, 57)\n",
            "(150, 57)\n"
          ],
          "name": "stdout"
        }
      ]
    },
    {
      "cell_type": "markdown",
      "metadata": {
        "id": "Sx_Pn1aWC2Aq"
      },
      "source": [
        "### Balance Dataset - Oversampling"
      ]
    },
    {
      "cell_type": "code",
      "metadata": {
        "colab": {
          "base_uri": "https://localhost:8080/"
        },
        "id": "ila20jG7C1XY",
        "outputId": "f1b444b0-7470-4359-aae0-f4db569c24dd"
      },
      "source": [
        "sampler = SMOTE()\n",
        "train, train_labels = sampler.fit_sample(np_samples, np_labels)\n",
        "\n",
        "# print length of train set to validate oversampling\n",
        "print(\"Length of train_set is =\", len(train), '\\n')"
      ],
      "execution_count": null,
      "outputs": [
        {
          "output_type": "stream",
          "text": [
            "Length of train_set is = 5576 \n",
            "\n"
          ],
          "name": "stdout"
        }
      ]
    },
    {
      "cell_type": "markdown",
      "metadata": {
        "id": "iGuAe6_MC_dq"
      },
      "source": [
        "### Variance Threshold\n",
        "\n",
        "Ελέγχουμε τη διασπορά κάθε χαρακτηριστικού στο train dataset ούτως ώστε να καταλάβουμε ποία θα είναι η επιλογή μας για το κατώφλι διασποράς."
      ]
    },
    {
      "cell_type": "code",
      "metadata": {
        "colab": {
          "base_uri": "https://localhost:8080/"
        },
        "id": "wRAVO6j3C_9y",
        "outputId": "7007a052-6098-4327-d8a0-ce790f02aa0d"
      },
      "source": [
        "train_Var = np.var(train, axis=0)\n",
        "print(train_Var)"
      ],
      "execution_count": null,
      "outputs": [
        {
          "output_type": "stream",
          "text": [
            "[9.00154830e-02 1.38580913e+00 2.41724745e-01 2.20534288e+00\n",
            " 4.42581312e-01 7.57132351e-02 1.64543143e-01 1.53545901e-01\n",
            " 8.18212192e-02 3.92799002e-01 4.40907762e-02 6.65398448e-01\n",
            " 8.80749696e-02 1.06363268e-01 7.55659603e-02 6.55249793e-01\n",
            " 2.15754253e-01 2.71789268e-01 3.00513499e+00 2.66515109e-01\n",
            " 1.43403322e+00 1.08160253e+00 1.35797079e-01 2.03710700e-01\n",
            " 2.34785418e+00 6.59922676e-01 9.43879606e+00 2.62163252e-01\n",
            " 2.91821363e-01 1.74043644e-01 1.35113916e-01 8.94082495e-02\n",
            " 2.58097920e-01 8.99038710e-02 2.35490129e-01 1.37774022e-01\n",
            " 1.59419015e-01 4.03180114e-02 1.57571113e-01 1.03687468e-01\n",
            " 1.07907222e-01 4.87610269e-01 4.17370094e-02 3.20512531e-01\n",
            " 8.62476864e-01 6.90837804e-01 4.87969333e-03 6.77533262e-02\n",
            " 4.99337208e-02 6.30860621e-02 1.00632162e-02 6.27462909e-01\n",
            " 7.59367848e-02 1.60167290e-01 1.05639453e+03 3.75580840e+04\n",
            " 3.69103399e+05]\n"
          ],
          "name": "stdout"
        }
      ]
    },
    {
      "cell_type": "code",
      "metadata": {
        "colab": {
          "base_uri": "https://localhost:8080/"
        },
        "id": "KRel8aVxDPjL",
        "outputId": "9ae50809-d9cd-4e58-a042-520163f25128"
      },
      "source": [
        "from sklearn.feature_selection import VarianceThreshold\n",
        "\n",
        "# initialize the selector\n",
        "selector = VarianceThreshold(0)\n",
        "# fit the selector in the data\n",
        "train_reduced = selector.fit_transform(train)\n",
        "print(train.shape)\n",
        "print(train_reduced.shape)"
      ],
      "execution_count": null,
      "outputs": [
        {
          "output_type": "stream",
          "text": [
            "(5576, 57)\n",
            "(5576, 57)\n"
          ],
          "name": "stdout"
        }
      ]
    },
    {
      "cell_type": "code",
      "metadata": {
        "colab": {
          "base_uri": "https://localhost:8080/"
        },
        "id": "Q8Lw75KbDS-U",
        "outputId": "92e7e339-1f08-4cfc-a5a3-da32a7667feb"
      },
      "source": [
        "selector = VarianceThreshold(0.05)\n",
        "\n",
        "train_reduced = selector.fit_transform(train)\n",
        "print(train_reduced)\n",
        "\n",
        "mask = selector.get_support()\n",
        "print(mask)\n",
        "\n",
        "print(train.shape)\n",
        "print(train_reduced.shape)"
      ],
      "execution_count": null,
      "outputs": [
        {
          "output_type": "stream",
          "text": [
            "[[0.00000000e+00 6.40000000e-01 6.40000000e-01 ... 3.75600000e+00\n",
            "  6.10000000e+01 2.78000000e+02]\n",
            " [2.10000000e-01 2.80000000e-01 5.00000000e-01 ... 5.11400000e+00\n",
            "  1.01000000e+02 1.02800000e+03]\n",
            " [6.00000000e-02 0.00000000e+00 7.10000000e-01 ... 9.82100000e+00\n",
            "  4.85000000e+02 2.25900000e+03]\n",
            " ...\n",
            " [0.00000000e+00 0.00000000e+00 0.00000000e+00 ... 3.87100000e+00\n",
            "  2.60000000e+01 1.51000000e+02]\n",
            " [0.00000000e+00 1.47246549e+00 0.00000000e+00 ... 1.09177775e+01\n",
            "  1.40000000e+02 1.68274154e+02]\n",
            " [0.00000000e+00 0.00000000e+00 0.00000000e+00 ... 3.89414832e+00\n",
            "  5.89274337e+01 1.59970973e+02]]\n",
            "[ True  True  True  True  True  True  True  True  True  True False  True\n",
            "  True  True  True  True  True  True  True  True  True  True  True  True\n",
            "  True  True  True  True  True  True  True  True  True  True  True  True\n",
            "  True False  True  True  True  True False  True  True  True False  True\n",
            " False  True False  True  True  True  True  True  True]\n",
            "(5576, 57)\n",
            "(5576, 51)\n"
          ],
          "name": "stdout"
        }
      ]
    },
    {
      "cell_type": "code",
      "metadata": {
        "colab": {
          "base_uri": "https://localhost:8080/"
        },
        "id": "m8bUExhJDUTb",
        "outputId": "58bc4245-ec2a-4dad-ccc7-a94067f391c0"
      },
      "source": [
        "selector = VarianceThreshold(0.2)\n",
        "\n",
        "train_reduced = selector.fit_transform(train)\n",
        "print(train.shape)\n",
        "print(train_reduced.shape)"
      ],
      "execution_count": null,
      "outputs": [
        {
          "output_type": "stream",
          "text": [
            "(5576, 57)\n",
            "(5576, 29)\n"
          ],
          "name": "stdout"
        }
      ]
    },
    {
      "cell_type": "markdown",
      "metadata": {
        "id": "YJTiYX2CDWQr"
      },
      "source": [
        "Εδώ βλέπουμε πως πρέπει να επιλέξουμε μια τιμή μικρότερη του 0.05, καθώς τα features μειώνονται δραστικά, οπότε μπορεί να χάνουμε σημαντική πληροφορία."
      ]
    },
    {
      "cell_type": "markdown",
      "metadata": {
        "id": "KpZWS1vHDpSv"
      },
      "source": [
        "### Dummy Classifier"
      ]
    },
    {
      "cell_type": "code",
      "metadata": {
        "colab": {
          "base_uri": "https://localhost:8080/"
        },
        "id": "u66_ezARDhY8",
        "outputId": "9c8a3600-a1ad-4006-d452-637bf85035f1"
      },
      "source": [
        "dc_stratified = DummyClassifier(strategy=\"stratified\")\n",
        "\n",
        "start_time = time.time()\n",
        "model = dc_stratified.fit(train, train_labels)\n",
        "train_time = (time.time() - start_time)\n",
        "\n",
        "train_time_default['Dummy'] = train_time\n",
        "train_time_optimized['Dummy'] = train_time\n",
        "\n",
        "start_time = time.time()\n",
        "preds = dc_stratified.predict(test)\n",
        "pred_time = (time.time() - start_time)\n",
        "\n",
        "predict_time_default['Dummy'] = train_time\n",
        "predict_time_optimized['Dummy'] = train_time\n",
        "\n",
        "\n",
        "print (classification_report(test_labels, preds))"
      ],
      "execution_count": null,
      "outputs": [
        {
          "output_type": "stream",
          "text": [
            "              precision    recall  f1-score   support\n",
            "\n",
            "           0       0.58      0.51      0.54       814\n",
            "           1       0.40      0.48      0.44       567\n",
            "\n",
            "    accuracy                           0.50      1381\n",
            "   macro avg       0.49      0.49      0.49      1381\n",
            "weighted avg       0.51      0.50      0.50      1381\n",
            "\n"
          ],
          "name": "stdout"
        }
      ]
    },
    {
      "cell_type": "code",
      "metadata": {
        "colab": {
          "base_uri": "https://localhost:8080/"
        },
        "id": "DChlcEp2Dkdz",
        "outputId": "84239b74-56c5-4704-996a-de6c59001ebb"
      },
      "source": [
        "print(train_time_default)\n",
        "print(predict_time_default)"
      ],
      "execution_count": null,
      "outputs": [
        {
          "output_type": "stream",
          "text": [
            "{'Dummy': 0.0007357597351074219, 'GaussianNB': 0.009163618087768555, 'kNN': 0.027793407440185547, 'MLPClassifier': 13.677189111709595, 'SVM_linear': 0.20926547050476074, 'SVM_rbf': 0.9699532985687256, 'SVM_poly': 5.564983367919922}\n",
            "{'Dummy': 0.0007357597351074219, 'GaussianNB': 0.0024285316467285156, 'kNN': 0.08798456192016602, 'MLPClassifier': 0.0009508132934570312, 'SVM_linear': 0.0014939308166503906, 'SVM_rbf': 0.3070380687713623, 'SVM_poly': 0.21497607231140137}\n"
          ],
          "name": "stdout"
        }
      ]
    },
    {
      "cell_type": "markdown",
      "metadata": {
        "id": "yJtxitjvDvu1"
      },
      "source": [
        "Όπως βλέπουμε εδώ, δεν πετύχαμε κάποια σημαντική βελτίωση, στον Dummy Classifier, με την προεπεξεργασία δεδομένων."
      ]
    },
    {
      "cell_type": "markdown",
      "metadata": {
        "id": "43rr5JNCDtSk"
      },
      "source": [
        "### Optimized Gaussian Naive Bayes Classifier"
      ]
    },
    {
      "cell_type": "code",
      "metadata": {
        "id": "79FFSSKtD8Eo"
      },
      "source": [
        "from imblearn.pipeline import Pipeline\n",
        "\n",
        "# import the known classes for preprocessing\n",
        "from sklearn.feature_selection import VarianceThreshold\n",
        "from sklearn.decomposition import PCA\n",
        "from sklearn.model_selection import GridSearchCV\n",
        "\n",
        "clf = GaussianNB()"
      ],
      "execution_count": null,
      "outputs": []
    },
    {
      "cell_type": "code",
      "metadata": {
        "id": "KXrZLD-nNOV0"
      },
      "source": [
        "param_grid = {\n",
        "    'selector__threshold': [0, 0.01, 0.02, 0.03, 0.04, 0.05] #according to the calculations we did in the beginning of this section\n",
        "}"
      ],
      "execution_count": null,
      "outputs": []
    },
    {
      "cell_type": "code",
      "metadata": {
        "colab": {
          "base_uri": "https://localhost:8080/"
        },
        "id": "kvXxp3u3Mij4",
        "outputId": "dd47e7c0-3f4e-484b-a056-f717e882ad7e"
      },
      "source": [
        "pipe = Pipeline(steps=[('selector', selector), ('gaussiannb', clf)], memory = 'tmp')\n",
        "gridsearch_init_print('GaussianNB', param_grid, pipe, strain, strain_labels, stest, stest_labels)"
      ],
      "execution_count": null,
      "outputs": [
        {
          "output_type": "stream",
          "text": [
            "Fitting 5 folds for each of 6 candidates, totalling 30 fits\n"
          ],
          "name": "stdout"
        },
        {
          "output_type": "stream",
          "text": [
            "[Parallel(n_jobs=-1)]: Using backend LokyBackend with 2 concurrent workers.\n",
            "[Parallel(n_jobs=-1)]: Done   1 tasks      | elapsed:    0.1s\n",
            "[Parallel(n_jobs=-1)]: Batch computation too fast (0.0467s.) Setting batch_size=2.\n",
            "[Parallel(n_jobs=-1)]: Done   4 tasks      | elapsed:    0.1s\n",
            "[Parallel(n_jobs=-1)]: Batch computation too fast (0.0549s.) Setting batch_size=4.\n"
          ],
          "name": "stderr"
        },
        {
          "output_type": "stream",
          "text": [
            "Fit done in: 0.005206199487050375 minutes\n",
            "              precision    recall  f1-score   support\n",
            "\n",
            "           0       0.93      0.81      0.86        79\n",
            "           1       0.81      0.93      0.87        71\n",
            "\n",
            "    accuracy                           0.87       150\n",
            "   macro avg       0.87      0.87      0.87       150\n",
            "weighted avg       0.87      0.87      0.87       150\n",
            "\n",
            "Pipeline(memory='tmp',\n",
            "         steps=[('selector', VarianceThreshold(threshold=0)),\n",
            "                ('gaussiannb', GaussianNB())])\n",
            "{'selector__threshold': 0}\n",
            "Confusion matrix\n",
            "\n",
            "GaussianNB Classifier\n",
            "[[64 15]\n",
            " [ 5 66]]\n",
            "\n",
            "------------F1 macro------------\n",
            "Default: {'Dummy': 0.5050576130946438, 'GaussianNB': 0.8288378561195209, 'kNN': 0.8288378561195209, 'MLPClassifier': 0.9371644371644371, 'SVM_linear': 0.8750032803812847, 'SVM_rbf': 0.6723320598304255, 'SVM_poly': 0.49127733043322236}\n",
            "Optimiz: {'Dummy': 0.5050576130946438, 'GaussianNB': 0.8666429587482218}\n",
            "------------F1 micro------------\n",
            "Default: {'Dummy': 0.5242577842143374, 'GaussianNB': 0.8291093410572049, 'kNN': 0.8291093410572049, 'MLPClassifier': 0.939174511223751, 'SVM_linear': 0.8776249094858798, 'SVM_rbf': 0.7161477190441708, 'SVM_poly': 0.6357711803041275}\n",
            "Optimiz: {'Dummy': 0.5242577842143374, 'GaussianNB': 0.8666666666666667}\n"
          ],
          "name": "stdout"
        },
        {
          "output_type": "stream",
          "text": [
            "[Parallel(n_jobs=-1)]: Done  16 tasks      | elapsed:    0.2s\n",
            "[Parallel(n_jobs=-1)]: Batch computation too fast (0.0840s.) Setting batch_size=8.\n",
            "[Parallel(n_jobs=-1)]: Done  30 out of  30 | elapsed:    0.3s finished\n"
          ],
          "name": "stderr"
        }
      ]
    },
    {
      "cell_type": "code",
      "metadata": {
        "colab": {
          "base_uri": "https://localhost:8080/"
        },
        "id": "Oqwl_OVsD-ME",
        "outputId": "8fbd78d4-48a4-4184-aa1f-7a3dd9309851"
      },
      "source": [
        "param_grid = {\n",
        "    'selector__threshold': [0.03], #according to the calculations we did in the beginning of this section\n",
        "    'pca__n_components': [30, 32, 38, 40, 42, 44, 45],\n",
        "}\n",
        "\n",
        "clf = GaussianNB()\n",
        "pipe = Pipeline(steps=[('selector', selector), ('scaler', scaler), ('pca', pca), ('gaussiannb', clf)], memory = 'tmp')\n",
        "gridsearch_init_print('GaussianNB', param_grid, pipe)"
      ],
      "execution_count": null,
      "outputs": [
        {
          "output_type": "stream",
          "text": [
            "[Parallel(n_jobs=-1)]: Using backend LokyBackend with 2 concurrent workers.\n"
          ],
          "name": "stderr"
        },
        {
          "output_type": "stream",
          "text": [
            "Fitting 5 folds for each of 7 candidates, totalling 35 fits\n"
          ],
          "name": "stdout"
        },
        {
          "output_type": "stream",
          "text": [
            "[Parallel(n_jobs=-1)]: Done   1 tasks      | elapsed:    0.1s\n",
            "[Parallel(n_jobs=-1)]: Batch computation too fast (0.1239s.) Setting batch_size=2.\n",
            "[Parallel(n_jobs=-1)]: Done   4 tasks      | elapsed:    0.3s\n",
            "[Parallel(n_jobs=-1)]: Done  14 tasks      | elapsed:    0.8s\n",
            "[Parallel(n_jobs=-1)]: Done  24 tasks      | elapsed:    1.1s\n",
            "[Parallel(n_jobs=-1)]: Done  35 out of  35 | elapsed:    1.5s finished\n"
          ],
          "name": "stderr"
        },
        {
          "output_type": "stream",
          "text": [
            "Fit done in: 0.028196040789286295 minutes\n",
            "              precision    recall  f1-score   support\n",
            "\n",
            "           0       0.91      0.87      0.89       814\n",
            "           1       0.83      0.88      0.85       567\n",
            "\n",
            "    accuracy                           0.88      1381\n",
            "   macro avg       0.87      0.88      0.87      1381\n",
            "weighted avg       0.88      0.88      0.88      1381\n",
            "\n",
            "Pipeline(memory='tmp',\n",
            "         steps=[('selector', VarianceThreshold(threshold=0.03)),\n",
            "                ('scaler', StandardScaler()), ('pca', PCA(n_components=30)),\n",
            "                ('gaussiannb', GaussianNB())])\n",
            "{'pca__n_components': 30, 'selector__threshold': 0.03}\n",
            "Confusion matrix\n",
            "\n",
            "GaussianNB Classifier\n",
            "[[710 104]\n",
            " [ 68 499]]\n",
            "\n",
            "------------F1 macro------------\n",
            "Default: {'Dummy': 0.5050576130946438, 'GaussianNB': 0.8288378561195209, 'kNN': 0.8288378561195209, 'MLPClassifier': 0.9371644371644371, 'SVM_linear': 0.8750032803812847, 'SVM_rbf': 0.6723320598304255, 'SVM_poly': 0.49127733043322236}\n",
            "Optimiz: {'Dummy': 0.5050576130946438, 'GaussianNB': 0.872475625993214}\n",
            "------------F1 micro------------\n",
            "Default: {'Dummy': 0.5242577842143374, 'GaussianNB': 0.8291093410572049, 'kNN': 0.8291093410572049, 'MLPClassifier': 0.939174511223751, 'SVM_linear': 0.8776249094858798, 'SVM_rbf': 0.7161477190441708, 'SVM_poly': 0.6357711803041275}\n",
            "Optimiz: {'Dummy': 0.5242577842143374, 'GaussianNB': 0.8754525706010138}\n"
          ],
          "name": "stdout"
        }
      ]
    },
    {
      "cell_type": "markdown",
      "metadata": {
        "id": "JpvnHqquN5xZ"
      },
      "source": [
        "Βλέπουμε πως με sacled dataset ο classifier τα πηγαίνει καλύτερα από οτι με το κανονικό."
      ]
    },
    {
      "cell_type": "code",
      "metadata": {
        "colab": {
          "base_uri": "https://localhost:8080/"
        },
        "id": "bWoZ-_ZR9I93",
        "outputId": "e0f27954-3038-42c8-b52f-707269d60c63"
      },
      "source": [
        "param_grid = {\n",
        "    'selector__threshold': [0.03], #according to the calculations we did in the beginning of this section\n",
        "    'pca__n_components': [43, 45, 46, 47, 50, 60, 70]\n",
        "}\n",
        "\n",
        "clf = GaussianNB()\n",
        "pipe = Pipeline(steps=[('selector', selector), ('scaler', scaler), ('pca', pca), ('gaussiannb', clf)], memory = 'tmp')\n",
        "gridsearch_init_print('GaussianNB', param_grid, pipe)"
      ],
      "execution_count": null,
      "outputs": [
        {
          "output_type": "stream",
          "text": [
            "Fitting 5 folds for each of 7 candidates, totalling 35 fits\n"
          ],
          "name": "stdout"
        },
        {
          "output_type": "stream",
          "text": [
            "[Parallel(n_jobs=-1)]: Using backend LokyBackend with 2 concurrent workers.\n",
            "[Parallel(n_jobs=-1)]: Done   1 tasks      | elapsed:    0.0s\n",
            "[Parallel(n_jobs=-1)]: Batch computation too fast (0.0429s.) Setting batch_size=2.\n",
            "[Parallel(n_jobs=-1)]: Done   4 tasks      | elapsed:    0.1s\n",
            "[Parallel(n_jobs=-1)]: Batch computation too fast (0.0956s.) Setting batch_size=4.\n",
            "[Parallel(n_jobs=-1)]: Done  16 tasks      | elapsed:    0.4s\n",
            "[Parallel(n_jobs=-1)]: Batch computation too fast (0.1981s.) Setting batch_size=8.\n",
            "[Parallel(n_jobs=-1)]: Done  30 tasks      | elapsed:    0.5s\n"
          ],
          "name": "stderr"
        },
        {
          "output_type": "stream",
          "text": [
            "Fit done in: 0.0121140718460083 minutes\n",
            "              precision    recall  f1-score   support\n",
            "\n",
            "           0       0.88      0.88      0.88       814\n",
            "           1       0.83      0.83      0.83       567\n",
            "\n",
            "    accuracy                           0.86      1381\n",
            "   macro avg       0.86      0.86      0.86      1381\n",
            "weighted avg       0.86      0.86      0.86      1381\n",
            "\n",
            "Pipeline(memory='tmp',\n",
            "         steps=[('selector', VarianceThreshold(threshold=0.03)),\n",
            "                ('scaler', StandardScaler()), ('pca', PCA(n_components=47)),\n",
            "                ('gaussiannb', GaussianNB())])\n",
            "{'pca__n_components': 47, 'selector__threshold': 0.03}\n",
            "Confusion matrix\n",
            "\n",
            "GaussianNB Classifier\n",
            "[[719  95]\n",
            " [ 96 471]]\n",
            "\n",
            "------------F1 macro------------\n",
            "Default: {'Dummy': 0.5050576130946438, 'GaussianNB': 0.8288378561195209, 'kNN': 0.8288378561195209, 'MLPClassifier': 0.9371644371644371, 'SVM_linear': 0.8750032803812847, 'SVM_rbf': 0.6723320598304255, 'SVM_poly': 0.49127733043322236}\n",
            "Optimiz: {'Dummy': 0.5050576130946438, 'GaussianNB': 0.8570855798233366, 'kNN': 0.7941897268731637, 'MLPClassifier': 0.9337481005855506, 'SVM_linear': 0.9240521480331263, 'SVM_rbf': 0.9341368770187951, 'SVM_poly': 0.924852040720118}\n",
            "------------F1 micro------------\n",
            "Default: {'Dummy': 0.5242577842143374, 'GaussianNB': 0.8291093410572049, 'kNN': 0.8291093410572049, 'MLPClassifier': 0.939174511223751, 'SVM_linear': 0.8776249094858798, 'SVM_rbf': 0.7161477190441708, 'SVM_poly': 0.6357711803041275}\n",
            "Optimiz: {'Dummy': 0.5242577842143374, 'GaussianNB': 0.8616944243301955, 'kNN': 0.8175235336712527, 'MLPClassifier': 0.9355539464156408, 'SVM_linear': 0.9261404779145547, 'SVM_rbf': 0.9362780593772628, 'SVM_poly': 0.9268645908761767}\n"
          ],
          "name": "stdout"
        },
        {
          "output_type": "stream",
          "text": [
            "[Parallel(n_jobs=-1)]: Done  35 out of  35 | elapsed:    0.6s finished\n"
          ],
          "name": "stderr"
        }
      ]
    },
    {
      "cell_type": "markdown",
      "metadata": {
        "id": "mvwuBM4X-mAw"
      },
      "source": [
        "Βλέπουμε μια αισθητή βελτίωση στην απόδοση με 46 components στην μέθοδο pca."
      ]
    },
    {
      "cell_type": "code",
      "metadata": {
        "colab": {
          "base_uri": "https://localhost:8080/"
        },
        "id": "kOhI0WH3-WU-",
        "outputId": "e62738e2-8339-4a45-c8a4-8dfaae03e499"
      },
      "source": [
        "param_grid = {\n",
        "    'selector__threshold': [0.03], #according to the calculations we did in the beginning of this section\n",
        "    'pca__n_components': [47]\n",
        "}\n",
        "\n",
        "clf = GaussianNB()\n",
        "pipe = Pipeline(steps=[('selector', selector), ('scaler', scaler), ('pca', pca), ('ros', ros), ('gaussiannb', clf)], memory = 'tmp')\n",
        "gridsearch_init_print('GaussianNB', param_grid, pipe)"
      ],
      "execution_count": null,
      "outputs": [
        {
          "output_type": "stream",
          "text": [
            "Fitting 5 folds for each of 1 candidates, totalling 5 fits\n"
          ],
          "name": "stdout"
        },
        {
          "output_type": "stream",
          "text": [
            "[Parallel(n_jobs=-1)]: Using backend LokyBackend with 2 concurrent workers.\n",
            "[Parallel(n_jobs=-1)]: Done   1 tasks      | elapsed:    0.1s\n",
            "[Parallel(n_jobs=-1)]: Batch computation too fast (0.0653s.) Setting batch_size=2.\n",
            "[Parallel(n_jobs=-1)]: Done   3 out of   5 | elapsed:    0.1s remaining:    0.1s\n",
            "[Parallel(n_jobs=-1)]: Done   5 out of   5 | elapsed:    0.2s remaining:    0.0s\n",
            "[Parallel(n_jobs=-1)]: Done   5 out of   5 | elapsed:    0.2s finished\n"
          ],
          "name": "stderr"
        },
        {
          "output_type": "stream",
          "text": [
            "Fit done in: 0.005329267183939616 minutes\n",
            "              precision    recall  f1-score   support\n",
            "\n",
            "           0       0.92      0.87      0.89       814\n",
            "           1       0.82      0.89      0.85       567\n",
            "\n",
            "    accuracy                           0.87      1381\n",
            "   macro avg       0.87      0.88      0.87      1381\n",
            "weighted avg       0.88      0.87      0.87      1381\n",
            "\n",
            "Pipeline(memory='tmp',\n",
            "         steps=[('selector', VarianceThreshold(threshold=0.03)),\n",
            "                ('scaler', StandardScaler()), ('pca', PCA(n_components=47)),\n",
            "                ('ros', RandomOverSampler()), ('gaussiannb', GaussianNB())])\n",
            "{'pca__n_components': 47, 'selector__threshold': 0.03}\n",
            "Confusion matrix\n",
            "\n",
            "GaussianNB Classifier\n",
            "[[705 109]\n",
            " [ 65 502]]\n",
            "\n",
            "------------F1 macro------------\n",
            "Default: {'Dummy': 0.5050576130946438, 'GaussianNB': 0.8288378561195209, 'kNN': 0.8288378561195209, 'MLPClassifier': 0.9371644371644371, 'SVM_linear': 0.8750032803812847, 'SVM_rbf': 0.6723320598304255, 'SVM_poly': 0.49127733043322236}\n",
            "Optimiz: {'Dummy': 0.5050576130946438, 'GaussianNB': 0.8712217677625147, 'kNN': 0.7941897268731637, 'MLPClassifier': 0.9337481005855506, 'SVM_linear': 0.9240521480331263, 'SVM_rbf': 0.9341368770187951, 'SVM_poly': 0.924852040720118}\n",
            "------------F1 micro------------\n",
            "Default: {'Dummy': 0.5242577842143374, 'GaussianNB': 0.8291093410572049, 'kNN': 0.8291093410572049, 'MLPClassifier': 0.939174511223751, 'SVM_linear': 0.8776249094858798, 'SVM_rbf': 0.7161477190441708, 'SVM_poly': 0.6357711803041275}\n",
            "Optimiz: {'Dummy': 0.5242577842143374, 'GaussianNB': 0.8740043446777698, 'kNN': 0.8175235336712527, 'MLPClassifier': 0.9355539464156408, 'SVM_linear': 0.9261404779145547, 'SVM_rbf': 0.9362780593772628, 'SVM_poly': 0.9268645908761767}\n"
          ],
          "name": "stdout"
        }
      ]
    },
    {
      "cell_type": "markdown",
      "metadata": {
        "id": "IML7kOCE-ppp"
      },
      "source": [
        "Βλέπουμε όμως πως πέφτει με random over sampler, οπότε τον αφαιρούμε."
      ]
    },
    {
      "cell_type": "code",
      "metadata": {
        "colab": {
          "base_uri": "https://localhost:8080/"
        },
        "id": "nYlpzh__EBye",
        "outputId": "0531d285-d1c9-4bdb-d4d6-63780ae1839d"
      },
      "source": [
        "print(train.shape)\n",
        "print(train_reduced.shape)"
      ],
      "execution_count": null,
      "outputs": [
        {
          "output_type": "stream",
          "text": [
            "(5576, 57)\n",
            "(5576, 29)\n"
          ],
          "name": "stdout"
        }
      ]
    },
    {
      "cell_type": "markdown",
      "metadata": {
        "id": "Rl5-pHZqEIFn"
      },
      "source": [
        "Βλέπουμε ότι το καλύτερο αποτέλεσμα το πετύχαμε για Variance Threshold 0.02. Δεν έχουμε τόσα πολλά features συγκριτικά με τον αριθμό των δειγμάτων, οπότε σταματάμε σε αυτό το threshold.\n",
        "\n",
        "Θα δοκιμάσουμε και με PCA:"
      ]
    },
    {
      "cell_type": "code",
      "metadata": {
        "id": "yWvOnW-aEWS4"
      },
      "source": [
        "# initialize the estimators (transformers and classifier) without parameters\n",
        "clf = GaussianNB()\n",
        "\n",
        "param_grid = {\n",
        "    'selector__threshold': [0.04],\n",
        "    'pca__n_components': [31,32,33,34,35,36,37]\n",
        "}"
      ],
      "execution_count": null,
      "outputs": []
    },
    {
      "cell_type": "code",
      "metadata": {
        "colab": {
          "base_uri": "https://localhost:8080/"
        },
        "id": "Drzu8Z7qEYuy",
        "outputId": "7c314904-1bd8-491c-eedc-d0b8fea84f04"
      },
      "source": [
        "pipe = Pipeline(steps=[('selector', selector),('pca',pca), ('gaussiannb', clf)], memory = 'tmp')\n",
        "gridsearch_init_print('GaussianNB', param_grid, pipe)"
      ],
      "execution_count": null,
      "outputs": [
        {
          "output_type": "stream",
          "text": [
            "Fitting 5 folds for each of 7 candidates, totalling 35 fits\n"
          ],
          "name": "stdout"
        },
        {
          "output_type": "stream",
          "text": [
            "[Parallel(n_jobs=-1)]: Using backend LokyBackend with 2 concurrent workers.\n",
            "[Parallel(n_jobs=-1)]: Done   1 tasks      | elapsed:    0.1s\n",
            "[Parallel(n_jobs=-1)]: Batch computation too fast (0.0944s.) Setting batch_size=2.\n",
            "[Parallel(n_jobs=-1)]: Done   4 tasks      | elapsed:    0.2s\n",
            "[Parallel(n_jobs=-1)]: Done  14 tasks      | elapsed:    0.7s\n",
            "[Parallel(n_jobs=-1)]: Done  24 tasks      | elapsed:    1.0s\n",
            "[Parallel(n_jobs=-1)]: Done  35 out of  35 | elapsed:    1.4s finished\n"
          ],
          "name": "stderr"
        },
        {
          "output_type": "stream",
          "text": [
            "Fit done in: 0.027623478571573892 minutes\n",
            "              precision    recall  f1-score   support\n",
            "\n",
            "           0       0.80      0.93      0.86       814\n",
            "           1       0.87      0.66      0.75       567\n",
            "\n",
            "    accuracy                           0.82      1381\n",
            "   macro avg       0.83      0.79      0.80      1381\n",
            "weighted avg       0.82      0.82      0.81      1381\n",
            "\n",
            "Pipeline(memory='tmp',\n",
            "         steps=[('selector', VarianceThreshold(threshold=0.04)),\n",
            "                ('pca', PCA(n_components=37)), ('gaussiannb', GaussianNB())])\n",
            "{'pca__n_components': 37, 'selector__threshold': 0.04}\n",
            "Confusion matrix\n",
            "\n",
            "GaussianNB Classifier\n",
            "[[757  57]\n",
            " [195 372]]\n",
            "\n",
            "------------F1 macro------------\n",
            "Default: {'Dummy': 0.5050576130946438, 'GaussianNB': 0.8288378561195209, 'kNN': 0.8288378561195209, 'MLPClassifier': 0.9371644371644371, 'SVM_linear': 0.8750032803812847, 'SVM_rbf': 0.6723320598304255, 'SVM_poly': 0.49127733043322236}\n",
            "Optimiz: {'Dummy': 0.5050576130946438, 'GaussianNB': 0.8021462975344185}\n",
            "------------F1 micro------------\n",
            "Default: {'Dummy': 0.5242577842143374, 'GaussianNB': 0.8291093410572049, 'kNN': 0.8291093410572049, 'MLPClassifier': 0.939174511223751, 'SVM_linear': 0.8776249094858798, 'SVM_rbf': 0.7161477190441708, 'SVM_poly': 0.6357711803041275}\n",
            "Optimiz: {'Dummy': 0.5242577842143374, 'GaussianNB': 0.8175235336712527}\n"
          ],
          "name": "stdout"
        }
      ]
    },
    {
      "cell_type": "markdown",
      "metadata": {
        "id": "fwTpzTVwEfcS"
      },
      "source": [
        "Εδώ βλέπουμε ότι έχουμε λιγότερες διαστάσεις αλλά απειροελάχιστη διαφορά απόδοσης σε σχέση με τον non-optimized classifier.\n",
        "\n",
        "Στο καινούργιο pipeline βρήκαμε καλύτερο σκορ, χρησιμοποιώντας variance_threshold=0.04 και PCA.\n",
        "\n",
        "Εδώ να σημειώσουμε πως η επιλογή μας στα components του PCA έγινε μετά από πειραματισμούς με μεγαλύτερες τιμές, που δεν απέδιδαν παραπάνω. "
      ]
    },
    {
      "cell_type": "markdown",
      "metadata": {
        "id": "vYfUJ4RTsfmf"
      },
      "source": [
        "Μπορεί να κάναμε αρκετό pre-processing και να χρησιμοποιήσαμε gridsearchCV αλλά δεν είχε κάποιά αξιόλογή επίδραση στον Gaussian Naive Bayes, τουλάχιστον με τις παραμέτρους που δοκιμάσαμε. "
      ]
    },
    {
      "cell_type": "markdown",
      "metadata": {
        "id": "Grxh7fuNFfnM"
      },
      "source": [
        "### Optimized kNN Classifier"
      ]
    },
    {
      "cell_type": "markdown",
      "metadata": {
        "id": "igDZuxYwFgs3"
      },
      "source": [
        "Αρχικά θα δοκιμάσουμε μόνο με Variance Threshold. Θα χρησιμοποιήσουμε όλους τους πυρήνες (n_jobs = -1) και verbose = 10 για να ελέγχουμε την πορεία της εκπαίδευσης."
      ]
    },
    {
      "cell_type": "code",
      "metadata": {
        "colab": {
          "base_uri": "https://localhost:8080/"
        },
        "id": "q3uJPKvA_ynx",
        "outputId": "368c26ec-8468-4c4d-c338-dd32ff4bd7fe"
      },
      "source": [
        "clf = KNeighborsClassifier(n_jobs=-1)\n",
        "\n",
        "param_grid = {\n",
        "    # 'selector__threshold': [0.05, 0.06, 0.07, 0.08, 0.09, 0.1],\n",
        "    'kNN__n_neighbors': [1, 2, 3, 4, 5, 10, 15],\n",
        "    'kNN__weights': ['uniform', 'distance'],\n",
        "    'kNN__metric': ['euclidean', 'manhattan', 'chebyshev', 'minkowski', 'hamming'] #default minkowski\n",
        "}\n",
        "\n",
        "pipe = Pipeline(steps=[('kNN', clf)], memory = 'tmp')\n",
        "gridsearch_init_print('kNN', param_grid, pipe, strain, strain_labels, stest, stest_labels)"
      ],
      "execution_count": null,
      "outputs": [
        {
          "output_type": "stream",
          "text": [
            "Fitting 5 folds for each of 70 candidates, totalling 350 fits\n"
          ],
          "name": "stdout"
        },
        {
          "output_type": "stream",
          "text": [
            "[Parallel(n_jobs=-1)]: Using backend LokyBackend with 2 concurrent workers.\n",
            "[Parallel(n_jobs=-1)]: Done   1 tasks      | elapsed:    0.1s\n",
            "[Parallel(n_jobs=-1)]: Batch computation too fast (0.1244s.) Setting batch_size=2.\n",
            "[Parallel(n_jobs=-1)]: Done   4 tasks      | elapsed:    0.3s\n",
            "[Parallel(n_jobs=-1)]: Done  14 tasks      | elapsed:    0.9s\n",
            "[Parallel(n_jobs=-1)]: Done  24 tasks      | elapsed:    1.3s\n",
            "[Parallel(n_jobs=-1)]: Done  38 tasks      | elapsed:    2.2s\n",
            "[Parallel(n_jobs=-1)]: Done  52 tasks      | elapsed:    2.9s\n",
            "[Parallel(n_jobs=-1)]: Done  70 tasks      | elapsed:    4.0s\n",
            "[Parallel(n_jobs=-1)]: Done  88 tasks      | elapsed:    4.8s\n",
            "[Parallel(n_jobs=-1)]: Done 110 tasks      | elapsed:    6.2s\n",
            "[Parallel(n_jobs=-1)]: Done 132 tasks      | elapsed:    7.3s\n",
            "[Parallel(n_jobs=-1)]: Done 158 tasks      | elapsed:    8.8s\n",
            "[Parallel(n_jobs=-1)]: Done 184 tasks      | elapsed:   10.1s\n",
            "[Parallel(n_jobs=-1)]: Done 214 tasks      | elapsed:   11.9s\n",
            "[Parallel(n_jobs=-1)]: Done 244 tasks      | elapsed:   13.4s\n",
            "[Parallel(n_jobs=-1)]: Done 278 tasks      | elapsed:   15.4s\n",
            "[Parallel(n_jobs=-1)]: Done 312 tasks      | elapsed:   17.1s\n",
            "[Parallel(n_jobs=-1)]: Done 350 out of 350 | elapsed:   19.2s finished\n"
          ],
          "name": "stderr"
        },
        {
          "output_type": "stream",
          "text": [
            "Fit done in: 0.32028942505518593 minutes\n",
            "              precision    recall  f1-score   support\n",
            "\n",
            "           0       0.76      0.95      0.84        79\n",
            "           1       0.92      0.66      0.77        71\n",
            "\n",
            "    accuracy                           0.81       150\n",
            "   macro avg       0.84      0.81      0.81       150\n",
            "weighted avg       0.84      0.81      0.81       150\n",
            "\n",
            "Pipeline(memory='tmp',\n",
            "         steps=[('kNN',\n",
            "                 KNeighborsClassifier(metric='hamming', n_jobs=-1,\n",
            "                                      n_neighbors=3, weights='distance'))])\n",
            "{'kNN__metric': 'hamming', 'kNN__n_neighbors': 3, 'kNN__weights': 'distance'}\n",
            "Confusion matrix\n",
            "\n",
            "kNN Classifier\n",
            "[[75  4]\n",
            " [24 47]]\n",
            "\n",
            "------------F1 macro------------\n",
            "Default: {'Dummy': 0.5050576130946438, 'GaussianNB': 0.8288378561195209, 'kNN': 0.8288378561195209, 'MLPClassifier': 0.9371644371644371, 'SVM_linear': 0.8750032803812847, 'SVM_rbf': 0.6723320598304255, 'SVM_poly': 0.49127733043322236}\n",
            "Optimiz: {'Dummy': 0.5050576130946438, 'GaussianNB': 0.8021462975344185, 'kNN': 0.8065942162460857}\n",
            "------------F1 micro------------\n",
            "Default: {'Dummy': 0.5242577842143374, 'GaussianNB': 0.8291093410572049, 'kNN': 0.8291093410572049, 'MLPClassifier': 0.939174511223751, 'SVM_linear': 0.8776249094858798, 'SVM_rbf': 0.7161477190441708, 'SVM_poly': 0.6357711803041275}\n",
            "Optimiz: {'Dummy': 0.5242577842143374, 'GaussianNB': 0.8175235336712527, 'kNN': 0.8133333333333334}\n"
          ],
          "name": "stdout"
        }
      ]
    },
    {
      "cell_type": "markdown",
      "metadata": {
        "id": "KeBVHDXbACbh"
      },
      "source": [
        "Επιλέγουμε να προχωρήσουμε πρώτα με τα weights. Κρατάμε το 'distance' ως καλύτερο."
      ]
    },
    {
      "cell_type": "code",
      "metadata": {
        "colab": {
          "base_uri": "https://localhost:8080/"
        },
        "id": "jhTNZZtKABkC",
        "outputId": "b07879df-c53b-4bae-9713-fe52cf6bbfbc"
      },
      "source": [
        "clf = KNeighborsClassifier(n_jobs=-1)\n",
        "\n",
        "param_grid = {\n",
        "    # 'selector__threshold': [0.05, 0.06, 0.07, 0.08, 0.09, 0.1],\n",
        "    'kNN__weights': ['distance'],\n",
        "    'kNN__n_neighbors': [1, 2, 3, 4, 5, 6, 7, 8, 9, 10, 15],\n",
        "    'kNN__metric': ['euclidean', 'manhattan', 'chebyshev', 'minkowski', 'hamming'] #default minkowski\n",
        "}\n",
        "\n",
        "pipe = Pipeline(steps=[('kNN', clf)], memory = 'tmp')\n",
        "gridsearch_init_print('kNN', param_grid, pipe, strain, strain_labels, stest, stest_labels)"
      ],
      "execution_count": null,
      "outputs": [
        {
          "output_type": "stream",
          "text": [
            "Fitting 5 folds for each of 55 candidates, totalling 275 fits\n"
          ],
          "name": "stdout"
        },
        {
          "output_type": "stream",
          "text": [
            "[Parallel(n_jobs=-1)]: Using backend LokyBackend with 2 concurrent workers.\n",
            "[Parallel(n_jobs=-1)]: Done   1 tasks      | elapsed:    0.1s\n",
            "[Parallel(n_jobs=-1)]: Batch computation too fast (0.1128s.) Setting batch_size=2.\n",
            "[Parallel(n_jobs=-1)]: Done   4 tasks      | elapsed:    0.2s\n",
            "[Parallel(n_jobs=-1)]: Done  14 tasks      | elapsed:    0.9s\n",
            "[Parallel(n_jobs=-1)]: Done  24 tasks      | elapsed:    1.3s\n",
            "[Parallel(n_jobs=-1)]: Done  38 tasks      | elapsed:    2.2s\n",
            "[Parallel(n_jobs=-1)]: Done  52 tasks      | elapsed:    2.8s\n",
            "[Parallel(n_jobs=-1)]: Done  70 tasks      | elapsed:    3.9s\n",
            "[Parallel(n_jobs=-1)]: Done  88 tasks      | elapsed:    4.8s\n",
            "[Parallel(n_jobs=-1)]: Done 110 tasks      | elapsed:    6.1s\n",
            "[Parallel(n_jobs=-1)]: Done 132 tasks      | elapsed:    7.1s\n",
            "[Parallel(n_jobs=-1)]: Done 158 tasks      | elapsed:    8.6s\n",
            "[Parallel(n_jobs=-1)]: Done 184 tasks      | elapsed:   10.0s\n",
            "[Parallel(n_jobs=-1)]: Done 214 tasks      | elapsed:   11.7s\n",
            "[Parallel(n_jobs=-1)]: Done 244 tasks      | elapsed:   13.2s\n",
            "[Parallel(n_jobs=-1)]: Done 275 out of 275 | elapsed:   14.9s finished\n"
          ],
          "name": "stderr"
        },
        {
          "output_type": "stream",
          "text": [
            "Fit done in: 0.24884315331776938 minutes\n",
            "              precision    recall  f1-score   support\n",
            "\n",
            "           0       0.76      0.95      0.84        79\n",
            "           1       0.92      0.66      0.77        71\n",
            "\n",
            "    accuracy                           0.81       150\n",
            "   macro avg       0.84      0.81      0.81       150\n",
            "weighted avg       0.84      0.81      0.81       150\n",
            "\n",
            "Pipeline(memory='tmp',\n",
            "         steps=[('kNN',\n",
            "                 KNeighborsClassifier(metric='hamming', n_jobs=-1,\n",
            "                                      n_neighbors=3, weights='distance'))])\n",
            "{'kNN__metric': 'hamming', 'kNN__n_neighbors': 3, 'kNN__weights': 'distance'}\n",
            "Confusion matrix\n",
            "\n",
            "kNN Classifier\n",
            "[[75  4]\n",
            " [24 47]]\n",
            "\n",
            "------------F1 macro------------\n",
            "Default: {'Dummy': 0.5050576130946438, 'GaussianNB': 0.8288378561195209, 'kNN': 0.8288378561195209, 'MLPClassifier': 0.9371644371644371, 'SVM_linear': 0.8750032803812847, 'SVM_rbf': 0.6723320598304255, 'SVM_poly': 0.49127733043322236}\n",
            "Optimiz: {'Dummy': 0.5050576130946438, 'GaussianNB': 0.8021462975344185, 'kNN': 0.8065942162460857}\n",
            "------------F1 micro------------\n",
            "Default: {'Dummy': 0.5242577842143374, 'GaussianNB': 0.8291093410572049, 'kNN': 0.8291093410572049, 'MLPClassifier': 0.939174511223751, 'SVM_linear': 0.8776249094858798, 'SVM_rbf': 0.7161477190441708, 'SVM_poly': 0.6357711803041275}\n",
            "Optimiz: {'Dummy': 0.5242577842143374, 'GaussianNB': 0.8175235336712527, 'kNN': 0.8133333333333334}\n"
          ],
          "name": "stdout"
        }
      ]
    },
    {
      "cell_type": "markdown",
      "metadata": {
        "id": "srGi6NW1AbcZ"
      },
      "source": [
        "Βλέπουμε πως παρόλο που δώσαμε μεγάλο εύρος neighbors, επιλέγεται πάλι το k=5. Οπότε κρατάμε αυτό ως βέλτιστο και metric = hamming."
      ]
    },
    {
      "cell_type": "code",
      "metadata": {
        "colab": {
          "base_uri": "https://localhost:8080/"
        },
        "id": "Z1M2KoqtMP_i",
        "outputId": "f4e7f5f3-0dad-40b7-d8dc-c0900f70ec15"
      },
      "source": [
        "clf = KNeighborsClassifier(n_jobs=-1)\n",
        "\n",
        "param_grid = {\n",
        "    # 'selector__threshold': [0.05, 0.06, 0.07, 0.08, 0.09, 0.1],\n",
        "    'kNN__weights': ['distance'],\n",
        "    'kNN__n_neighbors': [1, 2, 3, 4, 5, 6, 7, 8, 9, 10, 15],\n",
        "    'kNN__metric': ['euclidean', 'manhattan', 'chebyshev', 'minkowski', 'hamming'] #default minkowski\n",
        "}\n",
        "\n",
        "pipe = Pipeline(steps=[('scaler', scaler), ('sampler', ros), ('kNN', clf)], memory = 'tmp')\n",
        "gridsearch_init_print('kNN', param_grid, pipe, strain, strain_labels, stest, stest_labels)"
      ],
      "execution_count": null,
      "outputs": [
        {
          "output_type": "stream",
          "text": [
            "Fitting 5 folds for each of 55 candidates, totalling 275 fits\n"
          ],
          "name": "stdout"
        },
        {
          "output_type": "stream",
          "text": [
            "[Parallel(n_jobs=-1)]: Using backend LokyBackend with 2 concurrent workers.\n",
            "[Parallel(n_jobs=-1)]: Done   1 tasks      | elapsed:    0.1s\n",
            "[Parallel(n_jobs=-1)]: Batch computation too fast (0.1189s.) Setting batch_size=2.\n",
            "[Parallel(n_jobs=-1)]: Done   4 tasks      | elapsed:    0.2s\n",
            "[Parallel(n_jobs=-1)]: Done  14 tasks      | elapsed:    0.9s\n",
            "[Parallel(n_jobs=-1)]: Done  24 tasks      | elapsed:    1.4s\n",
            "[Parallel(n_jobs=-1)]: Done  38 tasks      | elapsed:    2.3s\n",
            "[Parallel(n_jobs=-1)]: Done  52 tasks      | elapsed:    3.0s\n",
            "[Parallel(n_jobs=-1)]: Done  70 tasks      | elapsed:    4.2s\n",
            "[Parallel(n_jobs=-1)]: Done  88 tasks      | elapsed:    5.1s\n",
            "[Parallel(n_jobs=-1)]: Done 110 tasks      | elapsed:    6.6s\n",
            "[Parallel(n_jobs=-1)]: Done 132 tasks      | elapsed:    7.7s\n",
            "[Parallel(n_jobs=-1)]: Done 158 tasks      | elapsed:    9.4s\n",
            "[Parallel(n_jobs=-1)]: Done 184 tasks      | elapsed:   10.8s\n",
            "[Parallel(n_jobs=-1)]: Done 214 tasks      | elapsed:   12.6s\n",
            "[Parallel(n_jobs=-1)]: Done 244 tasks      | elapsed:   14.2s\n",
            "[Parallel(n_jobs=-1)]: Done 275 out of 275 | elapsed:   16.0s finished\n"
          ],
          "name": "stderr"
        },
        {
          "output_type": "stream",
          "text": [
            "Fit done in: 0.2664770483970642 minutes\n",
            "              precision    recall  f1-score   support\n",
            "\n",
            "           0       0.81      0.95      0.87        79\n",
            "           1       0.93      0.75      0.83        71\n",
            "\n",
            "    accuracy                           0.85       150\n",
            "   macro avg       0.87      0.85      0.85       150\n",
            "weighted avg       0.86      0.85      0.85       150\n",
            "\n",
            "Pipeline(memory='tmp',\n",
            "         steps=[('scaler', StandardScaler()), ('sampler', RandomOverSampler()),\n",
            "                ('kNN',\n",
            "                 KNeighborsClassifier(metric='manhattan', n_jobs=-1,\n",
            "                                      n_neighbors=9, weights='distance'))])\n",
            "{'kNN__metric': 'manhattan', 'kNN__n_neighbors': 9, 'kNN__weights': 'distance'}\n",
            "Confusion matrix\n",
            "\n",
            "kNN Classifier\n",
            "[[75  4]\n",
            " [18 53]]\n",
            "\n",
            "------------F1 macro------------\n",
            "Default: {'Dummy': 0.5050576130946438, 'GaussianNB': 0.8288378561195209, 'kNN': 0.8288378561195209, 'MLPClassifier': 0.9371644371644371, 'SVM_linear': 0.8750032803812847, 'SVM_rbf': 0.6723320598304255, 'SVM_poly': 0.49127733043322236}\n",
            "Optimiz: {'Dummy': 0.5050576130946438, 'GaussianNB': 0.8712217677625147, 'kNN': 0.8501090116279069, 'MLPClassifier': 0.9337481005855506, 'SVM_linear': 0.9240521480331263, 'SVM_rbf': 0.9341368770187951, 'SVM_poly': 0.924852040720118}\n",
            "------------F1 micro------------\n",
            "Default: {'Dummy': 0.5242577842143374, 'GaussianNB': 0.8291093410572049, 'kNN': 0.8291093410572049, 'MLPClassifier': 0.939174511223751, 'SVM_linear': 0.8776249094858798, 'SVM_rbf': 0.7161477190441708, 'SVM_poly': 0.6357711803041275}\n",
            "Optimiz: {'Dummy': 0.5242577842143374, 'GaussianNB': 0.8740043446777698, 'kNN': 0.8533333333333334, 'MLPClassifier': 0.9355539464156408, 'SVM_linear': 0.9261404779145547, 'SVM_rbf': 0.9362780593772628, 'SVM_poly': 0.9268645908761767}\n"
          ],
          "name": "stdout"
        }
      ]
    },
    {
      "cell_type": "code",
      "metadata": {
        "colab": {
          "base_uri": "https://localhost:8080/"
        },
        "id": "0iOXLJoAMjkE",
        "outputId": "2c294024-0fb1-41ec-9aec-dfdc2888dac3"
      },
      "source": [
        "clf = KNeighborsClassifier(n_jobs=-1)\n",
        "\n",
        "param_grid = {\n",
        "    # 'selector__threshold': [0.05, 0.06, 0.07, 0.08, 0.09, 0.1],\n",
        "    'pca__n_components': [31,32,33,34,35,36,37],\n",
        "    'kNN__weights': ['distance'],\n",
        "    'kNN__n_neighbors': [5, 6, 7, 8, 9, 10, 15],\n",
        "    'kNN__metric': ['euclidean', 'manhattan', 'chebyshev', 'minkowski', 'hamming'] #default minkowski\n",
        "}\n",
        "\n",
        "pipe = Pipeline(steps=[('scaler', scaler), ('pca', pca), ('sampler', ros), ('kNN', clf)], memory = 'tmp')\n",
        "gridsearch_init_print('kNN', param_grid, pipe, strain, strain_labels, stest, stest_labels)"
      ],
      "execution_count": null,
      "outputs": [
        {
          "output_type": "stream",
          "text": [
            "Fitting 5 folds for each of 245 candidates, totalling 1225 fits\n"
          ],
          "name": "stdout"
        },
        {
          "output_type": "stream",
          "text": [
            "[Parallel(n_jobs=-1)]: Using backend LokyBackend with 2 concurrent workers.\n",
            "[Parallel(n_jobs=-1)]: Done   1 tasks      | elapsed:    1.4s\n",
            "[Parallel(n_jobs=-1)]: Done   4 tasks      | elapsed:    1.6s\n",
            "[Parallel(n_jobs=-1)]: Done   9 tasks      | elapsed:    1.9s\n",
            "[Parallel(n_jobs=-1)]: Done  14 tasks      | elapsed:    2.2s\n",
            "[Parallel(n_jobs=-1)]: Done  21 tasks      | elapsed:    2.7s\n",
            "[Parallel(n_jobs=-1)]: Done  28 tasks      | elapsed:    3.0s\n",
            "[Parallel(n_jobs=-1)]: Done  37 tasks      | elapsed:    3.6s\n",
            "[Parallel(n_jobs=-1)]: Done  46 tasks      | elapsed:    4.1s\n",
            "[Parallel(n_jobs=-1)]: Done  57 tasks      | elapsed:    4.8s\n",
            "[Parallel(n_jobs=-1)]: Done  68 tasks      | elapsed:    5.4s\n",
            "[Parallel(n_jobs=-1)]: Done  81 tasks      | elapsed:    6.3s\n",
            "[Parallel(n_jobs=-1)]: Done  94 tasks      | elapsed:    7.0s\n",
            "[Parallel(n_jobs=-1)]: Done 109 tasks      | elapsed:    7.9s\n",
            "[Parallel(n_jobs=-1)]: Done 124 tasks      | elapsed:    8.8s\n",
            "[Parallel(n_jobs=-1)]: Done 141 tasks      | elapsed:    9.8s\n",
            "[Parallel(n_jobs=-1)]: Done 158 tasks      | elapsed:   10.8s\n",
            "[Parallel(n_jobs=-1)]: Done 177 tasks      | elapsed:   12.0s\n",
            "[Parallel(n_jobs=-1)]: Done 196 tasks      | elapsed:   13.1s\n",
            "[Parallel(n_jobs=-1)]: Done 217 tasks      | elapsed:   14.4s\n",
            "[Parallel(n_jobs=-1)]: Done 238 tasks      | elapsed:   15.6s\n",
            "[Parallel(n_jobs=-1)]: Done 261 tasks      | elapsed:   17.0s\n",
            "[Parallel(n_jobs=-1)]: Done 284 tasks      | elapsed:   18.3s\n",
            "[Parallel(n_jobs=-1)]: Done 309 tasks      | elapsed:   19.9s\n",
            "[Parallel(n_jobs=-1)]: Done 334 tasks      | elapsed:   21.3s\n",
            "[Parallel(n_jobs=-1)]: Done 361 tasks      | elapsed:   23.0s\n",
            "[Parallel(n_jobs=-1)]: Done 388 tasks      | elapsed:   24.5s\n",
            "[Parallel(n_jobs=-1)]: Done 417 tasks      | elapsed:   26.2s\n",
            "[Parallel(n_jobs=-1)]: Done 446 tasks      | elapsed:   27.9s\n",
            "[Parallel(n_jobs=-1)]: Done 477 tasks      | elapsed:   29.8s\n",
            "[Parallel(n_jobs=-1)]: Done 508 tasks      | elapsed:   31.6s\n",
            "[Parallel(n_jobs=-1)]: Done 541 tasks      | elapsed:   33.6s\n",
            "[Parallel(n_jobs=-1)]: Done 574 tasks      | elapsed:   35.5s\n",
            "[Parallel(n_jobs=-1)]: Done 609 tasks      | elapsed:   37.5s\n",
            "[Parallel(n_jobs=-1)]: Done 644 tasks      | elapsed:   39.6s\n",
            "[Parallel(n_jobs=-1)]: Done 681 tasks      | elapsed:   41.8s\n",
            "[Parallel(n_jobs=-1)]: Done 718 tasks      | elapsed:   44.0s\n",
            "[Parallel(n_jobs=-1)]: Done 757 tasks      | elapsed:   46.4s\n",
            "[Parallel(n_jobs=-1)]: Done 796 tasks      | elapsed:   48.6s\n",
            "[Parallel(n_jobs=-1)]: Done 837 tasks      | elapsed:   51.0s\n",
            "[Parallel(n_jobs=-1)]: Done 878 tasks      | elapsed:   53.4s\n",
            "[Parallel(n_jobs=-1)]: Done 921 tasks      | elapsed:   56.0s\n",
            "[Parallel(n_jobs=-1)]: Done 964 tasks      | elapsed:   58.5s\n",
            "[Parallel(n_jobs=-1)]: Done 1009 tasks      | elapsed:  1.0min\n",
            "[Parallel(n_jobs=-1)]: Done 1054 tasks      | elapsed:  1.1min\n",
            "[Parallel(n_jobs=-1)]: Done 1101 tasks      | elapsed:  1.1min\n",
            "[Parallel(n_jobs=-1)]: Done 1148 tasks      | elapsed:  1.2min\n",
            "[Parallel(n_jobs=-1)]: Done 1197 tasks      | elapsed:  1.2min\n",
            "[Parallel(n_jobs=-1)]: Done 1225 out of 1225 | elapsed:  1.2min finished\n"
          ],
          "name": "stderr"
        },
        {
          "output_type": "stream",
          "text": [
            "Fit done in: 1.2341089089711508 minutes\n",
            "              precision    recall  f1-score   support\n",
            "\n",
            "           0       0.83      0.89      0.86        79\n",
            "           1       0.86      0.80      0.83        71\n",
            "\n",
            "    accuracy                           0.85       150\n",
            "   macro avg       0.85      0.84      0.85       150\n",
            "weighted avg       0.85      0.85      0.85       150\n",
            "\n",
            "Pipeline(memory='tmp',\n",
            "         steps=[('scaler', StandardScaler()), ('pca', PCA(n_components=34)),\n",
            "                ('sampler', RandomOverSampler()),\n",
            "                ('kNN',\n",
            "                 KNeighborsClassifier(metric='euclidean', n_jobs=-1,\n",
            "                                      n_neighbors=15, weights='distance'))])\n",
            "{'kNN__metric': 'euclidean', 'kNN__n_neighbors': 15, 'kNN__weights': 'distance', 'pca__n_components': 34}\n",
            "Confusion matrix\n",
            "\n",
            "kNN Classifier\n",
            "[[70  9]\n",
            " [14 57]]\n",
            "\n",
            "------------F1 macro------------\n",
            "Default: {'Dummy': 0.5050576130946438, 'GaussianNB': 0.8288378561195209, 'kNN': 0.8288378561195209, 'MLPClassifier': 0.9371644371644371, 'SVM_linear': 0.8750032803812847, 'SVM_rbf': 0.6723320598304255, 'SVM_poly': 0.49127733043322236}\n",
            "Optimiz: {'Dummy': 0.5050576130946438, 'GaussianNB': 0.8712217677625147, 'kNN': 0.8455062469213201, 'MLPClassifier': 0.9337481005855506, 'SVM_linear': 0.9240521480331263, 'SVM_rbf': 0.9341368770187951, 'SVM_poly': 0.924852040720118}\n",
            "------------F1 micro------------\n",
            "Default: {'Dummy': 0.5242577842143374, 'GaussianNB': 0.8291093410572049, 'kNN': 0.8291093410572049, 'MLPClassifier': 0.939174511223751, 'SVM_linear': 0.8776249094858798, 'SVM_rbf': 0.7161477190441708, 'SVM_poly': 0.6357711803041275}\n",
            "Optimiz: {'Dummy': 0.5242577842143374, 'GaussianNB': 0.8740043446777698, 'kNN': 0.8466666666666667, 'MLPClassifier': 0.9355539464156408, 'SVM_linear': 0.9261404779145547, 'SVM_rbf': 0.9362780593772628, 'SVM_poly': 0.9268645908761767}\n"
          ],
          "name": "stdout"
        }
      ]
    },
    {
      "cell_type": "code",
      "metadata": {
        "colab": {
          "base_uri": "https://localhost:8080/"
        },
        "id": "WVkwKejpF28Y",
        "outputId": "e05a26ba-2d9b-47d0-9f36-55fa43af6b50"
      },
      "source": [
        "clf = KNeighborsClassifier(n_jobs=-1)\n",
        "\n",
        "param_grid = {\n",
        "    'pca__n_components': [34],\n",
        "    'kNN__weights': ['distance'],\n",
        "    'kNN__n_neighbors': [14, 15, 18, 20],\n",
        "    'kNN__metric': ['euclidean', 'manhattan', 'chebyshev', 'minkowski', 'hamming'] #default minkowski\n",
        "}\n",
        "\n",
        "pipe = Pipeline(steps=[('scaler', scaler), ('pca', pca), ('sampler', ros), ('kNN', clf)], memory = 'tmp')\n",
        "gridsearch_init_print('kNN', param_grid, pipe, strain, strain_labels, stest, stest_labels)"
      ],
      "execution_count": null,
      "outputs": [
        {
          "output_type": "stream",
          "text": [
            "Fitting 5 folds for each of 20 candidates, totalling 100 fits\n"
          ],
          "name": "stdout"
        },
        {
          "output_type": "stream",
          "text": [
            "[Parallel(n_jobs=-1)]: Using backend LokyBackend with 2 concurrent workers.\n",
            "[Parallel(n_jobs=-1)]: Done   1 tasks      | elapsed:    0.1s\n",
            "[Parallel(n_jobs=-1)]: Batch computation too fast (0.1235s.) Setting batch_size=2.\n",
            "[Parallel(n_jobs=-1)]: Done   4 tasks      | elapsed:    0.3s\n",
            "[Parallel(n_jobs=-1)]: Done  14 tasks      | elapsed:    1.0s\n",
            "[Parallel(n_jobs=-1)]: Done  24 tasks      | elapsed:    1.5s\n",
            "[Parallel(n_jobs=-1)]: Done  38 tasks      | elapsed:    2.4s\n",
            "[Parallel(n_jobs=-1)]: Done  52 tasks      | elapsed:    3.1s\n",
            "[Parallel(n_jobs=-1)]: Done  70 tasks      | elapsed:    4.2s\n",
            "[Parallel(n_jobs=-1)]: Done  88 tasks      | elapsed:    5.2s\n",
            "[Parallel(n_jobs=-1)]: Done 100 out of 100 | elapsed:    5.9s finished\n"
          ],
          "name": "stderr"
        },
        {
          "output_type": "stream",
          "text": [
            "Fit done in: 0.09828266302744547 minutes\n",
            "              precision    recall  f1-score   support\n",
            "\n",
            "           0       0.83      0.89      0.86        79\n",
            "           1       0.86      0.80      0.83        71\n",
            "\n",
            "    accuracy                           0.85       150\n",
            "   macro avg       0.85      0.84      0.85       150\n",
            "weighted avg       0.85      0.85      0.85       150\n",
            "\n",
            "Pipeline(memory='tmp',\n",
            "         steps=[('scaler', StandardScaler()), ('pca', PCA(n_components=34)),\n",
            "                ('sampler', RandomOverSampler()),\n",
            "                ('kNN',\n",
            "                 KNeighborsClassifier(metric='euclidean', n_jobs=-1,\n",
            "                                      n_neighbors=14, weights='distance'))])\n",
            "{'kNN__metric': 'euclidean', 'kNN__n_neighbors': 14, 'kNN__weights': 'distance', 'pca__n_components': 34}\n",
            "Confusion matrix\n",
            "\n",
            "kNN Classifier\n",
            "[[70  9]\n",
            " [14 57]]\n",
            "\n",
            "------------F1 macro------------\n",
            "Default: {'Dummy': 0.5050576130946438, 'GaussianNB': 0.8288378561195209, 'kNN': 0.8288378561195209, 'MLPClassifier': 0.9371644371644371, 'SVM_linear': 0.8750032803812847, 'SVM_rbf': 0.6723320598304255, 'SVM_poly': 0.49127733043322236}\n",
            "Optimiz: {'Dummy': 0.5050576130946438, 'GaussianNB': 0.8712217677625147, 'kNN': 0.8455062469213201, 'MLPClassifier': 0.9337481005855506, 'SVM_linear': 0.9240521480331263, 'SVM_rbf': 0.9341368770187951, 'SVM_poly': 0.924852040720118}\n",
            "------------F1 micro------------\n",
            "Default: {'Dummy': 0.5242577842143374, 'GaussianNB': 0.8291093410572049, 'kNN': 0.8291093410572049, 'MLPClassifier': 0.939174511223751, 'SVM_linear': 0.8776249094858798, 'SVM_rbf': 0.7161477190441708, 'SVM_poly': 0.6357711803041275}\n",
            "Optimiz: {'Dummy': 0.5242577842143374, 'GaussianNB': 0.8740043446777698, 'kNN': 0.8466666666666667, 'MLPClassifier': 0.9355539464156408, 'SVM_linear': 0.9261404779145547, 'SVM_rbf': 0.9362780593772628, 'SVM_poly': 0.9268645908761767}\n"
          ],
          "name": "stdout"
        }
      ]
    },
    {
      "cell_type": "code",
      "metadata": {
        "id": "_ifzGX3TA3tr",
        "colab": {
          "base_uri": "https://localhost:8080/"
        },
        "outputId": "2ad884da-4561-43e7-8a20-851ddd3c2f11"
      },
      "source": [
        "clf = KNeighborsClassifier(n_jobs=-1)\n",
        "\n",
        "param_grid = {\n",
        "    # 'pca__n_components': [34],\n",
        "    'selector__threshold': [0, 0.1, 0.2],\n",
        "    'kNN__n_neighbors': [5, 6, 7, 10, 15],\n",
        "    'kNN__weights': ['distance'],\n",
        "    'kNN__metric': ['hamming'] #default minkowski\n",
        "}\n",
        "\n",
        "pipe = Pipeline(steps=[('selector', selector),('scaler', scaler), ('kNN', clf)], memory = 'tmp')\n",
        "gridsearch_init_print('kNN', param_grid, pipe)"
      ],
      "execution_count": null,
      "outputs": [
        {
          "output_type": "stream",
          "text": [
            "Fitting 5 folds for each of 15 candidates, totalling 75 fits\n"
          ],
          "name": "stdout"
        },
        {
          "output_type": "stream",
          "text": [
            "[Parallel(n_jobs=-1)]: Using backend LokyBackend with 2 concurrent workers.\n",
            "[Parallel(n_jobs=-1)]: Done   1 tasks      | elapsed:    0.7s\n",
            "[Parallel(n_jobs=-1)]: Done   4 tasks      | elapsed:    1.3s\n",
            "[Parallel(n_jobs=-1)]: Done   9 tasks      | elapsed:    2.6s\n",
            "[Parallel(n_jobs=-1)]: Done  14 tasks      | elapsed:    3.7s\n",
            "[Parallel(n_jobs=-1)]: Done  21 tasks      | elapsed:    5.5s\n",
            "[Parallel(n_jobs=-1)]: Done  28 tasks      | elapsed:    7.1s\n",
            "[Parallel(n_jobs=-1)]: Done  37 tasks      | elapsed:    9.3s\n",
            "[Parallel(n_jobs=-1)]: Done  46 tasks      | elapsed:   11.1s\n",
            "[Parallel(n_jobs=-1)]: Done  57 tasks      | elapsed:   13.8s\n",
            "[Parallel(n_jobs=-1)]: Done  68 tasks      | elapsed:   16.6s\n",
            "[Parallel(n_jobs=-1)]: Done  75 out of  75 | elapsed:   17.8s finished\n"
          ],
          "name": "stderr"
        },
        {
          "output_type": "stream",
          "text": [
            "Fit done in: 0.29848993619283043 minutes\n",
            "              precision    recall  f1-score   support\n",
            "\n",
            "           0       0.80      0.97      0.88       814\n",
            "           1       0.94      0.66      0.77       567\n",
            "\n",
            "    accuracy                           0.84      1381\n",
            "   macro avg       0.87      0.81      0.83      1381\n",
            "weighted avg       0.86      0.84      0.83      1381\n",
            "\n",
            "Pipeline(memory='tmp',\n",
            "         steps=[('selector', VarianceThreshold(threshold=0.2)),\n",
            "                ('scaler', StandardScaler()),\n",
            "                ('kNN',\n",
            "                 KNeighborsClassifier(metric='hamming', n_jobs=-1,\n",
            "                                      n_neighbors=6, weights='distance'))])\n",
            "{'kNN__metric': 'hamming', 'kNN__n_neighbors': 6, 'kNN__weights': 'distance', 'selector__threshold': 0.2}\n",
            "Confusion matrix\n",
            "\n",
            "kNN Classifier\n",
            "[[789  25]\n",
            " [194 373]]\n",
            "\n",
            "------------F1 macro------------\n",
            "Default: {'Dummy': 0.5050576130946438, 'GaussianNB': 0.8288378561195209, 'kNN': 0.8288378561195209, 'MLPClassifier': 0.9371644371644371, 'SVM_linear': 0.8750032803812847, 'SVM_rbf': 0.6723320598304255, 'SVM_poly': 0.49127733043322236}\n",
            "Optimiz: {'Dummy': 0.5050576130946438, 'GaussianNB': 0.8712217677625147, 'kNN': 0.8255936059235167, 'MLPClassifier': 0.9337481005855506, 'SVM_linear': 0.9240521480331263, 'SVM_rbf': 0.9341368770187951, 'SVM_poly': 0.924852040720118}\n",
            "------------F1 micro------------\n",
            "Default: {'Dummy': 0.5242577842143374, 'GaussianNB': 0.8291093410572049, 'kNN': 0.8291093410572049, 'MLPClassifier': 0.939174511223751, 'SVM_linear': 0.8776249094858798, 'SVM_rbf': 0.7161477190441708, 'SVM_poly': 0.6357711803041275}\n",
            "Optimiz: {'Dummy': 0.5242577842143374, 'GaussianNB': 0.8740043446777698, 'kNN': 0.8414192614047792, 'MLPClassifier': 0.9355539464156408, 'SVM_linear': 0.9261404779145547, 'SVM_rbf': 0.9362780593772628, 'SVM_poly': 0.9268645908761767}\n"
          ],
          "name": "stdout"
        }
      ]
    },
    {
      "cell_type": "markdown",
      "metadata": {
        "id": "BO6hwEWPRRf3"
      },
      "source": [
        "Αν και βάλαμε όλο το dataset να κάνει fit εξ αρχής, χωρίς να δοκιμάσουμε το sampled dataset, μας έβαλε σχεδόν 100% επιτυχία (αν εξαιρέσουμε 3 False Negatives, από confusion matrix) οπότε σταματάμε την βελτιστοποίηση εδώ.\n",
        "\n",
        "Οι βελτιστες παράμετροι φαίνονται παραπάνω."
      ]
    },
    {
      "cell_type": "markdown",
      "metadata": {
        "id": "MSF4kzP_Gnos"
      },
      "source": [
        "### Optimized MLP Classifier"
      ]
    },
    {
      "cell_type": "markdown",
      "metadata": {
        "id": "YCA2cOydGyGF"
      },
      "source": [
        "Δοκιμάζουμε όλες τις παραμέτρους και βλέπουμε ποιός συνδυασμός τους μας δίνει τα καλύτερα αποτελέσματα.\n",
        "\n",
        "Στη συνέχεια θα βάλουμε scaler, ros, pca κλπ."
      ]
    },
    {
      "cell_type": "code",
      "metadata": {
        "id": "QB2dkmBGGsn6"
      },
      "source": [
        "## Parameters to optimize\n",
        "param_grid = {\n",
        "    'selector__threshold': [0.003],\n",
        "    'mlpclassifier__solver': ['lbfgs','sgd','adam'], # default ‘adam’\n",
        "    'mlpclassifier__activation': ['identity', 'logistic', 'tanh', 'relu'], # default ‘relu’\n",
        "    'mlpclassifier__hidden_layer_sizes': [(5,) , (15,) , (20,) , (50,) , (100,)], # tuple default (100,).The ith element represents the number of neurons in the ith hidden layer.\n",
        "    'mlpclassifier__learning_rate': ['constant','invscaling','adaptive'], # Only used when solver='sgd'.\n",
        "    'mlpclassifier__max_iter': [100,150,200,250],\n",
        "    'mlpclassifier__alpha': [0.0001, 0.002, 0.05] \n",
        "}"
      ],
      "execution_count": null,
      "outputs": []
    },
    {
      "cell_type": "code",
      "metadata": {
        "id": "KePUZtZWWzjf"
      },
      "source": [
        "mlp = MLPClassifier()\n",
        "pipe = Pipeline(steps=[('selector', selector), ('mlpclassifier', mlp)], memory = 'tmp')\n",
        "gridsearch_init_print('MLPClassifier', param_grid, pipe, strain, strain_labels, stest, stest_labels)"
      ],
      "execution_count": null,
      "outputs": []
    },
    {
      "cell_type": "code",
      "metadata": {
        "colab": {
          "base_uri": "https://localhost:8080/"
        },
        "id": "5ktp8hTMlPWO",
        "outputId": "c62afaba-77be-4517-d6d1-b50dc9102d14"
      },
      "source": [
        "## Parameters to optimize\n",
        "param_grid = {\n",
        "    'selector__threshold': [0.003],\n",
        "    'mlpclassifier__solver': ['lbfgs'], # default ‘adam’\n",
        "    'mlpclassifier__activation': ['tanh'], # default ‘relu’\n",
        "    'mlpclassifier__hidden_layer_sizes': [(3,), (5,)], # tuple default (100,).The ith element represents the number of neurons in the ith hidden layer.\n",
        "    'mlpclassifier__learning_rate': ['adaptive'], # Only used when solver='sgd'.\n",
        "    'mlpclassifier__max_iter': [500, 1000],\n",
        "    'mlpclassifier__alpha': [0.05, 0.1] \n",
        "}\n",
        "\n",
        "mlp = MLPClassifier()\n",
        "pipe = Pipeline(steps=[('selector', selector), ('mlpclassifier', mlp)], memory = 'tmp')\n",
        "gridsearch_init_print('MLPClassifier', param_grid, pipe, strain, strain_labels, stest, stest_labels)"
      ],
      "execution_count": null,
      "outputs": [
        {
          "output_type": "stream",
          "text": [
            "Fitting 5 folds for each of 8 candidates, totalling 40 fits\n"
          ],
          "name": "stdout"
        },
        {
          "output_type": "stream",
          "text": [
            "[Parallel(n_jobs=-1)]: Using backend LokyBackend with 2 concurrent workers.\n",
            "[Parallel(n_jobs=-1)]: Done   1 tasks      | elapsed:    1.8s\n",
            "[Parallel(n_jobs=-1)]: Done   4 tasks      | elapsed:    2.3s\n",
            "[Parallel(n_jobs=-1)]: Done   9 tasks      | elapsed:    4.4s\n",
            "[Parallel(n_jobs=-1)]: Done  14 tasks      | elapsed:    5.7s\n",
            "[Parallel(n_jobs=-1)]: Done  21 tasks      | elapsed:    8.4s\n",
            "[Parallel(n_jobs=-1)]: Done  28 tasks      | elapsed:   10.6s\n",
            "[Parallel(n_jobs=-1)]: Done  37 tasks      | elapsed:   13.3s\n",
            "[Parallel(n_jobs=-1)]: Done  40 out of  40 | elapsed:   14.6s finished\n"
          ],
          "name": "stderr"
        },
        {
          "output_type": "stream",
          "text": [
            "Fit done in: 0.25393646558125815 minutes\n",
            "              precision    recall  f1-score   support\n",
            "\n",
            "           0       0.91      0.87      0.89        79\n",
            "           1       0.86      0.90      0.88        71\n",
            "\n",
            "    accuracy                           0.89       150\n",
            "   macro avg       0.89      0.89      0.89       150\n",
            "weighted avg       0.89      0.89      0.89       150\n",
            "\n",
            "Pipeline(memory='tmp',\n",
            "         steps=[('selector', VarianceThreshold(threshold=0.003)),\n",
            "                ('mlpclassifier',\n",
            "                 MLPClassifier(activation='tanh', alpha=0.1,\n",
            "                               hidden_layer_sizes=(5,),\n",
            "                               learning_rate='adaptive', max_iter=1000,\n",
            "                               solver='lbfgs'))])\n",
            "{'mlpclassifier__activation': 'tanh', 'mlpclassifier__alpha': 0.1, 'mlpclassifier__hidden_layer_sizes': (5,), 'mlpclassifier__learning_rate': 'adaptive', 'mlpclassifier__max_iter': 1000, 'mlpclassifier__solver': 'lbfgs', 'selector__threshold': 0.003}\n",
            "Confusion matrix\n",
            "\n",
            "MLPClassifier Classifier\n",
            "[[69 10]\n",
            " [ 7 64]]\n",
            "\n",
            "------------F1 macro------------\n",
            "Default: {'Dummy': 0.5050576130946438, 'GaussianNB': 0.8288378561195209, 'kNN': 0.8288378561195209, 'MLPClassifier': 0.9371644371644371, 'SVM_linear': 0.8750032803812847, 'SVM_rbf': 0.6723320598304255, 'SVM_poly': 0.49127733043322236}\n",
            "Optimiz: {'Dummy': 0.5050576130946438, 'GaussianNB': 0.8712217677625147, 'kNN': 0.8255936059235167, 'MLPClassifier': 0.8865406006674083, 'SVM_linear': 0.9240521480331263, 'SVM_rbf': 0.9341368770187951, 'SVM_poly': 0.924852040720118}\n",
            "------------F1 micro------------\n",
            "Default: {'Dummy': 0.5242577842143374, 'GaussianNB': 0.8291093410572049, 'kNN': 0.8291093410572049, 'MLPClassifier': 0.939174511223751, 'SVM_linear': 0.8776249094858798, 'SVM_rbf': 0.7161477190441708, 'SVM_poly': 0.6357711803041275}\n",
            "Optimiz: {'Dummy': 0.5242577842143374, 'GaussianNB': 0.8740043446777698, 'kNN': 0.8414192614047792, 'MLPClassifier': 0.8866666666666667, 'SVM_linear': 0.9261404779145547, 'SVM_rbf': 0.9362780593772628, 'SVM_poly': 0.9268645908761767}\n"
          ],
          "name": "stdout"
        },
        {
          "output_type": "stream",
          "text": [
            "/usr/local/lib/python3.6/dist-packages/sklearn/neural_network/_multilayer_perceptron.py:471: ConvergenceWarning: lbfgs failed to converge (status=1):\n",
            "STOP: TOTAL NO. of ITERATIONS REACHED LIMIT.\n",
            "\n",
            "Increase the number of iterations (max_iter) or scale the data as shown in:\n",
            "    https://scikit-learn.org/stable/modules/preprocessing.html\n",
            "  self.n_iter_ = _check_optimize_result(\"lbfgs\", opt_res, self.max_iter)\n"
          ],
          "name": "stderr"
        }
      ]
    },
    {
      "cell_type": "code",
      "metadata": {
        "colab": {
          "base_uri": "https://localhost:8080/"
        },
        "id": "lg9w_WCseKSe",
        "outputId": "76b93c17-2d59-4053-db69-a3711f0c577f"
      },
      "source": [
        "## Parameters to optimize\n",
        "param_grid = {\n",
        "    'selector__threshold': [0.003],\n",
        "    'mlpclassifier__solver': ['lbfgs'], # default ‘adam’\n",
        "    'mlpclassifier__activation': ['tanh'], # default ‘relu’\n",
        "    'mlpclassifier__hidden_layer_sizes': [(1,), (2,), (3,)], # tuple default (100,).The ith element represents the number of neurons in the ith hidden layer.\n",
        "    'mlpclassifier__learning_rate': ['adaptive'], # Only used when solver='sgd'.\n",
        "    'mlpclassifier__max_iter': [500, 600],\n",
        "    'mlpclassifier__alpha': [0.1, 0.2] \n",
        "}\n",
        "\n",
        "mlp = MLPClassifier()\n",
        "pipe = Pipeline(steps=[('selector', selector), ('mlpclassifier', mlp)], memory = 'tmp')\n",
        "gridsearch_init_print('MLPClassifier', param_grid, pipe, strain, strain_labels, stest, stest_labels)"
      ],
      "execution_count": null,
      "outputs": [
        {
          "output_type": "stream",
          "text": [
            "Fitting 5 folds for each of 12 candidates, totalling 60 fits\n"
          ],
          "name": "stdout"
        },
        {
          "output_type": "stream",
          "text": [
            "[Parallel(n_jobs=-1)]: Using backend LokyBackend with 2 concurrent workers.\n",
            "[Parallel(n_jobs=-1)]: Done   1 tasks      | elapsed:    0.1s\n",
            "[Parallel(n_jobs=-1)]: Batch computation too fast (0.0788s.) Setting batch_size=2.\n",
            "[Parallel(n_jobs=-1)]: Done   4 tasks      | elapsed:    0.8s\n",
            "[Parallel(n_jobs=-1)]: Done  14 tasks      | elapsed:    2.2s\n",
            "[Parallel(n_jobs=-1)]: Done  24 tasks      | elapsed:    4.8s\n",
            "[Parallel(n_jobs=-1)]: Done  38 tasks      | elapsed:    7.5s\n",
            "[Parallel(n_jobs=-1)]: Done  52 tasks      | elapsed:   10.5s\n",
            "[Parallel(n_jobs=-1)]: Done  60 out of  60 | elapsed:   12.3s finished\n"
          ],
          "name": "stderr"
        },
        {
          "output_type": "stream",
          "text": [
            "Fit done in: 0.20974031289418538 minutes\n",
            "              precision    recall  f1-score   support\n",
            "\n",
            "           0       0.89      0.91      0.90        79\n",
            "           1       0.90      0.87      0.89        71\n",
            "\n",
            "    accuracy                           0.89       150\n",
            "   macro avg       0.89      0.89      0.89       150\n",
            "weighted avg       0.89      0.89      0.89       150\n",
            "\n",
            "Pipeline(memory='tmp',\n",
            "         steps=[('selector', VarianceThreshold(threshold=0.003)),\n",
            "                ('mlpclassifier',\n",
            "                 MLPClassifier(activation='tanh', alpha=0.2,\n",
            "                               hidden_layer_sizes=(3,),\n",
            "                               learning_rate='adaptive', max_iter=500,\n",
            "                               solver='lbfgs'))])\n",
            "{'mlpclassifier__activation': 'tanh', 'mlpclassifier__alpha': 0.2, 'mlpclassifier__hidden_layer_sizes': (3,), 'mlpclassifier__learning_rate': 'adaptive', 'mlpclassifier__max_iter': 500, 'mlpclassifier__solver': 'lbfgs', 'selector__threshold': 0.003}\n",
            "Confusion matrix\n",
            "\n",
            "MLPClassifier Classifier\n",
            "[[72  7]\n",
            " [ 9 62]]\n",
            "\n",
            "------------F1 macro------------\n",
            "Default: {'Dummy': 0.5050576130946438, 'GaussianNB': 0.8288378561195209, 'kNN': 0.8288378561195209, 'MLPClassifier': 0.9371644371644371, 'SVM_linear': 0.8750032803812847, 'SVM_rbf': 0.6723320598304255, 'SVM_poly': 0.49127733043322236}\n",
            "Optimiz: {'Dummy': 0.5050576130946438, 'GaussianNB': 0.8712217677625147, 'kNN': 0.8255936059235167, 'MLPClassifier': 0.8928571428571428, 'SVM_linear': 0.9240521480331263, 'SVM_rbf': 0.9341368770187951, 'SVM_poly': 0.924852040720118}\n",
            "------------F1 micro------------\n",
            "Default: {'Dummy': 0.5242577842143374, 'GaussianNB': 0.8291093410572049, 'kNN': 0.8291093410572049, 'MLPClassifier': 0.939174511223751, 'SVM_linear': 0.8776249094858798, 'SVM_rbf': 0.7161477190441708, 'SVM_poly': 0.6357711803041275}\n",
            "Optimiz: {'Dummy': 0.5242577842143374, 'GaussianNB': 0.8740043446777698, 'kNN': 0.8414192614047792, 'MLPClassifier': 0.8933333333333333, 'SVM_linear': 0.9261404779145547, 'SVM_rbf': 0.9362780593772628, 'SVM_poly': 0.9268645908761767}\n"
          ],
          "name": "stdout"
        },
        {
          "output_type": "stream",
          "text": [
            "/usr/local/lib/python3.6/dist-packages/sklearn/neural_network/_multilayer_perceptron.py:471: ConvergenceWarning: lbfgs failed to converge (status=1):\n",
            "STOP: TOTAL NO. of ITERATIONS REACHED LIMIT.\n",
            "\n",
            "Increase the number of iterations (max_iter) or scale the data as shown in:\n",
            "    https://scikit-learn.org/stable/modules/preprocessing.html\n",
            "  self.n_iter_ = _check_optimize_result(\"lbfgs\", opt_res, self.max_iter)\n"
          ],
          "name": "stderr"
        }
      ]
    },
    {
      "cell_type": "code",
      "metadata": {
        "colab": {
          "base_uri": "https://localhost:8080/"
        },
        "id": "ZV3AeJRaeY8Z",
        "outputId": "8def5d9d-545d-4ce9-a88e-ec5d16c5c032"
      },
      "source": [
        "## Parameters to optimize\n",
        "param_grid = {\n",
        "    'selector__threshold': [0.003],\n",
        "    'mlpclassifier__solver': ['lbfgs'], # default ‘adam’\n",
        "    'mlpclassifier__activation': ['tanh'], # default ‘relu’\n",
        "    'mlpclassifier__hidden_layer_sizes': [(3,)], # tuple default (100,).The ith element represents the number of neurons in the ith hidden layer.\n",
        "    'mlpclassifier__learning_rate': ['adaptive'], # Only used when solver='sgd'.\n",
        "    'mlpclassifier__max_iter': [400, 500],\n",
        "    'mlpclassifier__alpha': [0.2, 0.3, 0.5] \n",
        "}\n",
        "\n",
        "mlp = MLPClassifier()\n",
        "pipe = Pipeline(steps=[('selector', selector), ('mlpclassifier', mlp)], memory = 'tmp')\n",
        "gridsearch_init_print('MLPClassifier', param_grid, pipe, strain, strain_labels, stest, stest_labels)"
      ],
      "execution_count": null,
      "outputs": [
        {
          "output_type": "stream",
          "text": [
            "Fitting 5 folds for each of 6 candidates, totalling 30 fits\n"
          ],
          "name": "stdout"
        },
        {
          "output_type": "stream",
          "text": [
            "[Parallel(n_jobs=-1)]: Using backend LokyBackend with 2 concurrent workers.\n",
            "[Parallel(n_jobs=-1)]: Done   1 tasks      | elapsed:    0.4s\n",
            "[Parallel(n_jobs=-1)]: Done   4 tasks      | elapsed:    0.8s\n",
            "[Parallel(n_jobs=-1)]: Done   9 tasks      | elapsed:    2.0s\n",
            "[Parallel(n_jobs=-1)]: Done  14 tasks      | elapsed:    2.8s\n",
            "[Parallel(n_jobs=-1)]: Done  21 tasks      | elapsed:    4.3s\n",
            "[Parallel(n_jobs=-1)]: Done  30 out of  30 | elapsed:    6.0s finished\n"
          ],
          "name": "stderr"
        },
        {
          "output_type": "stream",
          "text": [
            "Fit done in: 0.10457632541656495 minutes\n",
            "              precision    recall  f1-score   support\n",
            "\n",
            "           0       0.91      0.91      0.91        79\n",
            "           1       0.90      0.90      0.90        71\n",
            "\n",
            "    accuracy                           0.91       150\n",
            "   macro avg       0.91      0.91      0.91       150\n",
            "weighted avg       0.91      0.91      0.91       150\n",
            "\n",
            "Pipeline(memory='tmp',\n",
            "         steps=[('selector', VarianceThreshold(threshold=0.003)),\n",
            "                ('mlpclassifier',\n",
            "                 MLPClassifier(activation='tanh', alpha=0.3,\n",
            "                               hidden_layer_sizes=(3,),\n",
            "                               learning_rate='adaptive', max_iter=500,\n",
            "                               solver='lbfgs'))])\n",
            "{'mlpclassifier__activation': 'tanh', 'mlpclassifier__alpha': 0.3, 'mlpclassifier__hidden_layer_sizes': (3,), 'mlpclassifier__learning_rate': 'adaptive', 'mlpclassifier__max_iter': 500, 'mlpclassifier__solver': 'lbfgs', 'selector__threshold': 0.003}\n",
            "Confusion matrix\n",
            "\n",
            "MLPClassifier Classifier\n",
            "[[72  7]\n",
            " [ 7 64]]\n",
            "\n",
            "------------F1 macro------------\n",
            "Default: {'Dummy': 0.5050576130946438, 'GaussianNB': 0.8288378561195209, 'kNN': 0.8288378561195209, 'MLPClassifier': 0.9371644371644371, 'SVM_linear': 0.8750032803812847, 'SVM_rbf': 0.6723320598304255, 'SVM_poly': 0.49127733043322236}\n",
            "Optimiz: {'Dummy': 0.5050576130946438, 'GaussianNB': 0.8712217677625147, 'kNN': 0.8255936059235167, 'MLPClassifier': 0.9064004278837583, 'SVM_linear': 0.9240521480331263, 'SVM_rbf': 0.9341368770187951, 'SVM_poly': 0.924852040720118}\n",
            "------------F1 micro------------\n",
            "Default: {'Dummy': 0.5242577842143374, 'GaussianNB': 0.8291093410572049, 'kNN': 0.8291093410572049, 'MLPClassifier': 0.939174511223751, 'SVM_linear': 0.8776249094858798, 'SVM_rbf': 0.7161477190441708, 'SVM_poly': 0.6357711803041275}\n",
            "Optimiz: {'Dummy': 0.5242577842143374, 'GaussianNB': 0.8740043446777698, 'kNN': 0.8414192614047792, 'MLPClassifier': 0.9066666666666666, 'SVM_linear': 0.9261404779145547, 'SVM_rbf': 0.9362780593772628, 'SVM_poly': 0.9268645908761767}\n"
          ],
          "name": "stdout"
        },
        {
          "output_type": "stream",
          "text": [
            "/usr/local/lib/python3.6/dist-packages/sklearn/neural_network/_multilayer_perceptron.py:471: ConvergenceWarning: lbfgs failed to converge (status=1):\n",
            "STOP: TOTAL NO. of ITERATIONS REACHED LIMIT.\n",
            "\n",
            "Increase the number of iterations (max_iter) or scale the data as shown in:\n",
            "    https://scikit-learn.org/stable/modules/preprocessing.html\n",
            "  self.n_iter_ = _check_optimize_result(\"lbfgs\", opt_res, self.max_iter)\n"
          ],
          "name": "stderr"
        }
      ]
    },
    {
      "cell_type": "code",
      "metadata": {
        "colab": {
          "base_uri": "https://localhost:8080/"
        },
        "id": "ltfbdepVe2oS",
        "outputId": "263ef1a5-41be-4fcb-9e7e-9d10cc093c4f"
      },
      "source": [
        "## Parameters to optimize\n",
        "param_grid = {\n",
        "    'selector__threshold': [0.003],\n",
        "    'mlpclassifier__solver': ['lbfgs'], # default ‘adam’\n",
        "    'mlpclassifier__activation': ['tanh'], # default ‘relu’\n",
        "    'mlpclassifier__hidden_layer_sizes': [(3,)], # tuple default (100,).The ith element represents the number of neurons in the ith hidden layer.\n",
        "    'mlpclassifier__learning_rate': ['adaptive'], # Only used when solver='sgd'.\n",
        "    'mlpclassifier__max_iter': [490, 500, 510],\n",
        "    'mlpclassifier__alpha': [0.2, 0.25, 0.3, 0.4] \n",
        "}\n",
        "\n",
        "mlp = MLPClassifier()\n",
        "pipe = Pipeline(steps=[('selector', selector), ('mlpclassifier', mlp)], memory = 'tmp')\n",
        "gridsearch_init_print('MLPClassifier', param_grid, pipe, strain, strain_labels, stest, stest_labels)"
      ],
      "execution_count": null,
      "outputs": [
        {
          "output_type": "stream",
          "text": [
            "Fitting 5 folds for each of 12 candidates, totalling 60 fits\n"
          ],
          "name": "stdout"
        },
        {
          "output_type": "stream",
          "text": [
            "[Parallel(n_jobs=-1)]: Using backend LokyBackend with 2 concurrent workers.\n",
            "[Parallel(n_jobs=-1)]: Done   1 tasks      | elapsed:    0.4s\n",
            "[Parallel(n_jobs=-1)]: Done   4 tasks      | elapsed:    0.9s\n",
            "[Parallel(n_jobs=-1)]: Done   9 tasks      | elapsed:    2.2s\n",
            "[Parallel(n_jobs=-1)]: Done  14 tasks      | elapsed:    3.3s\n",
            "[Parallel(n_jobs=-1)]: Done  21 tasks      | elapsed:    4.8s\n",
            "[Parallel(n_jobs=-1)]: Done  28 tasks      | elapsed:    6.6s\n",
            "[Parallel(n_jobs=-1)]: Done  37 tasks      | elapsed:    8.4s\n",
            "[Parallel(n_jobs=-1)]: Done  46 tasks      | elapsed:   10.5s\n",
            "[Parallel(n_jobs=-1)]: Done  57 tasks      | elapsed:   12.8s\n",
            "[Parallel(n_jobs=-1)]: Done  60 out of  60 | elapsed:   13.5s finished\n"
          ],
          "name": "stderr"
        },
        {
          "output_type": "stream",
          "text": [
            "Fit done in: 0.22904094457626342 minutes\n",
            "              precision    recall  f1-score   support\n",
            "\n",
            "           0       0.88      0.90      0.89        79\n",
            "           1       0.88      0.86      0.87        71\n",
            "\n",
            "    accuracy                           0.88       150\n",
            "   macro avg       0.88      0.88      0.88       150\n",
            "weighted avg       0.88      0.88      0.88       150\n",
            "\n",
            "Pipeline(memory='tmp',\n",
            "         steps=[('selector', VarianceThreshold(threshold=0.003)),\n",
            "                ('mlpclassifier',\n",
            "                 MLPClassifier(activation='tanh', alpha=0.25,\n",
            "                               hidden_layer_sizes=(3,),\n",
            "                               learning_rate='adaptive', max_iter=500,\n",
            "                               solver='lbfgs'))])\n",
            "{'mlpclassifier__activation': 'tanh', 'mlpclassifier__alpha': 0.25, 'mlpclassifier__hidden_layer_sizes': (3,), 'mlpclassifier__learning_rate': 'adaptive', 'mlpclassifier__max_iter': 500, 'mlpclassifier__solver': 'lbfgs', 'selector__threshold': 0.003}\n",
            "Confusion matrix\n",
            "\n",
            "MLPClassifier Classifier\n",
            "[[71  8]\n",
            " [10 61]]\n",
            "\n",
            "------------F1 macro------------\n",
            "Default: {'Dummy': 0.5050576130946438, 'GaussianNB': 0.8288378561195209, 'kNN': 0.8288378561195209, 'MLPClassifier': 0.9371644371644371, 'SVM_linear': 0.8750032803812847, 'SVM_rbf': 0.6723320598304255, 'SVM_poly': 0.49127733043322236}\n",
            "Optimiz: {'Dummy': 0.5050576130946438, 'GaussianNB': 0.8712217677625147, 'kNN': 0.8255936059235167, 'MLPClassifier': 0.8794642857142856, 'SVM_linear': 0.9240521480331263, 'SVM_rbf': 0.9341368770187951, 'SVM_poly': 0.924852040720118}\n",
            "------------F1 micro------------\n",
            "Default: {'Dummy': 0.5242577842143374, 'GaussianNB': 0.8291093410572049, 'kNN': 0.8291093410572049, 'MLPClassifier': 0.939174511223751, 'SVM_linear': 0.8776249094858798, 'SVM_rbf': 0.7161477190441708, 'SVM_poly': 0.6357711803041275}\n",
            "Optimiz: {'Dummy': 0.5242577842143374, 'GaussianNB': 0.8740043446777698, 'kNN': 0.8414192614047792, 'MLPClassifier': 0.88, 'SVM_linear': 0.9261404779145547, 'SVM_rbf': 0.9362780593772628, 'SVM_poly': 0.9268645908761767}\n"
          ],
          "name": "stdout"
        },
        {
          "output_type": "stream",
          "text": [
            "/usr/local/lib/python3.6/dist-packages/sklearn/neural_network/_multilayer_perceptron.py:471: ConvergenceWarning: lbfgs failed to converge (status=1):\n",
            "STOP: TOTAL NO. of ITERATIONS REACHED LIMIT.\n",
            "\n",
            "Increase the number of iterations (max_iter) or scale the data as shown in:\n",
            "    https://scikit-learn.org/stable/modules/preprocessing.html\n",
            "  self.n_iter_ = _check_optimize_result(\"lbfgs\", opt_res, self.max_iter)\n"
          ],
          "name": "stderr"
        }
      ]
    },
    {
      "cell_type": "markdown",
      "metadata": {
        "id": "923TJVsmgVaV"
      },
      "source": [
        "Βλέπουμε ότι έχουμε πετύχει πολύ καλά αποτελέσματα και τώρα θα εκπαιδεύσουμε το μεγάλο dataset."
      ]
    },
    {
      "cell_type": "code",
      "metadata": {
        "colab": {
          "base_uri": "https://localhost:8080/"
        },
        "id": "9P-6zU2Of9AX",
        "outputId": "cf884583-caba-46bc-e143-70c5d35bed80"
      },
      "source": [
        "## Parameters to optimize\n",
        "param_grid = {\n",
        "    'selector__threshold': [0.003],\n",
        "    'mlpclassifier__solver': ['lbfgs'], # default ‘adam’\n",
        "    'mlpclassifier__activation': ['tanh'], # default ‘relu’\n",
        "    'mlpclassifier__hidden_layer_sizes': [(3,)], # tuple default (100,).The ith element represents the number of neurons in the ith hidden layer.\n",
        "    'mlpclassifier__learning_rate': ['adaptive'], # Only used when solver='sgd'.\n",
        "    'mlpclassifier__max_iter': [500],\n",
        "    'mlpclassifier__alpha': [0.25] \n",
        "}\n",
        "\n",
        "mlp = MLPClassifier()\n",
        "pipe = Pipeline(steps=[('selector', selector), ('mlpclassifier', mlp)], memory = 'tmp')\n",
        "gridsearch_init_print('MLPClassifier', param_grid, pipe)"
      ],
      "execution_count": null,
      "outputs": [
        {
          "output_type": "stream",
          "text": [
            "Fitting 5 folds for each of 1 candidates, totalling 5 fits\n"
          ],
          "name": "stdout"
        },
        {
          "output_type": "stream",
          "text": [
            "[Parallel(n_jobs=-1)]: Using backend LokyBackend with 2 concurrent workers.\n",
            "[Parallel(n_jobs=-1)]: Done   1 tasks      | elapsed:    2.7s\n",
            "[Parallel(n_jobs=-1)]: Done   3 out of   5 | elapsed:    4.1s remaining:    2.7s\n",
            "[Parallel(n_jobs=-1)]: Done   5 out of   5 | elapsed:    5.0s remaining:    0.0s\n",
            "[Parallel(n_jobs=-1)]: Done   5 out of   5 | elapsed:    5.0s finished\n"
          ],
          "name": "stderr"
        },
        {
          "output_type": "stream",
          "text": [
            "Fit done in: 0.10798076391220093 minutes\n",
            "              precision    recall  f1-score   support\n",
            "\n",
            "           0       0.95      0.93      0.94       814\n",
            "           1       0.90      0.93      0.92       567\n",
            "\n",
            "    accuracy                           0.93      1381\n",
            "   macro avg       0.93      0.93      0.93      1381\n",
            "weighted avg       0.93      0.93      0.93      1381\n",
            "\n",
            "Pipeline(memory='tmp',\n",
            "         steps=[('selector', VarianceThreshold(threshold=0.003)),\n",
            "                ('mlpclassifier',\n",
            "                 MLPClassifier(activation='tanh', alpha=0.25,\n",
            "                               hidden_layer_sizes=(3,),\n",
            "                               learning_rate='adaptive', max_iter=500,\n",
            "                               solver='lbfgs'))])\n",
            "{'mlpclassifier__activation': 'tanh', 'mlpclassifier__alpha': 0.25, 'mlpclassifier__hidden_layer_sizes': (3,), 'mlpclassifier__learning_rate': 'adaptive', 'mlpclassifier__max_iter': 500, 'mlpclassifier__solver': 'lbfgs', 'selector__threshold': 0.003}\n",
            "Confusion matrix\n",
            "\n",
            "MLPClassifier Classifier\n",
            "[[757  57]\n",
            " [ 37 530]]\n",
            "\n",
            "------------F1 macro------------\n",
            "Default: {'Dummy': 0.5050576130946438, 'GaussianNB': 0.8288378561195209, 'kNN': 0.8288378561195209, 'MLPClassifier': 0.9371644371644371, 'SVM_linear': 0.8750032803812847, 'SVM_rbf': 0.6723320598304255, 'SVM_poly': 0.49127733043322236}\n",
            "Optimiz: {'Dummy': 0.5050576130946438, 'GaussianNB': 0.8712217677625147, 'kNN': 0.8255936059235167, 'MLPClassifier': 0.9300432413323332, 'SVM_linear': 0.9240521480331263, 'SVM_rbf': 0.9341368770187951, 'SVM_poly': 0.924852040720118}\n",
            "------------F1 micro------------\n",
            "Default: {'Dummy': 0.5242577842143374, 'GaussianNB': 0.8291093410572049, 'kNN': 0.8291093410572049, 'MLPClassifier': 0.939174511223751, 'SVM_linear': 0.8776249094858798, 'SVM_rbf': 0.7161477190441708, 'SVM_poly': 0.6357711803041275}\n",
            "Optimiz: {'Dummy': 0.5242577842143374, 'GaussianNB': 0.8740043446777698, 'kNN': 0.8414192614047792, 'MLPClassifier': 0.9319333816075308, 'SVM_linear': 0.9261404779145547, 'SVM_rbf': 0.9362780593772628, 'SVM_poly': 0.9268645908761767}\n"
          ],
          "name": "stdout"
        },
        {
          "output_type": "stream",
          "text": [
            "/usr/local/lib/python3.6/dist-packages/sklearn/neural_network/_multilayer_perceptron.py:471: ConvergenceWarning: lbfgs failed to converge (status=1):\n",
            "STOP: TOTAL NO. of ITERATIONS REACHED LIMIT.\n",
            "\n",
            "Increase the number of iterations (max_iter) or scale the data as shown in:\n",
            "    https://scikit-learn.org/stable/modules/preprocessing.html\n",
            "  self.n_iter_ = _check_optimize_result(\"lbfgs\", opt_res, self.max_iter)\n"
          ],
          "name": "stderr"
        }
      ]
    },
    {
      "cell_type": "code",
      "metadata": {
        "colab": {
          "base_uri": "https://localhost:8080/"
        },
        "id": "xK-zlZ-KgpH_",
        "outputId": "54f84198-2c09-44f7-e5a3-14be0ce1af7d"
      },
      "source": [
        "mlp = MLPClassifier()\n",
        "pipe = Pipeline(steps=[('selector', selector), ('scaler', scaler), ('mlpclassifier', mlp)], memory = 'tmp')\n",
        "gridsearch_init_print('MLPClassifier', param_grid, pipe)"
      ],
      "execution_count": null,
      "outputs": [
        {
          "output_type": "stream",
          "text": [
            "Fitting 5 folds for each of 1 candidates, totalling 5 fits\n"
          ],
          "name": "stdout"
        },
        {
          "output_type": "stream",
          "text": [
            "[Parallel(n_jobs=-1)]: Using backend LokyBackend with 2 concurrent workers.\n",
            "[Parallel(n_jobs=-1)]: Done   1 tasks      | elapsed:    1.7s\n",
            "[Parallel(n_jobs=-1)]: Done   3 out of   5 | elapsed:    2.1s remaining:    1.4s\n",
            "[Parallel(n_jobs=-1)]: Done   5 out of   5 | elapsed:    2.8s remaining:    0.0s\n",
            "[Parallel(n_jobs=-1)]: Done   5 out of   5 | elapsed:    2.8s finished\n"
          ],
          "name": "stderr"
        },
        {
          "output_type": "stream",
          "text": [
            "Fit done in: 0.05548422733942668 minutes\n",
            "              precision    recall  f1-score   support\n",
            "\n",
            "           0       0.93      0.94      0.94       814\n",
            "           1       0.91      0.90      0.91       567\n",
            "\n",
            "    accuracy                           0.93      1381\n",
            "   macro avg       0.92      0.92      0.92      1381\n",
            "weighted avg       0.93      0.93      0.93      1381\n",
            "\n",
            "Pipeline(memory='tmp',\n",
            "         steps=[('selector', VarianceThreshold(threshold=0.003)),\n",
            "                ('scaler', StandardScaler()),\n",
            "                ('mlpclassifier',\n",
            "                 MLPClassifier(activation='tanh', alpha=0.25,\n",
            "                               hidden_layer_sizes=(3,),\n",
            "                               learning_rate='adaptive', max_iter=500,\n",
            "                               solver='lbfgs'))])\n",
            "{'mlpclassifier__activation': 'tanh', 'mlpclassifier__alpha': 0.25, 'mlpclassifier__hidden_layer_sizes': (3,), 'mlpclassifier__learning_rate': 'adaptive', 'mlpclassifier__max_iter': 500, 'mlpclassifier__solver': 'lbfgs', 'selector__threshold': 0.003}\n",
            "Confusion matrix\n",
            "\n",
            "MLPClassifier Classifier\n",
            "[[765  49]\n",
            " [ 54 513]]\n",
            "\n",
            "------------F1 macro------------\n",
            "Default: {'Dummy': 0.5050576130946438, 'GaussianNB': 0.8288378561195209, 'kNN': 0.8288378561195209, 'MLPClassifier': 0.9371644371644371, 'SVM_linear': 0.8750032803812847, 'SVM_rbf': 0.6723320598304255, 'SVM_poly': 0.49127733043322236}\n",
            "Optimiz: {'Dummy': 0.5050576130946438, 'GaussianNB': 0.8712217677625147, 'kNN': 0.8255936059235167, 'MLPClassifier': 0.9228473626059511, 'SVM_linear': 0.9240521480331263, 'SVM_rbf': 0.9341368770187951, 'SVM_poly': 0.924852040720118}\n",
            "------------F1 micro------------\n",
            "Default: {'Dummy': 0.5242577842143374, 'GaussianNB': 0.8291093410572049, 'kNN': 0.8291093410572049, 'MLPClassifier': 0.939174511223751, 'SVM_linear': 0.8776249094858798, 'SVM_rbf': 0.7161477190441708, 'SVM_poly': 0.6357711803041275}\n",
            "Optimiz: {'Dummy': 0.5242577842143374, 'GaussianNB': 0.8740043446777698, 'kNN': 0.8414192614047792, 'MLPClassifier': 0.9254163649529327, 'SVM_linear': 0.9261404779145547, 'SVM_rbf': 0.9362780593772628, 'SVM_poly': 0.9268645908761767}\n"
          ],
          "name": "stdout"
        }
      ]
    },
    {
      "cell_type": "markdown",
      "metadata": {
        "id": "fIemvmDcg0hn"
      },
      "source": [
        "Mε standardization η απόδοση βλέπουμε πως βελτιώθηκε κατά 1%."
      ]
    },
    {
      "cell_type": "code",
      "metadata": {
        "colab": {
          "base_uri": "https://localhost:8080/"
        },
        "id": "Fdpo-6uGgzoC",
        "outputId": "ab0c6364-6d82-43db-ad2f-5c93aaed4e7b"
      },
      "source": [
        "param_grid = {\n",
        "    'pca__n_components': [10, 20, 30, 40, 50],\n",
        "    # 'selector__threshold': [0.003],\n",
        "    'mlpclassifier__solver': ['lbfgs'], # default ‘adam’\n",
        "    'mlpclassifier__activation': ['tanh'], # default ‘relu’\n",
        "    'mlpclassifier__hidden_layer_sizes': [(3,)], # tuple default (100,).The ith element represents the number of neurons in the ith hidden layer.\n",
        "    'mlpclassifier__learning_rate': ['adaptive'], # Only used when solver='sgd'.\n",
        "    'mlpclassifier__max_iter': [500],\n",
        "    'mlpclassifier__alpha': [0.25] \n",
        "}\n",
        "\n",
        "mlp = MLPClassifier()\n",
        "pipe = Pipeline(steps=[('scaler', scaler), ('pca',pca), ('mlpclassifier', mlp)], memory = 'tmp')\n",
        "gridsearch_init_print('MLPClassifier', param_grid, pipe)"
      ],
      "execution_count": null,
      "outputs": [
        {
          "output_type": "stream",
          "text": [
            "Fitting 5 folds for each of 5 candidates, totalling 25 fits\n"
          ],
          "name": "stdout"
        },
        {
          "output_type": "stream",
          "text": [
            "[Parallel(n_jobs=-1)]: Using backend LokyBackend with 2 concurrent workers.\n",
            "[Parallel(n_jobs=-1)]: Done   1 tasks      | elapsed:    0.2s\n",
            "[Parallel(n_jobs=-1)]: Batch computation too fast (0.1846s.) Setting batch_size=2.\n",
            "[Parallel(n_jobs=-1)]: Done   4 tasks      | elapsed:    0.5s\n",
            "[Parallel(n_jobs=-1)]: Done  14 tasks      | elapsed:    2.8s\n",
            "[Parallel(n_jobs=-1)]: Done  22 out of  25 | elapsed:    4.8s remaining:    0.7s\n",
            "[Parallel(n_jobs=-1)]: Done  25 out of  25 | elapsed:    5.4s remaining:    0.0s\n",
            "[Parallel(n_jobs=-1)]: Done  25 out of  25 | elapsed:    5.4s finished\n"
          ],
          "name": "stderr"
        },
        {
          "output_type": "stream",
          "text": [
            "Fit done in: 0.10226383606592813 minutes\n",
            "              precision    recall  f1-score   support\n",
            "\n",
            "           0       0.95      0.94      0.94       814\n",
            "           1       0.92      0.92      0.92       567\n",
            "\n",
            "    accuracy                           0.93      1381\n",
            "   macro avg       0.93      0.93      0.93      1381\n",
            "weighted avg       0.93      0.93      0.93      1381\n",
            "\n",
            "Pipeline(memory='tmp',\n",
            "         steps=[('scaler', StandardScaler()), ('pca', PCA(n_components=50)),\n",
            "                ('mlpclassifier',\n",
            "                 MLPClassifier(activation='tanh', alpha=0.25,\n",
            "                               hidden_layer_sizes=(3,),\n",
            "                               learning_rate='adaptive', max_iter=500,\n",
            "                               solver='lbfgs'))])\n",
            "{'mlpclassifier__activation': 'tanh', 'mlpclassifier__alpha': 0.25, 'mlpclassifier__hidden_layer_sizes': (3,), 'mlpclassifier__learning_rate': 'adaptive', 'mlpclassifier__max_iter': 500, 'mlpclassifier__solver': 'lbfgs', 'pca__n_components': 50}\n",
            "Confusion matrix\n",
            "\n",
            "MLPClassifier Classifier\n",
            "[[766  48]\n",
            " [ 43 524]]\n",
            "\n",
            "------------F1 macro------------\n",
            "Default: {'Dummy': 0.5050576130946438, 'GaussianNB': 0.8288378561195209, 'kNN': 0.8288378561195209, 'MLPClassifier': 0.9371644371644371, 'SVM_linear': 0.8750032803812847, 'SVM_rbf': 0.6723320598304255, 'SVM_poly': 0.49127733043322236}\n",
            "Optimiz: {'Dummy': 0.5050576130946438, 'GaussianNB': 0.8712217677625147, 'kNN': 0.8255936059235167, 'MLPClassifier': 0.9320181737826038, 'SVM_linear': 0.9240521480331263, 'SVM_rbf': 0.9341368770187951, 'SVM_poly': 0.924852040720118}\n",
            "------------F1 micro------------\n",
            "Default: {'Dummy': 0.5242577842143374, 'GaussianNB': 0.8291093410572049, 'kNN': 0.8291093410572049, 'MLPClassifier': 0.939174511223751, 'SVM_linear': 0.8776249094858798, 'SVM_rbf': 0.7161477190441708, 'SVM_poly': 0.6357711803041275}\n",
            "Optimiz: {'Dummy': 0.5242577842143374, 'GaussianNB': 0.8740043446777698, 'kNN': 0.8414192614047792, 'MLPClassifier': 0.9341057204923968, 'SVM_linear': 0.9261404779145547, 'SVM_rbf': 0.9362780593772628, 'SVM_poly': 0.9268645908761767}\n"
          ],
          "name": "stdout"
        }
      ]
    },
    {
      "cell_type": "code",
      "metadata": {
        "colab": {
          "base_uri": "https://localhost:8080/"
        },
        "id": "G6I8HOA-QeXu",
        "outputId": "6c183d3a-7a84-4f2a-ad46-13ac545317f8"
      },
      "source": [
        "param_grid = {\n",
        "    'pca__n_components': [35, 38, 45, 47, 50, 53, 56, 57],\n",
        "    # 'selector__threshold': [0.003],\n",
        "    'mlpclassifier__solver': ['lbfgs'], # default ‘adam’\n",
        "    'mlpclassifier__activation': ['tanh'], # default ‘relu’\n",
        "    'mlpclassifier__hidden_layer_sizes': [(3,)], # tuple default (100,).The ith element represents the number of neurons in the ith hidden layer.\n",
        "    'mlpclassifier__learning_rate': ['adaptive'], # Only used when solver='sgd'.\n",
        "    'mlpclassifier__max_iter': [500],\n",
        "    'mlpclassifier__alpha': [0.25] \n",
        "}\n",
        "\n",
        "mlp = MLPClassifier()\n",
        "pipe = Pipeline(steps=[('scaler', scaler), ('pca',pca), ('mlpclassifier', mlp)], memory = 'tmp')\n",
        "gridsearch_init_print('MLPClassifier', param_grid, pipe)"
      ],
      "execution_count": null,
      "outputs": [
        {
          "output_type": "stream",
          "text": [
            "Fitting 5 folds for each of 8 candidates, totalling 40 fits\n"
          ],
          "name": "stdout"
        },
        {
          "output_type": "stream",
          "text": [
            "[Parallel(n_jobs=-1)]: Using backend LokyBackend with 2 concurrent workers.\n",
            "[Parallel(n_jobs=-1)]: Done   1 tasks      | elapsed:    0.2s\n",
            "[Parallel(n_jobs=-1)]: Done   4 tasks      | elapsed:    0.9s\n",
            "[Parallel(n_jobs=-1)]: Done   9 tasks      | elapsed:    1.9s\n",
            "[Parallel(n_jobs=-1)]: Done  14 tasks      | elapsed:    3.1s\n",
            "[Parallel(n_jobs=-1)]: Done  21 tasks      | elapsed:    4.7s\n",
            "[Parallel(n_jobs=-1)]: Done  28 tasks      | elapsed:    6.8s\n",
            "[Parallel(n_jobs=-1)]: Done  37 tasks      | elapsed:    9.2s\n",
            "[Parallel(n_jobs=-1)]: Done  40 out of  40 | elapsed:   10.2s finished\n"
          ],
          "name": "stderr"
        },
        {
          "output_type": "stream",
          "text": [
            "Fit done in: 0.17878729104995728 minutes\n",
            "              precision    recall  f1-score   support\n",
            "\n",
            "           0       0.95      0.93      0.94       814\n",
            "           1       0.91      0.93      0.92       567\n",
            "\n",
            "    accuracy                           0.93      1381\n",
            "   macro avg       0.93      0.93      0.93      1381\n",
            "weighted avg       0.93      0.93      0.93      1381\n",
            "\n",
            "Pipeline(memory='tmp',\n",
            "         steps=[('scaler', StandardScaler()), ('pca', PCA(n_components=53)),\n",
            "                ('mlpclassifier',\n",
            "                 MLPClassifier(activation='tanh', alpha=0.25,\n",
            "                               hidden_layer_sizes=(3,),\n",
            "                               learning_rate='adaptive', max_iter=500,\n",
            "                               solver='lbfgs'))])\n",
            "{'mlpclassifier__activation': 'tanh', 'mlpclassifier__alpha': 0.25, 'mlpclassifier__hidden_layer_sizes': (3,), 'mlpclassifier__learning_rate': 'adaptive', 'mlpclassifier__max_iter': 500, 'mlpclassifier__solver': 'lbfgs', 'pca__n_components': 53}\n",
            "Confusion matrix\n",
            "\n",
            "MLPClassifier Classifier\n",
            "[[761  53]\n",
            " [ 38 529]]\n",
            "\n",
            "------------F1 macro------------\n",
            "Default: {'Dummy': 0.5050576130946438, 'GaussianNB': 0.8288378561195209, 'kNN': 0.8288378561195209, 'MLPClassifier': 0.9371644371644371, 'SVM_linear': 0.8750032803812847, 'SVM_rbf': 0.6723320598304255, 'SVM_poly': 0.49127733043322236}\n",
            "Optimiz: {'Dummy': 0.5050576130946438, 'GaussianNB': 0.8712217677625147, 'kNN': 0.8255936059235167, 'MLPClassifier': 0.9321920406272578, 'SVM_linear': 0.9240521480331263, 'SVM_rbf': 0.9341368770187951, 'SVM_poly': 0.924852040720118}\n",
            "------------F1 micro------------\n",
            "Default: {'Dummy': 0.5242577842143374, 'GaussianNB': 0.8291093410572049, 'kNN': 0.8291093410572049, 'MLPClassifier': 0.939174511223751, 'SVM_linear': 0.8776249094858798, 'SVM_rbf': 0.7161477190441708, 'SVM_poly': 0.6357711803041275}\n",
            "Optimiz: {'Dummy': 0.5242577842143374, 'GaussianNB': 0.8740043446777698, 'kNN': 0.8414192614047792, 'MLPClassifier': 0.9341057204923968, 'SVM_linear': 0.9261404779145547, 'SVM_rbf': 0.9362780593772628, 'SVM_poly': 0.9268645908761767}\n"
          ],
          "name": "stdout"
        }
      ]
    },
    {
      "cell_type": "code",
      "metadata": {
        "colab": {
          "base_uri": "https://localhost:8080/"
        },
        "id": "pOvDEdU9Rxmp",
        "outputId": "73125fab-5abe-4faa-f53e-745c0369add1"
      },
      "source": [
        "param_grid = {\n",
        "    'pca__n_components': [53],\n",
        "    # 'selector__threshold': [0.003],\n",
        "    'mlpclassifier__solver': ['lbfgs'], # default ‘adam’\n",
        "    'mlpclassifier__activation': ['tanh'], # default ‘relu’\n",
        "    'mlpclassifier__hidden_layer_sizes': [(3,)], # tuple default (100,).The ith element represents the number of neurons in the ith hidden layer.\n",
        "    'mlpclassifier__learning_rate': ['adaptive'], # Only used when solver='sgd'.\n",
        "    'mlpclassifier__max_iter': [500],\n",
        "    'mlpclassifier__alpha': [0.25] \n",
        "}\n",
        "\n",
        "mlp = MLPClassifier()\n",
        "pipe = Pipeline(steps=[('scaler', scaler), ('pca',pca), ('mlpclassifier', mlp)], memory = 'tmp')\n",
        "gridsearch_init_print('MLPClassifier', param_grid, pipe)"
      ],
      "execution_count": null,
      "outputs": [
        {
          "output_type": "stream",
          "text": [
            "Fitting 5 folds for each of 1 candidates, totalling 5 fits\n"
          ],
          "name": "stdout"
        },
        {
          "output_type": "stream",
          "text": [
            "[Parallel(n_jobs=-1)]: Using backend LokyBackend with 2 concurrent workers.\n",
            "[Parallel(n_jobs=-1)]: Done   1 tasks      | elapsed:    0.4s\n",
            "[Parallel(n_jobs=-1)]: Done   3 out of   5 | elapsed:    1.2s remaining:    0.8s\n",
            "[Parallel(n_jobs=-1)]: Done   5 out of   5 | elapsed:    1.5s remaining:    0.0s\n",
            "[Parallel(n_jobs=-1)]: Done   5 out of   5 | elapsed:    1.5s finished\n"
          ],
          "name": "stderr"
        },
        {
          "output_type": "stream",
          "text": [
            "Fit done in: 0.03241424560546875 minutes\n",
            "              precision    recall  f1-score   support\n",
            "\n",
            "           0       0.95      0.93      0.94       814\n",
            "           1       0.90      0.93      0.91       567\n",
            "\n",
            "    accuracy                           0.93      1381\n",
            "   macro avg       0.92      0.93      0.93      1381\n",
            "weighted avg       0.93      0.93      0.93      1381\n",
            "\n",
            "Pipeline(memory='tmp',\n",
            "         steps=[('scaler', StandardScaler()), ('pca', PCA(n_components=53)),\n",
            "                ('mlpclassifier',\n",
            "                 MLPClassifier(activation='tanh', alpha=0.25,\n",
            "                               hidden_layer_sizes=(3,),\n",
            "                               learning_rate='adaptive', max_iter=500,\n",
            "                               solver='lbfgs'))])\n",
            "{'mlpclassifier__activation': 'tanh', 'mlpclassifier__alpha': 0.25, 'mlpclassifier__hidden_layer_sizes': (3,), 'mlpclassifier__learning_rate': 'adaptive', 'mlpclassifier__max_iter': 500, 'mlpclassifier__solver': 'lbfgs', 'pca__n_components': 53}\n",
            "Confusion matrix\n",
            "\n",
            "MLPClassifier Classifier\n",
            "[[754  60]\n",
            " [ 40 527]]\n",
            "\n",
            "------------F1 macro------------\n",
            "Default: {'Dummy': 0.5050576130946438, 'GaussianNB': 0.8288378561195209, 'kNN': 0.8288378561195209, 'MLPClassifier': 0.9371644371644371, 'SVM_linear': 0.8750032803812847, 'SVM_rbf': 0.6723320598304255, 'SVM_poly': 0.49127733043322236}\n",
            "Optimiz: {'Dummy': 0.5050576130946438, 'GaussianNB': 0.8712217677625147, 'kNN': 0.8255936059235167, 'MLPClassifier': 0.9255779163109927, 'SVM_linear': 0.9240521480331263, 'SVM_rbf': 0.9341368770187951, 'SVM_poly': 0.924852040720118}\n",
            "------------F1 micro------------\n",
            "Default: {'Dummy': 0.5242577842143374, 'GaussianNB': 0.8291093410572049, 'kNN': 0.8291093410572049, 'MLPClassifier': 0.939174511223751, 'SVM_linear': 0.8776249094858798, 'SVM_rbf': 0.7161477190441708, 'SVM_poly': 0.6357711803041275}\n",
            "Optimiz: {'Dummy': 0.5242577842143374, 'GaussianNB': 0.8740043446777698, 'kNN': 0.8414192614047792, 'MLPClassifier': 0.9275887038377987, 'SVM_linear': 0.9261404779145547, 'SVM_rbf': 0.9362780593772628, 'SVM_poly': 0.9268645908761767}\n"
          ],
          "name": "stdout"
        }
      ]
    },
    {
      "cell_type": "markdown",
      "metadata": {
        "id": "mRqzsrh5hQqo"
      },
      "source": [
        "Με την μέθοδο pca η απόδοση βελτιωθηκε ελαχιστα."
      ]
    },
    {
      "cell_type": "code",
      "metadata": {
        "colab": {
          "base_uri": "https://localhost:8080/"
        },
        "id": "3pteBhIbhbq9",
        "outputId": "fb35ccf3-a8d3-46c2-ea0c-7a45567cb9de"
      },
      "source": [
        "mlp = MLPClassifier()\n",
        "pipe = Pipeline(steps=[('scaler', scaler), ('pca',pca), ('mlpclassifier', mlp)], memory = 'tmp')\n",
        "gridsearch_init_print('MLPClassifier', param_grid, pipe)"
      ],
      "execution_count": null,
      "outputs": [
        {
          "output_type": "stream",
          "text": [
            "Fitting 5 folds for each of 1 candidates, totalling 5 fits\n"
          ],
          "name": "stdout"
        },
        {
          "output_type": "stream",
          "text": [
            "[Parallel(n_jobs=-1)]: Using backend LokyBackend with 2 concurrent workers.\n",
            "[Parallel(n_jobs=-1)]: Done   1 tasks      | elapsed:    0.8s\n",
            "[Parallel(n_jobs=-1)]: Done   3 out of   5 | elapsed:    1.3s remaining:    0.8s\n",
            "[Parallel(n_jobs=-1)]: Done   5 out of   5 | elapsed:    1.9s remaining:    0.0s\n",
            "[Parallel(n_jobs=-1)]: Done   5 out of   5 | elapsed:    1.9s finished\n"
          ],
          "name": "stderr"
        },
        {
          "output_type": "stream",
          "text": [
            "Fit done in: 0.041301254431406656 minutes\n",
            "              precision    recall  f1-score   support\n",
            "\n",
            "           0       0.94      0.95      0.95       814\n",
            "           1       0.93      0.92      0.92       567\n",
            "\n",
            "    accuracy                           0.94      1381\n",
            "   macro avg       0.94      0.93      0.94      1381\n",
            "weighted avg       0.94      0.94      0.94      1381\n",
            "\n",
            "Pipeline(memory='tmp',\n",
            "         steps=[('scaler', StandardScaler()), ('pca', PCA(n_components=53)),\n",
            "                ('mlpclassifier',\n",
            "                 MLPClassifier(activation='tanh', alpha=0.25,\n",
            "                               hidden_layer_sizes=(3,),\n",
            "                               learning_rate='adaptive', max_iter=500,\n",
            "                               solver='lbfgs'))])\n",
            "{'mlpclassifier__activation': 'tanh', 'mlpclassifier__alpha': 0.25, 'mlpclassifier__hidden_layer_sizes': (3,), 'mlpclassifier__learning_rate': 'adaptive', 'mlpclassifier__max_iter': 500, 'mlpclassifier__solver': 'lbfgs', 'pca__n_components': 53}\n",
            "Confusion matrix\n",
            "\n",
            "MLPClassifier Classifier\n",
            "[[774  40]\n",
            " [ 46 521]]\n",
            "\n",
            "------------F1 macro------------\n",
            "Default: {'Dummy': 0.5050576130946438, 'GaussianNB': 0.8288378561195209, 'kNN': 0.8288378561195209, 'MLPClassifier': 0.9371644371644371, 'SVM_linear': 0.8750032803812847, 'SVM_rbf': 0.6723320598304255, 'SVM_poly': 0.49127733043322236}\n",
            "Optimiz: {'Dummy': 0.5050576130946438, 'GaussianNB': 0.8712217677625147, 'kNN': 0.8255936059235167, 'MLPClassifier': 0.9355636431504293, 'SVM_linear': 0.9240521480331263, 'SVM_rbf': 0.9341368770187951, 'SVM_poly': 0.924852040720118}\n",
            "------------F1 micro------------\n",
            "Default: {'Dummy': 0.5242577842143374, 'GaussianNB': 0.8291093410572049, 'kNN': 0.8291093410572049, 'MLPClassifier': 0.939174511223751, 'SVM_linear': 0.8776249094858798, 'SVM_rbf': 0.7161477190441708, 'SVM_poly': 0.6357711803041275}\n",
            "Optimiz: {'Dummy': 0.5242577842143374, 'GaussianNB': 0.8740043446777698, 'kNN': 0.8414192614047792, 'MLPClassifier': 0.9377262853005068, 'SVM_linear': 0.9261404779145547, 'SVM_rbf': 0.9362780593772628, 'SVM_poly': 0.9268645908761767}\n"
          ],
          "name": "stdout"
        }
      ]
    },
    {
      "cell_type": "markdown",
      "metadata": {
        "id": "jZNT0StrhnC6"
      },
      "source": [
        "Με τον random oversample η απόδοση επίσης βελτιώθηκε, αλλά πάρα πολύ λίγο. Δεν είναι σημαντική η συνεισφορά του."
      ]
    },
    {
      "cell_type": "markdown",
      "metadata": {
        "id": "FjnwU3vdIvFc"
      },
      "source": [
        "Αφου τρέξαμε πολλές φορές με διαφορετικές υπερπαραμέτρους παρακάτω παραθέτουμε τις καλύτερες παραμέτρους:\n",
        "\n",
        "|  Parameter          | Value    |\n",
        "|---------------------|----------|\n",
        "| Activation          | tanh     |\n",
        "| Hidden Layer Sizes  | 3        |\n",
        "| Learning Rat        | Adaptive |\n",
        "| Max iterations      | 500      |\n",
        "| Solver              | lbfgs    |\n",
        "| Alpha               | 0.25     |\n"
      ]
    },
    {
      "cell_type": "markdown",
      "metadata": {
        "id": "ZfCzkLQpB7wS"
      },
      "source": [
        "### Optimized SVM Classifier"
      ]
    },
    {
      "cell_type": "markdown",
      "metadata": {
        "id": "SYrTN-o0B_sn"
      },
      "source": [
        "#### Linear Kernel"
      ]
    },
    {
      "cell_type": "code",
      "metadata": {
        "colab": {
          "base_uri": "https://localhost:8080/"
        },
        "id": "fy_0yQqwCQ24",
        "outputId": "8cdd9f92-5f23-4384-fff8-17a96907703e"
      },
      "source": [
        "## Parameters to optimize\n",
        "param_grid = {\n",
        "    'selector__threshold': [0, 0.001, 0.002, 0.003, 0.004],\n",
        "    'linear_svm__loss': [\"hinge\", \"squared_hinge\"], # default ‘squared_hinge’\n",
        "    'linear_svm__tol': [1e-2, 1e-8, 1e-14] # default 1e-4\n",
        "}\n",
        "\n",
        "linear_svm = LinearSVC()\n",
        "pipe = Pipeline(steps=[('selector', selector), ('linear_svm', linear_svm)], memory = 'tmp')\n",
        "gridsearch_init_print('SVM_linear', param_grid, pipe, strain, strain_labels, stest, stest_labels)"
      ],
      "execution_count": null,
      "outputs": [
        {
          "output_type": "stream",
          "text": [
            "Fitting 5 folds for each of 30 candidates, totalling 150 fits\n"
          ],
          "name": "stdout"
        },
        {
          "output_type": "stream",
          "text": [
            "[Parallel(n_jobs=-1)]: Using backend LokyBackend with 2 concurrent workers.\n",
            "[Parallel(n_jobs=-1)]: Done   1 tasks      | elapsed:    0.0s\n",
            "[Parallel(n_jobs=-1)]: Batch computation too fast (0.0405s.) Setting batch_size=2.\n",
            "[Parallel(n_jobs=-1)]: Done   4 tasks      | elapsed:    0.1s\n",
            "[Parallel(n_jobs=-1)]: Batch computation too fast (0.0941s.) Setting batch_size=4.\n",
            "[Parallel(n_jobs=-1)]: Done  16 tasks      | elapsed:    0.3s\n",
            "[Parallel(n_jobs=-1)]: Batch computation too fast (0.1976s.) Setting batch_size=8.\n",
            "[Parallel(n_jobs=-1)]: Done  44 tasks      | elapsed:    0.7s\n",
            "[Parallel(n_jobs=-1)]: Done 100 tasks      | elapsed:    1.5s\n"
          ],
          "name": "stderr"
        },
        {
          "output_type": "stream",
          "text": [
            "Fit done in: 0.035607441266377764 minutes\n",
            "              precision    recall  f1-score   support\n",
            "\n",
            "           0       0.73      0.95      0.82        79\n",
            "           1       0.91      0.61      0.73        71\n",
            "\n",
            "    accuracy                           0.79       150\n",
            "   macro avg       0.82      0.78      0.78       150\n",
            "weighted avg       0.82      0.79      0.78       150\n",
            "\n",
            "Pipeline(memory='tmp',\n",
            "         steps=[('selector', VarianceThreshold(threshold=0.003)),\n",
            "                ('linear_svm', LinearSVC(tol=1e-14))])\n",
            "{'linear_svm__loss': 'squared_hinge', 'linear_svm__tol': 1e-14, 'selector__threshold': 0.003}\n",
            "Confusion matrix\n",
            "\n",
            "SVM_linear Classifier\n",
            "[[75  4]\n",
            " [28 43]]\n",
            "\n",
            "------------F1 macro------------\n",
            "Default: {'Dummy': 0.5050576130946438, 'GaussianNB': 0.8288378561195209, 'kNN': 0.8288378561195209, 'MLPClassifier': 0.9371644371644371, 'SVM_linear': 0.8750032803812847, 'SVM_rbf': 0.6723320598304255, 'SVM_poly': 0.49127733043322236}\n",
            "Optimiz: {'Dummy': 0.5050576130946438, 'GaussianNB': 0.8021462975344185, 'kNN': 0.7941897268731637, 'MLPClassifier': 0.9337481005855506, 'SVM_linear': 0.776494691748929}\n",
            "------------F1 micro------------\n",
            "Default: {'Dummy': 0.5242577842143374, 'GaussianNB': 0.8291093410572049, 'kNN': 0.8291093410572049, 'MLPClassifier': 0.939174511223751, 'SVM_linear': 0.8776249094858798, 'SVM_rbf': 0.7161477190441708, 'SVM_poly': 0.6357711803041275}\n",
            "Optimiz: {'Dummy': 0.5242577842143374, 'GaussianNB': 0.8175235336712527, 'kNN': 0.8175235336712527, 'MLPClassifier': 0.9355539464156408, 'SVM_linear': 0.7866666666666666}\n"
          ],
          "name": "stdout"
        },
        {
          "output_type": "stream",
          "text": [
            "[Parallel(n_jobs=-1)]: Done 142 tasks      | elapsed:    2.0s\n",
            "[Parallel(n_jobs=-1)]: Done 150 out of 150 | elapsed:    2.1s finished\n",
            "/usr/local/lib/python3.6/dist-packages/sklearn/svm/_base.py:977: ConvergenceWarning: Liblinear failed to converge, increase the number of iterations.\n",
            "  \"the number of iterations.\", ConvergenceWarning)\n"
          ],
          "name": "stderr"
        }
      ]
    },
    {
      "cell_type": "code",
      "metadata": {
        "colab": {
          "base_uri": "https://localhost:8080/"
        },
        "id": "CZiUQQ3_DTO6",
        "outputId": "adca40d3-2ba0-4d9c-ee97-f4f3c8f650d6"
      },
      "source": [
        "# Δοκιμάζουμε με μεγαλύτερο tol\n",
        "param_grid = {\n",
        "    'selector__threshold': [0, 0.001, 0.002, 0.003, 0.004],\n",
        "    'linear_svm__loss': [\"hinge\", \"squared_hinge\"], # default ‘squared_hinge’\n",
        "    'linear_svm__tol': [1e-3, 1e-10, 1e-14, 1e-16] # default 1e-4\n",
        "}\n",
        "\n",
        "linear_svm = LinearSVC()\n",
        "pipe = Pipeline(steps=[('selector', selector), ('linear_svm', linear_svm)], memory = 'tmp')\n",
        "gridsearch_init_print('SVM_linear', param_grid, pipe, strain, strain_labels, stest, stest_labels)"
      ],
      "execution_count": null,
      "outputs": [
        {
          "output_type": "stream",
          "text": [
            "[Parallel(n_jobs=-1)]: Using backend LokyBackend with 2 concurrent workers.\n",
            "[Parallel(n_jobs=-1)]: Done   1 tasks      | elapsed:    0.0s\n"
          ],
          "name": "stderr"
        },
        {
          "output_type": "stream",
          "text": [
            "Fitting 5 folds for each of 40 candidates, totalling 200 fits\n"
          ],
          "name": "stdout"
        },
        {
          "output_type": "stream",
          "text": [
            "[Parallel(n_jobs=-1)]: Batch computation too fast (0.0283s.) Setting batch_size=2.\n",
            "[Parallel(n_jobs=-1)]: Done   4 tasks      | elapsed:    0.1s\n",
            "[Parallel(n_jobs=-1)]: Batch computation too fast (0.0951s.) Setting batch_size=4.\n",
            "[Parallel(n_jobs=-1)]: Done  16 tasks      | elapsed:    0.3s\n",
            "[Parallel(n_jobs=-1)]: Batch computation too fast (0.1596s.) Setting batch_size=8.\n",
            "[Parallel(n_jobs=-1)]: Done  44 tasks      | elapsed:    0.7s\n",
            "[Parallel(n_jobs=-1)]: Done 100 tasks      | elapsed:    1.5s\n",
            "[Parallel(n_jobs=-1)]: Done 156 tasks      | elapsed:    2.2s\n"
          ],
          "name": "stderr"
        },
        {
          "output_type": "stream",
          "text": [
            "Fit done in: 0.045882225036621094 minutes\n",
            "              precision    recall  f1-score   support\n",
            "\n",
            "           0       0.77      0.95      0.85        79\n",
            "           1       0.92      0.69      0.79        71\n",
            "\n",
            "    accuracy                           0.83       150\n",
            "   macro avg       0.85      0.82      0.82       150\n",
            "weighted avg       0.84      0.83      0.82       150\n",
            "\n",
            "Pipeline(memory='tmp',\n",
            "         steps=[('selector', VarianceThreshold(threshold=0)),\n",
            "                ('linear_svm', LinearSVC(tol=0.001))])\n",
            "{'linear_svm__loss': 'squared_hinge', 'linear_svm__tol': 0.001, 'selector__threshold': 0}\n",
            "Confusion matrix\n",
            "\n",
            "SVM_linear Classifier\n",
            "[[75  4]\n",
            " [22 49]]\n",
            "\n",
            "------------F1 macro------------\n",
            "Default: {'Dummy': 0.5050576130946438, 'GaussianNB': 0.8288378561195209, 'kNN': 0.8288378561195209, 'MLPClassifier': 0.9371644371644371, 'SVM_linear': 0.8750032803812847, 'SVM_rbf': 0.6723320598304255, 'SVM_poly': 0.49127733043322236}\n",
            "Optimiz: {'Dummy': 0.5050576130946438, 'GaussianNB': 0.8021462975344185, 'kNN': 0.7941897268731637, 'MLPClassifier': 0.9337481005855506, 'SVM_linear': 0.8212976539589443}\n",
            "------------F1 micro------------\n",
            "Default: {'Dummy': 0.5242577842143374, 'GaussianNB': 0.8291093410572049, 'kNN': 0.8291093410572049, 'MLPClassifier': 0.939174511223751, 'SVM_linear': 0.8776249094858798, 'SVM_rbf': 0.7161477190441708, 'SVM_poly': 0.6357711803041275}\n",
            "Optimiz: {'Dummy': 0.5242577842143374, 'GaussianNB': 0.8175235336712527, 'kNN': 0.8175235336712527, 'MLPClassifier': 0.9355539464156408, 'SVM_linear': 0.8266666666666667}\n"
          ],
          "name": "stdout"
        },
        {
          "output_type": "stream",
          "text": [
            "[Parallel(n_jobs=-1)]: Done 193 tasks      | elapsed:    2.6s\n",
            "[Parallel(n_jobs=-1)]: Done 200 out of 200 | elapsed:    2.7s finished\n",
            "/usr/local/lib/python3.6/dist-packages/sklearn/svm/_base.py:977: ConvergenceWarning: Liblinear failed to converge, increase the number of iterations.\n",
            "  \"the number of iterations.\", ConvergenceWarning)\n"
          ],
          "name": "stderr"
        }
      ]
    },
    {
      "cell_type": "code",
      "metadata": {
        "colab": {
          "base_uri": "https://localhost:8080/"
        },
        "id": "0zRnbITWk5Rz",
        "outputId": "9f5d9603-2480-43e7-eed6-c43bc59d8429"
      },
      "source": [
        "# Δοκιμάζουμε με μεγαλύτερο tol\n",
        "param_grid = {\n",
        "    'selector__threshold': [0, 0.001, 0.002, 0.003, 0.004],\n",
        "    'linear_svm__loss': [\"hinge\", \"squared_hinge\"], # default ‘squared_hinge’\n",
        "    'linear_svm__tol': [1e-14, 1e-16, 1e-20] # default 1e-4\n",
        "}\n",
        "\n",
        "linear_svm = LinearSVC()\n",
        "pipe = Pipeline(steps=[('selector', selector), ('linear_svm', linear_svm)], memory = 'tmp')\n",
        "gridsearch_init_print('SVM_linear', param_grid, pipe, strain, strain_labels, stest, stest_labels)"
      ],
      "execution_count": null,
      "outputs": [
        {
          "output_type": "stream",
          "text": [
            "[Parallel(n_jobs=-1)]: Using backend LokyBackend with 2 concurrent workers.\n",
            "[Parallel(n_jobs=-1)]: Done   1 tasks      | elapsed:    0.0s\n",
            "[Parallel(n_jobs=-1)]: Batch computation too fast (0.0352s.) Setting batch_size=2.\n"
          ],
          "name": "stderr"
        },
        {
          "output_type": "stream",
          "text": [
            "Fitting 5 folds for each of 30 candidates, totalling 150 fits\n"
          ],
          "name": "stdout"
        },
        {
          "output_type": "stream",
          "text": [
            "[Parallel(n_jobs=-1)]: Done   4 tasks      | elapsed:    0.1s\n",
            "[Parallel(n_jobs=-1)]: Batch computation too fast (0.0859s.) Setting batch_size=4.\n",
            "[Parallel(n_jobs=-1)]: Done  16 tasks      | elapsed:    0.3s\n",
            "[Parallel(n_jobs=-1)]: Batch computation too fast (0.1821s.) Setting batch_size=8.\n",
            "[Parallel(n_jobs=-1)]: Done  44 tasks      | elapsed:    0.7s\n",
            "[Parallel(n_jobs=-1)]: Done 100 tasks      | elapsed:    1.5s\n"
          ],
          "name": "stderr"
        },
        {
          "output_type": "stream",
          "text": [
            "Fit done in: 0.035588677724202475 minutes\n",
            "              precision    recall  f1-score   support\n",
            "\n",
            "           0       0.70      0.95      0.81        79\n",
            "           1       0.91      0.55      0.68        71\n",
            "\n",
            "    accuracy                           0.76       150\n",
            "   macro avg       0.80      0.75      0.75       150\n",
            "weighted avg       0.80      0.76      0.75       150\n",
            "\n",
            "Pipeline(memory='tmp',\n",
            "         steps=[('selector', VarianceThreshold(threshold=0.002)),\n",
            "                ('linear_svm', LinearSVC(loss='hinge', tol=1e-16))])\n",
            "{'linear_svm__loss': 'hinge', 'linear_svm__tol': 1e-16, 'selector__threshold': 0.002}\n",
            "Confusion matrix\n",
            "\n",
            "SVM_linear Classifier\n",
            "[[75  4]\n",
            " [32 39]]\n",
            "\n",
            "------------F1 macro------------\n",
            "Default: {'Dummy': 0.5050576130946438, 'GaussianNB': 0.8288378561195209, 'kNN': 0.8288378561195209, 'MLPClassifier': 0.9371644371644371, 'SVM_linear': 0.8750032803812847, 'SVM_rbf': 0.6723320598304255, 'SVM_poly': 0.49127733043322236}\n",
            "Optimiz: {'Dummy': 0.5050576130946438, 'GaussianNB': 0.8021462975344185, 'kNN': 0.7941897268731637, 'MLPClassifier': 0.9337481005855506, 'SVM_linear': 0.7453310696095077}\n",
            "------------F1 micro------------\n",
            "Default: {'Dummy': 0.5242577842143374, 'GaussianNB': 0.8291093410572049, 'kNN': 0.8291093410572049, 'MLPClassifier': 0.939174511223751, 'SVM_linear': 0.8776249094858798, 'SVM_rbf': 0.7161477190441708, 'SVM_poly': 0.6357711803041275}\n",
            "Optimiz: {'Dummy': 0.5242577842143374, 'GaussianNB': 0.8175235336712527, 'kNN': 0.8175235336712527, 'MLPClassifier': 0.9355539464156408, 'SVM_linear': 0.76}\n"
          ],
          "name": "stdout"
        },
        {
          "output_type": "stream",
          "text": [
            "[Parallel(n_jobs=-1)]: Done 142 tasks      | elapsed:    2.0s\n",
            "[Parallel(n_jobs=-1)]: Done 150 out of 150 | elapsed:    2.1s finished\n",
            "/usr/local/lib/python3.6/dist-packages/sklearn/svm/_base.py:977: ConvergenceWarning: Liblinear failed to converge, increase the number of iterations.\n",
            "  \"the number of iterations.\", ConvergenceWarning)\n"
          ],
          "name": "stderr"
        }
      ]
    },
    {
      "cell_type": "code",
      "metadata": {
        "colab": {
          "base_uri": "https://localhost:8080/"
        },
        "id": "7-o6rE11k9xn",
        "outputId": "803ef10e-a058-46a9-b0bf-a047f6a5b036"
      },
      "source": [
        "# Δοκιμάζουμε με μεγαλύτερο tol\n",
        "param_grid = {\n",
        "    'selector__threshold': [0, 0.001, 0.002, 0.003, 0.004],\n",
        "    'linear_svm__loss': [\"hinge\", \"squared_hinge\"], # default ‘squared_hinge’\n",
        "    'linear_svm__tol': [1e-14, 1e-22, 1e-23] # default 1e-4\n",
        "}\n",
        "\n",
        "linear_svm = LinearSVC()\n",
        "pipe = Pipeline(steps=[('selector', selector), ('linear_svm', linear_svm)], memory = 'tmp')\n",
        "gridsearch_init_print('SVM_linear', param_grid, pipe, strain, strain_labels, stest, stest_labels)"
      ],
      "execution_count": null,
      "outputs": [
        {
          "output_type": "stream",
          "text": [
            "[Parallel(n_jobs=-1)]: Using backend LokyBackend with 2 concurrent workers.\n"
          ],
          "name": "stderr"
        },
        {
          "output_type": "stream",
          "text": [
            "Fitting 5 folds for each of 30 candidates, totalling 150 fits\n"
          ],
          "name": "stdout"
        },
        {
          "output_type": "stream",
          "text": [
            "[Parallel(n_jobs=-1)]: Done   1 tasks      | elapsed:    0.0s\n",
            "[Parallel(n_jobs=-1)]: Batch computation too fast (0.0405s.) Setting batch_size=2.\n",
            "[Parallel(n_jobs=-1)]: Done   4 tasks      | elapsed:    0.1s\n",
            "[Parallel(n_jobs=-1)]: Batch computation too fast (0.0857s.) Setting batch_size=4.\n",
            "[Parallel(n_jobs=-1)]: Done  16 tasks      | elapsed:    0.3s\n",
            "[Parallel(n_jobs=-1)]: Batch computation too fast (0.1579s.) Setting batch_size=8.\n",
            "[Parallel(n_jobs=-1)]: Done  44 tasks      | elapsed:    0.7s\n",
            "[Parallel(n_jobs=-1)]: Done 100 tasks      | elapsed:    1.5s\n"
          ],
          "name": "stderr"
        },
        {
          "output_type": "stream",
          "text": [
            "Fit done in: 0.03551657597223918 minutes\n",
            "              precision    recall  f1-score   support\n",
            "\n",
            "           0       0.73      0.87      0.79        79\n",
            "           1       0.82      0.63      0.71        71\n",
            "\n",
            "    accuracy                           0.76       150\n",
            "   macro avg       0.77      0.75      0.75       150\n",
            "weighted avg       0.77      0.76      0.76       150\n",
            "\n",
            "Pipeline(memory='tmp',\n",
            "         steps=[('selector', VarianceThreshold(threshold=0.001)),\n",
            "                ('linear_svm', LinearSVC(tol=1e-14))])\n",
            "{'linear_svm__loss': 'squared_hinge', 'linear_svm__tol': 1e-14, 'selector__threshold': 0.001}\n",
            "Confusion matrix\n",
            "\n",
            "SVM_linear Classifier\n",
            "[[69 10]\n",
            " [26 45]]\n",
            "\n",
            "------------F1 macro------------\n",
            "Default: {'Dummy': 0.5050576130946438, 'GaussianNB': 0.8288378561195209, 'kNN': 0.8288378561195209, 'MLPClassifier': 0.9371644371644371, 'SVM_linear': 0.8750032803812847, 'SVM_rbf': 0.6723320598304255, 'SVM_poly': 0.49127733043322236}\n",
            "Optimiz: {'Dummy': 0.5050576130946438, 'GaussianNB': 0.8021462975344185, 'kNN': 0.7941897268731637, 'MLPClassifier': 0.9337481005855506, 'SVM_linear': 0.7536945812807881}\n",
            "------------F1 micro------------\n",
            "Default: {'Dummy': 0.5242577842143374, 'GaussianNB': 0.8291093410572049, 'kNN': 0.8291093410572049, 'MLPClassifier': 0.939174511223751, 'SVM_linear': 0.8776249094858798, 'SVM_rbf': 0.7161477190441708, 'SVM_poly': 0.6357711803041275}\n",
            "Optimiz: {'Dummy': 0.5242577842143374, 'GaussianNB': 0.8175235336712527, 'kNN': 0.8175235336712527, 'MLPClassifier': 0.9355539464156408, 'SVM_linear': 0.76}\n"
          ],
          "name": "stdout"
        },
        {
          "output_type": "stream",
          "text": [
            "[Parallel(n_jobs=-1)]: Done 142 tasks      | elapsed:    2.0s\n",
            "[Parallel(n_jobs=-1)]: Done 150 out of 150 | elapsed:    2.1s finished\n",
            "/usr/local/lib/python3.6/dist-packages/sklearn/svm/_base.py:977: ConvergenceWarning: Liblinear failed to converge, increase the number of iterations.\n",
            "  \"the number of iterations.\", ConvergenceWarning)\n"
          ],
          "name": "stderr"
        }
      ]
    },
    {
      "cell_type": "markdown",
      "metadata": {
        "id": "JcGm7MSXlKD2"
      },
      "source": [
        "Δε βελτιώθηκε, αντιθέτως χειροτέρευσε, οπότε κρατάμε τις παραμέτρους από το προηγούμενο fit."
      ]
    },
    {
      "cell_type": "code",
      "metadata": {
        "colab": {
          "base_uri": "https://localhost:8080/"
        },
        "id": "VkPGsKsFjwwr",
        "outputId": "1bda368e-435b-4b96-dca4-f17d95c585f8"
      },
      "source": [
        "# Δοκιμάζουμε με μεγαλύτερο διαφορετικό threshold\n",
        "param_grid = {\n",
        "    'linear_svm__loss': [\"hinge\"], # default ‘squared_hinge’\n",
        "    'selector__threshold': [0, 0.001, 0.002, 0.003, 0.004],\n",
        "    'linear_svm__tol': [1e-14] # default 1e-4\n",
        "}\n",
        "\n",
        "linear_svm = LinearSVC()\n",
        "pipe = Pipeline(steps=[('selector', selector), ('linear_svm', linear_svm)], memory = 'tmp')\n",
        "gridsearch_init_print('SVM_linear', param_grid, pipe, strain, strain_labels, stest, stest_labels)"
      ],
      "execution_count": null,
      "outputs": [
        {
          "output_type": "stream",
          "text": [
            "[Parallel(n_jobs=-1)]: Using backend LokyBackend with 2 concurrent workers.\n"
          ],
          "name": "stderr"
        },
        {
          "output_type": "stream",
          "text": [
            "Fitting 5 folds for each of 5 candidates, totalling 25 fits\n"
          ],
          "name": "stdout"
        },
        {
          "output_type": "stream",
          "text": [
            "[Parallel(n_jobs=-1)]: Done   1 tasks      | elapsed:    0.0s\n",
            "[Parallel(n_jobs=-1)]: Batch computation too fast (0.0302s.) Setting batch_size=2.\n",
            "[Parallel(n_jobs=-1)]: Done   4 tasks      | elapsed:    0.1s\n",
            "[Parallel(n_jobs=-1)]: Batch computation too fast (0.0818s.) Setting batch_size=4.\n"
          ],
          "name": "stderr"
        },
        {
          "output_type": "stream",
          "text": [
            "Fit done in: 0.006563305854797363 minutes\n",
            "              precision    recall  f1-score   support\n",
            "\n",
            "           0       0.79      0.84      0.81        79\n",
            "           1       0.80      0.75      0.77        71\n",
            "\n",
            "    accuracy                           0.79       150\n",
            "   macro avg       0.79      0.79      0.79       150\n",
            "weighted avg       0.79      0.79      0.79       150\n",
            "\n",
            "Pipeline(memory='tmp',\n",
            "         steps=[('selector', VarianceThreshold(threshold=0.001)),\n",
            "                ('linear_svm', LinearSVC(loss='hinge', tol=1e-14))])\n",
            "{'linear_svm__loss': 'hinge', 'linear_svm__tol': 1e-14, 'selector__threshold': 0.001}\n",
            "Confusion matrix\n",
            "\n",
            "SVM_linear Classifier\n",
            "[[66 13]\n",
            " [18 53]]\n",
            "\n",
            "------------F1 macro------------\n",
            "Default: {'Dummy': 0.5050576130946438, 'GaussianNB': 0.8288378561195209, 'kNN': 0.8288378561195209, 'MLPClassifier': 0.9371644371644371, 'SVM_linear': 0.8750032803812847, 'SVM_rbf': 0.6723320598304255, 'SVM_poly': 0.49127733043322236}\n",
            "Optimiz: {'Dummy': 0.5050576130946438, 'GaussianNB': 0.8021462975344185, 'kNN': 0.7941897268731637, 'MLPClassifier': 0.9337481005855506, 'SVM_linear': 0.7917692893287358}\n",
            "------------F1 micro------------\n",
            "Default: {'Dummy': 0.5242577842143374, 'GaussianNB': 0.8291093410572049, 'kNN': 0.8291093410572049, 'MLPClassifier': 0.939174511223751, 'SVM_linear': 0.8776249094858798, 'SVM_rbf': 0.7161477190441708, 'SVM_poly': 0.6357711803041275}\n",
            "Optimiz: {'Dummy': 0.5242577842143374, 'GaussianNB': 0.8175235336712527, 'kNN': 0.8175235336712527, 'MLPClassifier': 0.9355539464156408, 'SVM_linear': 0.7933333333333333}\n"
          ],
          "name": "stdout"
        },
        {
          "output_type": "stream",
          "text": [
            "[Parallel(n_jobs=-1)]: Done  16 tasks      | elapsed:    0.3s\n",
            "[Parallel(n_jobs=-1)]: Batch computation too fast (0.1573s.) Setting batch_size=8.\n",
            "[Parallel(n_jobs=-1)]: Done  25 out of  25 | elapsed:    0.4s remaining:    0.0s\n",
            "[Parallel(n_jobs=-1)]: Done  25 out of  25 | elapsed:    0.4s finished\n",
            "/usr/local/lib/python3.6/dist-packages/sklearn/svm/_base.py:977: ConvergenceWarning: Liblinear failed to converge, increase the number of iterations.\n",
            "  \"the number of iterations.\", ConvergenceWarning)\n"
          ],
          "name": "stderr"
        }
      ]
    },
    {
      "cell_type": "code",
      "metadata": {
        "colab": {
          "base_uri": "https://localhost:8080/"
        },
        "id": "Y9Msz-ESlp9F",
        "outputId": "3d11a00d-3ad2-4974-c709-583b39557e1a"
      },
      "source": [
        "# Δοκιμάζουμε με μεγαλύτερο διαφορετικό threshold\n",
        "param_grid = {\n",
        "    'linear_svm__loss': [\"hinge\"], # default ‘squared_hinge’\n",
        "    'selector__threshold': [0.002],\n",
        "    'linear_svm__tol': [1e-14] # default 1e-4\n",
        "}\n",
        "\n",
        "linear_svm = LinearSVC()\n",
        "pipe = Pipeline(steps=[('selector', selector), ('linear_svm', linear_svm)], memory = 'tmp')\n",
        "gridsearch_init_print('SVM_linear', param_grid, pipe, strain, strain_labels, stest, stest_labels)"
      ],
      "execution_count": null,
      "outputs": [
        {
          "output_type": "stream",
          "text": [
            "[Parallel(n_jobs=-1)]: Using backend LokyBackend with 2 concurrent workers.\n",
            "[Parallel(n_jobs=-1)]: Done   1 tasks      | elapsed:    0.0s\n",
            "[Parallel(n_jobs=-1)]: Batch computation too fast (0.0305s.) Setting batch_size=2.\n",
            "[Parallel(n_jobs=-1)]: Done   3 out of   5 | elapsed:    0.1s remaining:    0.0s\n"
          ],
          "name": "stderr"
        },
        {
          "output_type": "stream",
          "text": [
            "Fitting 5 folds for each of 1 candidates, totalling 5 fits\n",
            "Fit done in: 0.0019804040590922036 minutes\n",
            "              precision    recall  f1-score   support\n",
            "\n",
            "           0       0.74      0.95      0.83        79\n",
            "           1       0.92      0.62      0.74        71\n",
            "\n",
            "    accuracy                           0.79       150\n",
            "   macro avg       0.83      0.78      0.78       150\n",
            "weighted avg       0.82      0.79      0.79       150\n",
            "\n",
            "Pipeline(memory='tmp',\n",
            "         steps=[('selector', VarianceThreshold(threshold=0.002)),\n",
            "                ('linear_svm', LinearSVC(loss='hinge', tol=1e-14))])\n",
            "{'linear_svm__loss': 'hinge', 'linear_svm__tol': 1e-14, 'selector__threshold': 0.002}\n",
            "Confusion matrix\n",
            "\n",
            "SVM_linear Classifier\n",
            "[[75  4]\n",
            " [27 44]]\n",
            "\n",
            "------------F1 macro------------\n",
            "Default: {'Dummy': 0.5050576130946438, 'GaussianNB': 0.8288378561195209, 'kNN': 0.8288378561195209, 'MLPClassifier': 0.9371644371644371, 'SVM_linear': 0.8750032803812847, 'SVM_rbf': 0.6723320598304255, 'SVM_poly': 0.49127733043322236}\n",
            "Optimiz: {'Dummy': 0.5050576130946438, 'GaussianNB': 0.8021462975344185, 'kNN': 0.7941897268731637, 'MLPClassifier': 0.9337481005855506, 'SVM_linear': 0.7841125400436417}\n",
            "------------F1 micro------------\n",
            "Default: {'Dummy': 0.5242577842143374, 'GaussianNB': 0.8291093410572049, 'kNN': 0.8291093410572049, 'MLPClassifier': 0.939174511223751, 'SVM_linear': 0.8776249094858798, 'SVM_rbf': 0.7161477190441708, 'SVM_poly': 0.6357711803041275}\n",
            "Optimiz: {'Dummy': 0.5242577842143374, 'GaussianNB': 0.8175235336712527, 'kNN': 0.8175235336712527, 'MLPClassifier': 0.9355539464156408, 'SVM_linear': 0.7933333333333333}\n"
          ],
          "name": "stdout"
        },
        {
          "output_type": "stream",
          "text": [
            "[Parallel(n_jobs=-1)]: Done   5 out of   5 | elapsed:    0.1s remaining:    0.0s\n",
            "[Parallel(n_jobs=-1)]: Done   5 out of   5 | elapsed:    0.1s finished\n",
            "/usr/local/lib/python3.6/dist-packages/sklearn/svm/_base.py:977: ConvergenceWarning: Liblinear failed to converge, increase the number of iterations.\n",
            "  \"the number of iterations.\", ConvergenceWarning)\n"
          ],
          "name": "stderr"
        }
      ]
    },
    {
      "cell_type": "markdown",
      "metadata": {
        "id": "b17hfhqClvnf"
      },
      "source": [
        "Άρα κρατάμε το hinge για την παράμετρο loss και threshold = 0.002. Τώρα θα εκπαιδεύσουμε το μεγάλο dataset."
      ]
    },
    {
      "cell_type": "code",
      "metadata": {
        "colab": {
          "base_uri": "https://localhost:8080/"
        },
        "id": "2Py_iBqhkCV7",
        "outputId": "8448eef4-e309-4d61-e54e-9a90c0861bf3"
      },
      "source": [
        "linear_svm = LinearSVC()\n",
        "pipe = Pipeline(steps=[('selector', selector), ('linear_svm', linear_svm)], memory = 'tmp')\n",
        "gridsearch_init_print('SVM_linear', param_grid, pipe)"
      ],
      "execution_count": null,
      "outputs": [
        {
          "output_type": "stream",
          "text": [
            "Fitting 5 folds for each of 1 candidates, totalling 5 fits\n"
          ],
          "name": "stdout"
        },
        {
          "output_type": "stream",
          "text": [
            "[Parallel(n_jobs=-1)]: Using backend LokyBackend with 2 concurrent workers.\n",
            "[Parallel(n_jobs=-1)]: Done   1 tasks      | elapsed:    0.3s\n",
            "[Parallel(n_jobs=-1)]: Done   3 out of   5 | elapsed:    0.6s remaining:    0.4s\n",
            "[Parallel(n_jobs=-1)]: Done   5 out of   5 | elapsed:    0.8s remaining:    0.0s\n",
            "[Parallel(n_jobs=-1)]: Done   5 out of   5 | elapsed:    0.8s finished\n"
          ],
          "name": "stderr"
        },
        {
          "output_type": "stream",
          "text": [
            "Fit done in: 0.018765815099080405 minutes\n",
            "              precision    recall  f1-score   support\n",
            "\n",
            "           0       0.90      0.89      0.90       814\n",
            "           1       0.85      0.86      0.85       567\n",
            "\n",
            "    accuracy                           0.88      1381\n",
            "   macro avg       0.87      0.87      0.87      1381\n",
            "weighted avg       0.88      0.88      0.88      1381\n",
            "\n",
            "Pipeline(memory='tmp',\n",
            "         steps=[('selector', VarianceThreshold(threshold=0.002)),\n",
            "                ('linear_svm', LinearSVC(loss='hinge', tol=1e-14))])\n",
            "{'linear_svm__loss': 'hinge', 'linear_svm__tol': 1e-14, 'selector__threshold': 0.002}\n",
            "Confusion matrix\n",
            "\n",
            "SVM_linear Classifier\n",
            "[[725  89]\n",
            " [ 80 487]]\n",
            "\n",
            "------------F1 macro------------\n",
            "Default: {'Dummy': 0.5050576130946438, 'GaussianNB': 0.8288378561195209, 'kNN': 0.8288378561195209, 'MLPClassifier': 0.9371644371644371, 'SVM_linear': 0.8750032803812847, 'SVM_rbf': 0.6723320598304255, 'SVM_poly': 0.49127733043322236}\n",
            "Optimiz: {'Dummy': 0.5050576130946438, 'GaussianNB': 0.8021462975344185, 'kNN': 0.7941897268731637, 'MLPClassifier': 0.9337481005855506, 'SVM_linear': 0.8738790294820311}\n",
            "------------F1 micro------------\n",
            "Default: {'Dummy': 0.5242577842143374, 'GaussianNB': 0.8291093410572049, 'kNN': 0.8291093410572049, 'MLPClassifier': 0.939174511223751, 'SVM_linear': 0.8776249094858798, 'SVM_rbf': 0.7161477190441708, 'SVM_poly': 0.6357711803041275}\n",
            "Optimiz: {'Dummy': 0.5242577842143374, 'GaussianNB': 0.8175235336712527, 'kNN': 0.8175235336712527, 'MLPClassifier': 0.9355539464156408, 'SVM_linear': 0.8776249094858798}\n"
          ],
          "name": "stdout"
        },
        {
          "output_type": "stream",
          "text": [
            "/usr/local/lib/python3.6/dist-packages/sklearn/svm/_base.py:977: ConvergenceWarning: Liblinear failed to converge, increase the number of iterations.\n",
            "  \"the number of iterations.\", ConvergenceWarning)\n"
          ],
          "name": "stderr"
        }
      ]
    },
    {
      "cell_type": "markdown",
      "metadata": {
        "id": "99XmsL5WmHza"
      },
      "source": [
        "Κάνουμε standardization για να δούμε αν βοηθάει."
      ]
    },
    {
      "cell_type": "code",
      "metadata": {
        "colab": {
          "base_uri": "https://localhost:8080/"
        },
        "id": "foEiHcV6kPGC",
        "outputId": "89108e80-ea14-4a9c-c040-2de52c2b8968"
      },
      "source": [
        "linear_svm = LinearSVC()\n",
        "pipe = Pipeline(steps=[('selector', selector), ('scaler', scaler), ('linear_svm', linear_svm)], memory = 'tmp')\n",
        "gridsearch_init_print('SVM_linear', param_grid, pipe)"
      ],
      "execution_count": null,
      "outputs": [
        {
          "output_type": "stream",
          "text": [
            "[Parallel(n_jobs=-1)]: Using backend LokyBackend with 2 concurrent workers.\n",
            "[Parallel(n_jobs=-1)]: Done   1 tasks      | elapsed:    0.1s\n",
            "[Parallel(n_jobs=-1)]: Batch computation too fast (0.1266s.) Setting batch_size=2.\n"
          ],
          "name": "stderr"
        },
        {
          "output_type": "stream",
          "text": [
            "Fitting 5 folds for each of 1 candidates, totalling 5 fits\n"
          ],
          "name": "stdout"
        },
        {
          "output_type": "stream",
          "text": [
            "[Parallel(n_jobs=-1)]: Done   3 out of   5 | elapsed:    0.3s remaining:    0.2s\n",
            "[Parallel(n_jobs=-1)]: Done   5 out of   5 | elapsed:    0.3s remaining:    0.0s\n",
            "[Parallel(n_jobs=-1)]: Done   5 out of   5 | elapsed:    0.3s finished\n"
          ],
          "name": "stderr"
        },
        {
          "output_type": "stream",
          "text": [
            "Fit done in: 0.008766488234202067 minutes\n",
            "              precision    recall  f1-score   support\n",
            "\n",
            "           0       0.94      0.93      0.94       814\n",
            "           1       0.91      0.91      0.91       567\n",
            "\n",
            "    accuracy                           0.92      1381\n",
            "   macro avg       0.92      0.92      0.92      1381\n",
            "weighted avg       0.92      0.92      0.92      1381\n",
            "\n",
            "Pipeline(memory='tmp',\n",
            "         steps=[('selector', VarianceThreshold(threshold=0.002)),\n",
            "                ('scaler', StandardScaler()),\n",
            "                ('linear_svm', LinearSVC(loss='hinge', tol=1e-14))])\n",
            "{'linear_svm__loss': 'hinge', 'linear_svm__tol': 1e-14, 'selector__threshold': 0.002}\n",
            "Confusion matrix\n",
            "\n",
            "SVM_linear Classifier\n",
            "[[760  54]\n",
            " [ 51 516]]\n",
            "\n",
            "------------F1 macro------------\n",
            "Default: {'Dummy': 0.5050576130946438, 'GaussianNB': 0.8288378561195209, 'kNN': 0.8288378561195209, 'MLPClassifier': 0.9371644371644371, 'SVM_linear': 0.8750032803812847, 'SVM_rbf': 0.6723320598304255, 'SVM_poly': 0.49127733043322236}\n",
            "Optimiz: {'Dummy': 0.5050576130946438, 'GaussianNB': 0.8021462975344185, 'kNN': 0.7941897268731637, 'MLPClassifier': 0.9337481005855506, 'SVM_linear': 0.9215181652120965}\n",
            "------------F1 micro------------\n",
            "Default: {'Dummy': 0.5242577842143374, 'GaussianNB': 0.8291093410572049, 'kNN': 0.8291093410572049, 'MLPClassifier': 0.939174511223751, 'SVM_linear': 0.8776249094858798, 'SVM_rbf': 0.7161477190441708, 'SVM_poly': 0.6357711803041275}\n",
            "Optimiz: {'Dummy': 0.5242577842143374, 'GaussianNB': 0.8175235336712527, 'kNN': 0.8175235336712527, 'MLPClassifier': 0.9355539464156408, 'SVM_linear': 0.9239681390296887}\n"
          ],
          "name": "stdout"
        },
        {
          "output_type": "stream",
          "text": [
            "/usr/local/lib/python3.6/dist-packages/sklearn/svm/_base.py:977: ConvergenceWarning: Liblinear failed to converge, increase the number of iterations.\n",
            "  \"the number of iterations.\", ConvergenceWarning)\n"
          ],
          "name": "stderr"
        }
      ]
    },
    {
      "cell_type": "markdown",
      "metadata": {
        "id": "9FWORwgDmMOB"
      },
      "source": [
        "Φαίνεται να έχει μεγάλη διαφορά, οπότε το κρατάμε. Προσθέτουμε & random oversampler."
      ]
    },
    {
      "cell_type": "markdown",
      "metadata": {
        "id": "6d-nvuf9mebk"
      },
      "source": [
        "Έχουμε ακριβώς τα ίδια αποτελέσματα, οπότε δεν το προσθέτουμε στις επόμενες επαναλήψεις."
      ]
    },
    {
      "cell_type": "code",
      "metadata": {
        "colab": {
          "base_uri": "https://localhost:8080/"
        },
        "id": "eNiWiDSfUkHN",
        "outputId": "b08806e7-e6f7-4963-f3a7-d0d01f05f129"
      },
      "source": [
        "linear_svm = LinearSVC()\n",
        "pipe = Pipeline(steps=[('selector', selector), ('scaler', scaler), ('ros', ros), ('linear_svm', linear_svm)], memory = 'tmp')\n",
        "gridsearch_init_print('SVM_linear', param_grid, pipe)"
      ],
      "execution_count": null,
      "outputs": [
        {
          "output_type": "stream",
          "text": [
            "[Parallel(n_jobs=-1)]: Using backend LokyBackend with 2 concurrent workers.\n"
          ],
          "name": "stderr"
        },
        {
          "output_type": "stream",
          "text": [
            "Fitting 5 folds for each of 1 candidates, totalling 5 fits\n"
          ],
          "name": "stdout"
        },
        {
          "output_type": "stream",
          "text": [
            "[Parallel(n_jobs=-1)]: Done   1 tasks      | elapsed:    0.2s\n",
            "[Parallel(n_jobs=-1)]: Batch computation too fast (0.1577s.) Setting batch_size=2.\n",
            "[Parallel(n_jobs=-1)]: Done   3 out of   5 | elapsed:    0.3s remaining:    0.2s\n",
            "[Parallel(n_jobs=-1)]: Done   5 out of   5 | elapsed:    0.4s remaining:    0.0s\n",
            "[Parallel(n_jobs=-1)]: Done   5 out of   5 | elapsed:    0.4s finished\n"
          ],
          "name": "stderr"
        },
        {
          "output_type": "stream",
          "text": [
            "Fit done in: 0.01108689308166504 minutes\n",
            "              precision    recall  f1-score   support\n",
            "\n",
            "           0       0.95      0.93      0.94       814\n",
            "           1       0.90      0.93      0.91       567\n",
            "\n",
            "    accuracy                           0.93      1381\n",
            "   macro avg       0.92      0.93      0.92      1381\n",
            "weighted avg       0.93      0.93      0.93      1381\n",
            "\n",
            "Pipeline(memory='tmp',\n",
            "         steps=[('selector', VarianceThreshold(threshold=0.002)),\n",
            "                ('scaler', StandardScaler()), ('ros', RandomOverSampler()),\n",
            "                ('linear_svm', LinearSVC(loss='hinge', tol=1e-14))])\n",
            "{'linear_svm__loss': 'hinge', 'linear_svm__tol': 1e-14, 'selector__threshold': 0.002}\n",
            "Confusion matrix\n",
            "\n",
            "SVM_linear Classifier\n",
            "[[754  60]\n",
            " [ 42 525]]\n",
            "\n",
            "------------F1 macro------------\n",
            "Default: {'Dummy': 0.5050576130946438, 'GaussianNB': 0.8288378561195209, 'kNN': 0.8288378561195209, 'MLPClassifier': 0.9371644371644371, 'SVM_linear': 0.8750032803812847, 'SVM_rbf': 0.6723320598304255, 'SVM_poly': 0.49127733043322236}\n",
            "Optimiz: {'Dummy': 0.5050576130946438, 'GaussianNB': 0.8021462975344185, 'kNN': 0.7941897268731637, 'MLPClassifier': 0.9337481005855506, 'SVM_linear': 0.9240521480331263}\n",
            "------------F1 micro------------\n",
            "Default: {'Dummy': 0.5242577842143374, 'GaussianNB': 0.8291093410572049, 'kNN': 0.8291093410572049, 'MLPClassifier': 0.939174511223751, 'SVM_linear': 0.8776249094858798, 'SVM_rbf': 0.7161477190441708, 'SVM_poly': 0.6357711803041275}\n",
            "Optimiz: {'Dummy': 0.5242577842143374, 'GaussianNB': 0.8175235336712527, 'kNN': 0.8175235336712527, 'MLPClassifier': 0.9355539464156408, 'SVM_linear': 0.9261404779145547}\n"
          ],
          "name": "stdout"
        },
        {
          "output_type": "stream",
          "text": [
            "/usr/local/lib/python3.6/dist-packages/sklearn/svm/_base.py:977: ConvergenceWarning: Liblinear failed to converge, increase the number of iterations.\n",
            "  \"the number of iterations.\", ConvergenceWarning)\n"
          ],
          "name": "stderr"
        }
      ]
    },
    {
      "cell_type": "markdown",
      "metadata": {
        "id": "ZcHt5MgbnUPd"
      },
      "source": [
        "Ούτε με random oversampler είδαμε καμια σημαντική διαφορά οπότε καταλήγουμε στις παρακάτω παραμέτρους: \n",
        "\n",
        "|  Parameter          | Value    |\n",
        "|---------------------|----------|\n",
        "| Selector            | 0.04     |\n",
        "| Loss                | hinge    |\n",
        "| Tol                 | 1e-20    |\n"
      ]
    },
    {
      "cell_type": "markdown",
      "metadata": {
        "id": "D3rCuj0BCB4v"
      },
      "source": [
        "#### RBF Kernel"
      ]
    },
    {
      "cell_type": "code",
      "metadata": {
        "colab": {
          "base_uri": "https://localhost:8080/"
        },
        "id": "AjYrfJnCaL6G",
        "outputId": "ba5d9590-10d4-4981-b64d-f0bf23d151ae"
      },
      "source": [
        "## Parameters to optimize\n",
        "param_grid = {\n",
        "    'rbf_svm__gamma': ['scale', 'auto', 0.2, 1.0, 2.0], # default scale\n",
        "    'rbf_svm__tol': [1e-2, 1e-4, 1e-8, 1e-14], # default 1e-4\n",
        "    'rbf_svm__C': [0.1, 0.5, 1.0, 2.0, 5.0, 10.0] # default 1.0\n",
        "}\n",
        "\n",
        "rbf_svm = SVC(kernel='rbf')\n",
        "\n",
        "pipe = Pipeline(steps=[('rbf_svm', rbf_svm)], memory = 'tmp')\n",
        "gridsearch_init_print('SVM_rbf', param_grid, pipe, strain, strain_labels, stest, stest_labels)"
      ],
      "execution_count": null,
      "outputs": [
        {
          "output_type": "stream",
          "text": [
            "[Parallel(n_jobs=-1)]: Using backend LokyBackend with 2 concurrent workers.\n",
            "[Parallel(n_jobs=-1)]: Done   1 tasks      | elapsed:    0.0s\n",
            "[Parallel(n_jobs=-1)]: Batch computation too fast (0.0373s.) Setting batch_size=2.\n",
            "[Parallel(n_jobs=-1)]: Done   4 tasks      | elapsed:    0.1s\n",
            "[Parallel(n_jobs=-1)]: Batch computation too fast (0.0678s.) Setting batch_size=4.\n"
          ],
          "name": "stderr"
        },
        {
          "output_type": "stream",
          "text": [
            "Fitting 5 folds for each of 120 candidates, totalling 600 fits\n"
          ],
          "name": "stdout"
        },
        {
          "output_type": "stream",
          "text": [
            "[Parallel(n_jobs=-1)]: Done  16 tasks      | elapsed:    0.2s\n",
            "[Parallel(n_jobs=-1)]: Batch computation too fast (0.1057s.) Setting batch_size=8.\n",
            "[Parallel(n_jobs=-1)]: Done  44 tasks      | elapsed:    0.5s\n",
            "[Parallel(n_jobs=-1)]: Done 100 tasks      | elapsed:    1.1s\n",
            "[Parallel(n_jobs=-1)]: Done 156 tasks      | elapsed:    1.6s\n",
            "[Parallel(n_jobs=-1)]: Done 228 tasks      | elapsed:    2.4s\n",
            "[Parallel(n_jobs=-1)]: Done 300 tasks      | elapsed:    3.1s\n",
            "[Parallel(n_jobs=-1)]: Done 388 tasks      | elapsed:    4.2s\n",
            "[Parallel(n_jobs=-1)]: Done 476 tasks      | elapsed:    5.2s\n",
            "[Parallel(n_jobs=-1)]: Done 580 tasks      | elapsed:    6.4s\n",
            "[Parallel(n_jobs=-1)]: Done 600 out of 600 | elapsed:    6.5s finished\n"
          ],
          "name": "stderr"
        },
        {
          "output_type": "stream",
          "text": [
            "Fit done in: 0.10955334107081095 minutes\n",
            "              precision    recall  f1-score   support\n",
            "\n",
            "           0       0.71      0.68      0.70        79\n",
            "           1       0.66      0.69      0.68        71\n",
            "\n",
            "    accuracy                           0.69       150\n",
            "   macro avg       0.69      0.69      0.69       150\n",
            "weighted avg       0.69      0.69      0.69       150\n",
            "\n",
            "Pipeline(memory='tmp', steps=[('rbf_svm', SVC(C=5.0, gamma='auto', tol=0.01))])\n",
            "{'rbf_svm__C': 5.0, 'rbf_svm__gamma': 'auto', 'rbf_svm__tol': 0.01}\n",
            "Confusion matrix\n",
            "\n",
            "SVM_rbf Classifier\n",
            "[[54 25]\n",
            " [22 49]]\n",
            "\n",
            "------------F1 macro------------\n",
            "Default: {'Dummy': 0.5050576130946438, 'GaussianNB': 0.8288378561195209, 'kNN': 0.8288378561195209, 'MLPClassifier': 0.9371644371644371, 'SVM_linear': 0.8750032803812847, 'SVM_rbf': 0.6723320598304255, 'SVM_poly': 0.49127733043322236}\n",
            "Optimiz: {'Dummy': 0.5050576130946438, 'GaussianNB': 0.8021462975344185, 'kNN': 0.7941897268731637, 'MLPClassifier': 0.9337481005855506, 'SVM_linear': 0.9240521480331263, 'SVM_rbf': 0.6863181312569522}\n",
            "------------F1 micro------------\n",
            "Default: {'Dummy': 0.5242577842143374, 'GaussianNB': 0.8291093410572049, 'kNN': 0.8291093410572049, 'MLPClassifier': 0.939174511223751, 'SVM_linear': 0.8776249094858798, 'SVM_rbf': 0.7161477190441708, 'SVM_poly': 0.6357711803041275}\n",
            "Optimiz: {'Dummy': 0.5242577842143374, 'GaussianNB': 0.8175235336712527, 'kNN': 0.8175235336712527, 'MLPClassifier': 0.9355539464156408, 'SVM_linear': 0.9261404779145547, 'SVM_rbf': 0.6866666666666666}\n"
          ],
          "name": "stdout"
        }
      ]
    },
    {
      "cell_type": "markdown",
      "metadata": {
        "id": "OH1Gst3PTYNr"
      },
      "source": [
        "Ασχολούμαστε αρχικά με τη βελτιστοποίηση του gamma. Βλέπουμε ότι προτιμάει το auto."
      ]
    },
    {
      "cell_type": "code",
      "metadata": {
        "colab": {
          "base_uri": "https://localhost:8080/"
        },
        "id": "7NKY5X-WqpqU",
        "outputId": "afa5db2f-071d-4bdd-92a6-871b2343dc8e"
      },
      "source": [
        "param_grid = {\n",
        "    'rbf_svm__gamma': ['auto'], # default scale\n",
        "    'rbf_svm__tol': [1e-0, 1e-2, 1e-4, 1e-8, 1e-14], # default 1e-4\n",
        "    'rbf_svm__C': [0.1, 0.5, 1.0, 2.0, 5.0, 10.0] # default 1.0\n",
        "}\n",
        "\n",
        "rbf_svm = SVC(kernel='rbf')\n",
        "\n",
        "pipe = Pipeline(steps=[('rbf_svm', rbf_svm)], memory = 'tmp')\n",
        "gridsearch_init_print('SVM_rbf', param_grid, pipe, strain, strain_labels, stest, stest_labels)"
      ],
      "execution_count": null,
      "outputs": [
        {
          "output_type": "stream",
          "text": [
            "Fitting 5 folds for each of 30 candidates, totalling 150 fits\n"
          ],
          "name": "stdout"
        },
        {
          "output_type": "stream",
          "text": [
            "[Parallel(n_jobs=-1)]: Using backend LokyBackend with 2 concurrent workers.\n",
            "[Parallel(n_jobs=-1)]: Done   1 tasks      | elapsed:    0.0s\n",
            "[Parallel(n_jobs=-1)]: Batch computation too fast (0.0206s.) Setting batch_size=2.\n",
            "[Parallel(n_jobs=-1)]: Done   4 tasks      | elapsed:    0.1s\n",
            "[Parallel(n_jobs=-1)]: Batch computation too fast (0.0594s.) Setting batch_size=4.\n",
            "[Parallel(n_jobs=-1)]: Done  16 tasks      | elapsed:    0.2s\n",
            "[Parallel(n_jobs=-1)]: Batch computation too fast (0.1123s.) Setting batch_size=8.\n",
            "[Parallel(n_jobs=-1)]: Done  44 tasks      | elapsed:    0.5s\n",
            "[Parallel(n_jobs=-1)]: Done 100 tasks      | elapsed:    1.2s\n"
          ],
          "name": "stderr"
        },
        {
          "output_type": "stream",
          "text": [
            "Fit done in: 0.02827012538909912 minutes\n",
            "              precision    recall  f1-score   support\n",
            "\n",
            "           0       0.71      0.68      0.70        79\n",
            "           1       0.66      0.69      0.68        71\n",
            "\n",
            "    accuracy                           0.69       150\n",
            "   macro avg       0.69      0.69      0.69       150\n",
            "weighted avg       0.69      0.69      0.69       150\n",
            "\n",
            "Pipeline(memory='tmp', steps=[('rbf_svm', SVC(C=5.0, gamma='auto', tol=0.01))])\n",
            "{'rbf_svm__C': 5.0, 'rbf_svm__gamma': 'auto', 'rbf_svm__tol': 0.01}\n",
            "Confusion matrix\n",
            "\n",
            "SVM_rbf Classifier\n",
            "[[54 25]\n",
            " [22 49]]\n",
            "\n",
            "------------F1 macro------------\n",
            "Default: {'Dummy': 0.5050576130946438, 'GaussianNB': 0.8288378561195209, 'kNN': 0.8288378561195209, 'MLPClassifier': 0.9371644371644371, 'SVM_linear': 0.8750032803812847, 'SVM_rbf': 0.6723320598304255, 'SVM_poly': 0.49127733043322236}\n",
            "Optimiz: {'Dummy': 0.5050576130946438, 'GaussianNB': 0.8021462975344185, 'kNN': 0.7941897268731637, 'MLPClassifier': 0.9337481005855506, 'SVM_linear': 0.9240521480331263, 'SVM_rbf': 0.6863181312569522}\n",
            "------------F1 micro------------\n",
            "Default: {'Dummy': 0.5242577842143374, 'GaussianNB': 0.8291093410572049, 'kNN': 0.8291093410572049, 'MLPClassifier': 0.939174511223751, 'SVM_linear': 0.8776249094858798, 'SVM_rbf': 0.7161477190441708, 'SVM_poly': 0.6357711803041275}\n",
            "Optimiz: {'Dummy': 0.5242577842143374, 'GaussianNB': 0.8175235336712527, 'kNN': 0.8175235336712527, 'MLPClassifier': 0.9355539464156408, 'SVM_linear': 0.9261404779145547, 'SVM_rbf': 0.6866666666666666}\n"
          ],
          "name": "stdout"
        },
        {
          "output_type": "stream",
          "text": [
            "[Parallel(n_jobs=-1)]: Done 135 tasks      | elapsed:    1.5s\n",
            "[Parallel(n_jobs=-1)]: Done 150 out of 150 | elapsed:    1.7s finished\n"
          ],
          "name": "stderr"
        }
      ]
    },
    {
      "cell_type": "code",
      "metadata": {
        "colab": {
          "base_uri": "https://localhost:8080/"
        },
        "id": "0iApDMXPUfpm",
        "outputId": "5c0aaa9c-7143-4950-dca1-ed9bb8817183"
      },
      "source": [
        "param_grid = {\n",
        "    'rbf_svm__gamma': ['auto'], # default scale\n",
        "    'rbf_svm__tol': [1e-0, 1e-2, 1e-3, 1e-4, 1e-5], # default 1e-4\n",
        "    'rbf_svm__C': [0.1, 0.5, 1.0, 2.0, 5.0, 10.0] # default 1.0\n",
        "}\n",
        "\n",
        "rbf_svm = SVC(kernel='rbf')\n",
        "\n",
        "pipe = Pipeline(steps=[('rbf_svm', rbf_svm)], memory = 'tmp')\n",
        "gridsearch_init_print('SVM_rbf', param_grid, pipe, strain, strain_labels, stest, stest_labels)"
      ],
      "execution_count": null,
      "outputs": [
        {
          "output_type": "stream",
          "text": [
            "[Parallel(n_jobs=-1)]: Using backend LokyBackend with 2 concurrent workers.\n"
          ],
          "name": "stderr"
        },
        {
          "output_type": "stream",
          "text": [
            "Fitting 5 folds for each of 30 candidates, totalling 150 fits\n"
          ],
          "name": "stdout"
        },
        {
          "output_type": "stream",
          "text": [
            "[Parallel(n_jobs=-1)]: Done   1 tasks      | elapsed:    0.0s\n",
            "[Parallel(n_jobs=-1)]: Batch computation too fast (0.0249s.) Setting batch_size=2.\n",
            "[Parallel(n_jobs=-1)]: Done   4 tasks      | elapsed:    0.1s\n",
            "[Parallel(n_jobs=-1)]: Batch computation too fast (0.0569s.) Setting batch_size=4.\n",
            "[Parallel(n_jobs=-1)]: Done  16 tasks      | elapsed:    0.2s\n",
            "[Parallel(n_jobs=-1)]: Batch computation too fast (0.1295s.) Setting batch_size=8.\n",
            "[Parallel(n_jobs=-1)]: Done  44 tasks      | elapsed:    0.5s\n",
            "[Parallel(n_jobs=-1)]: Done 100 tasks      | elapsed:    1.1s\n"
          ],
          "name": "stderr"
        },
        {
          "output_type": "stream",
          "text": [
            "Fit done in: 0.02719988425572713 minutes\n",
            "              precision    recall  f1-score   support\n",
            "\n",
            "           0       0.71      0.68      0.70        79\n",
            "           1       0.66      0.69      0.68        71\n",
            "\n",
            "    accuracy                           0.69       150\n",
            "   macro avg       0.69      0.69      0.69       150\n",
            "weighted avg       0.69      0.69      0.69       150\n",
            "\n",
            "Pipeline(memory='tmp', steps=[('rbf_svm', SVC(C=5.0, gamma='auto', tol=0.01))])\n",
            "{'rbf_svm__C': 5.0, 'rbf_svm__gamma': 'auto', 'rbf_svm__tol': 0.01}\n",
            "Confusion matrix\n",
            "\n",
            "SVM_rbf Classifier\n",
            "[[54 25]\n",
            " [22 49]]\n",
            "\n",
            "------------F1 macro------------\n",
            "Default: {'Dummy': 0.5050576130946438, 'GaussianNB': 0.8288378561195209, 'kNN': 0.8288378561195209, 'MLPClassifier': 0.9371644371644371, 'SVM_linear': 0.8750032803812847, 'SVM_rbf': 0.6723320598304255, 'SVM_poly': 0.49127733043322236}\n",
            "Optimiz: {'Dummy': 0.5050576130946438, 'GaussianNB': 0.8021462975344185, 'kNN': 0.7941897268731637, 'MLPClassifier': 0.9337481005855506, 'SVM_linear': 0.9240521480331263, 'SVM_rbf': 0.6863181312569522}\n",
            "------------F1 micro------------\n",
            "Default: {'Dummy': 0.5242577842143374, 'GaussianNB': 0.8291093410572049, 'kNN': 0.8291093410572049, 'MLPClassifier': 0.939174511223751, 'SVM_linear': 0.8776249094858798, 'SVM_rbf': 0.7161477190441708, 'SVM_poly': 0.6357711803041275}\n",
            "Optimiz: {'Dummy': 0.5242577842143374, 'GaussianNB': 0.8175235336712527, 'kNN': 0.8175235336712527, 'MLPClassifier': 0.9355539464156408, 'SVM_linear': 0.9261404779145547, 'SVM_rbf': 0.6866666666666666}\n"
          ],
          "name": "stdout"
        },
        {
          "output_type": "stream",
          "text": [
            "[Parallel(n_jobs=-1)]: Done 142 tasks      | elapsed:    1.5s\n",
            "[Parallel(n_jobs=-1)]: Done 150 out of 150 | elapsed:    1.6s finished\n"
          ],
          "name": "stderr"
        }
      ]
    },
    {
      "cell_type": "markdown",
      "metadata": {
        "id": "DAsMlPcsUxxW"
      },
      "source": [
        "Φαίνεται ότι η καλύτερη επιλογή είναι για tol = 0.001. Δυστυχώς όμως δεν βελτιώνει ούτε στο ελάχιστο την απόδοση του συστήματος. Πιθανότατα έχει να κάνει με την κατανομή του sampled dataset. Κρατάμε προς το παρόν αυτές τις παραμέτρους μέχρι να δοκιμάσουμε το πλήρες dataset."
      ]
    },
    {
      "cell_type": "code",
      "metadata": {
        "colab": {
          "base_uri": "https://localhost:8080/"
        },
        "id": "Y4NMx_NAUnLH",
        "outputId": "168524b9-7d30-4234-f313-4cea452fc240"
      },
      "source": [
        "param_grid = {\n",
        "    'rbf_svm__gamma': ['auto'], # default scale\n",
        "    'rbf_svm__tol': [1e-3], # default 1e-4\n",
        "    'rbf_svm__C': [0.1, 0.5, 1.0, 2.0, 4.0, 4.5, 5.0, 5.5, 6.0, 10.0] # default 1.0\n",
        "}\n",
        "\n",
        "rbf_svm = SVC(kernel='rbf')\n",
        "\n",
        "pipe = Pipeline(steps=[('rbf_svm', rbf_svm)], memory = 'tmp')\n",
        "gridsearch_init_print('SVM_rbf', param_grid, pipe, strain, strain_labels, stest, stest_labels)"
      ],
      "execution_count": null,
      "outputs": [
        {
          "output_type": "stream",
          "text": [
            "[Parallel(n_jobs=-1)]: Using backend LokyBackend with 2 concurrent workers.\n"
          ],
          "name": "stderr"
        },
        {
          "output_type": "stream",
          "text": [
            "Fitting 5 folds for each of 10 candidates, totalling 50 fits\n"
          ],
          "name": "stdout"
        },
        {
          "output_type": "stream",
          "text": [
            "[Parallel(n_jobs=-1)]: Done   1 tasks      | elapsed:    0.0s\n",
            "[Parallel(n_jobs=-1)]: Batch computation too fast (0.0338s.) Setting batch_size=2.\n",
            "[Parallel(n_jobs=-1)]: Done   4 tasks      | elapsed:    0.1s\n",
            "[Parallel(n_jobs=-1)]: Batch computation too fast (0.0593s.) Setting batch_size=4.\n",
            "[Parallel(n_jobs=-1)]: Done  16 tasks      | elapsed:    0.2s\n",
            "[Parallel(n_jobs=-1)]: Batch computation too fast (0.1236s.) Setting batch_size=8.\n"
          ],
          "name": "stderr"
        },
        {
          "output_type": "stream",
          "text": [
            "Fit done in: 0.00996631383895874 minutes\n",
            "              precision    recall  f1-score   support\n",
            "\n",
            "           0       0.71      0.70      0.71        79\n",
            "           1       0.67      0.69      0.68        71\n",
            "\n",
            "    accuracy                           0.69       150\n",
            "   macro avg       0.69      0.69      0.69       150\n",
            "weighted avg       0.69      0.69      0.69       150\n",
            "\n",
            "Pipeline(memory='tmp', steps=[('rbf_svm', SVC(C=4.5, gamma='auto'))])\n",
            "{'rbf_svm__C': 4.5, 'rbf_svm__gamma': 'auto', 'rbf_svm__tol': 0.001}\n",
            "Confusion matrix\n",
            "\n",
            "SVM_rbf Classifier\n",
            "[[55 24]\n",
            " [22 49]]\n",
            "\n",
            "------------F1 macro------------\n",
            "Default: {'Dummy': 0.5050576130946438, 'GaussianNB': 0.8288378561195209, 'kNN': 0.8288378561195209, 'MLPClassifier': 0.9371644371644371, 'SVM_linear': 0.8750032803812847, 'SVM_rbf': 0.6723320598304255, 'SVM_poly': 0.49127733043322236}\n",
            "Optimiz: {'Dummy': 0.5050576130946438, 'GaussianNB': 0.8021462975344185, 'kNN': 0.7941897268731637, 'MLPClassifier': 0.9337481005855506, 'SVM_linear': 0.9240521480331263, 'SVM_rbf': 0.6928418803418803}\n",
            "------------F1 micro------------\n",
            "Default: {'Dummy': 0.5242577842143374, 'GaussianNB': 0.8291093410572049, 'kNN': 0.8291093410572049, 'MLPClassifier': 0.939174511223751, 'SVM_linear': 0.8776249094858798, 'SVM_rbf': 0.7161477190441708, 'SVM_poly': 0.6357711803041275}\n",
            "Optimiz: {'Dummy': 0.5242577842143374, 'GaussianNB': 0.8175235336712527, 'kNN': 0.8175235336712527, 'MLPClassifier': 0.9355539464156408, 'SVM_linear': 0.9261404779145547, 'SVM_rbf': 0.6933333333333334}\n"
          ],
          "name": "stdout"
        },
        {
          "output_type": "stream",
          "text": [
            "[Parallel(n_jobs=-1)]: Done  44 tasks      | elapsed:    0.5s\n",
            "[Parallel(n_jobs=-1)]: Done  50 out of  50 | elapsed:    0.6s finished\n"
          ],
          "name": "stderr"
        }
      ]
    },
    {
      "cell_type": "markdown",
      "metadata": {
        "id": "zYFd-W-kVdIp"
      },
      "source": [
        "Πάλι δεν φαίνεται να υπάρχει καμία μεταβολή. Συνεχίζουμε με selector, scaler και random oversampler για να δουμε αν υπάρχει διαφορά. "
      ]
    },
    {
      "cell_type": "code",
      "metadata": {
        "colab": {
          "base_uri": "https://localhost:8080/"
        },
        "id": "IEQOyICoqz_u",
        "outputId": "9227baae-b551-4d0b-d06c-e5b54972b6b0"
      },
      "source": [
        "param_grid = {\n",
        "    'selector__threshold': [0.0, 0.0001, 0.001, 0.01, 0.1],\n",
        "    'rbf_svm__gamma': ['auto'], # default scale\n",
        "    'rbf_svm__tol': [1e-3], # default 1e-4\n",
        "    'rbf_svm__C': [5.0] # default 1.0\n",
        "}\n",
        "\n",
        "rbf_svm = SVC(kernel='rbf')\n",
        "\n",
        "pipe = Pipeline(steps=[('selector', selector), ('rbf_svm', rbf_svm)], memory = 'tmp')\n",
        "gridsearch_init_print('SVM_rbf', param_grid, pipe, strain, strain_labels, stest, stest_labels)"
      ],
      "execution_count": null,
      "outputs": [
        {
          "output_type": "stream",
          "text": [
            "[Parallel(n_jobs=-1)]: Using backend LokyBackend with 2 concurrent workers.\n",
            "[Parallel(n_jobs=-1)]: Done   1 tasks      | elapsed:    0.0s\n",
            "[Parallel(n_jobs=-1)]: Batch computation too fast (0.0358s.) Setting batch_size=2.\n"
          ],
          "name": "stderr"
        },
        {
          "output_type": "stream",
          "text": [
            "Fitting 5 folds for each of 5 candidates, totalling 25 fits\n"
          ],
          "name": "stdout"
        },
        {
          "output_type": "stream",
          "text": [
            "[Parallel(n_jobs=-1)]: Done   4 tasks      | elapsed:    0.1s\n",
            "[Parallel(n_jobs=-1)]: Batch computation too fast (0.0934s.) Setting batch_size=4.\n"
          ],
          "name": "stderr"
        },
        {
          "output_type": "stream",
          "text": [
            "Fit done in: 0.0071712930997212725 minutes\n",
            "              precision    recall  f1-score   support\n",
            "\n",
            "           0       0.71      0.68      0.70        79\n",
            "           1       0.66      0.69      0.68        71\n",
            "\n",
            "    accuracy                           0.69       150\n",
            "   macro avg       0.69      0.69      0.69       150\n",
            "weighted avg       0.69      0.69      0.69       150\n",
            "\n",
            "Pipeline(memory='tmp',\n",
            "         steps=[('selector', VarianceThreshold()),\n",
            "                ('rbf_svm', SVC(C=5.0, gamma='auto'))])\n",
            "{'rbf_svm__C': 5.0, 'rbf_svm__gamma': 'auto', 'rbf_svm__tol': 0.001, 'selector__threshold': 0.0}\n",
            "Confusion matrix\n",
            "\n",
            "SVM_rbf Classifier\n",
            "[[54 25]\n",
            " [22 49]]\n",
            "\n",
            "------------F1 macro------------\n",
            "Default: {'Dummy': 0.5050576130946438, 'GaussianNB': 0.8288378561195209, 'kNN': 0.8288378561195209, 'MLPClassifier': 0.9371644371644371, 'SVM_linear': 0.8750032803812847, 'SVM_rbf': 0.6723320598304255, 'SVM_poly': 0.49127733043322236}\n",
            "Optimiz: {'Dummy': 0.5050576130946438, 'GaussianNB': 0.8021462975344185, 'kNN': 0.7941897268731637, 'MLPClassifier': 0.9337481005855506, 'SVM_linear': 0.9240521480331263, 'SVM_rbf': 0.6863181312569522}\n",
            "------------F1 micro------------\n",
            "Default: {'Dummy': 0.5242577842143374, 'GaussianNB': 0.8291093410572049, 'kNN': 0.8291093410572049, 'MLPClassifier': 0.939174511223751, 'SVM_linear': 0.8776249094858798, 'SVM_rbf': 0.7161477190441708, 'SVM_poly': 0.6357711803041275}\n",
            "Optimiz: {'Dummy': 0.5242577842143374, 'GaussianNB': 0.8175235336712527, 'kNN': 0.8175235336712527, 'MLPClassifier': 0.9355539464156408, 'SVM_linear': 0.9261404779145547, 'SVM_rbf': 0.6866666666666666}\n"
          ],
          "name": "stdout"
        },
        {
          "output_type": "stream",
          "text": [
            "[Parallel(n_jobs=-1)]: Done  16 tasks      | elapsed:    0.3s\n",
            "[Parallel(n_jobs=-1)]: Batch computation too fast (0.1592s.) Setting batch_size=8.\n",
            "[Parallel(n_jobs=-1)]: Done  25 out of  25 | elapsed:    0.4s remaining:    0.0s\n",
            "[Parallel(n_jobs=-1)]: Done  25 out of  25 | elapsed:    0.4s finished\n"
          ],
          "name": "stderr"
        }
      ]
    },
    {
      "cell_type": "markdown",
      "metadata": {
        "id": "iYuXZLFgq_YX"
      },
      "source": [
        "Όπως βλέπουμε δεν μας βοηθάει ο selector καθόλου. Άρα τον αφαιρούμε.\n"
      ]
    },
    {
      "cell_type": "code",
      "metadata": {
        "colab": {
          "base_uri": "https://localhost:8080/"
        },
        "id": "_voTDS3JrEbv",
        "outputId": "9acef7e0-23c0-42df-9157-8d8d7197780e"
      },
      "source": [
        "param_grid = {\n",
        "    'rbf_svm__gamma': ['auto'], # default scale\n",
        "    'rbf_svm__tol': [1e-3], # default 1e-4\n",
        "    'rbf_svm__C': [5.0] # default 1.0\n",
        "}\n",
        "\n",
        "rbf_svm = SVC(kernel='rbf')\n",
        "\n",
        "pipe = Pipeline(steps=[('scaler', scaler), ('rbf_svm', rbf_svm)], memory = 'tmp')\n",
        "gridsearch_init_print('SVM_rbf', param_grid, pipe, strain, strain_labels, stest, stest_labels)"
      ],
      "execution_count": null,
      "outputs": [
        {
          "output_type": "stream",
          "text": [
            "[Parallel(n_jobs=-1)]: Using backend LokyBackend with 2 concurrent workers.\n"
          ],
          "name": "stderr"
        },
        {
          "output_type": "stream",
          "text": [
            "Fitting 5 folds for each of 1 candidates, totalling 5 fits\n",
            "Fit done in: 0.0017957687377929688 minutes\n",
            "              precision    recall  f1-score   support\n",
            "\n",
            "           0       0.87      0.94      0.90        79\n",
            "           1       0.92      0.85      0.88        71\n",
            "\n",
            "    accuracy                           0.89       150\n",
            "   macro avg       0.90      0.89      0.89       150\n",
            "weighted avg       0.90      0.89      0.89       150\n",
            "\n",
            "Pipeline(memory='tmp',\n",
            "         steps=[('scaler', StandardScaler()),\n",
            "                ('rbf_svm', SVC(C=5.0, gamma='auto'))])\n",
            "{'rbf_svm__C': 5.0, 'rbf_svm__gamma': 'auto', 'rbf_svm__tol': 0.001}\n",
            "Confusion matrix\n",
            "\n",
            "SVM_rbf Classifier\n",
            "[[74  5]\n",
            " [11 60]]\n",
            "\n",
            "------------F1 macro------------\n",
            "Default: {'Dummy': 0.5050576130946438, 'GaussianNB': 0.8288378561195209, 'kNN': 0.8288378561195209, 'MLPClassifier': 0.9371644371644371, 'SVM_linear': 0.8750032803812847, 'SVM_rbf': 0.6723320598304255, 'SVM_poly': 0.49127733043322236}\n",
            "Optimiz: {'Dummy': 0.5050576130946438, 'GaussianNB': 0.8021462975344185, 'kNN': 0.7941897268731637, 'MLPClassifier': 0.9337481005855506, 'SVM_linear': 0.9240521480331263, 'SVM_rbf': 0.8923959827833572}\n",
            "------------F1 micro------------\n",
            "Default: {'Dummy': 0.5242577842143374, 'GaussianNB': 0.8291093410572049, 'kNN': 0.8291093410572049, 'MLPClassifier': 0.939174511223751, 'SVM_linear': 0.8776249094858798, 'SVM_rbf': 0.7161477190441708, 'SVM_poly': 0.6357711803041275}\n",
            "Optimiz: {'Dummy': 0.5242577842143374, 'GaussianNB': 0.8175235336712527, 'kNN': 0.8175235336712527, 'MLPClassifier': 0.9355539464156408, 'SVM_linear': 0.9261404779145547, 'SVM_rbf': 0.8933333333333333}\n"
          ],
          "name": "stdout"
        },
        {
          "output_type": "stream",
          "text": [
            "[Parallel(n_jobs=-1)]: Done   1 tasks      | elapsed:    0.0s\n",
            "[Parallel(n_jobs=-1)]: Batch computation too fast (0.0349s.) Setting batch_size=2.\n",
            "[Parallel(n_jobs=-1)]: Done   3 out of   5 | elapsed:    0.1s remaining:    0.0s\n",
            "[Parallel(n_jobs=-1)]: Done   5 out of   5 | elapsed:    0.1s remaining:    0.0s\n",
            "[Parallel(n_jobs=-1)]: Done   5 out of   5 | elapsed:    0.1s finished\n"
          ],
          "name": "stderr"
        }
      ]
    },
    {
      "cell_type": "markdown",
      "metadata": {
        "id": "z3HE97ASV920"
      },
      "source": [
        "Εδώ βλέπουμε μεγάλη διαφορά σε σχέση με πριν. Μειώθηκαν σημαντικά τα λάθη, οπότε κρατάμε σίγουρα τον scaler. Δοκιμάζουμε pca."
      ]
    },
    {
      "cell_type": "code",
      "metadata": {
        "colab": {
          "base_uri": "https://localhost:8080/"
        },
        "id": "wHcJkfJ3rJ5e",
        "outputId": "7e5e9d4c-52a9-4e9e-96b4-53191b13e777"
      },
      "source": [
        "param_grid = {\n",
        "    'rbf_svm__gamma': ['auto'], # default scale\n",
        "    'rbf_svm__tol': [1e-3], # default 1e-4\n",
        "    'rbf_svm__C': [5.0] # default 1.0\n",
        "}\n",
        "\n",
        "rbf_svm = SVC(kernel='rbf')\n",
        "\n",
        "pipe = Pipeline(steps=[('scaler', scaler), ('pca', pca), ('rbf_svm', rbf_svm)], memory = 'tmp')\n",
        "gridsearch_init_print('SVM_rbf', param_grid, pipe, strain, strain_labels, stest, stest_labels)"
      ],
      "execution_count": null,
      "outputs": [
        {
          "output_type": "stream",
          "text": [
            "Fitting 5 folds for each of 1 candidates, totalling 5 fits\n"
          ],
          "name": "stdout"
        },
        {
          "output_type": "stream",
          "text": [
            "[Parallel(n_jobs=-1)]: Using backend LokyBackend with 2 concurrent workers.\n",
            "[Parallel(n_jobs=-1)]: Done   1 tasks      | elapsed:    0.0s\n",
            "[Parallel(n_jobs=-1)]: Batch computation too fast (0.0397s.) Setting batch_size=2.\n",
            "[Parallel(n_jobs=-1)]: Done   3 out of   5 | elapsed:    0.1s remaining:    0.1s\n"
          ],
          "name": "stderr"
        },
        {
          "output_type": "stream",
          "text": [
            "Fit done in: 0.0023243904113769533 minutes\n",
            "              precision    recall  f1-score   support\n",
            "\n",
            "           0       0.87      0.94      0.90        79\n",
            "           1       0.92      0.85      0.88        71\n",
            "\n",
            "    accuracy                           0.89       150\n",
            "   macro avg       0.90      0.89      0.89       150\n",
            "weighted avg       0.90      0.89      0.89       150\n",
            "\n",
            "Pipeline(memory='tmp',\n",
            "         steps=[('scaler', StandardScaler()), ('pca', PCA()),\n",
            "                ('rbf_svm', SVC(C=5.0, gamma='auto'))])\n",
            "{'rbf_svm__C': 5.0, 'rbf_svm__gamma': 'auto', 'rbf_svm__tol': 0.001}\n",
            "Confusion matrix\n",
            "\n",
            "SVM_rbf Classifier\n",
            "[[74  5]\n",
            " [11 60]]\n",
            "\n",
            "------------F1 macro------------\n",
            "Default: {'Dummy': 0.5050576130946438, 'GaussianNB': 0.8288378561195209, 'kNN': 0.8288378561195209, 'MLPClassifier': 0.9371644371644371, 'SVM_linear': 0.8750032803812847, 'SVM_rbf': 0.6723320598304255, 'SVM_poly': 0.49127733043322236}\n",
            "Optimiz: {'Dummy': 0.5050576130946438, 'GaussianNB': 0.8021462975344185, 'kNN': 0.7941897268731637, 'MLPClassifier': 0.9337481005855506, 'SVM_linear': 0.9240521480331263, 'SVM_rbf': 0.8923959827833572}\n",
            "------------F1 micro------------\n",
            "Default: {'Dummy': 0.5242577842143374, 'GaussianNB': 0.8291093410572049, 'kNN': 0.8291093410572049, 'MLPClassifier': 0.939174511223751, 'SVM_linear': 0.8776249094858798, 'SVM_rbf': 0.7161477190441708, 'SVM_poly': 0.6357711803041275}\n",
            "Optimiz: {'Dummy': 0.5242577842143374, 'GaussianNB': 0.8175235336712527, 'kNN': 0.8175235336712527, 'MLPClassifier': 0.9355539464156408, 'SVM_linear': 0.9261404779145547, 'SVM_rbf': 0.8933333333333333}\n"
          ],
          "name": "stdout"
        },
        {
          "output_type": "stream",
          "text": [
            "[Parallel(n_jobs=-1)]: Done   5 out of   5 | elapsed:    0.1s remaining:    0.0s\n",
            "[Parallel(n_jobs=-1)]: Done   5 out of   5 | elapsed:    0.1s finished\n"
          ],
          "name": "stderr"
        }
      ]
    },
    {
      "cell_type": "markdown",
      "metadata": {
        "id": "i-xcbQtLWXWP"
      },
      "source": [
        "Δεν υπήρχε κάποια σημαντική διαφορά. Αφαιρούμε την pca."
      ]
    },
    {
      "cell_type": "code",
      "metadata": {
        "colab": {
          "base_uri": "https://localhost:8080/"
        },
        "id": "w-dSdkThWddZ",
        "outputId": "1ffc6d98-811f-4bc0-aa29-b822bb9c8f77"
      },
      "source": [
        "param_grid = {\n",
        "    'rbf_svm__gamma': ['auto'], # default scale\n",
        "    'rbf_svm__tol': [1e-3], # default 1e-4\n",
        "    'rbf_svm__C': [5.0] # default 1.0\n",
        "}\n",
        "\n",
        "rbf_svm = SVC(kernel='rbf')\n",
        "\n",
        "pipe = Pipeline(steps=[('scaler', scaler), ('ros', ros), ('rbf_svm', rbf_svm)], memory = 'tmp')\n",
        "gridsearch_init_print('SVM_rbf', param_grid, pipe, strain, strain_labels, stest, stest_labels)"
      ],
      "execution_count": null,
      "outputs": [
        {
          "output_type": "stream",
          "text": [
            "[Parallel(n_jobs=-1)]: Using backend LokyBackend with 2 concurrent workers.\n",
            "[Parallel(n_jobs=-1)]: Done   1 tasks      | elapsed:    0.1s\n",
            "[Parallel(n_jobs=-1)]: Batch computation too fast (0.0618s.) Setting batch_size=2.\n"
          ],
          "name": "stderr"
        },
        {
          "output_type": "stream",
          "text": [
            "Fitting 5 folds for each of 1 candidates, totalling 5 fits\n",
            "Fit done in: 0.0029332836469014487 minutes\n",
            "              precision    recall  f1-score   support\n",
            "\n",
            "           0       0.87      0.95      0.91        79\n",
            "           1       0.94      0.85      0.89        71\n",
            "\n",
            "    accuracy                           0.90       150\n",
            "   macro avg       0.90      0.90      0.90       150\n",
            "weighted avg       0.90      0.90      0.90       150\n",
            "\n",
            "Pipeline(memory='tmp',\n",
            "         steps=[('scaler', StandardScaler()), ('ros', RandomOverSampler()),\n",
            "                ('rbf_svm', SVC(C=5.0, gamma='auto'))])\n",
            "{'rbf_svm__C': 5.0, 'rbf_svm__gamma': 'auto', 'rbf_svm__tol': 0.001}\n",
            "Confusion matrix\n",
            "\n",
            "SVM_rbf Classifier\n",
            "[[75  4]\n",
            " [11 60]]\n",
            "\n",
            "------------F1 macro------------\n",
            "Default: {'Dummy': 0.5050576130946438, 'GaussianNB': 0.8288378561195209, 'kNN': 0.8288378561195209, 'MLPClassifier': 0.9371644371644371, 'SVM_linear': 0.8750032803812847, 'SVM_rbf': 0.6723320598304255, 'SVM_poly': 0.49127733043322236}\n",
            "Optimiz: {'Dummy': 0.5050576130946438, 'GaussianNB': 0.8021462975344185, 'kNN': 0.7941897268731637, 'MLPClassifier': 0.9337481005855506, 'SVM_linear': 0.9240521480331263, 'SVM_rbf': 0.898989898989899}\n",
            "------------F1 micro------------\n",
            "Default: {'Dummy': 0.5242577842143374, 'GaussianNB': 0.8291093410572049, 'kNN': 0.8291093410572049, 'MLPClassifier': 0.939174511223751, 'SVM_linear': 0.8776249094858798, 'SVM_rbf': 0.7161477190441708, 'SVM_poly': 0.6357711803041275}\n",
            "Optimiz: {'Dummy': 0.5242577842143374, 'GaussianNB': 0.8175235336712527, 'kNN': 0.8175235336712527, 'MLPClassifier': 0.9355539464156408, 'SVM_linear': 0.9261404779145547, 'SVM_rbf': 0.9}\n"
          ],
          "name": "stdout"
        },
        {
          "output_type": "stream",
          "text": [
            "[Parallel(n_jobs=-1)]: Done   3 out of   5 | elapsed:    0.1s remaining:    0.1s\n",
            "[Parallel(n_jobs=-1)]: Done   5 out of   5 | elapsed:    0.1s remaining:    0.0s\n",
            "[Parallel(n_jobs=-1)]: Done   5 out of   5 | elapsed:    0.1s finished\n"
          ],
          "name": "stderr"
        }
      ]
    },
    {
      "cell_type": "markdown",
      "metadata": {
        "id": "tKI726-tXcNq"
      },
      "source": [
        "Τώρα θα δοκιμάσουμε να εκπαιδεύσουμε το κανονικό dataset"
      ]
    },
    {
      "cell_type": "code",
      "metadata": {
        "colab": {
          "base_uri": "https://localhost:8080/"
        },
        "id": "EyC2XQSoXb2j",
        "outputId": "d78cc4c4-907c-4ada-e86c-53a480835f0a"
      },
      "source": [
        "param_grid = {\n",
        "    'rbf_svm__gamma': ['auto'], # default scale\n",
        "    'rbf_svm__tol': [1e-3], # default 1e-4\n",
        "    'rbf_svm__C': [5.0] # default 1.0\n",
        "}\n",
        "\n",
        "rbf_svm = SVC(kernel='rbf')\n",
        "\n",
        "pipe = Pipeline(steps=[('scaler', scaler), ('ros', ros), ('rbf_svm', rbf_svm)], memory = 'tmp')\n",
        "gridsearch_init_print('SVM_rbf', param_grid, pipe)"
      ],
      "execution_count": null,
      "outputs": [
        {
          "output_type": "stream",
          "text": [
            "[Parallel(n_jobs=-1)]: Using backend LokyBackend with 2 concurrent workers.\n"
          ],
          "name": "stderr"
        },
        {
          "output_type": "stream",
          "text": [
            "Fitting 5 folds for each of 1 candidates, totalling 5 fits\n"
          ],
          "name": "stdout"
        },
        {
          "output_type": "stream",
          "text": [
            "[Parallel(n_jobs=-1)]: Done   1 tasks      | elapsed:    0.7s\n",
            "[Parallel(n_jobs=-1)]: Done   3 out of   5 | elapsed:    1.3s remaining:    0.9s\n",
            "[Parallel(n_jobs=-1)]: Done   5 out of   5 | elapsed:    1.8s remaining:    0.0s\n",
            "[Parallel(n_jobs=-1)]: Done   5 out of   5 | elapsed:    1.8s finished\n"
          ],
          "name": "stderr"
        },
        {
          "output_type": "stream",
          "text": [
            "Fit done in: 0.040785630544026695 minutes\n",
            "              precision    recall  f1-score   support\n",
            "\n",
            "           0       0.94      0.95      0.95       814\n",
            "           1       0.92      0.92      0.92       567\n",
            "\n",
            "    accuracy                           0.94      1381\n",
            "   macro avg       0.93      0.93      0.93      1381\n",
            "weighted avg       0.94      0.94      0.94      1381\n",
            "\n",
            "Pipeline(memory='tmp',\n",
            "         steps=[('scaler', StandardScaler()), ('ros', RandomOverSampler()),\n",
            "                ('rbf_svm', SVC(C=5.0, gamma='auto'))])\n",
            "{'rbf_svm__C': 5.0, 'rbf_svm__gamma': 'auto', 'rbf_svm__tol': 0.001}\n",
            "Confusion matrix\n",
            "\n",
            "SVM_rbf Classifier\n",
            "[[771  43]\n",
            " [ 45 522]]\n",
            "\n",
            "------------F1 macro------------\n",
            "Default: {'Dummy': 0.5050576130946438, 'GaussianNB': 0.8288378561195209, 'kNN': 0.8288378561195209, 'MLPClassifier': 0.9371644371644371, 'SVM_linear': 0.8750032803812847, 'SVM_rbf': 0.6723320598304255, 'SVM_poly': 0.49127733043322236}\n",
            "Optimiz: {'Dummy': 0.5050576130946438, 'GaussianNB': 0.8021462975344185, 'kNN': 0.7941897268731637, 'MLPClassifier': 0.9337481005855506, 'SVM_linear': 0.9240521480331263, 'SVM_rbf': 0.9341368770187951}\n",
            "------------F1 micro------------\n",
            "Default: {'Dummy': 0.5242577842143374, 'GaussianNB': 0.8291093410572049, 'kNN': 0.8291093410572049, 'MLPClassifier': 0.939174511223751, 'SVM_linear': 0.8776249094858798, 'SVM_rbf': 0.7161477190441708, 'SVM_poly': 0.6357711803041275}\n",
            "Optimiz: {'Dummy': 0.5242577842143374, 'GaussianNB': 0.8175235336712527, 'kNN': 0.8175235336712527, 'MLPClassifier': 0.9355539464156408, 'SVM_linear': 0.9261404779145547, 'SVM_rbf': 0.9362780593772628}\n"
          ],
          "name": "stdout"
        }
      ]
    },
    {
      "cell_type": "markdown",
      "metadata": {
        "id": "gtTq0E5AX8C7"
      },
      "source": [
        "Βλέπουμε παρόμοια συμπεριφορά στην απόδοση σε σχέση με το sampled dataset. Το ποσοστό απόδησης μας δείχνει ότι έχουμε διαλέξει αρκετά βέλτιστες παραμέτρους.\n",
        "\n",
        "Οι καλύτερες παράμετροι που επιλέχθηκαν, παρουσιάζονται παρακάτω.\n",
        "\n",
        "|  Parameter          | Value    |\n",
        "|---------------------|----------|\n",
        "| gamma               | auto     |\n",
        "| tol                 | 0.001    |\n",
        "| C                   | 5.0      |"
      ]
    },
    {
      "cell_type": "markdown",
      "metadata": {
        "id": "gMqBW14QCD9X"
      },
      "source": [
        "#### Poly Kernel"
      ]
    },
    {
      "cell_type": "code",
      "metadata": {
        "colab": {
          "base_uri": "https://localhost:8080/"
        },
        "id": "kCqZMlZSB99X",
        "outputId": "0ff006b0-49b8-40e8-d25d-88a831c1e369"
      },
      "source": [
        "## Parameters to optimize\n",
        "param_grid = {\n",
        "    # 'selector__threshold': [0,0.001, 0.002, 0.003, 0.004],\n",
        "    'poly_svm__gamma': ['scale', 'auto', 2.0], # default scale\n",
        "    'poly_svm__tol': [1e-2, 1e-4], # default 1e-4\n",
        "    'poly_svm__degree': [1, 3], # default 1\n",
        "    'poly_svm__C': [0.1, 0.5, 1.0, 3.0] # default 1.0\n",
        "}\n",
        "\n",
        "poly_svm = SVC(kernel='poly')\n",
        "\n",
        "pipe = Pipeline(steps=[('poly_svm', poly_svm)], memory = 'tmp')\n",
        "gridsearch_init_print('SVM_poly', param_grid, pipe, strain, strain_labels, stest, stest_labels)"
      ],
      "execution_count": null,
      "outputs": [
        {
          "output_type": "stream",
          "text": [
            "Fitting 5 folds for each of 48 candidates, totalling 240 fits\n"
          ],
          "name": "stdout"
        },
        {
          "output_type": "stream",
          "text": [
            "[Parallel(n_jobs=-1)]: Using backend LokyBackend with 2 concurrent workers.\n",
            "[Parallel(n_jobs=-1)]: Done   1 tasks      | elapsed:    0.0s\n",
            "[Parallel(n_jobs=-1)]: Batch computation too fast (0.0230s.) Setting batch_size=2.\n",
            "[Parallel(n_jobs=-1)]: Done   4 tasks      | elapsed:    0.1s\n",
            "[Parallel(n_jobs=-1)]: Batch computation too fast (0.0453s.) Setting batch_size=4.\n",
            "[Parallel(n_jobs=-1)]: Done  16 tasks      | elapsed:    0.2s\n",
            "[Parallel(n_jobs=-1)]: Batch computation too fast (0.1396s.) Setting batch_size=8.\n",
            "[Parallel(n_jobs=-1)]: Batch computation too slow (34.1204s.) Setting batch_size=1.\n",
            "[Parallel(n_jobs=-1)]: Done  44 tasks      | elapsed:  3.0min\n",
            "[Parallel(n_jobs=-1)]: Done  58 tasks      | elapsed:  7.3min\n",
            "[Parallel(n_jobs=-1)]: Done  65 tasks      | elapsed:  7.3min\n",
            "[Parallel(n_jobs=-1)]: Done  74 tasks      | elapsed:  7.4min\n",
            "[Parallel(n_jobs=-1)]: Done  90 tasks      | elapsed:  8.1min\n",
            "[Parallel(n_jobs=-1)]: Done 101 tasks      | elapsed:  8.4min\n",
            "[Parallel(n_jobs=-1)]: Done 112 tasks      | elapsed: 11.2min\n",
            "[Parallel(n_jobs=-1)]: Done 125 tasks      | elapsed: 13.4min\n",
            "[Parallel(n_jobs=-1)]: Done 138 tasks      | elapsed: 13.5min\n",
            "[Parallel(n_jobs=-1)]: Done 153 tasks      | elapsed: 14.4min\n",
            "[Parallel(n_jobs=-1)]: Done 168 tasks      | elapsed: 17.3min\n",
            "[Parallel(n_jobs=-1)]: Done 185 tasks      | elapsed: 20.3min\n",
            "[Parallel(n_jobs=-1)]: Done 202 tasks      | elapsed: 20.8min\n",
            "[Parallel(n_jobs=-1)]: Done 221 tasks      | elapsed: 21.9min\n",
            "[Parallel(n_jobs=-1)]: Done 240 out of 240 | elapsed: 27.4min finished\n"
          ],
          "name": "stderr"
        },
        {
          "output_type": "stream",
          "text": [
            "Fit done in: 27.785129821300508 minutes\n",
            "              precision    recall  f1-score   support\n",
            "\n",
            "           0       0.84      0.91      0.87        79\n",
            "           1       0.89      0.80      0.84        71\n",
            "\n",
            "    accuracy                           0.86       150\n",
            "   macro avg       0.86      0.86      0.86       150\n",
            "weighted avg       0.86      0.86      0.86       150\n",
            "\n",
            "Pipeline(memory='tmp',\n",
            "         steps=[('poly_svm',\n",
            "                 SVC(C=3.0, degree=1, gamma=2.0, kernel='poly', tol=0.0001))])\n",
            "{'poly_svm__C': 3.0, 'poly_svm__degree': 1, 'poly_svm__gamma': 2.0, 'poly_svm__tol': 0.0001}\n",
            "Confusion matrix\n",
            "\n",
            "SVM_poly Classifier\n",
            "[[72  7]\n",
            " [14 57]]\n",
            "\n",
            "------------F1 macro------------\n",
            "Default: {'Dummy': 0.5050576130946438, 'GaussianNB': 0.8288378561195209, 'kNN': 0.8288378561195209, 'MLPClassifier': 0.9371644371644371, 'SVM_linear': 0.8750032803812847, 'SVM_rbf': 0.6723320598304255, 'SVM_poly': 0.49127733043322236}\n",
            "Optimiz: {'Dummy': 0.5050576130946438, 'GaussianNB': 0.8021462975344185, 'kNN': 0.7941897268731637, 'MLPClassifier': 0.9337481005855506, 'SVM_linear': 0.9240521480331263, 'SVM_rbf': 0.9341368770187951, 'SVM_poly': 0.8585858585858586}\n",
            "------------F1 micro------------\n",
            "Default: {'Dummy': 0.5242577842143374, 'GaussianNB': 0.8291093410572049, 'kNN': 0.8291093410572049, 'MLPClassifier': 0.939174511223751, 'SVM_linear': 0.8776249094858798, 'SVM_rbf': 0.7161477190441708, 'SVM_poly': 0.6357711803041275}\n",
            "Optimiz: {'Dummy': 0.5242577842143374, 'GaussianNB': 0.8175235336712527, 'kNN': 0.8175235336712527, 'MLPClassifier': 0.9355539464156408, 'SVM_linear': 0.9261404779145547, 'SVM_rbf': 0.9362780593772628, 'SVM_poly': 0.86}\n"
          ],
          "name": "stdout"
        }
      ]
    },
    {
      "cell_type": "markdown",
      "metadata": {
        "id": "S8ZolUKi0Tn-"
      },
      "source": [
        "Εδώ παρατηρούμε πως ο χρόνος εκπαίδευσης αυξάνεται σημαντικά και μάλιστα έχουμε μόνο το sampled dataset!\n",
        "\n",
        "Φυσικά όμως η ακρίβεια ανεβαίνει πάρα πολύ.\n",
        "\n",
        "Λόγω του μεγάλου χρόνο εκπαίδευσης, θα κάνουμε λιγότερες δοκιμές και θα κρατήσουμε το degree = 1, όπως έβγαλε ήδη."
      ]
    },
    {
      "cell_type": "code",
      "metadata": {
        "colab": {
          "base_uri": "https://localhost:8080/"
        },
        "id": "-omjgkAQzrd3",
        "outputId": "b55a2428-e5dc-46f0-a9c2-98ec92f8a83c"
      },
      "source": [
        "## Parameters to optimize\n",
        "param_grid = {\n",
        "    # 'selector__threshold': [0,0.001, 0.002, 0.003, 0.004],\n",
        "    'poly_svm__degree': [1], # default 1\n",
        "    'poly_svm__gamma': [1.0, 2.0, 3.0], # default scale\n",
        "    'poly_svm__tol': [1e-2, 1e-3], # default 1e-4\n",
        "    'poly_svm__C': [0.01, 0.1, 0.2] # default 1.0\n",
        "}\n",
        "\n",
        "poly_svm = SVC(kernel='poly')\n",
        "\n",
        "pipe = Pipeline(steps=[('poly_svm', poly_svm)], memory = 'tmp')\n",
        "gridsearch_init_print('SVM_poly', param_grid, pipe, strain, strain_labels, stest, stest_labels)"
      ],
      "execution_count": null,
      "outputs": [
        {
          "output_type": "stream",
          "text": [
            "Fitting 5 folds for each of 18 candidates, totalling 90 fits\n"
          ],
          "name": "stdout"
        },
        {
          "output_type": "stream",
          "text": [
            "[Parallel(n_jobs=-1)]: Using backend LokyBackend with 2 concurrent workers.\n",
            "[Parallel(n_jobs=-1)]: Done   1 tasks      | elapsed:    0.1s\n",
            "[Parallel(n_jobs=-1)]: Batch computation too fast (0.0907s.) Setting batch_size=2.\n",
            "[Parallel(n_jobs=-1)]: Done   4 tasks      | elapsed:    0.3s\n",
            "[Parallel(n_jobs=-1)]: Done  14 tasks      | elapsed:    1.6s\n",
            "[Parallel(n_jobs=-1)]: Done  24 tasks      | elapsed:    4.9s\n",
            "[Parallel(n_jobs=-1)]: Batch computation too slow (2.0536s.) Setting batch_size=1.\n",
            "[Parallel(n_jobs=-1)]: Done  35 tasks      | elapsed:   13.6s\n",
            "[Parallel(n_jobs=-1)]: Done  42 tasks      | elapsed:   30.2s\n",
            "[Parallel(n_jobs=-1)]: Done  51 tasks      | elapsed:   57.4s\n",
            "[Parallel(n_jobs=-1)]: Done  60 tasks      | elapsed:  1.3min\n",
            "[Parallel(n_jobs=-1)]: Done  71 tasks      | elapsed:  1.9min\n",
            "[Parallel(n_jobs=-1)]: Done  82 tasks      | elapsed:  2.5min\n",
            "[Parallel(n_jobs=-1)]: Done  90 out of  90 | elapsed:  3.0min finished\n"
          ],
          "name": "stderr"
        },
        {
          "output_type": "stream",
          "text": [
            "Fit done in: 3.023121396700541 minutes\n",
            "              precision    recall  f1-score   support\n",
            "\n",
            "           0       0.86      0.92      0.89        79\n",
            "           1       0.91      0.83      0.87        71\n",
            "\n",
            "    accuracy                           0.88       150\n",
            "   macro avg       0.88      0.88      0.88       150\n",
            "weighted avg       0.88      0.88      0.88       150\n",
            "\n",
            "Pipeline(memory='tmp',\n",
            "         steps=[('poly_svm',\n",
            "                 SVC(C=0.2, degree=1, gamma=3.0, kernel='poly', tol=0.01))])\n",
            "{'poly_svm__C': 0.2, 'poly_svm__degree': 1, 'poly_svm__gamma': 3.0, 'poly_svm__tol': 0.01}\n",
            "Confusion matrix\n",
            "\n",
            "SVM_poly Classifier\n",
            "[[73  6]\n",
            " [12 59]]\n",
            "\n",
            "------------F1 macro------------\n",
            "Default: {'Dummy': 0.5050576130946438, 'GaussianNB': 0.8288378561195209, 'kNN': 0.8288378561195209, 'MLPClassifier': 0.9371644371644371, 'SVM_linear': 0.8750032803812847, 'SVM_rbf': 0.6723320598304255, 'SVM_poly': 0.49127733043322236}\n",
            "Optimiz: {'Dummy': 0.5050576130946438, 'GaussianNB': 0.8021462975344185, 'kNN': 0.7941897268731637, 'MLPClassifier': 0.9337481005855506, 'SVM_linear': 0.9240521480331263, 'SVM_rbf': 0.9341368770187951, 'SVM_poly': 0.8789454806312769}\n",
            "------------F1 micro------------\n",
            "Default: {'Dummy': 0.5242577842143374, 'GaussianNB': 0.8291093410572049, 'kNN': 0.8291093410572049, 'MLPClassifier': 0.939174511223751, 'SVM_linear': 0.8776249094858798, 'SVM_rbf': 0.7161477190441708, 'SVM_poly': 0.6357711803041275}\n",
            "Optimiz: {'Dummy': 0.5242577842143374, 'GaussianNB': 0.8175235336712527, 'kNN': 0.8175235336712527, 'MLPClassifier': 0.9355539464156408, 'SVM_linear': 0.9261404779145547, 'SVM_rbf': 0.9362780593772628, 'SVM_poly': 0.88}\n"
          ],
          "name": "stdout"
        }
      ]
    },
    {
      "cell_type": "markdown",
      "metadata": {
        "id": "chc6FamBn8k7"
      },
      "source": [
        "Βλέπουμε βελτίωση σε σχέση με πριν. Κρατάμε gamma = 3.0."
      ]
    },
    {
      "cell_type": "code",
      "metadata": {
        "colab": {
          "base_uri": "https://localhost:8080/"
        },
        "id": "jnS2QZgWdhxy",
        "outputId": "ddccae42-5334-470f-d495-fd8d7478fc41"
      },
      "source": [
        "## Parameters to optimize\n",
        "param_grid = {\n",
        "    # 'selector__threshold': [0,0.001, 0.002, 0.003, 0.004],\n",
        "    'poly_svm__degree': [1], # default 1\n",
        "    'poly_svm__gamma': [3.0], # default scale\n",
        "    'poly_svm__tol': [1e-2, 1e-3, 1e-4, 1e-8], # default 1e-4\n",
        "    'poly_svm__C': [0.01, 0.1, 0.2, 0.5] # default 1.0\n",
        "}\n",
        "\n",
        "poly_svm = SVC(kernel='poly')\n",
        "\n",
        "pipe = Pipeline(steps=[('poly_svm', poly_svm)], memory = 'tmp')\n",
        "gridsearch_init_print('SVM_poly', param_grid, pipe, strain, strain_labels, stest, stest_labels)"
      ],
      "execution_count": null,
      "outputs": [
        {
          "output_type": "stream",
          "text": [
            "Fitting 5 folds for each of 16 candidates, totalling 80 fits\n"
          ],
          "name": "stdout"
        },
        {
          "output_type": "stream",
          "text": [
            "[Parallel(n_jobs=-1)]: Using backend LokyBackend with 2 concurrent workers.\n",
            "[Parallel(n_jobs=-1)]: Done   1 tasks      | elapsed:    1.9s\n",
            "[Parallel(n_jobs=-1)]: Done   4 tasks      | elapsed:    2.7s\n",
            "[Parallel(n_jobs=-1)]: Done   9 tasks      | elapsed:    5.2s\n",
            "[Parallel(n_jobs=-1)]: Done  14 tasks      | elapsed:    9.0s\n",
            "[Parallel(n_jobs=-1)]: Done  21 tasks      | elapsed:   24.5s\n",
            "[Parallel(n_jobs=-1)]: Done  28 tasks      | elapsed:   39.1s\n",
            "[Parallel(n_jobs=-1)]: Done  37 tasks      | elapsed:  1.7min\n",
            "[Parallel(n_jobs=-1)]: Done  46 tasks      | elapsed:  2.5min\n",
            "[Parallel(n_jobs=-1)]: Done  57 tasks      | elapsed:  4.0min\n",
            "[Parallel(n_jobs=-1)]: Done  68 tasks      | elapsed:  5.1min\n",
            "[Parallel(n_jobs=-1)]: Done  80 out of  80 | elapsed:  7.9min finished\n"
          ],
          "name": "stderr"
        },
        {
          "output_type": "stream",
          "text": [
            "Fit done in: 7.9811226487159725 minutes\n",
            "              precision    recall  f1-score   support\n",
            "\n",
            "           0       0.86      0.92      0.89        79\n",
            "           1       0.91      0.83      0.87        71\n",
            "\n",
            "    accuracy                           0.88       150\n",
            "   macro avg       0.88      0.88      0.88       150\n",
            "weighted avg       0.88      0.88      0.88       150\n",
            "\n",
            "Pipeline(memory='tmp',\n",
            "         steps=[('poly_svm',\n",
            "                 SVC(C=0.2, degree=1, gamma=3.0, kernel='poly', tol=0.01))])\n",
            "{'poly_svm__C': 0.2, 'poly_svm__degree': 1, 'poly_svm__gamma': 3.0, 'poly_svm__tol': 0.01}\n",
            "Confusion matrix\n",
            "\n",
            "SVM_poly Classifier\n",
            "[[73  6]\n",
            " [12 59]]\n",
            "\n",
            "------------F1 macro------------\n",
            "Default: {'Dummy': 0.5050576130946438, 'GaussianNB': 0.8288378561195209, 'kNN': 0.8288378561195209, 'MLPClassifier': 0.9371644371644371, 'SVM_linear': 0.8750032803812847, 'SVM_rbf': 0.6723320598304255, 'SVM_poly': 0.49127733043322236}\n",
            "Optimiz: {'Dummy': 0.5050576130946438, 'GaussianNB': 0.8021462975344185, 'kNN': 0.7941897268731637, 'MLPClassifier': 0.9337481005855506, 'SVM_linear': 0.9240521480331263, 'SVM_rbf': 0.9341368770187951, 'SVM_poly': 0.8789454806312769}\n",
            "------------F1 micro------------\n",
            "Default: {'Dummy': 0.5242577842143374, 'GaussianNB': 0.8291093410572049, 'kNN': 0.8291093410572049, 'MLPClassifier': 0.939174511223751, 'SVM_linear': 0.8776249094858798, 'SVM_rbf': 0.7161477190441708, 'SVM_poly': 0.6357711803041275}\n",
            "Optimiz: {'Dummy': 0.5242577842143374, 'GaussianNB': 0.8175235336712527, 'kNN': 0.8175235336712527, 'MLPClassifier': 0.9355539464156408, 'SVM_linear': 0.9261404779145547, 'SVM_rbf': 0.9362780593772628, 'SVM_poly': 0.88}\n"
          ],
          "name": "stdout"
        }
      ]
    },
    {
      "cell_type": "markdown",
      "metadata": {
        "id": "XkKHVFq3yXoj"
      },
      "source": [
        "Δεν υπήρξε καμία διαφορά, οπότε κρατάμε μια παράμετρο (tol = 0.01) και δοκιμάζουμε το C ξανά."
      ]
    },
    {
      "cell_type": "code",
      "metadata": {
        "colab": {
          "base_uri": "https://localhost:8080/"
        },
        "id": "ZXmEAJw9dk6b",
        "outputId": "d71f0eb1-efe9-4628-e68c-076975884da7"
      },
      "source": [
        "## Parameters to optimize\n",
        "param_grid = {\n",
        "    # 'selector__threshold': [0,0.001, 0.002, 0.003, 0.004],\n",
        "    'poly_svm__degree': [1], # default 1\n",
        "    'poly_svm__gamma': [2.0], # default scale\n",
        "    'poly_svm__tol': [1e-2], # default 1e-4\n",
        "    'poly_svm__C': [0.001, 0.01, 0.1, 0.2, 0.5] # default 1.0\n",
        "}\n",
        "\n",
        "poly_svm = SVC(kernel='poly')\n",
        "\n",
        "pipe = Pipeline(steps=[('poly_svm', poly_svm)], memory = 'tmp')\n",
        "gridsearch_init_print('SVM_poly', param_grid, pipe, strain, strain_labels, stest, stest_labels)"
      ],
      "execution_count": null,
      "outputs": [
        {
          "output_type": "stream",
          "text": [
            "Fitting 5 folds for each of 5 candidates, totalling 25 fits\n"
          ],
          "name": "stdout"
        },
        {
          "output_type": "stream",
          "text": [
            "[Parallel(n_jobs=-1)]: Using backend LokyBackend with 2 concurrent workers.\n",
            "[Parallel(n_jobs=-1)]: Done   1 tasks      | elapsed:    0.0s\n",
            "[Parallel(n_jobs=-1)]: Batch computation too fast (0.0295s.) Setting batch_size=2.\n",
            "[Parallel(n_jobs=-1)]: Done   4 tasks      | elapsed:    0.1s\n",
            "[Parallel(n_jobs=-1)]: Batch computation too slow (2.3899s.) Setting batch_size=1.\n",
            "[Parallel(n_jobs=-1)]: Done  14 tasks      | elapsed:   10.2s\n",
            "[Parallel(n_jobs=-1)]: Done  22 tasks      | elapsed:   29.0s\n",
            "[Parallel(n_jobs=-1)]: Done  25 out of  25 | elapsed:   33.0s remaining:    0.0s\n",
            "[Parallel(n_jobs=-1)]: Done  25 out of  25 | elapsed:   33.0s finished\n"
          ],
          "name": "stderr"
        },
        {
          "output_type": "stream",
          "text": [
            "Fit done in: 0.5789145151774089 minutes\n",
            "              precision    recall  f1-score   support\n",
            "\n",
            "           0       0.88      0.92      0.90        79\n",
            "           1       0.91      0.86      0.88        71\n",
            "\n",
            "    accuracy                           0.89       150\n",
            "   macro avg       0.89      0.89      0.89       150\n",
            "weighted avg       0.89      0.89      0.89       150\n",
            "\n",
            "Pipeline(memory='tmp',\n",
            "         steps=[('poly_svm',\n",
            "                 SVC(C=0.1, degree=1, gamma=2.0, kernel='poly', tol=0.01))])\n",
            "{'poly_svm__C': 0.1, 'poly_svm__degree': 1, 'poly_svm__gamma': 2.0, 'poly_svm__tol': 0.01}\n",
            "Confusion matrix\n",
            "\n",
            "SVM_poly Classifier\n",
            "[[73  6]\n",
            " [10 61]]\n",
            "\n",
            "------------F1 macro------------\n",
            "Default: {'Dummy': 0.5050576130946438, 'GaussianNB': 0.8288378561195209, 'kNN': 0.8288378561195209, 'MLPClassifier': 0.9371644371644371, 'SVM_linear': 0.8750032803812847, 'SVM_rbf': 0.6723320598304255, 'SVM_poly': 0.49127733043322236}\n",
            "Optimiz: {'Dummy': 0.5050576130946438, 'GaussianNB': 0.8021462975344185, 'kNN': 0.7941897268731637, 'MLPClassifier': 0.9337481005855506, 'SVM_linear': 0.9240521480331263, 'SVM_rbf': 0.9341368770187951, 'SVM_poly': 0.8926462694578636}\n",
            "------------F1 micro------------\n",
            "Default: {'Dummy': 0.5242577842143374, 'GaussianNB': 0.8291093410572049, 'kNN': 0.8291093410572049, 'MLPClassifier': 0.939174511223751, 'SVM_linear': 0.8776249094858798, 'SVM_rbf': 0.7161477190441708, 'SVM_poly': 0.6357711803041275}\n",
            "Optimiz: {'Dummy': 0.5242577842143374, 'GaussianNB': 0.8175235336712527, 'kNN': 0.8175235336712527, 'MLPClassifier': 0.9355539464156408, 'SVM_linear': 0.9261404779145547, 'SVM_rbf': 0.9362780593772628, 'SVM_poly': 0.8933333333333333}\n"
          ],
          "name": "stdout"
        }
      ]
    },
    {
      "cell_type": "markdown",
      "metadata": {
        "id": "WfUc708GzE5R"
      },
      "source": [
        "Δεν υπήρξε μεγάλη διαφορά, οπότε δοκιμάζουμε σε περιοχές πιο κοντά στο \"βελτιστο\" C=0.1"
      ]
    },
    {
      "cell_type": "code",
      "metadata": {
        "colab": {
          "base_uri": "https://localhost:8080/"
        },
        "id": "lOiD8UsvzFRq",
        "outputId": "600e99a8-1dd3-4d9f-ae4e-554be3cb7081"
      },
      "source": [
        "## Parameters to optimize\n",
        "param_grid = {\n",
        "    # 'selector__threshold': [0,0.001, 0.002, 0.003, 0.004],\n",
        "    'poly_svm__degree': [1], # default 1\n",
        "    'poly_svm__gamma': [2.0], # default scale\n",
        "    'poly_svm__tol': [1e-2], # default 1e-4\n",
        "    'poly_svm__C': [0.05, 0.1, 0.15] # default 1.0\n",
        "}\n",
        "\n",
        "poly_svm = SVC(kernel='poly')\n",
        "\n",
        "pipe = Pipeline(steps=[('poly_svm', poly_svm)], memory = 'tmp')\n",
        "gridsearch_init_print('SVM_poly', param_grid, pipe, strain, strain_labels, stest, stest_labels)"
      ],
      "execution_count": null,
      "outputs": [
        {
          "output_type": "stream",
          "text": [
            "Fitting 5 folds for each of 3 candidates, totalling 15 fits\n"
          ],
          "name": "stdout"
        },
        {
          "output_type": "stream",
          "text": [
            "[Parallel(n_jobs=-1)]: Using backend LokyBackend with 2 concurrent workers.\n",
            "[Parallel(n_jobs=-1)]: Done   1 tasks      | elapsed:    1.7s\n",
            "[Parallel(n_jobs=-1)]: Done   4 tasks      | elapsed:    5.0s\n",
            "[Parallel(n_jobs=-1)]: Done   9 tasks      | elapsed:   15.1s\n",
            "[Parallel(n_jobs=-1)]: Done  15 out of  15 | elapsed:   22.9s finished\n"
          ],
          "name": "stderr"
        },
        {
          "output_type": "stream",
          "text": [
            "Fit done in: 0.4100850820541382 minutes\n",
            "              precision    recall  f1-score   support\n",
            "\n",
            "           0       0.88      0.92      0.90        79\n",
            "           1       0.91      0.86      0.88        71\n",
            "\n",
            "    accuracy                           0.89       150\n",
            "   macro avg       0.89      0.89      0.89       150\n",
            "weighted avg       0.89      0.89      0.89       150\n",
            "\n",
            "Pipeline(memory='tmp',\n",
            "         steps=[('poly_svm',\n",
            "                 SVC(C=0.1, degree=1, gamma=2.0, kernel='poly', tol=0.01))])\n",
            "{'poly_svm__C': 0.1, 'poly_svm__degree': 1, 'poly_svm__gamma': 2.0, 'poly_svm__tol': 0.01}\n",
            "Confusion matrix\n",
            "\n",
            "SVM_poly Classifier\n",
            "[[73  6]\n",
            " [10 61]]\n",
            "\n",
            "------------F1 macro------------\n",
            "Default: {'Dummy': 0.5050576130946438, 'GaussianNB': 0.8288378561195209, 'kNN': 0.8288378561195209, 'MLPClassifier': 0.9371644371644371, 'SVM_linear': 0.8750032803812847, 'SVM_rbf': 0.6723320598304255, 'SVM_poly': 0.49127733043322236}\n",
            "Optimiz: {'Dummy': 0.5050576130946438, 'GaussianNB': 0.8021462975344185, 'kNN': 0.7941897268731637, 'MLPClassifier': 0.9337481005855506, 'SVM_linear': 0.9240521480331263, 'SVM_rbf': 0.9341368770187951, 'SVM_poly': 0.8926462694578636}\n",
            "------------F1 micro------------\n",
            "Default: {'Dummy': 0.5242577842143374, 'GaussianNB': 0.8291093410572049, 'kNN': 0.8291093410572049, 'MLPClassifier': 0.939174511223751, 'SVM_linear': 0.8776249094858798, 'SVM_rbf': 0.7161477190441708, 'SVM_poly': 0.6357711803041275}\n",
            "Optimiz: {'Dummy': 0.5242577842143374, 'GaussianNB': 0.8175235336712527, 'kNN': 0.8175235336712527, 'MLPClassifier': 0.9355539464156408, 'SVM_linear': 0.9261404779145547, 'SVM_rbf': 0.9362780593772628, 'SVM_poly': 0.8933333333333333}\n"
          ],
          "name": "stdout"
        }
      ]
    },
    {
      "cell_type": "markdown",
      "metadata": {
        "id": "0Jp0C9RTzYgS"
      },
      "source": [
        "Ούτε τώρα υπήρξε καμία διαφορά. Θα προσθέσουμε scaler, sampler και pca με τη σειρά, για να δουμε αν θα υπάρξει κάποια διαφορά."
      ]
    },
    {
      "cell_type": "code",
      "metadata": {
        "colab": {
          "base_uri": "https://localhost:8080/"
        },
        "id": "ca-h-qbhdmEC",
        "outputId": "a1bb11f8-cd36-4886-fc19-9eb898977325"
      },
      "source": [
        "param_grid = {\n",
        "    'poly_svm__degree': [1], # default 1\n",
        "    'poly_svm__gamma': [2.0], # default scale\n",
        "    'poly_svm__tol': [1e-2], # default 1e-4\n",
        "    'poly_svm__C': [0.1] # default 1.0\n",
        "}\n",
        "\n",
        "poly_svm = SVC(kernel='poly')\n",
        "\n",
        "pipe = Pipeline(steps=[('scaler', scaler), ('poly_svm', poly_svm)], memory = 'tmp')\n",
        "gridsearch_init_print('SVM_poly', param_grid, pipe, strain, strain_labels, stest, stest_labels)"
      ],
      "execution_count": null,
      "outputs": [
        {
          "output_type": "stream",
          "text": [
            "Fitting 5 folds for each of 1 candidates, totalling 5 fits\n",
            "Fit done in: 0.0014177322387695312 minutes\n",
            "              precision    recall  f1-score   support\n",
            "\n",
            "           0       0.88      0.94      0.91        79\n",
            "           1       0.92      0.86      0.89        71\n",
            "\n",
            "    accuracy                           0.90       150\n",
            "   macro avg       0.90      0.90      0.90       150\n",
            "weighted avg       0.90      0.90      0.90       150\n",
            "\n",
            "Pipeline(memory='tmp',\n",
            "         steps=[('scaler', StandardScaler()),\n",
            "                ('poly_svm',\n",
            "                 SVC(C=0.1, degree=1, gamma=2.0, kernel='poly', tol=0.01))])\n",
            "{'poly_svm__C': 0.1, 'poly_svm__degree': 1, 'poly_svm__gamma': 2.0, 'poly_svm__tol': 0.01}\n",
            "Confusion matrix\n",
            "\n",
            "SVM_poly Classifier\n",
            "[[74  5]\n",
            " [10 61]]\n",
            "\n",
            "------------F1 macro------------\n",
            "Default: {'Dummy': 0.5050576130946438, 'GaussianNB': 0.8288378561195209, 'kNN': 0.8288378561195209, 'MLPClassifier': 0.9371644371644371, 'SVM_linear': 0.8750032803812847, 'SVM_rbf': 0.6723320598304255, 'SVM_poly': 0.49127733043322236}\n",
            "Optimiz: {'Dummy': 0.5050576130946438, 'GaussianNB': 0.8021462975344185, 'kNN': 0.7941897268731637, 'MLPClassifier': 0.9337481005855506, 'SVM_linear': 0.9240521480331263, 'SVM_rbf': 0.9341368770187951, 'SVM_poly': 0.8992432045139044}\n",
            "------------F1 micro------------\n",
            "Default: {'Dummy': 0.5242577842143374, 'GaussianNB': 0.8291093410572049, 'kNN': 0.8291093410572049, 'MLPClassifier': 0.939174511223751, 'SVM_linear': 0.8776249094858798, 'SVM_rbf': 0.7161477190441708, 'SVM_poly': 0.6357711803041275}\n",
            "Optimiz: {'Dummy': 0.5242577842143374, 'GaussianNB': 0.8175235336712527, 'kNN': 0.8175235336712527, 'MLPClassifier': 0.9355539464156408, 'SVM_linear': 0.9261404779145547, 'SVM_rbf': 0.9362780593772628, 'SVM_poly': 0.9}\n"
          ],
          "name": "stdout"
        },
        {
          "output_type": "stream",
          "text": [
            "[Parallel(n_jobs=-1)]: Using backend LokyBackend with 2 concurrent workers.\n",
            "[Parallel(n_jobs=-1)]: Done   1 tasks      | elapsed:    0.0s\n",
            "[Parallel(n_jobs=-1)]: Batch computation too fast (0.0313s.) Setting batch_size=2.\n",
            "[Parallel(n_jobs=-1)]: Done   3 out of   5 | elapsed:    0.1s remaining:    0.0s\n",
            "[Parallel(n_jobs=-1)]: Done   5 out of   5 | elapsed:    0.1s remaining:    0.0s\n",
            "[Parallel(n_jobs=-1)]: Done   5 out of   5 | elapsed:    0.1s finished\n"
          ],
          "name": "stderr"
        }
      ]
    },
    {
      "cell_type": "markdown",
      "metadata": {
        "id": "mzjwS3Dl3mjl"
      },
      "source": [
        "Βλέπουμε πως ο scaler είχε απόδοση πάνω στο sampled dataset. Τον κρατάμε και δοκιμάζουμε με sampler."
      ]
    },
    {
      "cell_type": "code",
      "metadata": {
        "colab": {
          "base_uri": "https://localhost:8080/"
        },
        "id": "W3VNVsGb39Yn",
        "outputId": "a0e31767-b136-4555-c507-04bfcfac44fd"
      },
      "source": [
        "param_grid = {\n",
        "    'poly_svm__degree': [1], # default 1\n",
        "    'poly_svm__gamma': [2.0], # default scale\n",
        "    'poly_svm__tol': [1e-2], # default 1e-4\n",
        "    'poly_svm__C': [0.1] # default 1.0\n",
        "}\n",
        "\n",
        "poly_svm = SVC(kernel='poly')\n",
        "\n",
        "pipe = Pipeline(steps=[('scaler', scaler), ('samlper', sampler), ('poly_svm', poly_svm)], memory = 'tmp')\n",
        "gridsearch_init_print('SVM_poly', param_grid, pipe, strain, strain_labels, stest, stest_labels)"
      ],
      "execution_count": null,
      "outputs": [
        {
          "output_type": "stream",
          "text": [
            "Fitting 5 folds for each of 1 candidates, totalling 5 fits\n",
            "Fit done in: 0.0023743470509847006 minutes\n",
            "              precision    recall  f1-score   support\n",
            "\n",
            "           0       0.88      0.92      0.90        79\n",
            "           1       0.91      0.86      0.88        71\n",
            "\n",
            "    accuracy                           0.89       150\n",
            "   macro avg       0.89      0.89      0.89       150\n",
            "weighted avg       0.89      0.89      0.89       150\n",
            "\n",
            "Pipeline(memory='tmp',\n",
            "         steps=[('scaler', StandardScaler()), ('samlper', SMOTE()),\n",
            "                ('poly_svm',\n",
            "                 SVC(C=0.1, degree=1, gamma=2.0, kernel='poly', tol=0.01))])\n",
            "{'poly_svm__C': 0.1, 'poly_svm__degree': 1, 'poly_svm__gamma': 2.0, 'poly_svm__tol': 0.01}\n",
            "Confusion matrix\n",
            "\n",
            "SVM_poly Classifier\n",
            "[[73  6]\n",
            " [10 61]]\n",
            "\n",
            "------------F1 macro------------\n",
            "Default: {'Dummy': 0.5050576130946438, 'GaussianNB': 0.8288378561195209, 'kNN': 0.8288378561195209, 'MLPClassifier': 0.9371644371644371, 'SVM_linear': 0.8750032803812847, 'SVM_rbf': 0.6723320598304255, 'SVM_poly': 0.49127733043322236}\n",
            "Optimiz: {'Dummy': 0.5050576130946438, 'GaussianNB': 0.8021462975344185, 'kNN': 0.7941897268731637, 'MLPClassifier': 0.9337481005855506, 'SVM_linear': 0.9240521480331263, 'SVM_rbf': 0.9341368770187951, 'SVM_poly': 0.8926462694578636}\n",
            "------------F1 micro------------\n",
            "Default: {'Dummy': 0.5242577842143374, 'GaussianNB': 0.8291093410572049, 'kNN': 0.8291093410572049, 'MLPClassifier': 0.939174511223751, 'SVM_linear': 0.8776249094858798, 'SVM_rbf': 0.7161477190441708, 'SVM_poly': 0.6357711803041275}\n",
            "Optimiz: {'Dummy': 0.5242577842143374, 'GaussianNB': 0.8175235336712527, 'kNN': 0.8175235336712527, 'MLPClassifier': 0.9355539464156408, 'SVM_linear': 0.9261404779145547, 'SVM_rbf': 0.9362780593772628, 'SVM_poly': 0.8933333333333333}\n"
          ],
          "name": "stdout"
        },
        {
          "output_type": "stream",
          "text": [
            "[Parallel(n_jobs=-1)]: Using backend LokyBackend with 2 concurrent workers.\n",
            "[Parallel(n_jobs=-1)]: Done   1 tasks      | elapsed:    0.0s\n",
            "[Parallel(n_jobs=-1)]: Batch computation too fast (0.0474s.) Setting batch_size=2.\n",
            "[Parallel(n_jobs=-1)]: Done   3 out of   5 | elapsed:    0.1s remaining:    0.1s\n",
            "[Parallel(n_jobs=-1)]: Done   5 out of   5 | elapsed:    0.1s remaining:    0.0s\n",
            "[Parallel(n_jobs=-1)]: Done   5 out of   5 | elapsed:    0.1s finished\n"
          ],
          "name": "stderr"
        }
      ]
    },
    {
      "cell_type": "markdown",
      "metadata": {
        "id": "ZCelyCF74DHm"
      },
      "source": [
        "Δεν υπήρχε μεγάλη διαφορά σε σχέση με μόνο τον scaler. "
      ]
    },
    {
      "cell_type": "markdown",
      "metadata": {
        "id": "FmO3Y9Tj5Bxy"
      },
      "source": [
        "Τώρα θα εκπαιδεύσουμε το πλήρες dataset."
      ]
    },
    {
      "cell_type": "code",
      "metadata": {
        "colab": {
          "base_uri": "https://localhost:8080/"
        },
        "id": "co1l84Up4MNh",
        "outputId": "4bf392bb-3a1c-4eb5-8945-9a764252a893"
      },
      "source": [
        "param_grid = {\n",
        "    'poly_svm__degree': [1], # default 1\n",
        "    'poly_svm__gamma': [2.0], # default scale\n",
        "    'poly_svm__tol': [1e-2], # default 1e-4\n",
        "    'poly_svm__C': [0.1] # default 1.0\n",
        "}\n",
        "\n",
        "poly_svm = SVC(kernel='poly')\n",
        "\n",
        "pipe = Pipeline(steps=[('scaler', scaler), ('sampler', ros), ('poly_svm', poly_svm)], memory = 'tmp')\n",
        "gridsearch_init_print('SVM_poly', param_grid, pipe)"
      ],
      "execution_count": null,
      "outputs": [
        {
          "output_type": "stream",
          "text": [
            "Fitting 5 folds for each of 1 candidates, totalling 5 fits\n"
          ],
          "name": "stdout"
        },
        {
          "output_type": "stream",
          "text": [
            "[Parallel(n_jobs=-1)]: Using backend LokyBackend with 2 concurrent workers.\n",
            "[Parallel(n_jobs=-1)]: Done   1 tasks      | elapsed:    0.6s\n",
            "[Parallel(n_jobs=-1)]: Done   3 out of   5 | elapsed:    1.1s remaining:    0.8s\n",
            "[Parallel(n_jobs=-1)]: Done   5 out of   5 | elapsed:    1.5s remaining:    0.0s\n",
            "[Parallel(n_jobs=-1)]: Done   5 out of   5 | elapsed:    1.5s finished\n"
          ],
          "name": "stderr"
        },
        {
          "output_type": "stream",
          "text": [
            "Fit done in: 0.03585435549418132 minutes\n",
            "              precision    recall  f1-score   support\n",
            "\n",
            "           0       0.95      0.93      0.94       814\n",
            "           1       0.90      0.93      0.91       567\n",
            "\n",
            "    accuracy                           0.93      1381\n",
            "   macro avg       0.92      0.93      0.92      1381\n",
            "weighted avg       0.93      0.93      0.93      1381\n",
            "\n",
            "Pipeline(memory='tmp',\n",
            "         steps=[('scaler', StandardScaler()), ('sampler', RandomOverSampler()),\n",
            "                ('poly_svm',\n",
            "                 SVC(C=0.1, degree=1, gamma=2.0, kernel='poly', tol=0.01))])\n",
            "{'poly_svm__C': 0.1, 'poly_svm__degree': 1, 'poly_svm__gamma': 2.0, 'poly_svm__tol': 0.01}\n",
            "Confusion matrix\n",
            "\n",
            "SVM_poly Classifier\n",
            "[[753  61]\n",
            " [ 40 527]]\n",
            "\n",
            "------------F1 macro------------\n",
            "Default: {'Dummy': 0.5050576130946438, 'GaussianNB': 0.8288378561195209, 'kNN': 0.8288378561195209, 'MLPClassifier': 0.9371644371644371, 'SVM_linear': 0.8750032803812847, 'SVM_rbf': 0.6723320598304255, 'SVM_poly': 0.49127733043322236}\n",
            "Optimiz: {'Dummy': 0.5050576130946438, 'GaussianNB': 0.8021462975344185, 'kNN': 0.7941897268731637, 'MLPClassifier': 0.9337481005855506, 'SVM_linear': 0.9240521480331263, 'SVM_rbf': 0.9341368770187951, 'SVM_poly': 0.924852040720118}\n",
            "------------F1 micro------------\n",
            "Default: {'Dummy': 0.5242577842143374, 'GaussianNB': 0.8291093410572049, 'kNN': 0.8291093410572049, 'MLPClassifier': 0.939174511223751, 'SVM_linear': 0.8776249094858798, 'SVM_rbf': 0.7161477190441708, 'SVM_poly': 0.6357711803041275}\n",
            "Optimiz: {'Dummy': 0.5242577842143374, 'GaussianNB': 0.8175235336712527, 'kNN': 0.8175235336712527, 'MLPClassifier': 0.9355539464156408, 'SVM_linear': 0.9261404779145547, 'SVM_rbf': 0.9362780593772628, 'SVM_poly': 0.9268645908761767}\n"
          ],
          "name": "stdout"
        }
      ]
    },
    {
      "cell_type": "markdown",
      "metadata": {
        "id": "SIwG7QdP5N0a"
      },
      "source": [
        "Βλέπουμε παρόμοια συμπεριφορά στην απόδοση σε σχέση με το sampled dataset. Ίσως ελάχιστα πεσμένη. Το ποσοστό απόδησης μας δείχνει ότι έχουμε διαλέξει αρκετά βέλτιστες παραμέτρους.\n",
        "\n",
        "Οι καλύτερες παράμετροι που επιλέχθηκαν, παρουσιάζονται παρακάτω.\n",
        "\n",
        "|  Parameter          | Value    |\n",
        "|---------------------|----------|\n",
        "| degree              | 1        |\n",
        "| gamma               | 2.0      |\n",
        "| tol                 | 0.01     |\n",
        "| C                   | 0.1      |"
      ]
    },
    {
      "cell_type": "markdown",
      "metadata": {
        "id": "PaVFcBfO-Whu"
      },
      "source": [
        "### Final Results & Comparisons"
      ]
    },
    {
      "cell_type": "code",
      "metadata": {
        "colab": {
          "base_uri": "https://localhost:8080/",
          "height": 128
        },
        "id": "4qLygGe36LX4",
        "outputId": "87ab6410-04b3-48db-9680-d57bf19bc19b"
      },
      "source": [
        "import matplotlib.pyplot as plt\n",
        "\n",
        "f1_scores = [f1_micro_default, f1_micro_optimized]\n",
        "print(\"F1 micro scores:\")\n",
        "pd.DataFrame(f1_scores, index=['default', 'optimized'])"
      ],
      "execution_count": null,
      "outputs": [
        {
          "output_type": "stream",
          "text": [
            "F1 micro scores:\n"
          ],
          "name": "stdout"
        },
        {
          "output_type": "execute_result",
          "data": {
            "text/html": [
              "<div>\n",
              "<style scoped>\n",
              "    .dataframe tbody tr th:only-of-type {\n",
              "        vertical-align: middle;\n",
              "    }\n",
              "\n",
              "    .dataframe tbody tr th {\n",
              "        vertical-align: top;\n",
              "    }\n",
              "\n",
              "    .dataframe thead th {\n",
              "        text-align: right;\n",
              "    }\n",
              "</style>\n",
              "<table border=\"1\" class=\"dataframe\">\n",
              "  <thead>\n",
              "    <tr style=\"text-align: right;\">\n",
              "      <th></th>\n",
              "      <th>Dummy</th>\n",
              "      <th>GaussianNB</th>\n",
              "      <th>kNN</th>\n",
              "      <th>MLPClassifier</th>\n",
              "      <th>SVM_linear</th>\n",
              "      <th>SVM_rbf</th>\n",
              "      <th>SVM_poly</th>\n",
              "    </tr>\n",
              "  </thead>\n",
              "  <tbody>\n",
              "    <tr>\n",
              "      <th>default</th>\n",
              "      <td>0.524258</td>\n",
              "      <td>0.829109</td>\n",
              "      <td>0.829109</td>\n",
              "      <td>0.939175</td>\n",
              "      <td>0.877625</td>\n",
              "      <td>0.716148</td>\n",
              "      <td>0.635771</td>\n",
              "    </tr>\n",
              "    <tr>\n",
              "      <th>optimized</th>\n",
              "      <td>0.524258</td>\n",
              "      <td>0.874004</td>\n",
              "      <td>0.841419</td>\n",
              "      <td>0.937726</td>\n",
              "      <td>0.926140</td>\n",
              "      <td>0.936278</td>\n",
              "      <td>0.926865</td>\n",
              "    </tr>\n",
              "  </tbody>\n",
              "</table>\n",
              "</div>"
            ],
            "text/plain": [
              "              Dummy  GaussianNB       kNN  ...  SVM_linear   SVM_rbf  SVM_poly\n",
              "default    0.524258    0.829109  0.829109  ...    0.877625  0.716148  0.635771\n",
              "optimized  0.524258    0.874004  0.841419  ...    0.926140  0.936278  0.926865\n",
              "\n",
              "[2 rows x 7 columns]"
            ]
          },
          "metadata": {
            "tags": []
          },
          "execution_count": 339
        }
      ]
    },
    {
      "cell_type": "code",
      "metadata": {
        "colab": {
          "base_uri": "https://localhost:8080/",
          "height": 282
        },
        "id": "pnRuqLLW_Xbo",
        "outputId": "bebd9ca8-5bc5-4d28-8772-295bf48e52f1"
      },
      "source": [
        "N = 7\n",
        "f1_default = list(f1_micro_default.values())\n",
        "\n",
        "ind = np.arange(N)  # the x locations for the groups\n",
        "width = 0.35       # the width of the bars\n",
        "\n",
        "fig, ax = plt.subplots()\n",
        "rects1 = ax.bar(ind, f1_default, width, color='g')\n",
        "\n",
        "f1_optimized = list(f1_micro_optimized.values())\n",
        "\n",
        "rects2 = ax.bar(ind + width, f1_optimized, width, color='b')\n",
        "\n",
        "# add some text for labels, title and axes ticks\n",
        "ax.set_ylabel('f1_micro score')\n",
        "ax.set_title('F1 micro score default vs optimized')\n",
        "ax.set_xticks(ind + width / 2)\n",
        "ax.set_xticklabels(list(f1_micro_default.keys()))\n",
        "\n",
        "ax.legend((rects1[0], rects2[0]), ('default', 'optimized'))\n",
        "\n",
        "# Turn on the grid\n",
        "#ax.minorticks_on()\n",
        "#ax.grid(which='major', linestyle='-', linewidth='0.5', color='red')\n",
        "# Customize the minor grid\n",
        "#ax.grid(which='minor', linestyle=':', linewidth='0.5', color='black')\n",
        "\n",
        "def autolabel(rects):\n",
        "    \"\"\"\n",
        "    Attach a text label above each bar displaying its height\n",
        "    \"\"\"\n",
        "    for rect in rects:\n",
        "        height = rect.get_height()\n",
        "        ax.text(rect.get_x() + rect.get_width()/2., 1.01*height,\n",
        "                \"{:.2f}\".format(height),\n",
        "                ha='center', va='bottom')\n",
        "\n",
        "autolabel(rects1)\n",
        "autolabel(rects2)\n",
        "\n",
        "plt.show()"
      ],
      "execution_count": null,
      "outputs": [
        {
          "output_type": "display_data",
          "data": {
            "image/png": "[encoded data removed]",
            "text/plain": [
              "<Figure size 432x288 with 1 Axes>"
            ]
          },
          "metadata": {
            "tags": [],
            "needs_background": "light"
          }
        }
      ]
    },
    {
      "cell_type": "markdown",
      "metadata": {
        "id": "MwmwpDw6-zJI"
      },
      "source": [
        "##### Comments"
      ]
    },
    {
      "cell_type": "markdown",
      "metadata": {
        "id": "uucDq-CO-2AI"
      },
      "source": [
        "Σε κάθε ταξινομητή βλέπουμε μια καλού επιπέδου βελτίωση σε σχέση με το baseline classification. Φυσικά, οι ταξινομητές που είχαν ήδη ένα καλό επίπεδο ακρίβειας, βελτιώνονται λιγότερα, όπως είναι λογικό.\n",
        "\n",
        "- ο GaussianNB βελτιώθηκε ελάχιστα σε σχέση με πριν.\n",
        "- ο MLP παρέμεινε σταθερός\n",
        "- ο kNN βελτιώθηκε κατά λίγο\n",
        "- ο SVM με linear kernel είχε καλή επίδοση πριν, και βελτιώθηκε λίγο\n",
        "- ο SVM με rbf kernel είχε μέτρια επίδοση και βελτιώθκε πολύ\n",
        "- ο SVM με polynomial kernel είχε μέτρια προς κακή επίδοση και είχε την μεγαλύτερη βελτίωση από όλους.\n",
        "\n",
        "Καλύτερη απόδοση από όλους είχε ο MLP και ο SVM με RBF kernel.\n",
        "\n",
        "Στους πιο πολλούς ταξινομητές ο scaler φαίνεται να είχε σημαντική συνεισφορά στην βελτίωση της ακρίβειας. Αυτό πιθανότατα συμβαίνει γιατί τα δεδομένα μας είναι πολύ συμπυκνωμένα σε μια περιοχή και κάνοντας τους κανονικοποίηση, βοηθάει την εκπαίδευση του classifier.\n",
        "\n",
        "Εν αντιθέση, ο random oversampler στους πιο πολλούς δεν είχε καθόλου καλό αποτέλεσμα. Μάλιστα, σε κάποιους η απόδοση έπεσε. Πιθανόν γιατί γίνεται overfitting κάνοντας oversampling.\n",
        "\n",
        "Η μέθοδος pca βελτίωσε την απόδοση κατά περιπτώσεις.. Σχεδόν οι μισοί ταξινομητές επωφελήθηκαν από τη χρηση της.\n",
        "\n",
        "Όσον αφορά τον selector (VarianceThreshold) παρόλο που βάλαμε χαμηλές τιμες ως όριο, δεν είχε την απαραίτητη απόδοση. Περιμέναμε δηλαδή οι τιμές που έχουν μικρή διασπορά να μπερδεύουν τον classifier. Πιθανότατα αυτός ήταν ο λόγος που είχε τόσο μεγάλη επίδραση ο scaler. Επειδή είχαμε λίγα features και ήταν όλα κρίσιμη πληροφορία, μόλις τα ξεχωρίζαμε με κανονικοποίηση, είχε μεγάλη διαφορά.\n",
        "\n"
      ]
    },
    {
      "cell_type": "markdown",
      "metadata": {
        "id": "PUWAkJJRTSkv"
      },
      "source": [
        "Κοιτώντας έρευνες πάνω στο ίδιο dataset:\n",
        "\n",
        "- [Adaptive Approach for Spam Detection ](http://citeseerx.ist.psu.edu/viewdoc/download?doi=10.1.1.412.2911&rep=rep1&type=pdf)\n",
        "- [Spam Detection Using Feature Selection and Parameters Optimization](https://sci-hub.se/https://ieeexplore.ieee.org/abstract/document/5447486)\n",
        "\n",
        "μπορούμε να πούμε πως πετυχαίνουμε παρόμοια ποσοστά."
      ]
    }
  ]
}