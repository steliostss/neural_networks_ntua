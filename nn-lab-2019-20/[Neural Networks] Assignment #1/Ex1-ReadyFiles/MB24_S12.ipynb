{
  "nbformat": 4,
  "nbformat_minor": 0,
  "metadata": {
    "colab": {
      "name": "ΜΒ24-S12.ipynb",
      "provenance": [],
      "collapsed_sections": [
        "oqcJEQwRnDdO",
        "cMIDOr19nKo6",
        "Sl0vfsrYc-4m",
        "45120CfmgzJb",
        "oQaikIfGcvw1",
        "cr8f1_Axc4fI",
        "xebU-h0ldN58",
        "X_sKL3VPdjK2",
        "YRdxqG4kd3DC",
        "-Ym4ULdPd6o-",
        "PhcQ_caxeGDx",
        "uFh5NnUGQ9SO",
        "WbTMUToWm1d3",
        "2UHYkaYtMuDC",
        "dMrUL--3G_F0",
        "GFDUwXAoOmpD",
        "kyJbkdYzeImt",
        "KW93Qn_MdKfa",
        "PYNgFvG6cxCJ",
        "kYuRVpvYWjHB",
        "TnH4aeVDWqj4",
        "d1GK08jOdZH_",
        "dm_DxswmdfZc",
        "dHITnSyXS2Yo"
      ]
    },
    "kernelspec": {
      "name": "python3",
      "display_name": "Python 3"
    },
    "accelerator": "GPU"
  },
  "cells": [
    {
      "cell_type": "markdown",
      "metadata": {
        "id": "mEMtmB2UOx3_",
        "colab_type": "text"
      },
      "source": [
        "# Neural Networks & Intelligent Computer Systems | 1st Assignment\n",
        "Team ΜΒ-24 | Small Dataset S12"
      ]
    },
    {
      "cell_type": "markdown",
      "metadata": {
        "id": "oqcJEQwRnDdO",
        "colab_type": "text"
      },
      "source": [
        "## Section A: Our Team"
      ]
    },
    {
      "cell_type": "markdown",
      "metadata": {
        "id": "qwUJsjVJPqLp",
        "colab_type": "text"
      },
      "source": [
        "<table align=\"left\">\n",
        "    <tr align=\"left\"><th>Surname</th><th>Name</th><th>Student ID</th></tr>\n",
        "    <tr><td>Korkovili</td><td>Ioanna</td><td>03115078</td></tr>\n",
        "    <tr><td>Xanthi</td><td>Eleni</td><td>03115054</td></tr>\n",
        "    <tr><td>Tsagkarakis</td><td>Stylianos</td><td>03115180</td></tr>\n",
        "</table>"
      ]
    },
    {
      "cell_type": "markdown",
      "metadata": {
        "id": "cMIDOr19nKo6",
        "colab_type": "text"
      },
      "source": [
        "## Section B: Introduction to the dataset\n",
        "\n"
      ]
    },
    {
      "cell_type": "markdown",
      "metadata": {
        "colab_type": "text",
        "id": "oxX8zE04NHEV"
      },
      "source": [
        "**LSVT Voice Rehabilitation Data Set**\n",
        "\n",
        "This dataset is composed of a range of biomedical speech signal processing algorithms from 14 people who have been diagnosed with Parkinson's disease undergoing LSVT (a program assisting voice rehabilitation). \n",
        "\n",
        "The original study used 309 algorithms to characterize 126 speech signals from 14 people, a robust feature selection mechanism to determine the most parsimonious feature subset, and Support Vector Machines (SVM) and Random Forests (RF) to predict the binary response (acceptable vs unacceptable phonation during rehabilitation). Both cross-validation (10-fold cross validation with 100 repetitions for statistical confidence) and leave one subject out methods were used for the validation of the findings. In both cases we denostrated a near 90% accurate replication of the clinicians' assessment.\n",
        "\n",
        "\n",
        "\n",
        "\n"
      ]
    },
    {
      "cell_type": "markdown",
      "metadata": {
        "id": "Sl0vfsrYc-4m",
        "colab_type": "text"
      },
      "source": [
        "### Upgrade hosted runtime"
      ]
    },
    {
      "cell_type": "code",
      "metadata": {
        "id": "T1rh_BRrITBs",
        "colab_type": "code",
        "outputId": "a6d26490-5f2f-4dab-e7a6-b28ee9d5a46c",
        "colab": {
          "base_uri": "https://localhost:8080/",
          "height": 0
        }
      },
      "source": [
        "!pip install --upgrade pip           #upgrade pip package installer\n",
        "!pip install --upgrade scikit-learn  #upgrade scikit-learn package\n",
        "!pip install --upgrade numpy         #upgrade numpy package\n",
        "!pip install --upgrade pandas        #upgrade #upgrade pandas package\n",
        "!pip install --upgrade joblib\n",
        "!pip install --upgrade imbalanced-learn"
      ],
      "execution_count": 35,
      "outputs": [
        {
          "output_type": "stream",
          "text": [
            "Requirement already up-to-date: pip in /usr/local/lib/python3.6/dist-packages (19.3.1)\n",
            "Requirement already up-to-date: scikit-learn in /usr/local/lib/python3.6/dist-packages (0.22)\n",
            "Requirement already satisfied, skipping upgrade: numpy>=1.11.0 in /usr/local/lib/python3.6/dist-packages (from scikit-learn) (1.17.4)\n",
            "Requirement already satisfied, skipping upgrade: scipy>=0.17.0 in /usr/local/lib/python3.6/dist-packages (from scikit-learn) (1.3.3)\n",
            "Requirement already satisfied, skipping upgrade: joblib>=0.11 in /usr/local/lib/python3.6/dist-packages (from scikit-learn) (0.14.1)\n",
            "Requirement already up-to-date: numpy in /usr/local/lib/python3.6/dist-packages (1.17.4)\n",
            "Requirement already up-to-date: pandas in /usr/local/lib/python3.6/dist-packages (0.25.3)\n",
            "Requirement already satisfied, skipping upgrade: numpy>=1.13.3 in /usr/local/lib/python3.6/dist-packages (from pandas) (1.17.4)\n",
            "Requirement already satisfied, skipping upgrade: python-dateutil>=2.6.1 in /usr/local/lib/python3.6/dist-packages (from pandas) (2.6.1)\n",
            "Requirement already satisfied, skipping upgrade: pytz>=2017.2 in /usr/local/lib/python3.6/dist-packages (from pandas) (2018.9)\n",
            "Requirement already satisfied, skipping upgrade: six>=1.5 in /usr/local/lib/python3.6/dist-packages (from python-dateutil>=2.6.1->pandas) (1.12.0)\n",
            "Requirement already up-to-date: joblib in /usr/local/lib/python3.6/dist-packages (0.14.1)\n",
            "Requirement already up-to-date: imbalanced-learn in /usr/local/lib/python3.6/dist-packages (0.6.1)\n",
            "Requirement already satisfied, skipping upgrade: numpy>=1.11 in /usr/local/lib/python3.6/dist-packages (from imbalanced-learn) (1.17.4)\n",
            "Requirement already satisfied, skipping upgrade: scikit-learn>=0.22 in /usr/local/lib/python3.6/dist-packages (from imbalanced-learn) (0.22)\n",
            "Requirement already satisfied, skipping upgrade: scipy>=0.17 in /usr/local/lib/python3.6/dist-packages (from imbalanced-learn) (1.3.3)\n",
            "Requirement already satisfied, skipping upgrade: joblib>=0.11 in /usr/local/lib/python3.6/dist-packages (from imbalanced-learn) (0.14.1)\n"
          ],
          "name": "stdout"
        }
      ]
    },
    {
      "cell_type": "markdown",
      "metadata": {
        "id": "45120CfmgzJb",
        "colab_type": "text"
      },
      "source": [
        "### Retrieve dataset"
      ]
    },
    {
      "cell_type": "code",
      "metadata": {
        "id": "EFxCg9zSR5v0",
        "colab_type": "code",
        "outputId": "e78535a0-3bf0-45d5-aeca-8cb7e033d1d0",
        "colab": {
          "base_uri": "https://localhost:8080/",
          "height": 0
        }
      },
      "source": [
        "import pandas as pd\n",
        "import numpy as np\n",
        "import ast\n",
        "import io\n",
        "import requests\n",
        "import matplotlib.pyplot as plt\n",
        "from urllib.error import HTTPError\n",
        "\n",
        "# responsefile = \"lsvt_binary_response.csv\"\n",
        "# datafile = \"lsvt_data.csv\"\n",
        "# demographicsfile = \"lsvt_demographics.csv\"\n",
        "\n",
        "try:\n",
        "    #data without headers for better manipulation\n",
        "    binary_csv_url = \"https://raw.githubusercontent.com/steliostss/neural_networks_ntua/master/ex1/lsvt_binary_response.csv?token=AH57CIKFAWBUCP4KSDDKT4C576IO6\"\n",
        "    binary_response = pd.read_csv(binary_csv_url, header=None)\n",
        "\n",
        "    # data_csv_url = \"https://raw.githubusercontent.com/steliostss/neural_networks_ntua/master/ex1/lsvt_data_2.csv?token=AH57CINQWC5N4TIH7QQGZXC5753RE\"\n",
        "    data_csv_url = \"https://raw.githubusercontent.com/steliostss/neural_networks_ntua/master/ex1/lsvt_data.csv?token=AH57CIN4KNS65U7AGYDJX5K576HEE\"\n",
        "    data = pd.read_csv(data_csv_url, header=None)\n",
        "\n",
        "    demographics_csv_url = \"https://raw.githubusercontent.com/steliostss/neural_networks_ntua/master/ex1/lsvt_demographics.csv?token=AH57CIJAK62CQJZTPBS22JK57475Q\"\n",
        "    demographics = pd.read_csv(demographics_csv_url, header=None)\n",
        "\n",
        "    #data with headers for better visualizing\n",
        "    demographics_headers = pd.read_csv(demographics_csv_url)\n",
        "    data_headers = pd.read_csv(data_csv_url)\n",
        "    binary_response_headers = pd.read_csv(binary_csv_url)\n",
        "\n",
        "    print(\"Succesful file processing!\")\n",
        "\n",
        "except HTTPError:\n",
        "    print(\"URL not working.\")\n"
      ],
      "execution_count": 36,
      "outputs": [
        {
          "output_type": "stream",
          "text": [
            "Succesful file processing!\n"
          ],
          "name": "stdout"
        }
      ]
    },
    {
      "cell_type": "markdown",
      "metadata": {
        "id": "oQaikIfGcvw1",
        "colab_type": "text"
      },
      "source": [
        "### Printing for validation / visualization"
      ]
    },
    {
      "cell_type": "code",
      "metadata": {
        "id": "E9P8e258R-DQ",
        "colab_type": "code",
        "outputId": "53bf0eed-4358-43ad-9fb4-1dd9780da09f",
        "colab": {
          "base_uri": "https://localhost:8080/",
          "height": 0
        }
      },
      "source": [
        "#print for better visualization\n",
        "data_headers.head(3)"
      ],
      "execution_count": 37,
      "outputs": [
        {
          "output_type": "execute_result",
          "data": {
            "text/html": [
              "<div>\n",
              "<style scoped>\n",
              "    .dataframe tbody tr th:only-of-type {\n",
              "        vertical-align: middle;\n",
              "    }\n",
              "\n",
              "    .dataframe tbody tr th {\n",
              "        vertical-align: top;\n",
              "    }\n",
              "\n",
              "    .dataframe thead th {\n",
              "        text-align: right;\n",
              "    }\n",
              "</style>\n",
              "<table border=\"1\" class=\"dataframe\">\n",
              "  <thead>\n",
              "    <tr style=\"text-align: right;\">\n",
              "      <th></th>\n",
              "      <th>Jitter-&gt;F0_abs_dif</th>\n",
              "      <th>Jitter-&gt;F0_dif_percent</th>\n",
              "      <th>Jitter-&gt;F0_PQ5_classical_Schoentgen</th>\n",
              "      <th>Jitter-&gt;F0_PQ5_classical_Baken</th>\n",
              "      <th>Jitter-&gt;F0_PQ5_generalised_Schoentgen</th>\n",
              "      <th>Jitter-&gt;F0_abs0th_perturb</th>\n",
              "      <th>Jitter-&gt;F0_CV</th>\n",
              "      <th>Jitter-&gt;F0_TKEO_mean</th>\n",
              "      <th>Jitter-&gt;F0_TKEO_std</th>\n",
              "      <th>Jitter-&gt;F0_TKEO_prc5</th>\n",
              "      <th>Jitter-&gt;F0_TKEO_prc25</th>\n",
              "      <th>Jitter-&gt;F0_TKEO_prc75</th>\n",
              "      <th>Jitter-&gt;F0_TKEO_prc95</th>\n",
              "      <th>Jitter-&gt;F0_FM</th>\n",
              "      <th>Jitter-&gt;F0range_5_95_perc</th>\n",
              "      <th>Jitter-&gt;pitch_abs</th>\n",
              "      <th>Jitter-&gt;pitch_percent</th>\n",
              "      <th>Jitter-&gt;pitch_PQ5_classical_Schoentgen</th>\n",
              "      <th>Jitter-&gt;pitch_PQ5_classical_Baken</th>\n",
              "      <th>Jitter-&gt;pitch_PQ5_generalised_Schoentgen</th>\n",
              "      <th>Jitter-&gt;pitch_abs0th_perturb</th>\n",
              "      <th>Jitter-&gt;pitch_CV</th>\n",
              "      <th>Jitter-&gt;pitch_TKEO_mean</th>\n",
              "      <th>Jitter-&gt;pitch_TKEO_std</th>\n",
              "      <th>Jitter-&gt;pitch_TKEO_prc5</th>\n",
              "      <th>Jitter-&gt;pitch_TKEO_prc25</th>\n",
              "      <th>Jitter-&gt;pitch_TKEO_prc75</th>\n",
              "      <th>Jitter-&gt;pitch_TKEO_prc95</th>\n",
              "      <th>Jitter-&gt;pitch_FM</th>\n",
              "      <th>Jitter-&gt;pitch_range_5_95_perc</th>\n",
              "      <th>Shimmer-&gt;Ampl_abs_dif</th>\n",
              "      <th>Shimmer-&gt;Ampl_dif_percent</th>\n",
              "      <th>Shimmer-&gt;Ampl_PQ3_classical_Schoentgen</th>\n",
              "      <th>Shimmer-&gt;Ampl_PQ3_classical_Baken</th>\n",
              "      <th>Shimmer-&gt;Ampl_PQ3_generalised_Schoentgen</th>\n",
              "      <th>Shimmer-&gt;Ampl_PQ5_classical_Schoentgen</th>\n",
              "      <th>Shimmer-&gt;Ampl_PQ5_classical_Baken</th>\n",
              "      <th>Shimmer-&gt;Ampl_PQ5_generalised_Schoentgen</th>\n",
              "      <th>Shimmer-&gt;Ampl_PQ11_classical_Schoentgen</th>\n",
              "      <th>Shimmer-&gt;Ampl_PQ11_classical_Baken</th>\n",
              "      <th>...</th>\n",
              "      <th>entropy_shannon4_1_coef</th>\n",
              "      <th>entropy_shannon4_2_coef</th>\n",
              "      <th>entropy_shannon4_3_coef</th>\n",
              "      <th>entropy_shannon4_4_coef</th>\n",
              "      <th>entropy_shannon4_5_coef</th>\n",
              "      <th>entropy_shannon4_6_coef</th>\n",
              "      <th>entropy_shannon4_7_coef</th>\n",
              "      <th>entropy_shannon4_8_coef</th>\n",
              "      <th>entropy_shannon4_9_coef</th>\n",
              "      <th>entropy_shannon4_10_coef</th>\n",
              "      <th>entropy_log4_1_coef</th>\n",
              "      <th>entropy_log4_2_coef</th>\n",
              "      <th>entropy_log4_3_coef</th>\n",
              "      <th>entropy_log4_4_coef</th>\n",
              "      <th>entropy_log4_5_coef</th>\n",
              "      <th>entropy_log4_6_coef</th>\n",
              "      <th>entropy_log4_7_coef</th>\n",
              "      <th>entropy_log4_8_coef</th>\n",
              "      <th>entropy_log4_9_coef</th>\n",
              "      <th>entropy_log4_10_coef</th>\n",
              "      <th>det_TKEO_mean4_1_coef</th>\n",
              "      <th>det_TKEO_mean4_2_coef</th>\n",
              "      <th>det_TKEO_mean4_3_coef</th>\n",
              "      <th>det_TKEO_mean4_4_coef</th>\n",
              "      <th>det_TKEO_mean4_5_coef</th>\n",
              "      <th>det_TKEO_mean4_6_coef</th>\n",
              "      <th>det_TKEO_mean4_7_coef</th>\n",
              "      <th>det_TKEO_mean4_8_coef</th>\n",
              "      <th>det_TKEO_mean4_9_coef</th>\n",
              "      <th>det_TKEO_mean4_10_coef</th>\n",
              "      <th>det_TKEO_std4_1_coef</th>\n",
              "      <th>det_TKEO_std4_2_coef</th>\n",
              "      <th>det_TKEO_std4_3_coef</th>\n",
              "      <th>det_TKEO_std4_4_coef</th>\n",
              "      <th>det_TKEO_std4_5_coef</th>\n",
              "      <th>det_TKEO_std4_6_coef</th>\n",
              "      <th>det_TKEO_std4_7_coef</th>\n",
              "      <th>det_TKEO_std4_8_coef</th>\n",
              "      <th>det_TKEO_std4_9_coef</th>\n",
              "      <th>det_TKEO_std4_10_coef</th>\n",
              "    </tr>\n",
              "  </thead>\n",
              "  <tbody>\n",
              "    <tr>\n",
              "      <th>0</th>\n",
              "      <td>0.088112</td>\n",
              "      <td>0.041697</td>\n",
              "      <td>0.000480</td>\n",
              "      <td>-3.723304e-06</td>\n",
              "      <td>0.000422</td>\n",
              "      <td>2.458381</td>\n",
              "      <td>6.332164e-07</td>\n",
              "      <td>47.021079</td>\n",
              "      <td>1366.430390</td>\n",
              "      <td>-7.103323</td>\n",
              "      <td>-2.687924</td>\n",
              "      <td>-0.035674</td>\n",
              "      <td>2.849068</td>\n",
              "      <td>0.042287</td>\n",
              "      <td>9.116401</td>\n",
              "      <td>0.000002</td>\n",
              "      <td>0.041920</td>\n",
              "      <td>0.000482</td>\n",
              "      <td>4.354061e-06</td>\n",
              "      <td>0.000440</td>\n",
              "      <td>0.000055</td>\n",
              "      <td>6.856367e-07</td>\n",
              "      <td>2.536591e-08</td>\n",
              "      <td>7.412680e-07</td>\n",
              "      <td>-3.524844e-09</td>\n",
              "      <td>-1.382237e-09</td>\n",
              "      <td>0.000000e+00</td>\n",
              "      <td>1.367104e-09</td>\n",
              "      <td>0.042287</td>\n",
              "      <td>0.000204</td>\n",
              "      <td>0.069838</td>\n",
              "      <td>11.566415</td>\n",
              "      <td>0.077160</td>\n",
              "      <td>-0.000064</td>\n",
              "      <td>0.081880</td>\n",
              "      <td>0.092070</td>\n",
              "      <td>-0.000057</td>\n",
              "      <td>0.081880</td>\n",
              "      <td>0.100744</td>\n",
              "      <td>0.000057</td>\n",
              "      <td>...</td>\n",
              "      <td>-233661.1245</td>\n",
              "      <td>-277726.2665</td>\n",
              "      <td>-327634.1744</td>\n",
              "      <td>-390417.4249</td>\n",
              "      <td>-481323.9141</td>\n",
              "      <td>-633245.6446</td>\n",
              "      <td>-9.018569e+05</td>\n",
              "      <td>-1.433921e+06</td>\n",
              "      <td>-2528415.988</td>\n",
              "      <td>-4819157.284</td>\n",
              "      <td>4076.864063</td>\n",
              "      <td>2422.969509</td>\n",
              "      <td>1429.320757</td>\n",
              "      <td>851.745520</td>\n",
              "      <td>525.181116</td>\n",
              "      <td>345.610973</td>\n",
              "      <td>246.183529</td>\n",
              "      <td>195.776526</td>\n",
              "      <td>172.652511</td>\n",
              "      <td>164.557388</td>\n",
              "      <td>0.112549</td>\n",
              "      <td>0.443874</td>\n",
              "      <td>1.728619</td>\n",
              "      <td>6.539524</td>\n",
              "      <td>23.606344</td>\n",
              "      <td>79.049121</td>\n",
              "      <td>242.544297</td>\n",
              "      <td>661.679929</td>\n",
              "      <td>1618.318338</td>\n",
              "      <td>3643.234312</td>\n",
              "      <td>2.527583</td>\n",
              "      <td>7.088978</td>\n",
              "      <td>19.753255</td>\n",
              "      <td>54.335046</td>\n",
              "      <td>145.528630</td>\n",
              "      <td>375.097397</td>\n",
              "      <td>921.296579</td>\n",
              "      <td>2137.079844</td>\n",
              "      <td>4697.131077</td>\n",
              "      <td>9931.208257</td>\n",
              "    </tr>\n",
              "    <tr>\n",
              "      <th>1</th>\n",
              "      <td>0.161798</td>\n",
              "      <td>0.057364</td>\n",
              "      <td>0.000677</td>\n",
              "      <td>5.466365e-06</td>\n",
              "      <td>0.000206</td>\n",
              "      <td>2.592066</td>\n",
              "      <td>7.228518e-07</td>\n",
              "      <td>93.557936</td>\n",
              "      <td>2582.922776</td>\n",
              "      <td>-23.284761</td>\n",
              "      <td>-7.533801</td>\n",
              "      <td>-0.347630</td>\n",
              "      <td>7.457385</td>\n",
              "      <td>0.042783</td>\n",
              "      <td>11.568865</td>\n",
              "      <td>0.000002</td>\n",
              "      <td>0.057055</td>\n",
              "      <td>0.000673</td>\n",
              "      <td>-5.419147e-06</td>\n",
              "      <td>0.000205</td>\n",
              "      <td>0.000033</td>\n",
              "      <td>7.013483e-07</td>\n",
              "      <td>1.408057e-08</td>\n",
              "      <td>3.872420e-07</td>\n",
              "      <td>-3.561551e-09</td>\n",
              "      <td>-1.164851e-09</td>\n",
              "      <td>0.000000e+00</td>\n",
              "      <td>1.195081e-09</td>\n",
              "      <td>0.042783</td>\n",
              "      <td>0.000146</td>\n",
              "      <td>0.047107</td>\n",
              "      <td>7.202769</td>\n",
              "      <td>0.047907</td>\n",
              "      <td>0.000110</td>\n",
              "      <td>0.055919</td>\n",
              "      <td>0.052175</td>\n",
              "      <td>0.000542</td>\n",
              "      <td>0.055919</td>\n",
              "      <td>0.072145</td>\n",
              "      <td>0.000223</td>\n",
              "      <td>...</td>\n",
              "      <td>-266292.2262</td>\n",
              "      <td>-315357.3478</td>\n",
              "      <td>-371033.9862</td>\n",
              "      <td>-441256.8092</td>\n",
              "      <td>-543227.8848</td>\n",
              "      <td>-713976.6286</td>\n",
              "      <td>-1.015830e+06</td>\n",
              "      <td>-1.613896e+06</td>\n",
              "      <td>-2843879.522</td>\n",
              "      <td>-5416842.350</td>\n",
              "      <td>4182.699168</td>\n",
              "      <td>2476.698050</td>\n",
              "      <td>1456.995087</td>\n",
              "      <td>866.391724</td>\n",
              "      <td>533.314567</td>\n",
              "      <td>350.486711</td>\n",
              "      <td>249.368427</td>\n",
              "      <td>198.116666</td>\n",
              "      <td>174.570294</td>\n",
              "      <td>166.263182</td>\n",
              "      <td>0.126734</td>\n",
              "      <td>0.499301</td>\n",
              "      <td>1.941236</td>\n",
              "      <td>7.344723</td>\n",
              "      <td>26.518497</td>\n",
              "      <td>88.784513</td>\n",
              "      <td>272.216266</td>\n",
              "      <td>742.338942</td>\n",
              "      <td>1814.494579</td>\n",
              "      <td>4082.136146</td>\n",
              "      <td>2.841881</td>\n",
              "      <td>7.977363</td>\n",
              "      <td>22.203504</td>\n",
              "      <td>60.993338</td>\n",
              "      <td>163.560972</td>\n",
              "      <td>421.010306</td>\n",
              "      <td>1036.092589</td>\n",
              "      <td>2404.072562</td>\n",
              "      <td>5284.082128</td>\n",
              "      <td>11165.095660</td>\n",
              "    </tr>\n",
              "    <tr>\n",
              "      <th>2</th>\n",
              "      <td>0.554508</td>\n",
              "      <td>0.642913</td>\n",
              "      <td>0.007576</td>\n",
              "      <td>-7.443871e-07</td>\n",
              "      <td>0.006488</td>\n",
              "      <td>12.691326</td>\n",
              "      <td>6.946246e-04</td>\n",
              "      <td>52.988422</td>\n",
              "      <td>466.682635</td>\n",
              "      <td>-45.308680</td>\n",
              "      <td>-5.175259</td>\n",
              "      <td>-0.359585</td>\n",
              "      <td>4.549093</td>\n",
              "      <td>0.471729</td>\n",
              "      <td>39.079991</td>\n",
              "      <td>0.000067</td>\n",
              "      <td>0.563163</td>\n",
              "      <td>0.006659</td>\n",
              "      <td>7.576645e-07</td>\n",
              "      <td>0.004372</td>\n",
              "      <td>0.001604</td>\n",
              "      <td>2.103274e-04</td>\n",
              "      <td>6.191656e-07</td>\n",
              "      <td>4.898115e-06</td>\n",
              "      <td>-8.230807e-07</td>\n",
              "      <td>-9.233181e-08</td>\n",
              "      <td>6.432232e-09</td>\n",
              "      <td>1.350863e-07</td>\n",
              "      <td>0.471729</td>\n",
              "      <td>0.005443</td>\n",
              "      <td>0.190733</td>\n",
              "      <td>34.449823</td>\n",
              "      <td>0.229084</td>\n",
              "      <td>-0.001374</td>\n",
              "      <td>0.259091</td>\n",
              "      <td>0.276145</td>\n",
              "      <td>0.001280</td>\n",
              "      <td>0.259091</td>\n",
              "      <td>0.315005</td>\n",
              "      <td>0.001812</td>\n",
              "      <td>...</td>\n",
              "      <td>-146466.6898</td>\n",
              "      <td>-176648.5331</td>\n",
              "      <td>-210656.5286</td>\n",
              "      <td>-253144.2859</td>\n",
              "      <td>-314304.4696</td>\n",
              "      <td>-416010.0510</td>\n",
              "      <td>-5.956926e+05</td>\n",
              "      <td>-9.520312e+05</td>\n",
              "      <td>-1686351.172</td>\n",
              "      <td>-3224775.436</td>\n",
              "      <td>3699.830964</td>\n",
              "      <td>2231.698375</td>\n",
              "      <td>1330.932885</td>\n",
              "      <td>799.805232</td>\n",
              "      <td>496.476954</td>\n",
              "      <td>328.515054</td>\n",
              "      <td>235.080823</td>\n",
              "      <td>187.675057</td>\n",
              "      <td>166.054276</td>\n",
              "      <td>158.705559</td>\n",
              "      <td>0.080899</td>\n",
              "      <td>0.318113</td>\n",
              "      <td>1.228114</td>\n",
              "      <td>4.615947</td>\n",
              "      <td>16.650282</td>\n",
              "      <td>55.476114</td>\n",
              "      <td>169.270664</td>\n",
              "      <td>461.248613</td>\n",
              "      <td>1125.194320</td>\n",
              "      <td>2523.348299</td>\n",
              "      <td>1.806103</td>\n",
              "      <td>5.078616</td>\n",
              "      <td>14.135923</td>\n",
              "      <td>38.641654</td>\n",
              "      <td>103.466808</td>\n",
              "      <td>264.654626</td>\n",
              "      <td>649.657090</td>\n",
              "      <td>1507.384591</td>\n",
              "      <td>3315.804236</td>\n",
              "      <td>6974.600636</td>\n",
              "    </tr>\n",
              "  </tbody>\n",
              "</table>\n",
              "<p>3 rows × 310 columns</p>\n",
              "</div>"
            ],
            "text/plain": [
              "   Jitter->F0_abs_dif  ...  det_TKEO_std4_10_coef\n",
              "0            0.088112  ...            9931.208257\n",
              "1            0.161798  ...           11165.095660\n",
              "2            0.554508  ...            6974.600636\n",
              "\n",
              "[3 rows x 310 columns]"
            ]
          },
          "metadata": {
            "tags": []
          },
          "execution_count": 37
        }
      ]
    },
    {
      "cell_type": "code",
      "metadata": {
        "id": "Fhcg2Jv0jZHT",
        "colab_type": "code",
        "outputId": "ae2a2d15-e819-4237-8843-47030a3a7664",
        "colab": {
          "base_uri": "https://localhost:8080/",
          "height": 0
        }
      },
      "source": [
        "#print for better visualization\n",
        "demographics_headers.head(3)"
      ],
      "execution_count": 38,
      "outputs": [
        {
          "output_type": "execute_result",
          "data": {
            "text/html": [
              "<div>\n",
              "<style scoped>\n",
              "    .dataframe tbody tr th:only-of-type {\n",
              "        vertical-align: middle;\n",
              "    }\n",
              "\n",
              "    .dataframe tbody tr th {\n",
              "        vertical-align: top;\n",
              "    }\n",
              "\n",
              "    .dataframe thead th {\n",
              "        text-align: right;\n",
              "    }\n",
              "</style>\n",
              "<table border=\"1\" class=\"dataframe\">\n",
              "  <thead>\n",
              "    <tr style=\"text-align: right;\">\n",
              "      <th></th>\n",
              "      <th>Subject_index</th>\n",
              "      <th>Age</th>\n",
              "      <th>Gender, 0-&gt;Male, 1-&gt;Female</th>\n",
              "    </tr>\n",
              "  </thead>\n",
              "  <tbody>\n",
              "    <tr>\n",
              "      <th>0</th>\n",
              "      <td>1</td>\n",
              "      <td>68</td>\n",
              "      <td>1</td>\n",
              "    </tr>\n",
              "    <tr>\n",
              "      <th>1</th>\n",
              "      <td>1</td>\n",
              "      <td>68</td>\n",
              "      <td>1</td>\n",
              "    </tr>\n",
              "    <tr>\n",
              "      <th>2</th>\n",
              "      <td>1</td>\n",
              "      <td>68</td>\n",
              "      <td>1</td>\n",
              "    </tr>\n",
              "  </tbody>\n",
              "</table>\n",
              "</div>"
            ],
            "text/plain": [
              "   Subject_index  Age  Gender, 0->Male, 1->Female\n",
              "0              1   68                           1\n",
              "1              1   68                           1\n",
              "2              1   68                           1"
            ]
          },
          "metadata": {
            "tags": []
          },
          "execution_count": 38
        }
      ]
    },
    {
      "cell_type": "code",
      "metadata": {
        "id": "F28WDEwQjd98",
        "colab_type": "code",
        "outputId": "b56ebea2-9b61-4290-e223-61113c8d8bd4",
        "colab": {
          "base_uri": "https://localhost:8080/",
          "height": 0
        }
      },
      "source": [
        "#print for better visualization\n",
        "binary_response_headers.head(3)"
      ],
      "execution_count": 39,
      "outputs": [
        {
          "output_type": "execute_result",
          "data": {
            "text/html": [
              "<div>\n",
              "<style scoped>\n",
              "    .dataframe tbody tr th:only-of-type {\n",
              "        vertical-align: middle;\n",
              "    }\n",
              "\n",
              "    .dataframe tbody tr th {\n",
              "        vertical-align: top;\n",
              "    }\n",
              "\n",
              "    .dataframe thead th {\n",
              "        text-align: right;\n",
              "    }\n",
              "</style>\n",
              "<table border=\"1\" class=\"dataframe\">\n",
              "  <thead>\n",
              "    <tr style=\"text-align: right;\">\n",
              "      <th></th>\n",
              "      <th>1</th>\n",
              "    </tr>\n",
              "  </thead>\n",
              "  <tbody>\n",
              "    <tr>\n",
              "      <th>0</th>\n",
              "      <td>2</td>\n",
              "    </tr>\n",
              "    <tr>\n",
              "      <th>1</th>\n",
              "      <td>2</td>\n",
              "    </tr>\n",
              "    <tr>\n",
              "      <th>2</th>\n",
              "      <td>1</td>\n",
              "    </tr>\n",
              "  </tbody>\n",
              "</table>\n",
              "</div>"
            ],
            "text/plain": [
              "   1\n",
              "0  2\n",
              "1  2\n",
              "2  1"
            ]
          },
          "metadata": {
            "tags": []
          },
          "execution_count": 39
        }
      ]
    },
    {
      "cell_type": "markdown",
      "metadata": {
        "id": "cr8f1_Axc4fI",
        "colab_type": "text"
      },
      "source": [
        "### Custom functions"
      ]
    },
    {
      "cell_type": "code",
      "metadata": {
        "id": "YqedVc1YuZ_4",
        "colab_type": "code",
        "colab": {}
      },
      "source": [
        "## GATHER ALL FUNCTIONS FOR SECTION-B HERE\n",
        "\n",
        "# evaluate type of value in the given variable\n",
        "def tryeval(np_samples):\n",
        "    for row in range(len(np_samples)): \n",
        "        for col in range(len(np_samples[row])):\n",
        "            try: \n",
        "                np_samples[row][col] = ast.literal_eval(np_samples[row][col])\n",
        "            except ValueError:\n",
        "                pass\n",
        "    return np_samples\n",
        "\n",
        "def tryeval1D(np_samples):\n",
        "    for row in range(len(np_samples)): \n",
        "        try: \n",
        "            np_samples[row] = ast.literal_eval(np_samples[row])\n",
        "        except ValueError:\n",
        "            pass\n",
        "    return np_samples\n",
        "\n",
        "# define if all features have the same type\n",
        "def features_datatypes(features):\n",
        "    datatypes = list()\n",
        "    for row in range(len(features)):\n",
        "        for col in range(len(features[row])):\n",
        "            current_type = type(features[row][col])\n",
        "            if current_type not in datatypes:\n",
        "                datatypes.append(current_type)\n",
        "\n",
        "    return datatypes\n",
        "# define all class labels\n",
        "def class_labels(labels):\n",
        "    cLabels = list()\n",
        "    for col in range(len(labels)):\n",
        "        current_val = labels[col]\n",
        "        if current_val not in cLabels:\n",
        "            cLabels.append(current_val)\n",
        "    return cLabels"
      ],
      "execution_count": 0,
      "outputs": []
    },
    {
      "cell_type": "markdown",
      "metadata": {
        "id": "xebU-h0ldN58",
        "colab_type": "text"
      },
      "source": [
        "### Manage datafile, get desired data\n",
        "\n",
        "Get #features, #samples, type of features"
      ]
    },
    {
      "cell_type": "code",
      "metadata": {
        "id": "UK69s1JQXlRp",
        "colab_type": "code",
        "outputId": "92d85697-6359-4119-de23-a65a0f3d27b9",
        "colab": {
          "base_uri": "https://localhost:8080/",
          "height": 0
        }
      },
      "source": [
        "# gather data features in a table\n",
        "data_features = data.iloc[[0],0:]\n",
        "( _ , number_of_features ) = data_features.shape\n",
        "print(\"Q2: Number of features = \", number_of_features)\n",
        "# print(data_features.shape) # uncomment if you want to check the results\n",
        "\n",
        "# gather data samples in a table\n",
        "data_samples = data.iloc[1:,0:]\n",
        "( number_of_samples , _ ) = data_samples.shape\n",
        "print(\"Q2: Number of samples = \", number_of_samples)\n",
        "# print(data_samples.shape) # uncomment if you want to check the results\n",
        "\n",
        "# transform the gathered data in numpy arrays\n",
        "np_features = data_features.values\n",
        "np_samples = data_samples.values\n",
        "\n",
        "# # convert the type of samples to the correct type\n",
        "np_samples = tryeval(np_samples)\n",
        "datatypes = features_datatypes(np_samples)\n",
        "\n",
        "print(\"Q2: Type of features =\", end=' ')\n",
        "print(*datatypes, sep=' & ')"
      ],
      "execution_count": 41,
      "outputs": [
        {
          "output_type": "stream",
          "text": [
            "Q2: Number of features =  310\n",
            "Q2: Number of samples =  126\n",
            "Q2: Type of features = <class 'float'> & <class 'int'>\n"
          ],
          "name": "stdout"
        }
      ]
    },
    {
      "cell_type": "markdown",
      "metadata": {
        "id": "KJ5SyhuoCnYE",
        "colab_type": "text"
      },
      "source": [
        "- Q3: There are headers in the first line\n",
        "\n",
        "- Q3: There is no line numbering"
      ]
    },
    {
      "cell_type": "code",
      "metadata": {
        "id": "T01BLPCTqzlU",
        "colab_type": "code",
        "outputId": "2ba9ec02-0004-407c-9b24-6e533e75957b",
        "colab": {
          "base_uri": "https://localhost:8080/",
          "height": 0
        }
      },
      "source": [
        "# gather class labels in a table\n",
        "binary_class_labels = binary_response.iloc[0:,:] \n",
        "np_labels_temp = binary_class_labels.values.flatten()\n",
        "\n",
        "np_labels = list()\n",
        "for item in np_labels_temp:\n",
        "    np_labels.append(item)\n",
        "\n",
        "np_labels = np.array(np_labels)\n",
        "\n",
        "np_labels = tryeval1D(np_labels)\n",
        "\n",
        "np_labels"
      ],
      "execution_count": 42,
      "outputs": [
        {
          "output_type": "execute_result",
          "data": {
            "text/plain": [
              "array([1, 2, 2, 1, 2, 2, 1, 2, 2, 1, 2, 2, 1, 2, 2, 1, 2, 2, 1, 2, 2, 1,\n",
              "       2, 2, 1, 2, 2, 1, 2, 2, 1, 2, 2, 1, 2, 2, 1, 2, 2, 1, 2, 2, 1, 2,\n",
              "       2, 1, 2, 2, 1, 2, 2, 1, 2, 2, 1, 2, 2, 1, 2, 2, 1, 2, 2, 1, 2, 2,\n",
              "       1, 2, 2, 1, 2, 2, 1, 2, 2, 1, 2, 2, 1, 2, 2, 1, 2, 2, 1, 2, 2, 1,\n",
              "       2, 2, 1, 2, 2, 1, 2, 2, 1, 2, 2, 1, 2, 2, 1, 2, 2, 1, 2, 2, 1, 2,\n",
              "       2, 1, 2, 2, 1, 2, 2, 1, 2, 2, 1, 2, 2, 1, 2, 2])"
            ]
          },
          "metadata": {
            "tags": []
          },
          "execution_count": 42
        }
      ]
    },
    {
      "cell_type": "markdown",
      "metadata": {
        "id": "X_sKL3VPdjK2",
        "colab_type": "text"
      },
      "source": [
        "### Classification Labels"
      ]
    },
    {
      "cell_type": "code",
      "metadata": {
        "id": "choIDcboiKGE",
        "colab_type": "code",
        "outputId": "2bd26da3-2a1d-4d25-d37d-af44c249f3e2",
        "colab": {
          "base_uri": "https://localhost:8080/",
          "height": 0
        }
      },
      "source": [
        "# make a list with all different labels\n",
        "list_of_labels = class_labels(np_labels)\n",
        "print(\"Q4: Classification Labels =\", end=' ')\n",
        "print(*list_of_labels, sep = \" & \")\n",
        "\n",
        "label_names = list()\n",
        "for i in range(len(list_of_labels)):\n",
        "    label_names.append(str(list_of_labels[i]))\n",
        "# label_names = ('1','2')\n",
        "label_names"
      ],
      "execution_count": 43,
      "outputs": [
        {
          "output_type": "stream",
          "text": [
            "Q4: Classification Labels = 1 & 2\n"
          ],
          "name": "stdout"
        },
        {
          "output_type": "execute_result",
          "data": {
            "text/plain": [
              "['1', '2']"
            ]
          },
          "metadata": {
            "tags": []
          },
          "execution_count": 43
        }
      ]
    },
    {
      "cell_type": "markdown",
      "metadata": {
        "id": "7aMVqYiNCv8k",
        "colab_type": "text"
      },
      "source": [
        "### Modifications on the datafile\n",
        "- Q5: There were some modifications on the data. \n",
        "    - We replaced **\" , \"** with **\" . \"**\n",
        "    - We removed the headers on the binary response file.\n",
        "    "
      ]
    },
    {
      "cell_type": "markdown",
      "metadata": {
        "id": "YRdxqG4kd3DC",
        "colab_type": "text"
      },
      "source": [
        "### Check Empty dataset"
      ]
    },
    {
      "cell_type": "code",
      "metadata": {
        "id": "ms5TCwkoS_AU",
        "colab_type": "code",
        "outputId": "d1c46c91-2202-4f63-af7c-8a0cf5f32cd8",
        "colab": {
          "base_uri": "https://localhost:8080/",
          "height": 0
        }
      },
      "source": [
        "# check if dataset has empty values\n",
        "# and if, how many of them\n",
        "!ls\n",
        "!echo \"For binary_response file, empty values: \"\n",
        "!cat lsvt_binary_response.csv | grep \"?\" | wc -l\n",
        "!echo \"For data file, empty values: \"\n",
        "!cat lsvt_data.csv | grep \"?\" | wc -l\n",
        "!echo \"For demographics file, empty values: \"\n",
        "!cat lsvt_demographics.csv | grep \"?\" | wc -l"
      ],
      "execution_count": 44,
      "outputs": [
        {
          "output_type": "stream",
          "text": [
            "sample_data\n",
            "For binary_response file, empty values: \n",
            "cat: lsvt_binary_response.csv: No such file or directory\n",
            "0\n",
            "For data file, empty values: \n",
            "cat: lsvt_data.csv: No such file or directory\n",
            "0\n",
            "For demographics file, empty values: \n",
            "cat: lsvt_demographics.csv: No such file or directory\n",
            "0\n"
          ],
          "name": "stdout"
        }
      ]
    },
    {
      "cell_type": "markdown",
      "metadata": {
        "id": "-Ym4ULdPd6o-",
        "colab_type": "text"
      },
      "source": [
        "### Label frequencies"
      ]
    },
    {
      "cell_type": "code",
      "metadata": {
        "id": "aRqXg0dzI5Va",
        "colab_type": "code",
        "outputId": "def0056d-2dff-4aa2-ee4e-6e28da44c52a",
        "colab": {
          "base_uri": "https://localhost:8080/",
          "height": 0
        }
      },
      "source": [
        "print(\"frequencies:\", np.bincount(np_labels))\n",
        "freq = np.bincount(np_labels)\n",
        "for i in range(len(freq)):\n",
        "    if i == 0: continue\n",
        "    print(\"For label:\", i, \"percentage is\", \"{:.2%}\".format(freq[i]/number_of_samples))"
      ],
      "execution_count": 45,
      "outputs": [
        {
          "output_type": "stream",
          "text": [
            "frequencies: [ 0 42 84]\n",
            "For label: 1 percentage is 33.33%\n",
            "For label: 2 percentage is 66.67%\n"
          ],
          "name": "stdout"
        }
      ]
    },
    {
      "cell_type": "markdown",
      "metadata": {
        "id": "FY5CeA09SZBc",
        "colab_type": "text"
      },
      "source": [
        "Το παραπάνω dataset όπως φαίνεται από τις συχνότητες δεν είναι ισορροπημένο.\n",
        "Καθώς το δείγμα είναι μικρό επιλέγουμε να κανουμε oversampling για να μη χάσουμε κρίσιμη πληροφορία. "
      ]
    },
    {
      "cell_type": "markdown",
      "metadata": {
        "id": "PhcQ_caxeGDx",
        "colab_type": "text"
      },
      "source": [
        "### Split to test and train set\n",
        "\n",
        "After spliting, we oversample the train set to be balanced"
      ]
    },
    {
      "cell_type": "code",
      "metadata": {
        "id": "iMx9wyt8SzfP",
        "colab_type": "code",
        "colab": {}
      },
      "source": [
        "from sklearn.linear_model import LogisticRegression \n",
        "from sklearn.preprocessing import StandardScaler \n",
        "from sklearn.metrics import confusion_matrix, classification_report \n",
        "from imblearn.over_sampling import RandomOverSampler\n",
        "from imblearn.over_sampling import SMOTE "
      ],
      "execution_count": 0,
      "outputs": []
    },
    {
      "cell_type": "code",
      "metadata": {
        "id": "-qndH6YbP8wy",
        "colab_type": "code",
        "outputId": "90cd54bd-9075-41f7-e952-6aa1e72aa166",
        "colab": {
          "base_uri": "https://localhost:8080/",
          "height": 0
        }
      },
      "source": [
        "from sklearn.model_selection import train_test_split\n",
        "\n",
        "# Split our data\n",
        "train, test, train_labels, test_labels = train_test_split(np_samples, \n",
        "                                                          np_labels, \n",
        "                                                          test_size=0.2)\n",
        "\n",
        "# sampler = SMOTE()\n",
        "# train, train_labels = sampler.fit_sample(np_samples, np_labels)\n",
        "\n",
        "train_set_length = len(train)\n",
        "# print length of train set to validate oversampling\n",
        "print(\"#samples in train set =\", train_set_length, '\\n')"
      ],
      "execution_count": 47,
      "outputs": [
        {
          "output_type": "stream",
          "text": [
            "#samples in train set = 100 \n",
            "\n"
          ],
          "name": "stdout"
        }
      ]
    },
    {
      "cell_type": "markdown",
      "metadata": {
        "id": "oAmCcm6dVUTo",
        "colab_type": "text"
      },
      "source": [
        "**Q8**: Our samples are **ordered tuples** since each number corresponds to a specific attribute."
      ]
    },
    {
      "cell_type": "markdown",
      "metadata": {
        "id": "uFh5NnUGQ9SO",
        "colab_type": "text"
      },
      "source": [
        "## Section C: Baseline Classification"
      ]
    },
    {
      "cell_type": "markdown",
      "metadata": {
        "id": "WbTMUToWm1d3",
        "colab_type": "text"
      },
      "source": [
        "### Custom functions"
      ]
    },
    {
      "cell_type": "code",
      "metadata": {
        "id": "_vfYRlvnHQ7z",
        "colab_type": "code",
        "colab": {}
      },
      "source": [
        "from sklearn.dummy import DummyClassifier\n",
        "from sklearn.metrics import precision_recall_fscore_support\n",
        "from sklearn.metrics import classification_report\n",
        "from matplotlib import pyplot as plt\n",
        "\n",
        "def print_precision_recall_fscore_support(method, test_labels, pred, label_names):\n",
        "    print(method, end = '\\n\\n')\n",
        "    (none, micro, macro, weighted) = get_PRFS(method, test_labels, pred, label_names)\n",
        "    # εκτυπώνουμε 4 πίνακες, precision, recall, F1 και support. Support είναι ο συνολικός αριθμός προβλέψεων σε κάθε κλάση\n",
        "    # το πρώτο στοιχείο του κάθε πίνακα είναι η κλάση 1 και το δεύτερο η κλάσση 2\n",
        "    print(\"none     :\", none )\n",
        "    # εκτυπώνουμε τa precision, recall και F1 λαμβάνοντας υπόψη συνολικά (αθροίζοντας εκτός κλάσεων) τα δείγματα (average = micro).\n",
        "    print(\"micro    :\", micro )\n",
        "    # εκτυπώνουμε το μέσο όρο των precision, recall και F1 θεωρόντας ότι οι κλάσεις έχουν το ίδιο βάρος (average = macro)\n",
        "    print(\"macro    :\", macro )\n",
        "    # εκτυπώνουμε τa precision, recall και F1 λαμβάνοντας. Με average = weighted κάθε κλάση μετρά στο μέσο όρο ανάλογα με το support της.\n",
        "    print(\"weighted :\", weighted, end = '\\n\\n')\n",
        "    # η classification_report τυπώνει πιο ωραία οπτικά σε string τα αποτελέσματα\n",
        "    # πρώτα για κάθε κλάση και μετά με μέσους όρους\n",
        "    print(classification_report(test_labels, pred, target_names=label_names), end = '\\n\\n')\n",
        "\n",
        "    ( _ , _ , microF1    , _ ) = micro\n",
        "    ( _ , _ , macroF1    , _ ) = macro\n",
        "    ( _ , _ , weightedF1 , _ ) = weighted\n",
        "\n",
        "    barplotF1 = (microF1, macroF1, weightedF1)\n",
        "    xaxis = (\"microF1\", \"macroF1\", \"weightedF1\")\n",
        "    plt.figure(figsize=(10,5))\n",
        "    plt.bar(xaxis, barplotF1)\n",
        "    plt.show()\n",
        "    print(\"---------------------------------------------------------------------------------------------------------------------\", end = '\\n')\n",
        "    print(\"---------------------------------------------------------------------------------------------------------------------\", end = '\\n\\n')\n",
        "\n",
        "# get_precision_recall_fscore_support\n",
        "def get_PRFS(method, test_labels, pred, label_names):\n",
        "    none = precision_recall_fscore_support(test_labels, pred, average=None)\n",
        "    micro = precision_recall_fscore_support(test_labels, pred, average='micro')\n",
        "    macro = precision_recall_fscore_support(test_labels, pred, average='macro')\n",
        "    weighted = precision_recall_fscore_support(test_labels, pred, average='weighted')\n",
        "    return (none, micro, macro, weighted)"
      ],
      "execution_count": 0,
      "outputs": []
    },
    {
      "cell_type": "markdown",
      "metadata": {
        "id": "2UHYkaYtMuDC",
        "colab_type": "text"
      },
      "source": [
        "### Dummy Classifier"
      ]
    },
    {
      "cell_type": "code",
      "metadata": {
        "id": "LnWtPk3JQqFb",
        "colab_type": "code",
        "colab": {}
      },
      "source": [
        "dc_uniform = DummyClassifier(strategy=\"uniform\")\n",
        "dc_constant_1 = DummyClassifier(strategy=\"constant\", constant=1)\n",
        "dc_constant_2 = DummyClassifier(strategy=\"constant\", constant=2)\n",
        "dc_most_frequent = DummyClassifier(strategy=\"most_frequent\")\n",
        "dc_stratified = DummyClassifier(strategy=\"stratified\")\n"
      ],
      "execution_count": 0,
      "outputs": []
    },
    {
      "cell_type": "code",
      "metadata": {
        "id": "ZFpM-0ZMYr4q",
        "colab_type": "code",
        "outputId": "e5b624d9-4cd3-4e42-a04b-643a5b28322f",
        "colab": {
          "base_uri": "https://localhost:8080/",
          "height": 0
        }
      },
      "source": [
        "# με τη μέθοδο fit \"εκπαιδεύουμε\" τον ταξινομητή στο σύνολο εκπαίδευσης (τα χαρακτηριστικά και τις ετικέτες τους)\n",
        "from sklearn.metrics import accuracy_score\n",
        "\n",
        "# με τη μέθοδο predict παράγουμε προβλέψεις για τα δεδομένα ελέγχου (είσοδος τα χαρακτηριστικά μόνο)\n",
        "predictions = {}\n",
        "lsvt_accuracy = {}\n",
        "\n",
        "model = dc_uniform.fit(train, train_labels)\n",
        "preds = dc_uniform.predict(test)\n",
        "predictions['dc_uniform'] = preds\n",
        "lsvt_accuracy['uniform (random)'] = accuracy_score(test_labels, preds)\n",
        "\n",
        "\n",
        "model = dc_constant_1.fit(train, train_labels)\n",
        "preds = dc_constant_1.predict(test)\n",
        "predictions['dc_constant_1'] = preds\n",
        "lsvt_accuracy['constant 1'] = accuracy_score(test_labels, preds)\n",
        "\n",
        "model = dc_constant_2.fit(train, train_labels)\n",
        "preds = dc_constant_2.predict(test)\n",
        "predictions['dc_constant_2'] = preds\n",
        "lsvt_accuracy['constant 2'] = accuracy_score(test_labels, preds)\n",
        "\n",
        "model = dc_most_frequent.fit(train, train_labels)\n",
        "preds = dc_most_frequent.predict(test)\n",
        "predictions['dc_most_frequent'] = preds\n",
        "lsvt_accuracy['most frequent label'] = accuracy_score(test_labels, preds)\n",
        "\n",
        "model = dc_stratified.fit(train, train_labels)\n",
        "preds = dc_stratified.predict(test)\n",
        "predictions['dc_stratified'] = preds\n",
        "lsvt_accuracy['stratified'] = accuracy_score(test_labels, preds)\n",
        "\n",
        "for i in predictions:\n",
        "    print(\"Prediction for\", i, '=', predictions[i])\n",
        "\n",
        "print()\n",
        "    \n",
        "print(\"Classification Accuracy on the LSVT Voice Rehabilitation Dataset (20% test set)\\n\")\n",
        "sorted_accuracy = [(k, lsvt_accuracy[k]) for k in sorted(lsvt_accuracy, key=lsvt_accuracy.get, reverse=True)]\n",
        "\n",
        "print(\"----------Results are sorted----------\")\n",
        "print(\"** Strategy (score, accuracy_score) **\\n\")\n",
        "for k,v in sorted_accuracy:\n",
        "    print(k,v)\n"
      ],
      "execution_count": 50,
      "outputs": [
        {
          "output_type": "stream",
          "text": [
            "Prediction for dc_uniform = [1 1 2 2 1 1 2 2 1 2 2 1 2 2 2 1 1 2 1 2 2 1 2 1 1 1]\n",
            "Prediction for dc_constant_1 = [1 1 1 1 1 1 1 1 1 1 1 1 1 1 1 1 1 1 1 1 1 1 1 1 1 1]\n",
            "Prediction for dc_constant_2 = [2 2 2 2 2 2 2 2 2 2 2 2 2 2 2 2 2 2 2 2 2 2 2 2 2 2]\n",
            "Prediction for dc_most_frequent = [2 2 2 2 2 2 2 2 2 2 2 2 2 2 2 2 2 2 2 2 2 2 2 2 2 2]\n",
            "Prediction for dc_stratified = [2 1 1 2 2 2 1 1 2 1 2 2 2 1 1 1 2 2 2 1 2 2 2 2 1 2]\n",
            "\n",
            "Classification Accuracy on the LSVT Voice Rehabilitation Dataset (20% test set)\n",
            "\n",
            "----------Results are sorted----------\n",
            "** Strategy (score, accuracy_score) **\n",
            "\n",
            "constant 2 0.6538461538461539\n",
            "most frequent label 0.6538461538461539\n",
            "stratified 0.5\n",
            "uniform (random) 0.46153846153846156\n",
            "constant 1 0.34615384615384615\n"
          ],
          "name": "stdout"
        }
      ]
    },
    {
      "cell_type": "code",
      "metadata": {
        "id": "xuLFQ5lCZSsv",
        "colab_type": "code",
        "outputId": "a45072aa-01ac-4b82-cf77-904b86245100",
        "colab": {
          "base_uri": "https://localhost:8080/",
          "height": 0
        }
      },
      "source": [
        "from sklearn.metrics import confusion_matrix\n",
        "# Compute confusion matrix\n",
        "\n",
        "print(\"Confusion matrices\\n\")\n",
        "for i in predictions:\n",
        "    # τυπώνουμε το confusion matrix\n",
        "    cnf_matrix = confusion_matrix(test_labels, predictions[i])\n",
        "    print(i)\n",
        "    print(cnf_matrix, end='\\n\\n')"
      ],
      "execution_count": 51,
      "outputs": [
        {
          "output_type": "stream",
          "text": [
            "Confusion matrices\n",
            "\n",
            "dc_uniform\n",
            "[[4 5]\n",
            " [9 8]]\n",
            "\n",
            "dc_constant_1\n",
            "[[ 9  0]\n",
            " [17  0]]\n",
            "\n",
            "dc_constant_2\n",
            "[[ 0  9]\n",
            " [ 0 17]]\n",
            "\n",
            "dc_most_frequent\n",
            "[[ 0  9]\n",
            " [ 0 17]]\n",
            "\n",
            "dc_stratified\n",
            "[[ 3  6]\n",
            " [ 7 10]]\n",
            "\n"
          ],
          "name": "stdout"
        }
      ]
    },
    {
      "cell_type": "code",
      "metadata": {
        "id": "zhmZs3Z_pPGZ",
        "colab_type": "code",
        "outputId": "134b61ab-c01e-4123-e771-6160462f50cb",
        "colab": {
          "base_uri": "https://localhost:8080/",
          "height": 0
        }
      },
      "source": [
        "for i in predictions:\n",
        "    print_precision_recall_fscore_support(i, test_labels, predictions[i], label_names)"
      ],
      "execution_count": 52,
      "outputs": [
        {
          "output_type": "stream",
          "text": [
            "dc_uniform\n",
            "\n",
            "none     : (array([0.30769231, 0.61538462]), array([0.44444444, 0.47058824]), array([0.36363636, 0.53333333]), array([ 9, 17]))\n",
            "micro    : (0.46153846153846156, 0.46153846153846156, 0.46153846153846156, None)\n",
            "macro    : (0.46153846153846156, 0.45751633986928103, 0.4484848484848485, None)\n",
            "weighted : (0.5088757396449703, 0.46153846153846156, 0.4745920745920746, None)\n",
            "\n",
            "              precision    recall  f1-score   support\n",
            "\n",
            "           1       0.31      0.44      0.36         9\n",
            "           2       0.62      0.47      0.53        17\n",
            "\n",
            "    accuracy                           0.46        26\n",
            "   macro avg       0.46      0.46      0.45        26\n",
            "weighted avg       0.51      0.46      0.47        26\n",
            "\n",
            "\n"
          ],
          "name": "stdout"
        },
        {
          "output_type": "display_data",
          "data": {
            "image/png": "[encoded data removed]",
            "text/plain": [
              "<Figure size 720x360 with 1 Axes>"
            ]
          },
          "metadata": {
            "tags": []
          }
        },
        {
          "output_type": "stream",
          "text": [
            "---------------------------------------------------------------------------------------------------------------------\n",
            "---------------------------------------------------------------------------------------------------------------------\n",
            "\n",
            "dc_constant_1\n",
            "\n",
            "none     : (array([0.34615385, 0.        ]), array([1., 0.]), array([0.51428571, 0.        ]), array([ 9, 17]))\n",
            "micro    : (0.34615384615384615, 0.34615384615384615, 0.34615384615384615, None)\n",
            "macro    : (0.17307692307692307, 0.5, 0.2571428571428571, None)\n",
            "weighted : (0.11982248520710059, 0.34615384615384615, 0.178021978021978, None)\n",
            "\n",
            "              precision    recall  f1-score   support\n",
            "\n",
            "           1       0.35      1.00      0.51         9\n",
            "           2       0.00      0.00      0.00        17\n",
            "\n",
            "    accuracy                           0.35        26\n",
            "   macro avg       0.17      0.50      0.26        26\n",
            "weighted avg       0.12      0.35      0.18        26\n",
            "\n",
            "\n"
          ],
          "name": "stdout"
        },
        {
          "output_type": "stream",
          "text": [
            "/usr/local/lib/python3.6/dist-packages/sklearn/metrics/_classification.py:1268: UndefinedMetricWarning: Precision and F-score are ill-defined and being set to 0.0 in labels with no predicted samples. Use `zero_division` parameter to control this behavior.\n",
            "  _warn_prf(average, modifier, msg_start, len(result))\n"
          ],
          "name": "stderr"
        },
        {
          "output_type": "display_data",
          "data": {
            "image/png": "[encoded data removed]",
            "text/plain": [
              "<Figure size 720x360 with 1 Axes>"
            ]
          },
          "metadata": {
            "tags": []
          }
        },
        {
          "output_type": "stream",
          "text": [
            "---------------------------------------------------------------------------------------------------------------------\n",
            "---------------------------------------------------------------------------------------------------------------------\n",
            "\n",
            "dc_constant_2\n",
            "\n",
            "none     : (array([0.        , 0.65384615]), array([0., 1.]), array([0.        , 0.79069767]), array([ 9, 17]))\n",
            "micro    : (0.6538461538461539, 0.6538461538461539, 0.6538461538461539, None)\n",
            "macro    : (0.3269230769230769, 0.5, 0.39534883720930236, None)\n",
            "weighted : (0.42751479289940825, 0.6538461538461539, 0.5169946332737031, None)\n",
            "\n",
            "              precision    recall  f1-score   support\n",
            "\n",
            "           1       0.00      0.00      0.00         9\n",
            "           2       0.65      1.00      0.79        17\n",
            "\n",
            "    accuracy                           0.65        26\n",
            "   macro avg       0.33      0.50      0.40        26\n",
            "weighted avg       0.43      0.65      0.52        26\n",
            "\n",
            "\n"
          ],
          "name": "stdout"
        },
        {
          "output_type": "display_data",
          "data": {
            "image/png": "[encoded data removed]",
            "text/plain": [
              "<Figure size 720x360 with 1 Axes>"
            ]
          },
          "metadata": {
            "tags": []
          }
        },
        {
          "output_type": "stream",
          "text": [
            "---------------------------------------------------------------------------------------------------------------------\n",
            "---------------------------------------------------------------------------------------------------------------------\n",
            "\n",
            "dc_most_frequent\n",
            "\n",
            "none     : (array([0.        , 0.65384615]), array([0., 1.]), array([0.        , 0.79069767]), array([ 9, 17]))\n",
            "micro    : (0.6538461538461539, 0.6538461538461539, 0.6538461538461539, None)\n",
            "macro    : (0.3269230769230769, 0.5, 0.39534883720930236, None)\n",
            "weighted : (0.42751479289940825, 0.6538461538461539, 0.5169946332737031, None)\n",
            "\n",
            "              precision    recall  f1-score   support\n",
            "\n",
            "           1       0.00      0.00      0.00         9\n",
            "           2       0.65      1.00      0.79        17\n",
            "\n",
            "    accuracy                           0.65        26\n",
            "   macro avg       0.33      0.50      0.40        26\n",
            "weighted avg       0.43      0.65      0.52        26\n",
            "\n",
            "\n"
          ],
          "name": "stdout"
        },
        {
          "output_type": "display_data",
          "data": {
            "image/png": "[encoded data removed]",
            "text/plain": [
              "<Figure size 720x360 with 1 Axes>"
            ]
          },
          "metadata": {
            "tags": []
          }
        },
        {
          "output_type": "stream",
          "text": [
            "---------------------------------------------------------------------------------------------------------------------\n",
            "---------------------------------------------------------------------------------------------------------------------\n",
            "\n",
            "dc_stratified\n",
            "\n",
            "none     : (array([0.3  , 0.625]), array([0.33333333, 0.58823529]), array([0.31578947, 0.60606061]), array([ 9, 17]))\n",
            "micro    : (0.5, 0.5, 0.5, None)\n",
            "macro    : (0.4625, 0.4607843137254902, 0.4609250398724083, None)\n",
            "weighted : (0.5125, 0.5, 0.5055821371610846, None)\n",
            "\n",
            "              precision    recall  f1-score   support\n",
            "\n",
            "           1       0.30      0.33      0.32         9\n",
            "           2       0.62      0.59      0.61        17\n",
            "\n",
            "    accuracy                           0.50        26\n",
            "   macro avg       0.46      0.46      0.46        26\n",
            "weighted avg       0.51      0.50      0.51        26\n",
            "\n",
            "\n"
          ],
          "name": "stdout"
        },
        {
          "output_type": "display_data",
          "data": {
            "image/png": "[encoded data removed]",
            "text/plain": [
              "<Figure size 720x360 with 1 Axes>"
            ]
          },
          "metadata": {
            "tags": []
          }
        },
        {
          "output_type": "stream",
          "text": [
            "---------------------------------------------------------------------------------------------------------------------\n",
            "---------------------------------------------------------------------------------------------------------------------\n",
            "\n"
          ],
          "name": "stdout"
        }
      ]
    },
    {
      "cell_type": "markdown",
      "metadata": {
        "id": "moeExYNt9QmW",
        "colab_type": "text"
      },
      "source": [
        "##### Comments on the diagrams\n",
        "- Among the Dummy Classifiers, it is visible that the best strategy is 'constant 2' since class 2 is the most frequent one. That is why it matches with the 'dc_most_frequent' Moreover, if we run the classification multiple times, we notice that 'stratified' strategy results in better accuracy more often than the 'uniform' strategy. This is because our dataset is not balanced and 'stratified' is more effiecient than the random strategy."
      ]
    },
    {
      "cell_type": "markdown",
      "metadata": {
        "id": "dMrUL--3G_F0",
        "colab_type": "text"
      },
      "source": [
        "### k Nearest Neighbors Classifier (kNN)"
      ]
    },
    {
      "cell_type": "code",
      "metadata": {
        "id": "fequNH8Y--ul",
        "colab_type": "code",
        "outputId": "437e2fc0-7157-49bb-f92d-6a1b7c8e2033",
        "colab": {
          "base_uri": "https://localhost:8080/",
          "height": 0
        }
      },
      "source": [
        "from sklearn.neighbors import KNeighborsClassifier\n",
        "\n",
        "knn = KNeighborsClassifier(n_neighbors=2)\n",
        "\n",
        "knn.fit(train, train_labels)\n",
        "\n",
        "pred = knn.predict(test)\n",
        "\n",
        "cnf_matrix = confusion_matrix(test_labels, pred)\n",
        "\n",
        "print(\"kNN Confusion matrix:\\n\\n\", cnf_matrix, '\\n')\n",
        "\n",
        "print_precision_recall_fscore_support(\"KNeighborsClassifier\", test_labels, pred, label_names)\n"
      ],
      "execution_count": 53,
      "outputs": [
        {
          "output_type": "stream",
          "text": [
            "kNN Confusion matrix:\n",
            "\n",
            " [[ 7  2]\n",
            " [ 7 10]] \n",
            "\n",
            "KNeighborsClassifier\n",
            "\n",
            "none     : (array([0.5       , 0.83333333]), array([0.77777778, 0.58823529]), array([0.60869565, 0.68965517]), array([ 9, 17]))\n",
            "micro    : (0.6538461538461539, 0.6538461538461539, 0.6538461538461539, None)\n",
            "macro    : (0.6666666666666667, 0.6830065359477124, 0.6491754122938531, None)\n",
            "weighted : (0.717948717948718, 0.6538461538461539, 0.6616307230999886, None)\n",
            "\n",
            "              precision    recall  f1-score   support\n",
            "\n",
            "           1       0.50      0.78      0.61         9\n",
            "           2       0.83      0.59      0.69        17\n",
            "\n",
            "    accuracy                           0.65        26\n",
            "   macro avg       0.67      0.68      0.65        26\n",
            "weighted avg       0.72      0.65      0.66        26\n",
            "\n",
            "\n"
          ],
          "name": "stdout"
        },
        {
          "output_type": "display_data",
          "data": {
            "image/png": "[encoded data removed]",
            "text/plain": [
              "<Figure size 720x360 with 1 Axes>"
            ]
          },
          "metadata": {
            "tags": []
          }
        },
        {
          "output_type": "stream",
          "text": [
            "---------------------------------------------------------------------------------------------------------------------\n",
            "---------------------------------------------------------------------------------------------------------------------\n",
            "\n"
          ],
          "name": "stdout"
        }
      ]
    },
    {
      "cell_type": "markdown",
      "metadata": {
        "id": "lsSSRw_P_m1I",
        "colab_type": "text"
      },
      "source": [
        "#### Comments on the diagrams\n",
        "- We see that kNN did manage to guess the whole class '1' and around half of the class '2', that's why it reaches a weighted average of 75%, better than the Dummy's results."
      ]
    },
    {
      "cell_type": "markdown",
      "metadata": {
        "id": "GFDUwXAoOmpD",
        "colab_type": "text"
      },
      "source": [
        "## Section D: Optimizing Classifiers"
      ]
    },
    {
      "cell_type": "markdown",
      "metadata": {
        "id": "kyJbkdYzeImt",
        "colab_type": "text"
      },
      "source": [
        "### Split to Training/Test Set"
      ]
    },
    {
      "cell_type": "code",
      "metadata": {
        "id": "5F-PScZbY7ia",
        "colab_type": "code",
        "colab": {}
      },
      "source": [
        "from sklearn.model_selection import train_test_split\n",
        "\n",
        "# Split our data\n",
        "train, test, train_labels, test_labels = train_test_split(np_samples, \n",
        "                                                          np_labels, \n",
        "                                                          test_size=0.2)"
      ],
      "execution_count": 0,
      "outputs": []
    },
    {
      "cell_type": "markdown",
      "metadata": {
        "id": "KW93Qn_MdKfa",
        "colab_type": "text"
      },
      "source": [
        "### Balance Dataset - Oversampling"
      ]
    },
    {
      "cell_type": "code",
      "metadata": {
        "id": "gHyJ-O2vdJG8",
        "colab_type": "code",
        "outputId": "72d4a9dc-691c-4917-fe96-3d6e3f227be9",
        "colab": {
          "base_uri": "https://localhost:8080/",
          "height": 0
        }
      },
      "source": [
        "sampler = SMOTE()\n",
        "train, train_labels = sampler.fit_sample(np_samples, np_labels)\n",
        "\n",
        "train_set_length = len(train)\n",
        "# print length of train set to validate oversampling\n",
        "print(\"#samples in train set =\", train_set_length, '\\n')"
      ],
      "execution_count": 55,
      "outputs": [
        {
          "output_type": "stream",
          "text": [
            "#samples in train set = 168 \n",
            "\n"
          ],
          "name": "stdout"
        }
      ]
    },
    {
      "cell_type": "markdown",
      "metadata": {
        "id": "PYNgFvG6cxCJ",
        "colab_type": "text"
      },
      "source": [
        "### Pre-Processing"
      ]
    },
    {
      "cell_type": "markdown",
      "metadata": {
        "id": "kYuRVpvYWjHB",
        "colab_type": "text"
      },
      "source": [
        "#### Selection - Variance Threshold"
      ]
    },
    {
      "cell_type": "code",
      "metadata": {
        "id": "X5PpUxhbcKng",
        "colab_type": "code",
        "outputId": "77a8d703-eb46-44d5-f862-403030e41010",
        "colab": {
          "base_uri": "https://localhost:8080/",
          "height": 0
        }
      },
      "source": [
        "from sklearn.feature_selection import VarianceThreshold\n",
        "\n",
        "selector = VarianceThreshold(threshold=0.5)\n",
        "# όπως κάναμε και με τους ταξινομητές τον κάνουμε fit στα δεδομένα εκπαίδευσης\n",
        "train_reduced = selector.fit_transform(train)\n",
        "mask = selector.get_support()\n",
        "test_reduced = test[:,mask]\n",
        "\n",
        "selector = None\n",
        "selector = VarianceThreshold(threshold=15000)\n",
        "# όπως κάναμε και με τους ταξινομητές τον κάνουμε fit στα δεδομένα εκπαίδευσης\n",
        "train_reduced_20k = selector.fit_transform(train)\n",
        "mask = selector.get_support()\n",
        "test_reduced_20k = test[:,mask]\n",
        "\n",
        "print(\"0.5\", train_reduced.shape)\n",
        "print(\"0.5\", test_reduced.shape)\n",
        "print(\"20000\", train_reduced_20k.shape)\n",
        "print(\"20000\", test_reduced_20k.shape)\n",
        "print(train_labels.shape)"
      ],
      "execution_count": 56,
      "outputs": [
        {
          "output_type": "stream",
          "text": [
            "0.5 (168, 180)\n",
            "0.5 (26, 180)\n",
            "20000 (168, 93)\n",
            "20000 (26, 93)\n",
            "(168,)\n"
          ],
          "name": "stdout"
        }
      ]
    },
    {
      "cell_type": "markdown",
      "metadata": {
        "id": "TnH4aeVDWqj4",
        "colab_type": "text"
      },
      "source": [
        "#### Standardization"
      ]
    },
    {
      "cell_type": "code",
      "metadata": {
        "id": "MCPB0JzwXBSh",
        "colab_type": "code",
        "colab": {}
      },
      "source": [
        "from sklearn import preprocessing\n",
        "\n",
        "# όριζουμε ένα αντικείμενο scaler και το κάνουμε fit στο train set\n",
        "scaler = preprocessing.StandardScaler().fit(train)\n",
        "# standardization των features του training set\n",
        "train_scaled = scaler.transform(train)\n",
        "# εφαρμόζουμε τον scaler στα δεδομένα test\n",
        "test_scaled = scaler.transform(test)"
      ],
      "execution_count": 0,
      "outputs": []
    },
    {
      "cell_type": "markdown",
      "metadata": {
        "id": "d1GK08jOdZH_",
        "colab_type": "text"
      },
      "source": [
        "### Hyperparameter Optimization\n",
        "Custom GridsearchCV"
      ]
    },
    {
      "cell_type": "code",
      "metadata": {
        "id": "rVdqIZ3cqIWv",
        "colab_type": "code",
        "colab": {}
      },
      "source": [
        "def make_tuples(arr):\n",
        "    results = list()\n",
        "    for i in range(0, len(arr), 2):\n",
        "        results.append((arr[i], arr[i+1]))\n",
        "    return results\n",
        "\n",
        "def _gridsearch(test_set, test_set_labels, train_set, train_set_labels, KMAX, label_names):\n",
        "    # test every value for k\n",
        "    # append the result to a list\n",
        "    # sort the list\n",
        "    # return the list and keep the best\n",
        "    gridsearch_results = list()\n",
        "\n",
        "    for i in range(1, KMAX):\n",
        "        method = \"KNeighborsClassifier\"\n",
        "        knn = KNeighborsClassifier(n_neighbors=i)\n",
        "        knn.fit(train_set, train_set_labels)\n",
        "        pred = knn.predict(test_set)\n",
        "        accuracy = accuracy_score(test_set_labels, pred)\n",
        "\n",
        "        gridsearch_results.extend( (accuracy, i) )\n",
        "\n",
        "    return gridsearch_results\n",
        "\n",
        "def get_next_fold(_splitted_train, _train_labels, iter):\n",
        "    counter = 0\n",
        "    total_size = 0\n",
        "    first_time = True\n",
        "    for ( _data , _labels ) in zip(_splitted_train, _train_labels):\n",
        "        if ( counter == iter ): # if current fold is test fold\n",
        "            __test = _data\n",
        "            __test_labels = _labels\n",
        "        elif ( first_time ): # initialize train and train_labels\n",
        "            __train = _data\n",
        "            __train_labels = _labels\n",
        "            first_time = False\n",
        "        else: # everything else is the train fold\n",
        "            __train = np.concatenate((__train, _data), axis=0)\n",
        "            __train_labels = np.concatenate((__train_labels, _labels), axis=0)\n",
        "        counter += 1\n",
        "    return( __test, __test_labels, __train, __train_labels )\n",
        "\n",
        "\n",
        "def _Kfold_cv(_train, _train_labels, _label_names, _folds=10):\n",
        "    # split the train set and labels in 10 parts \n",
        "    split_train = np.array_split(_train, _folds)\n",
        "    split_labels = np.array_split(_train_labels, _folds)\n",
        "\n",
        "    # for i in range(_folds):\n",
        "    #     print (len(split_train[i]), \",\", len(split_labels[i]))\n",
        "    knn_results = list()\n",
        "    # print(KMAX)\n",
        "\n",
        "    for iter in range(_folds):\n",
        "        KMAX = len(split_train[iter]) # because there is no reason to search for more neighbors if they do no exist\n",
        "\n",
        "        # do every possible fold out of 10\n",
        "        (test_set, test_set_labels, train_set, train_set_labels) = get_next_fold(split_train, split_labels, iter)\n",
        "    \n",
        "        # and test every k for kNN and save results\n",
        "        fold_results = _gridsearch(test_set, test_set_labels, train_set, train_set_labels, KMAX, _label_names)\n",
        "        knn_results.extend((fold_results))\n",
        "\n",
        "    return knn_results\n"
      ],
      "execution_count": 0,
      "outputs": []
    },
    {
      "cell_type": "markdown",
      "metadata": {
        "id": "dm_DxswmdfZc",
        "colab_type": "text"
      },
      "source": [
        "### Final Classification - Regression Model"
      ]
    },
    {
      "cell_type": "code",
      "metadata": {
        "id": "lqcxpomBY9S8",
        "colab_type": "code",
        "outputId": "b405cfb4-18f1-4a1f-ed3d-ad8a82d970c9",
        "colab": {
          "base_uri": "https://localhost:8080/",
          "height": 0
        }
      },
      "source": [
        "\n",
        "# print(test_labels)\n",
        "# print(len(train), len(train_labels), len(label_names))\n",
        "\n",
        "# classic dataset\n",
        "results = _Kfold_cv(train, train_labels, label_names)\n",
        "results = make_tuples(results)\n",
        "results = sorted(results, key=lambda x:x[0], reverse=True)\n",
        "\n",
        "#reduced with variance threshold = 0.5 \n",
        "results_reduced = _Kfold_cv(train_reduced, train_labels, label_names)\n",
        "results_reduced = make_tuples(results_reduced)\n",
        "results_reduced = sorted(results_reduced, key=lambda x:x[0], reverse=True)\n",
        "\n",
        "#reduced with variance threshold = 20000 \n",
        "results_reduced_20k = _Kfold_cv(train_reduced_20k, train_labels, label_names)\n",
        "results_reduced_20k = make_tuples(results_reduced_20k)\n",
        "results_reduced_20k = sorted(results_reduced_20k, key=lambda x:x[0], reverse=True)\n",
        "\n",
        "best_k = results[0][1]\n",
        "best_k_reduced = results_reduced[0][1]\n",
        "best_k_reduced_20k = results_reduced_20k[0][1]\n",
        "print(\"Initial trainset, bestK = \", best_k)\n",
        "print(\"Variance = 0.5 trainset, bestK = \", best_k_reduced)\n",
        "print(\"Variance = 20000  trainset, bestK = \", best_k_reduced_20k)\n",
        "\n",
        "#reduced with variance threshold = 20000 \n",
        "results_scaled = _Kfold_cv(train_scaled, train_labels, label_names)\n",
        "results_scaled = make_tuples(results_scaled)\n",
        "results_scaled = sorted(results_scaled, key=lambda x:x[0], reverse=True)\n",
        "\n",
        "best_k_scaled = results_scaled[0][1]\n",
        "print(\"Scaling trainset, bestK = \", best_k_scaled)"
      ],
      "execution_count": 59,
      "outputs": [
        {
          "output_type": "stream",
          "text": [
            "Initial trainset, bestK =  2\n",
            "Variance = 0.5 trainset, bestK =  2\n",
            "Variance = 20000  trainset, bestK =  2\n",
            "Scaling trainset, bestK =  1\n"
          ],
          "name": "stdout"
        }
      ]
    },
    {
      "cell_type": "code",
      "metadata": {
        "id": "hRb4ZatPw--l",
        "colab_type": "code",
        "colab": {}
      },
      "source": [
        "def knn_fit_predict_print(_classifier, _train, _train_labels, _test, _test_labels, _label_names):\n",
        "    _classifier.fit(_train, _train_labels)\n",
        "    pred = _classifier.predict(_test)\n",
        "    accuracy = accuracy_score(_test_labels, pred)\n",
        "    print(accuracy) \n",
        "    # print_precision_recall_fscore_support(\"kNearestNeighbors\", _test_labels, pred, _label_names)"
      ],
      "execution_count": 0,
      "outputs": []
    },
    {
      "cell_type": "markdown",
      "metadata": {
        "id": "dHITnSyXS2Yo",
        "colab_type": "text"
      },
      "source": [
        "### Print results"
      ]
    },
    {
      "cell_type": "code",
      "metadata": {
        "id": "IsFKW_3sbMwI",
        "colab_type": "code",
        "outputId": "2a4ce1ad-04c5-4af2-a913-03999cfdf0bc",
        "colab": {
          "base_uri": "https://localhost:8080/",
          "height": 204
        }
      },
      "source": [
        "knn = None\n",
        "print(\"Initial Variance\")\n",
        "knn = KNeighborsClassifier(n_neighbors = best_k)\n",
        "print(\"accuracy = \", end=\" \")\n",
        "knn_fit_predict_print(knn, train, train_labels, test, test_labels, label_names)\n",
        "\n",
        "print(\"\\nVariance Threshold = 0.5\")\n",
        "knn = None\n",
        "knn = KNeighborsClassifier(n_neighbors = best_k_reduced)\n",
        "print(\"accuracy = \", end=\" \")\n",
        "knn_fit_predict_print(knn, train_reduced, train_labels, test_reduced, test_labels, label_names)\n",
        "\n",
        "print(\"\\nVariance Threshold = 20000\")\n",
        "knn = None\n",
        "knn = KNeighborsClassifier(n_neighbors = best_k_reduced_20k)\n",
        "print(\"accuracy = \", end=\" \")\n",
        "knn_fit_predict_print(knn, train_reduced_20k, train_labels, test_reduced_20k, test_labels, label_names)\n",
        "\n",
        "print(\"\\nScaled Trainset\")\n",
        "knn = None\n",
        "knn = KNeighborsClassifier(n_neighbors = best_k_scaled)\n",
        "print(\"accuracy = \", end=\" \")\n",
        "knn_fit_predict_print(knn, train_scaled, train_labels, test_scaled, test_labels, label_names)\n"
      ],
      "execution_count": 61,
      "outputs": [
        {
          "output_type": "stream",
          "text": [
            "Initial Variance\n",
            "accuracy =  0.6538461538461539\n",
            "\n",
            "Variance Threshold = 0.5\n",
            "accuracy =  0.6538461538461539\n",
            "\n",
            "Variance Threshold = 20000\n",
            "accuracy =  0.6538461538461539\n",
            "\n",
            "Scaled Trainset\n",
            "accuracy =  1.0\n"
          ],
          "name": "stdout"
        }
      ]
    },
    {
      "cell_type": "markdown",
      "metadata": {
        "id": "G-cTcuEQLo-m",
        "colab_type": "text"
      },
      "source": [
        "#### Comments on Pre-Processing results\n",
        "\n",
        "- Variance Threshold\n",
        "    - We see that there is no effect on the results of the kNN algorithm if we use pre-processing selection with VarianceThreshold Selector.\n",
        "    - You can see in the above cell that we tried with different values in the range (0.1 , 20000) and the results didn't change. \n",
        "    - Our data even though it had a small ratio of $\\frac{samples}{features}$, Variance Threshold didn't achieve anything. We conclude from this, that there were specific features that helped the estimator reach a conclusion fast, without needing the other features. \n",
        "- Standardization\n",
        "    - It seems that scaling the data is crucial for the classification since we have 100% accuracy on the test set."
      ]
    },
    {
      "cell_type": "markdown",
      "metadata": {
        "id": "qZsOH-ub-xpU",
        "colab_type": "text"
      },
      "source": [
        "### Conclusion\n",
        "\n",
        "Since **we achieved 100% accuracy** on the test set, there is no need to perform any more transformations on the train and test set."
      ]
    }
  ]
}